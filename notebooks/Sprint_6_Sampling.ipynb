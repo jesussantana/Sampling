{
 "metadata": {
  "language_info": {
   "codemirror_mode": {
    "name": "ipython",
    "version": 3
   },
   "file_extension": ".py",
   "mimetype": "text/x-python",
   "name": "python",
   "nbconvert_exporter": "python",
   "pygments_lexer": "ipython3",
   "version": "3.8.5"
  },
  "orig_nbformat": 2,
  "kernelspec": {
   "name": "python385jvsc74a57bd031f2aee4e71d21fbe5cf8b01ff0e069b9275f58929596ceb00d14d90e3e16cd6",
   "display_name": "Python 3.8.5 64-bit"
  },
  "metadata": {
   "interpreter": {
    "hash": "b4c031499424642917002ec78b09187600b45a9ba0270aa971644bede0eeed51"
   }
  }
 },
 "nbformat": 4,
 "nbformat_minor": 2,
 "cells": [
  {
   "source": [
    "# IT Academy - Data Science with Python\n",
    "## Sprint 6: Sampling Methods\n",
    "### [Github Sampling Methods](https://github.com/jesussantana/Sampling)\n",
    "\n",
    "[![forthebadge made-with-python](http://ForTheBadge.com/images/badges/made-with-python.svg)](https://www.python.org/)  \n",
    "[![Made withJupyter](https://img.shields.io/badge/Made%20with-Jupyter-orange?style=for-the-badge&logo=Jupyter)](https://jupyter.org/try)  \n",
    "[![wakatime](https://wakatime.com/badge/github/jesussantana/Sampling.svg)](https://wakatime.com/badge/github/jesussantana/Sampling)"
   ],
   "cell_type": "markdown",
   "metadata": {}
  },
  {
   "source": [
    "## Create Project Structure"
   ],
   "cell_type": "markdown",
   "metadata": {}
  },
  {
   "cell_type": "code",
   "execution_count": 1,
   "metadata": {},
   "outputs": [],
   "source": [
    "# pip install cookiecutter\n",
    "# cookiecutter -c v1 https://github.com/jesussantana/cookiecutter-data-science"
   ]
  },
  {
   "source": [
    "### Exercise 1:  \n",
    "\n",
    "  - Grab a sports-themed dataset you like. Performs a sampling of the data generating a simple random sample and a systematic sample."
   ],
   "cell_type": "markdown",
   "metadata": {}
  },
  {
   "cell_type": "code",
   "execution_count": 2,
   "metadata": {},
   "outputs": [],
   "source": [
    "#!pip install imblearn\n",
    "\n",
    "import pandas as pd \n",
    "import numpy as np\n",
    "from numpy import where\n",
    "import random as rd\n",
    "import warnings\n",
    "\n",
    "import seaborn as sns\n",
    "import matplotlib.pyplot as plt\n",
    "from matplotlib import pyplot\n",
    "import plotly.graph_objects as go\n",
    "from plotly.subplots import make_subplots\n",
    "\n",
    "%matplotlib inline\n",
    "\n",
    "from sklearn.model_selection import StratifiedShuffleSplit\n",
    "from sklearn.datasets import make_classification\n",
    "from imblearn.over_sampling import SMOTE\n",
    "from collections import Counter\n",
    "\n",
    "warnings.filterwarnings('ignore')\n",
    "sns.set_theme(style='darkgrid', palette='deep')"
   ]
  },
  {
   "cell_type": "code",
   "execution_count": 3,
   "metadata": {},
   "outputs": [
    {
     "output_type": "execute_result",
     "data": {
      "text/plain": [
       "          player                  team       position  salary\n",
       "0   Brandon Webb  Arizona Diamondbacks        Pitcher  8500.0\n",
       "1    Danny Haren  Arizona Diamondbacks        Pitcher  8250.0\n",
       "2   Chris Snyder  Arizona Diamondbacks        Catcher  5250.0\n",
       "3  Edwin Jackson  Arizona Diamondbacks        Pitcher  4600.0\n",
       "4   Adam LaRoche  Arizona Diamondbacks  First Baseman  4500.0"
      ],
      "text/html": "<div>\n<style scoped>\n    .dataframe tbody tr th:only-of-type {\n        vertical-align: middle;\n    }\n\n    .dataframe tbody tr th {\n        vertical-align: top;\n    }\n\n    .dataframe thead th {\n        text-align: right;\n    }\n</style>\n<table border=\"1\" class=\"dataframe\">\n  <thead>\n    <tr style=\"text-align: right;\">\n      <th></th>\n      <th>player</th>\n      <th>team</th>\n      <th>position</th>\n      <th>salary</th>\n    </tr>\n  </thead>\n  <tbody>\n    <tr>\n      <th>0</th>\n      <td>Brandon Webb</td>\n      <td>Arizona Diamondbacks</td>\n      <td>Pitcher</td>\n      <td>8500.0</td>\n    </tr>\n    <tr>\n      <th>1</th>\n      <td>Danny Haren</td>\n      <td>Arizona Diamondbacks</td>\n      <td>Pitcher</td>\n      <td>8250.0</td>\n    </tr>\n    <tr>\n      <th>2</th>\n      <td>Chris Snyder</td>\n      <td>Arizona Diamondbacks</td>\n      <td>Catcher</td>\n      <td>5250.0</td>\n    </tr>\n    <tr>\n      <th>3</th>\n      <td>Edwin Jackson</td>\n      <td>Arizona Diamondbacks</td>\n      <td>Pitcher</td>\n      <td>4600.0</td>\n    </tr>\n    <tr>\n      <th>4</th>\n      <td>Adam LaRoche</td>\n      <td>Arizona Diamondbacks</td>\n      <td>First Baseman</td>\n      <td>4500.0</td>\n    </tr>\n  </tbody>\n</table>\n</div>"
     },
     "metadata": {},
     "execution_count": 3
    }
   ],
   "source": [
    "pd.set_option('display.max_columns', None)\n",
    "\n",
    "path = '../data/'\n",
    "file = 'raw/MLB.txt'\n",
    "\n",
    "df_raw= pd.read_table(path+file)\n",
    "\n",
    "df = df_raw.copy()\n",
    "\n",
    "df.head()"
   ]
  },
  {
   "cell_type": "code",
   "execution_count": 4,
   "metadata": {},
   "outputs": [
    {
     "output_type": "execute_result",
     "data": {
      "text/plain": [
       "               player                  team    position  salary\n",
       "823  Jordan Zimmerman  Washington Nationals     Pitcher   401.0\n",
       "824       Ian Desmond  Washington Nationals   Shortstop   400.0\n",
       "825     Ross Detwiler  Washington Nationals     Pitcher   400.0\n",
       "826     Jesse English  Washington Nationals     Pitcher   400.0\n",
       "827     Willy Taveras  Washington Nationals  Outfielder   400.0"
      ],
      "text/html": "<div>\n<style scoped>\n    .dataframe tbody tr th:only-of-type {\n        vertical-align: middle;\n    }\n\n    .dataframe tbody tr th {\n        vertical-align: top;\n    }\n\n    .dataframe thead th {\n        text-align: right;\n    }\n</style>\n<table border=\"1\" class=\"dataframe\">\n  <thead>\n    <tr style=\"text-align: right;\">\n      <th></th>\n      <th>player</th>\n      <th>team</th>\n      <th>position</th>\n      <th>salary</th>\n    </tr>\n  </thead>\n  <tbody>\n    <tr>\n      <th>823</th>\n      <td>Jordan Zimmerman</td>\n      <td>Washington Nationals</td>\n      <td>Pitcher</td>\n      <td>401.0</td>\n    </tr>\n    <tr>\n      <th>824</th>\n      <td>Ian Desmond</td>\n      <td>Washington Nationals</td>\n      <td>Shortstop</td>\n      <td>400.0</td>\n    </tr>\n    <tr>\n      <th>825</th>\n      <td>Ross Detwiler</td>\n      <td>Washington Nationals</td>\n      <td>Pitcher</td>\n      <td>400.0</td>\n    </tr>\n    <tr>\n      <th>826</th>\n      <td>Jesse English</td>\n      <td>Washington Nationals</td>\n      <td>Pitcher</td>\n      <td>400.0</td>\n    </tr>\n    <tr>\n      <th>827</th>\n      <td>Willy Taveras</td>\n      <td>Washington Nationals</td>\n      <td>Outfielder</td>\n      <td>400.0</td>\n    </tr>\n  </tbody>\n</table>\n</div>"
     },
     "metadata": {},
     "execution_count": 4
    }
   ],
   "source": [
    "df.tail()"
   ]
  },
  {
   "cell_type": "code",
   "execution_count": 5,
   "metadata": {},
   "outputs": [
    {
     "output_type": "execute_result",
     "data": {
      "text/plain": [
       "         salary\n",
       "count    828.00\n",
       "mean    3281.83\n",
       "std     4465.45\n",
       "min      400.00\n",
       "25%      418.32\n",
       "50%     1093.75\n",
       "75%     4250.00\n",
       "max    33000.00"
      ],
      "text/html": "<div>\n<style scoped>\n    .dataframe tbody tr th:only-of-type {\n        vertical-align: middle;\n    }\n\n    .dataframe tbody tr th {\n        vertical-align: top;\n    }\n\n    .dataframe thead th {\n        text-align: right;\n    }\n</style>\n<table border=\"1\" class=\"dataframe\">\n  <thead>\n    <tr style=\"text-align: right;\">\n      <th></th>\n      <th>salary</th>\n    </tr>\n  </thead>\n  <tbody>\n    <tr>\n      <th>count</th>\n      <td>828.00</td>\n    </tr>\n    <tr>\n      <th>mean</th>\n      <td>3281.83</td>\n    </tr>\n    <tr>\n      <th>std</th>\n      <td>4465.45</td>\n    </tr>\n    <tr>\n      <th>min</th>\n      <td>400.00</td>\n    </tr>\n    <tr>\n      <th>25%</th>\n      <td>418.32</td>\n    </tr>\n    <tr>\n      <th>50%</th>\n      <td>1093.75</td>\n    </tr>\n    <tr>\n      <th>75%</th>\n      <td>4250.00</td>\n    </tr>\n    <tr>\n      <th>max</th>\n      <td>33000.00</td>\n    </tr>\n  </tbody>\n</table>\n</div>"
     },
     "metadata": {},
     "execution_count": 5
    }
   ],
   "source": [
    "df.describe().round(2)"
   ]
  },
  {
   "cell_type": "code",
   "execution_count": 6,
   "metadata": {},
   "outputs": [
    {
     "output_type": "stream",
     "name": "stdout",
     "text": [
      "<class 'pandas.core.frame.DataFrame'>\nRangeIndex: 828 entries, 0 to 827\nData columns (total 4 columns):\n #   Column    Non-Null Count  Dtype  \n---  ------    --------------  -----  \n 0   player    828 non-null    object \n 1   team      828 non-null    object \n 2   position  828 non-null    object \n 3   salary    828 non-null    float64\ndtypes: float64(1), object(3)\nmemory usage: 26.0+ KB\n"
     ]
    }
   ],
   "source": [
    "df.info()"
   ]
  },
  {
   "cell_type": "code",
   "execution_count": 7,
   "metadata": {},
   "outputs": [
    {
     "output_type": "execute_result",
     "data": {
      "text/plain": [
       "(828, 4)"
      ]
     },
     "metadata": {},
     "execution_count": 7
    }
   ],
   "source": [
    "df.shape"
   ]
  },
  {
   "cell_type": "code",
   "execution_count": 8,
   "metadata": {},
   "outputs": [
    {
     "output_type": "execute_result",
     "data": {
      "text/plain": [
       "Index(['player', 'team', 'position', 'salary'], dtype='object')"
      ]
     },
     "metadata": {},
     "execution_count": 8
    }
   ],
   "source": [
    "df.columns"
   ]
  },
  {
   "cell_type": "code",
   "execution_count": 9,
   "metadata": {},
   "outputs": [
    {
     "output_type": "execute_result",
     "data": {
      "text/plain": [
       "3281.828"
      ]
     },
     "metadata": {},
     "execution_count": 9
    }
   ],
   "source": [
    "# Store the real mean\n",
    "real_mean = round(df.salary.mean(),3)\n",
    "real_mean"
   ]
  },
  {
   "source": [
    "### Simple Random Sample"
   ],
   "cell_type": "markdown",
   "metadata": {}
  },
  {
   "cell_type": "code",
   "execution_count": 10,
   "metadata": {},
   "outputs": [],
   "source": [
    "simple_random_sample= df.sample(frac=0.1, replace=True, random_state=6858).sort_values(by='salary', ascending=False)"
   ]
  },
  {
   "cell_type": "code",
   "execution_count": 11,
   "metadata": {},
   "outputs": [
    {
     "output_type": "execute_result",
     "data": {
      "text/plain": [
       "            player                   team        position     salary\n",
       "79     John Lackey         Boston Red Sox         Pitcher  18700.000\n",
       "768   Vernon Wells      Toronto Blue Jays      Outfielder  15687.500\n",
       "552    Chase Utley  Philadelphia Phillies  Second Baseman  15285.714\n",
       "27   Chipper Jones         Atlanta Braves   Third Baseman  14000.000\n",
       "112  Ryan Dempster           Chicago Cubs         Pitcher  13500.000"
      ],
      "text/html": "<div>\n<style scoped>\n    .dataframe tbody tr th:only-of-type {\n        vertical-align: middle;\n    }\n\n    .dataframe tbody tr th {\n        vertical-align: top;\n    }\n\n    .dataframe thead th {\n        text-align: right;\n    }\n</style>\n<table border=\"1\" class=\"dataframe\">\n  <thead>\n    <tr style=\"text-align: right;\">\n      <th></th>\n      <th>player</th>\n      <th>team</th>\n      <th>position</th>\n      <th>salary</th>\n    </tr>\n  </thead>\n  <tbody>\n    <tr>\n      <th>79</th>\n      <td>John Lackey</td>\n      <td>Boston Red Sox</td>\n      <td>Pitcher</td>\n      <td>18700.000</td>\n    </tr>\n    <tr>\n      <th>768</th>\n      <td>Vernon Wells</td>\n      <td>Toronto Blue Jays</td>\n      <td>Outfielder</td>\n      <td>15687.500</td>\n    </tr>\n    <tr>\n      <th>552</th>\n      <td>Chase Utley</td>\n      <td>Philadelphia Phillies</td>\n      <td>Second Baseman</td>\n      <td>15285.714</td>\n    </tr>\n    <tr>\n      <th>27</th>\n      <td>Chipper Jones</td>\n      <td>Atlanta Braves</td>\n      <td>Third Baseman</td>\n      <td>14000.000</td>\n    </tr>\n    <tr>\n      <th>112</th>\n      <td>Ryan Dempster</td>\n      <td>Chicago Cubs</td>\n      <td>Pitcher</td>\n      <td>13500.000</td>\n    </tr>\n  </tbody>\n</table>\n</div>"
     },
     "metadata": {},
     "execution_count": 11
    }
   ],
   "source": [
    "simple_random_sample.head()"
   ]
  },
  {
   "cell_type": "code",
   "execution_count": 12,
   "metadata": {},
   "outputs": [
    {
     "output_type": "execute_result",
     "data": {
      "text/plain": [
       "(83, 4)"
      ]
     },
     "metadata": {},
     "execution_count": 12
    }
   ],
   "source": [
    "simple_random_sample.shape"
   ]
  },
  {
   "cell_type": "code",
   "execution_count": 13,
   "metadata": {},
   "outputs": [
    {
     "output_type": "execute_result",
     "data": {
      "text/plain": [
       "3621.331"
      ]
     },
     "metadata": {},
     "execution_count": 13
    }
   ],
   "source": [
    "simple_random_mean = round(simple_random_sample.salary.mean(),3)\n",
    "simple_random_mean"
   ]
  },
  {
   "cell_type": "code",
   "execution_count": 14,
   "metadata": {},
   "outputs": [
    {
     "output_type": "execute_result",
     "data": {
      "text/plain": [
       "3281.828"
      ]
     },
     "metadata": {},
     "execution_count": 14
    }
   ],
   "source": [
    "real_mean"
   ]
  },
  {
   "cell_type": "code",
   "execution_count": 15,
   "metadata": {},
   "outputs": [
    {
     "output_type": "execute_result",
     "data": {
      "text/plain": [
       "9.37506986328229"
      ]
     },
     "metadata": {},
     "execution_count": 15
    }
   ],
   "source": [
    "abs(simple_random_sample.salary.mean()-df.salary.mean())/simple_random_sample.salary.mean()*100"
   ]
  },
  {
   "cell_type": "code",
   "execution_count": 16,
   "metadata": {},
   "outputs": [
    {
     "output_type": "execute_result",
     "data": {
      "text/plain": [
       "Pitcher           0.542169\n",
       "Outfielder        0.204819\n",
       "Shortstop         0.084337\n",
       "Second Baseman    0.060241\n",
       "Catcher           0.060241\n",
       "Third Baseman     0.024096\n",
       "First Baseman     0.024096\n",
       "Name: position, dtype: float64"
      ]
     },
     "metadata": {},
     "execution_count": 16
    }
   ],
   "source": [
    "simple_random_sample.position.value_counts(normalize=True)"
   ]
  },
  {
   "cell_type": "code",
   "execution_count": 17,
   "metadata": {},
   "outputs": [
    {
     "output_type": "execute_result",
     "data": {
      "text/plain": [
       "Pitcher              0.495169\n",
       "Outfielder           0.178744\n",
       "Catcher              0.080918\n",
       "Shortstop            0.067633\n",
       "Second Baseman       0.057971\n",
       "Third Baseman        0.055556\n",
       "First Baseman        0.050725\n",
       "Designated Hitter    0.008454\n",
       "Infielder            0.004831\n",
       "Name: position, dtype: float64"
      ]
     },
     "metadata": {},
     "execution_count": 17
    }
   ],
   "source": [
    "df.position.value_counts(normalize=True)"
   ]
  },
  {
   "source": [
    "### Systematic Sampling"
   ],
   "cell_type": "markdown",
   "metadata": {}
  },
  {
   "cell_type": "code",
   "execution_count": 18,
   "metadata": {},
   "outputs": [],
   "source": [
    "# Define systematic sampling function\n",
    "def systematic_sampling(df, step):\n",
    "    \n",
    "    indexes = np.arange(0,len(df),step=step)\n",
    "    systematic_sample = df.iloc[indexes]\n",
    "    \n",
    "    return systematic_sample"
   ]
  },
  {
   "cell_type": "code",
   "execution_count": 19,
   "metadata": {},
   "outputs": [],
   "source": [
    "# Obtain a systematic sample\n",
    "systematic_sample = systematic_sampling(df, 10).sort_values(by='salary', ascending=False)"
   ]
  },
  {
   "cell_type": "code",
   "execution_count": 20,
   "metadata": {},
   "outputs": [
    {
     "output_type": "execute_result",
     "data": {
      "text/plain": [
       "3499.42"
      ]
     },
     "metadata": {},
     "execution_count": 20
    }
   ],
   "source": [
    "# Save the sample mean\n",
    "systematic_mean = round(systematic_sample.salary.mean(),3)\n",
    "systematic_mean"
   ]
  },
  {
   "cell_type": "code",
   "execution_count": 21,
   "metadata": {},
   "outputs": [
    {
     "output_type": "execute_result",
     "data": {
      "text/plain": [
       "3281.828"
      ]
     },
     "metadata": {},
     "execution_count": 21
    }
   ],
   "source": [
    "real_mean"
   ]
  },
  {
   "cell_type": "code",
   "execution_count": 22,
   "metadata": {},
   "outputs": [
    {
     "output_type": "execute_result",
     "data": {
      "text/plain": [
       "             player                   team        position   salary\n",
       "550     Ryan Howard  Philadelphia Phillies   First Baseman  19000.0\n",
       "110  Aramis Ramirez           Chicago Cubs   Third Baseman  16750.0\n",
       "300   Lance Berkman         Houston Astros   First Baseman  14500.0\n",
       "80        J.D. Drew         Boston Red Sox      Outfielder  14000.0\n",
       "500    Jorge Posada       New York Yankees         Catcher  13100.0\n",
       "..              ...                    ...             ...      ...\n",
       "380  Anthony Ortega    Los Angeles Angeles         Pitcher    400.0\n",
       "710      Joe Mather    St. Louis Cardinals         Pitcher    400.0\n",
       "270  Scott Sizemore         Detroit Tigers  Second Baseman    400.0\n",
       "50    Brooks Conrad         Atlanta Braves  Second Baseman    400.0\n",
       "160   Sergio Santos      Chicago White Sox         Pitcher    400.0\n",
       "\n",
       "[83 rows x 4 columns]"
      ],
      "text/html": "<div>\n<style scoped>\n    .dataframe tbody tr th:only-of-type {\n        vertical-align: middle;\n    }\n\n    .dataframe tbody tr th {\n        vertical-align: top;\n    }\n\n    .dataframe thead th {\n        text-align: right;\n    }\n</style>\n<table border=\"1\" class=\"dataframe\">\n  <thead>\n    <tr style=\"text-align: right;\">\n      <th></th>\n      <th>player</th>\n      <th>team</th>\n      <th>position</th>\n      <th>salary</th>\n    </tr>\n  </thead>\n  <tbody>\n    <tr>\n      <th>550</th>\n      <td>Ryan Howard</td>\n      <td>Philadelphia Phillies</td>\n      <td>First Baseman</td>\n      <td>19000.0</td>\n    </tr>\n    <tr>\n      <th>110</th>\n      <td>Aramis Ramirez</td>\n      <td>Chicago Cubs</td>\n      <td>Third Baseman</td>\n      <td>16750.0</td>\n    </tr>\n    <tr>\n      <th>300</th>\n      <td>Lance Berkman</td>\n      <td>Houston Astros</td>\n      <td>First Baseman</td>\n      <td>14500.0</td>\n    </tr>\n    <tr>\n      <th>80</th>\n      <td>J.D. Drew</td>\n      <td>Boston Red Sox</td>\n      <td>Outfielder</td>\n      <td>14000.0</td>\n    </tr>\n    <tr>\n      <th>500</th>\n      <td>Jorge Posada</td>\n      <td>New York Yankees</td>\n      <td>Catcher</td>\n      <td>13100.0</td>\n    </tr>\n    <tr>\n      <th>...</th>\n      <td>...</td>\n      <td>...</td>\n      <td>...</td>\n      <td>...</td>\n    </tr>\n    <tr>\n      <th>380</th>\n      <td>Anthony Ortega</td>\n      <td>Los Angeles Angeles</td>\n      <td>Pitcher</td>\n      <td>400.0</td>\n    </tr>\n    <tr>\n      <th>710</th>\n      <td>Joe Mather</td>\n      <td>St. Louis Cardinals</td>\n      <td>Pitcher</td>\n      <td>400.0</td>\n    </tr>\n    <tr>\n      <th>270</th>\n      <td>Scott Sizemore</td>\n      <td>Detroit Tigers</td>\n      <td>Second Baseman</td>\n      <td>400.0</td>\n    </tr>\n    <tr>\n      <th>50</th>\n      <td>Brooks Conrad</td>\n      <td>Atlanta Braves</td>\n      <td>Second Baseman</td>\n      <td>400.0</td>\n    </tr>\n    <tr>\n      <th>160</th>\n      <td>Sergio Santos</td>\n      <td>Chicago White Sox</td>\n      <td>Pitcher</td>\n      <td>400.0</td>\n    </tr>\n  </tbody>\n</table>\n<p>83 rows × 4 columns</p>\n</div>"
     },
     "metadata": {},
     "execution_count": 22
    }
   ],
   "source": [
    "systematic_sample"
   ]
  },
  {
   "cell_type": "code",
   "execution_count": 23,
   "metadata": {},
   "outputs": [
    {
     "output_type": "execute_result",
     "data": {
      "text/plain": [
       "             player                   team       position   salary\n",
       "550     Ryan Howard  Philadelphia Phillies  First Baseman  19000.0\n",
       "110  Aramis Ramirez           Chicago Cubs  Third Baseman  16750.0\n",
       "300   Lance Berkman         Houston Astros  First Baseman  14500.0\n",
       "80        J.D. Drew         Boston Red Sox     Outfielder  14000.0\n",
       "500    Jorge Posada       New York Yankees        Catcher  13100.0"
      ],
      "text/html": "<div>\n<style scoped>\n    .dataframe tbody tr th:only-of-type {\n        vertical-align: middle;\n    }\n\n    .dataframe tbody tr th {\n        vertical-align: top;\n    }\n\n    .dataframe thead th {\n        text-align: right;\n    }\n</style>\n<table border=\"1\" class=\"dataframe\">\n  <thead>\n    <tr style=\"text-align: right;\">\n      <th></th>\n      <th>player</th>\n      <th>team</th>\n      <th>position</th>\n      <th>salary</th>\n    </tr>\n  </thead>\n  <tbody>\n    <tr>\n      <th>550</th>\n      <td>Ryan Howard</td>\n      <td>Philadelphia Phillies</td>\n      <td>First Baseman</td>\n      <td>19000.0</td>\n    </tr>\n    <tr>\n      <th>110</th>\n      <td>Aramis Ramirez</td>\n      <td>Chicago Cubs</td>\n      <td>Third Baseman</td>\n      <td>16750.0</td>\n    </tr>\n    <tr>\n      <th>300</th>\n      <td>Lance Berkman</td>\n      <td>Houston Astros</td>\n      <td>First Baseman</td>\n      <td>14500.0</td>\n    </tr>\n    <tr>\n      <th>80</th>\n      <td>J.D. Drew</td>\n      <td>Boston Red Sox</td>\n      <td>Outfielder</td>\n      <td>14000.0</td>\n    </tr>\n    <tr>\n      <th>500</th>\n      <td>Jorge Posada</td>\n      <td>New York Yankees</td>\n      <td>Catcher</td>\n      <td>13100.0</td>\n    </tr>\n  </tbody>\n</table>\n</div>"
     },
     "metadata": {},
     "execution_count": 23
    }
   ],
   "source": [
    "systematic_sample.head()"
   ]
  },
  {
   "source": [
    "### Cluster Sampling"
   ],
   "cell_type": "markdown",
   "metadata": {}
  },
  {
   "cell_type": "code",
   "execution_count": 24,
   "metadata": {},
   "outputs": [],
   "source": [
    "def cluster_sampling(df, number_of_clusters):\n",
    "    \n",
    "    try:\n",
    "        # Divide the units into cluster of equal size\n",
    "        df['cluster_id'] = np.repeat([range(1,number_of_clusters+1)],len(df)/number_of_clusters)\n",
    "\n",
    "        # Create an empty list\n",
    "        indexes = []\n",
    "\n",
    "        # Append the indexes from the clusters that meet the criteria\n",
    "        # For this formula, clusters id must be an even number\n",
    "        for i in range(0,len(df)):\n",
    "            if df['cluster_id'].iloc[i]%2 == 0:\n",
    "                indexes.append(i)\n",
    "        cluster_sample = df.iloc[indexes]\n",
    "        return(cluster_sample)\n",
    "    \n",
    "    except:\n",
    "        print(\"The population cannot be divided into clusters of equal size!\")"
   ]
  },
  {
   "cell_type": "code",
   "execution_count": 25,
   "metadata": {},
   "outputs": [],
   "source": [
    "# Obtain a cluster sample\n",
    "cluster_sample = cluster_sampling(df, 6)"
   ]
  },
  {
   "cell_type": "code",
   "execution_count": 26,
   "metadata": {},
   "outputs": [],
   "source": [
    "# Save the sample mean\n",
    "cluster_mean = round(cluster_sample.salary.mean(),3)"
   ]
  },
  {
   "cell_type": "code",
   "execution_count": 27,
   "metadata": {},
   "outputs": [
    {
     "output_type": "execute_result",
     "data": {
      "text/plain": [
       "               player                  team    position   salary  cluster_id\n",
       "138         Alex Rios     Chicago White Sox  Outfielder  10200.0           2\n",
       "139       Bobby Jenks     Chicago White Sox     Pitcher   7500.0           2\n",
       "140       Juan Pierre     Chicago White Sox  Outfielder   7000.0           2\n",
       "141   A.J. Pierzynski     Chicago White Sox     Catcher   6750.0           2\n",
       "142   Scott Linebrink     Chicago White Sox     Pitcher   5000.0           2\n",
       "..                ...                   ...         ...      ...         ...\n",
       "823  Jordan Zimmerman  Washington Nationals     Pitcher    401.0           6\n",
       "824       Ian Desmond  Washington Nationals   Shortstop    400.0           6\n",
       "825     Ross Detwiler  Washington Nationals     Pitcher    400.0           6\n",
       "826     Jesse English  Washington Nationals     Pitcher    400.0           6\n",
       "827     Willy Taveras  Washington Nationals  Outfielder    400.0           6\n",
       "\n",
       "[414 rows x 5 columns]"
      ],
      "text/html": "<div>\n<style scoped>\n    .dataframe tbody tr th:only-of-type {\n        vertical-align: middle;\n    }\n\n    .dataframe tbody tr th {\n        vertical-align: top;\n    }\n\n    .dataframe thead th {\n        text-align: right;\n    }\n</style>\n<table border=\"1\" class=\"dataframe\">\n  <thead>\n    <tr style=\"text-align: right;\">\n      <th></th>\n      <th>player</th>\n      <th>team</th>\n      <th>position</th>\n      <th>salary</th>\n      <th>cluster_id</th>\n    </tr>\n  </thead>\n  <tbody>\n    <tr>\n      <th>138</th>\n      <td>Alex Rios</td>\n      <td>Chicago White Sox</td>\n      <td>Outfielder</td>\n      <td>10200.0</td>\n      <td>2</td>\n    </tr>\n    <tr>\n      <th>139</th>\n      <td>Bobby Jenks</td>\n      <td>Chicago White Sox</td>\n      <td>Pitcher</td>\n      <td>7500.0</td>\n      <td>2</td>\n    </tr>\n    <tr>\n      <th>140</th>\n      <td>Juan Pierre</td>\n      <td>Chicago White Sox</td>\n      <td>Outfielder</td>\n      <td>7000.0</td>\n      <td>2</td>\n    </tr>\n    <tr>\n      <th>141</th>\n      <td>A.J. Pierzynski</td>\n      <td>Chicago White Sox</td>\n      <td>Catcher</td>\n      <td>6750.0</td>\n      <td>2</td>\n    </tr>\n    <tr>\n      <th>142</th>\n      <td>Scott Linebrink</td>\n      <td>Chicago White Sox</td>\n      <td>Pitcher</td>\n      <td>5000.0</td>\n      <td>2</td>\n    </tr>\n    <tr>\n      <th>...</th>\n      <td>...</td>\n      <td>...</td>\n      <td>...</td>\n      <td>...</td>\n      <td>...</td>\n    </tr>\n    <tr>\n      <th>823</th>\n      <td>Jordan Zimmerman</td>\n      <td>Washington Nationals</td>\n      <td>Pitcher</td>\n      <td>401.0</td>\n      <td>6</td>\n    </tr>\n    <tr>\n      <th>824</th>\n      <td>Ian Desmond</td>\n      <td>Washington Nationals</td>\n      <td>Shortstop</td>\n      <td>400.0</td>\n      <td>6</td>\n    </tr>\n    <tr>\n      <th>825</th>\n      <td>Ross Detwiler</td>\n      <td>Washington Nationals</td>\n      <td>Pitcher</td>\n      <td>400.0</td>\n      <td>6</td>\n    </tr>\n    <tr>\n      <th>826</th>\n      <td>Jesse English</td>\n      <td>Washington Nationals</td>\n      <td>Pitcher</td>\n      <td>400.0</td>\n      <td>6</td>\n    </tr>\n    <tr>\n      <th>827</th>\n      <td>Willy Taveras</td>\n      <td>Washington Nationals</td>\n      <td>Outfielder</td>\n      <td>400.0</td>\n      <td>6</td>\n    </tr>\n  </tbody>\n</table>\n<p>414 rows × 5 columns</p>\n</div>"
     },
     "metadata": {},
     "execution_count": 27
    }
   ],
   "source": [
    "cluster_sample"
   ]
  },
  {
   "source": [
    "### Exercise 2: \n",
    "  - It continues with the sports theme data set and generates a stratified sample and a sample using SMOTE (Synthetic Minority Oversampling Technique)."
   ],
   "cell_type": "markdown",
   "metadata": {}
  },
  {
   "cell_type": "code",
   "execution_count": 28,
   "metadata": {},
   "outputs": [
    {
     "output_type": "execute_result",
     "data": {
      "text/plain": [
       "(83, 4)"
      ]
     },
     "metadata": {},
     "execution_count": 28
    }
   ],
   "source": [
    "systematic_sample.shape"
   ]
  },
  {
   "source": [
    "### Stratified Random Sampling"
   ],
   "cell_type": "markdown",
   "metadata": {}
  },
  {
   "cell_type": "code",
   "execution_count": 29,
   "metadata": {},
   "outputs": [],
   "source": [
    "# Set the split criteria\n",
    "split = StratifiedShuffleSplit(n_splits=1, test_size=100)"
   ]
  },
  {
   "cell_type": "code",
   "execution_count": 30,
   "metadata": {},
   "outputs": [],
   "source": [
    "# Perform data frame split\n",
    "for x, y in split.split(df, df.position):\n",
    "    stratified_random_sample = df.iloc[y].sort_values(by='salary')"
   ]
  },
  {
   "cell_type": "code",
   "execution_count": 31,
   "metadata": {},
   "outputs": [
    {
     "output_type": "execute_result",
     "data": {
      "text/plain": [
       "pandas.core.frame.DataFrame"
      ]
     },
     "metadata": {},
     "execution_count": 31
    }
   ],
   "source": [
    "type(stratified_random_sample)"
   ]
  },
  {
   "cell_type": "code",
   "execution_count": 32,
   "metadata": {},
   "outputs": [
    {
     "output_type": "execute_result",
     "data": {
      "text/plain": [
       "              player               team        position     salary  cluster_id\n",
       "77       Craig Tatum  Baltimore Orioles         Catcher    400.000           1\n",
       "437      Josh Butler  Milwaukee Brewers         Pitcher    400.000           4\n",
       "50     Brooks Conrad     Atlanta Braves  Second Baseman    400.000           1\n",
       "464     Alex Burnett    Minnesota Twins         Pitcher    400.000           4\n",
       "184   Juan Francisco    Cincinnati Reds   Third Baseman    400.000           2\n",
       "..               ...                ...             ...        ...         ...\n",
       "111  Kosuke Fukudome       Chicago Cubs      Outfielder  14000.000           1\n",
       "499   Mariano Rivera   New York Yankees         Pitcher  15000.000           4\n",
       "467   Carlos Beltran      New York Mets      Outfielder  19401.569           4\n",
       "497    Mark Teixeira   New York Yankees   First Baseman  20625.000           4\n",
       "496      Derek Jeter   New York Yankees       Shortstop  22600.000           4\n",
       "\n",
       "[100 rows x 5 columns]"
      ],
      "text/html": "<div>\n<style scoped>\n    .dataframe tbody tr th:only-of-type {\n        vertical-align: middle;\n    }\n\n    .dataframe tbody tr th {\n        vertical-align: top;\n    }\n\n    .dataframe thead th {\n        text-align: right;\n    }\n</style>\n<table border=\"1\" class=\"dataframe\">\n  <thead>\n    <tr style=\"text-align: right;\">\n      <th></th>\n      <th>player</th>\n      <th>team</th>\n      <th>position</th>\n      <th>salary</th>\n      <th>cluster_id</th>\n    </tr>\n  </thead>\n  <tbody>\n    <tr>\n      <th>77</th>\n      <td>Craig Tatum</td>\n      <td>Baltimore Orioles</td>\n      <td>Catcher</td>\n      <td>400.000</td>\n      <td>1</td>\n    </tr>\n    <tr>\n      <th>437</th>\n      <td>Josh Butler</td>\n      <td>Milwaukee Brewers</td>\n      <td>Pitcher</td>\n      <td>400.000</td>\n      <td>4</td>\n    </tr>\n    <tr>\n      <th>50</th>\n      <td>Brooks Conrad</td>\n      <td>Atlanta Braves</td>\n      <td>Second Baseman</td>\n      <td>400.000</td>\n      <td>1</td>\n    </tr>\n    <tr>\n      <th>464</th>\n      <td>Alex Burnett</td>\n      <td>Minnesota Twins</td>\n      <td>Pitcher</td>\n      <td>400.000</td>\n      <td>4</td>\n    </tr>\n    <tr>\n      <th>184</th>\n      <td>Juan Francisco</td>\n      <td>Cincinnati Reds</td>\n      <td>Third Baseman</td>\n      <td>400.000</td>\n      <td>2</td>\n    </tr>\n    <tr>\n      <th>...</th>\n      <td>...</td>\n      <td>...</td>\n      <td>...</td>\n      <td>...</td>\n      <td>...</td>\n    </tr>\n    <tr>\n      <th>111</th>\n      <td>Kosuke Fukudome</td>\n      <td>Chicago Cubs</td>\n      <td>Outfielder</td>\n      <td>14000.000</td>\n      <td>1</td>\n    </tr>\n    <tr>\n      <th>499</th>\n      <td>Mariano Rivera</td>\n      <td>New York Yankees</td>\n      <td>Pitcher</td>\n      <td>15000.000</td>\n      <td>4</td>\n    </tr>\n    <tr>\n      <th>467</th>\n      <td>Carlos Beltran</td>\n      <td>New York Mets</td>\n      <td>Outfielder</td>\n      <td>19401.569</td>\n      <td>4</td>\n    </tr>\n    <tr>\n      <th>497</th>\n      <td>Mark Teixeira</td>\n      <td>New York Yankees</td>\n      <td>First Baseman</td>\n      <td>20625.000</td>\n      <td>4</td>\n    </tr>\n    <tr>\n      <th>496</th>\n      <td>Derek Jeter</td>\n      <td>New York Yankees</td>\n      <td>Shortstop</td>\n      <td>22600.000</td>\n      <td>4</td>\n    </tr>\n  </tbody>\n</table>\n<p>100 rows × 5 columns</p>\n</div>"
     },
     "metadata": {},
     "execution_count": 32
    }
   ],
   "source": [
    "stratified_random_sample"
   ]
  },
  {
   "cell_type": "code",
   "execution_count": 33,
   "metadata": {},
   "outputs": [
    {
     "output_type": "execute_result",
     "data": {
      "text/plain": [
       "                         salary  cluster_id\n",
       "position                                   \n",
       "Catcher             2863.187500    3.000000\n",
       "Designated Hitter  11500.000000    2.000000\n",
       "First Baseman       6592.120000    3.800000\n",
       "Outfielder          5154.720444    3.388889\n",
       "Pitcher             2762.179041    3.448980\n",
       "Second Baseman      1895.833333    3.333333\n",
       "Shortstop           4479.228571    3.714286\n",
       "Third Baseman       4347.222000    3.166667"
      ],
      "text/html": "<div>\n<style scoped>\n    .dataframe tbody tr th:only-of-type {\n        vertical-align: middle;\n    }\n\n    .dataframe tbody tr th {\n        vertical-align: top;\n    }\n\n    .dataframe thead th {\n        text-align: right;\n    }\n</style>\n<table border=\"1\" class=\"dataframe\">\n  <thead>\n    <tr style=\"text-align: right;\">\n      <th></th>\n      <th>salary</th>\n      <th>cluster_id</th>\n    </tr>\n    <tr>\n      <th>position</th>\n      <th></th>\n      <th></th>\n    </tr>\n  </thead>\n  <tbody>\n    <tr>\n      <th>Catcher</th>\n      <td>2863.187500</td>\n      <td>3.000000</td>\n    </tr>\n    <tr>\n      <th>Designated Hitter</th>\n      <td>11500.000000</td>\n      <td>2.000000</td>\n    </tr>\n    <tr>\n      <th>First Baseman</th>\n      <td>6592.120000</td>\n      <td>3.800000</td>\n    </tr>\n    <tr>\n      <th>Outfielder</th>\n      <td>5154.720444</td>\n      <td>3.388889</td>\n    </tr>\n    <tr>\n      <th>Pitcher</th>\n      <td>2762.179041</td>\n      <td>3.448980</td>\n    </tr>\n    <tr>\n      <th>Second Baseman</th>\n      <td>1895.833333</td>\n      <td>3.333333</td>\n    </tr>\n    <tr>\n      <th>Shortstop</th>\n      <td>4479.228571</td>\n      <td>3.714286</td>\n    </tr>\n    <tr>\n      <th>Third Baseman</th>\n      <td>4347.222000</td>\n      <td>3.166667</td>\n    </tr>\n  </tbody>\n</table>\n</div>"
     },
     "metadata": {},
     "execution_count": 33
    }
   ],
   "source": [
    "stratified_random_sample.groupby('position').mean()"
   ]
  },
  {
   "cell_type": "code",
   "execution_count": 34,
   "metadata": {},
   "outputs": [
    {
     "output_type": "execute_result",
     "data": {
      "text/plain": [
       "        salary  cluster_id\n",
       "count    100.0       100.0\n",
       "mean    3643.0         3.0\n",
       "std     4961.0         2.0\n",
       "min      400.0         1.0\n",
       "25%      423.0         2.0\n",
       "50%     1000.0         3.0\n",
       "75%     5000.0         5.0\n",
       "max    22600.0         6.0"
      ],
      "text/html": "<div>\n<style scoped>\n    .dataframe tbody tr th:only-of-type {\n        vertical-align: middle;\n    }\n\n    .dataframe tbody tr th {\n        vertical-align: top;\n    }\n\n    .dataframe thead th {\n        text-align: right;\n    }\n</style>\n<table border=\"1\" class=\"dataframe\">\n  <thead>\n    <tr style=\"text-align: right;\">\n      <th></th>\n      <th>salary</th>\n      <th>cluster_id</th>\n    </tr>\n  </thead>\n  <tbody>\n    <tr>\n      <th>count</th>\n      <td>100.0</td>\n      <td>100.0</td>\n    </tr>\n    <tr>\n      <th>mean</th>\n      <td>3643.0</td>\n      <td>3.0</td>\n    </tr>\n    <tr>\n      <th>std</th>\n      <td>4961.0</td>\n      <td>2.0</td>\n    </tr>\n    <tr>\n      <th>min</th>\n      <td>400.0</td>\n      <td>1.0</td>\n    </tr>\n    <tr>\n      <th>25%</th>\n      <td>423.0</td>\n      <td>2.0</td>\n    </tr>\n    <tr>\n      <th>50%</th>\n      <td>1000.0</td>\n      <td>3.0</td>\n    </tr>\n    <tr>\n      <th>75%</th>\n      <td>5000.0</td>\n      <td>5.0</td>\n    </tr>\n    <tr>\n      <th>max</th>\n      <td>22600.0</td>\n      <td>6.0</td>\n    </tr>\n  </tbody>\n</table>\n</div>"
     },
     "metadata": {},
     "execution_count": 34
    }
   ],
   "source": [
    "stratified_random_sample.describe().round()\n"
   ]
  },
  {
   "cell_type": "code",
   "execution_count": 35,
   "metadata": {},
   "outputs": [
    {
     "output_type": "execute_result",
     "data": {
      "text/plain": [
       "array(['Catcher', 'Pitcher', 'Second Baseman', 'Third Baseman',\n",
       "       'First Baseman', 'Outfielder', 'Shortstop', 'Designated Hitter'],\n",
       "      dtype=object)"
      ]
     },
     "metadata": {},
     "execution_count": 35
    }
   ],
   "source": [
    "stratified_random_sample.position.unique()"
   ]
  },
  {
   "cell_type": "code",
   "execution_count": 36,
   "metadata": {},
   "outputs": [
    {
     "output_type": "execute_result",
     "data": {
      "text/plain": [
       "(100, 5)"
      ]
     },
     "metadata": {},
     "execution_count": 36
    }
   ],
   "source": [
    "stratified_random_sample.shape"
   ]
  },
  {
   "cell_type": "code",
   "execution_count": 37,
   "metadata": {},
   "outputs": [
    {
     "output_type": "execute_result",
     "data": {
      "text/plain": [
       "3643"
      ]
     },
     "metadata": {},
     "execution_count": 37
    }
   ],
   "source": [
    "stratified_mean = round(stratified_random_sample.salary.mean())\n",
    "stratified_mean"
   ]
  },
  {
   "cell_type": "code",
   "execution_count": 38,
   "metadata": {},
   "outputs": [
    {
     "output_type": "execute_result",
     "data": {
      "text/plain": [
       "3281.828"
      ]
     },
     "metadata": {},
     "execution_count": 38
    }
   ],
   "source": [
    "real_mean"
   ]
  },
  {
   "cell_type": "code",
   "execution_count": 39,
   "metadata": {},
   "outputs": [
    {
     "output_type": "execute_result",
     "data": {
      "text/plain": [
       "9.916791305757524"
      ]
     },
     "metadata": {},
     "execution_count": 39
    }
   ],
   "source": [
    "abs(stratified_random_sample.salary.mean()-df.salary.mean())/stratified_random_sample.salary.mean()*100\n"
   ]
  },
  {
   "cell_type": "code",
   "execution_count": 40,
   "metadata": {},
   "outputs": [
    {
     "output_type": "execute_result",
     "data": {
      "text/plain": [
       "Pitcher              0.49\n",
       "Outfielder           0.18\n",
       "Catcher              0.08\n",
       "Shortstop            0.07\n",
       "Second Baseman       0.06\n",
       "Third Baseman        0.06\n",
       "First Baseman        0.05\n",
       "Designated Hitter    0.01\n",
       "Name: position, dtype: float64"
      ]
     },
     "metadata": {},
     "execution_count": 40
    }
   ],
   "source": [
    "stratified_random_sample.position.value_counts(normalize=True)"
   ]
  },
  {
   "source": [
    "### SMOTE (Synthetic Minority Oversampling Technique)"
   ],
   "cell_type": "markdown",
   "metadata": {}
  },
  {
   "cell_type": "code",
   "execution_count": 41,
   "metadata": {},
   "outputs": [],
   "source": [
    "# define dataset\n",
    "X, y = make_classification(n_samples=1000, n_features=2, n_redundant=0, n_clusters_per_class=1, weights=[0.99], flip_y=0, random_state=6858)"
   ]
  },
  {
   "cell_type": "code",
   "execution_count": 42,
   "metadata": {},
   "outputs": [
    {
     "output_type": "stream",
     "name": "stdout",
     "text": [
      "Counter({0: 990, 1: 10})\n"
     ]
    }
   ],
   "source": [
    "# summarize class distribution\n",
    "counter = Counter(y)\n",
    "print(counter)"
   ]
  },
  {
   "cell_type": "code",
   "execution_count": 43,
   "metadata": {},
   "outputs": [
    {
     "output_type": "display_data",
     "data": {
      "text/plain": "<Figure size 432x288 with 1 Axes>",
      "image/svg+xml": "<?xml version=\"1.0\" encoding=\"utf-8\" standalone=\"no\"?>\n<!DOCTYPE svg PUBLIC \"-//W3C//DTD SVG 1.1//EN\"\n  \"http://www.w3.org/Graphics/SVG/1.1/DTD/svg11.dtd\">\n<svg height=\"251.985937pt\" version=\"1.1\" viewBox=\"0 0 374.916406 251.985937\" width=\"374.916406pt\" xmlns=\"http://www.w3.org/2000/svg\" xmlns:xlink=\"http://www.w3.org/1999/xlink\">\n <metadata>\n  <rdf:RDF xmlns:cc=\"http://creativecommons.org/ns#\" xmlns:dc=\"http://purl.org/dc/elements/1.1/\" xmlns:rdf=\"http://www.w3.org/1999/02/22-rdf-syntax-ns#\">\n   <cc:Work>\n    <dc:type rdf:resource=\"http://purl.org/dc/dcmitype/StillImage\"/>\n    <dc:date>2021-04-21T11:22:07.816161</dc:date>\n    <dc:format>image/svg+xml</dc:format>\n    <dc:creator>\n     <cc:Agent>\n      <dc:title>Matplotlib v3.4.1, https://matplotlib.org/</dc:title>\n     </cc:Agent>\n    </dc:creator>\n   </cc:Work>\n  </rdf:RDF>\n </metadata>\n <defs>\n  <style type=\"text/css\">*{stroke-linecap:butt;stroke-linejoin:round;}</style>\n </defs>\n <g id=\"figure_1\">\n  <g id=\"patch_1\">\n   <path d=\"M 0 251.985937 \nL 374.916406 251.985937 \nL 374.916406 0 \nL 0 0 \nz\n\" style=\"fill:#ffffff;\"/>\n  </g>\n  <g id=\"axes_1\">\n   <g id=\"patch_2\">\n    <path d=\"M 32.916406 224.64 \nL 367.716406 224.64 \nL 367.716406 7.2 \nL 32.916406 7.2 \nz\n\" style=\"fill:#eaeaf2;\"/>\n   </g>\n   <g id=\"matplotlib.axis_1\">\n    <g id=\"xtick_1\">\n     <g id=\"line2d_1\">\n      <path clip-path=\"url(#pc5ce22d10b)\" d=\"M 64.160742 224.64 \nL 64.160742 7.2 \n\" style=\"fill:none;stroke:#ffffff;stroke-linecap:round;\"/>\n     </g>\n     <g id=\"text_1\">\n      <!-- −2 -->\n      <g style=\"fill:#262626;\" transform=\"translate(56.052539 242.498281)scale(0.11 -0.11)\">\n       <defs>\n        <path d=\"M 678 2272 \nL 4684 2272 \nL 4684 1741 \nL 678 1741 \nL 678 2272 \nz\n\" id=\"DejaVuSans-2212\" transform=\"scale(0.015625)\"/>\n        <path d=\"M 1228 531 \nL 3431 531 \nL 3431 0 \nL 469 0 \nL 469 531 \nQ 828 903 1448 1529 \nQ 2069 2156 2228 2338 \nQ 2531 2678 2651 2914 \nQ 2772 3150 2772 3378 \nQ 2772 3750 2511 3984 \nQ 2250 4219 1831 4219 \nQ 1534 4219 1204 4116 \nQ 875 4013 500 3803 \nL 500 4441 \nQ 881 4594 1212 4672 \nQ 1544 4750 1819 4750 \nQ 2544 4750 2975 4387 \nQ 3406 4025 3406 3419 \nQ 3406 3131 3298 2873 \nQ 3191 2616 2906 2266 \nQ 2828 2175 2409 1742 \nQ 1991 1309 1228 531 \nz\n\" id=\"DejaVuSans-32\" transform=\"scale(0.015625)\"/>\n       </defs>\n       <use xlink:href=\"#DejaVuSans-2212\"/>\n       <use x=\"83.789062\" xlink:href=\"#DejaVuSans-32\"/>\n      </g>\n     </g>\n    </g>\n    <g id=\"xtick_2\">\n     <g id=\"line2d_2\">\n      <path clip-path=\"url(#pc5ce22d10b)\" d=\"M 121.894019 224.64 \nL 121.894019 7.2 \n\" style=\"fill:none;stroke:#ffffff;stroke-linecap:round;\"/>\n     </g>\n     <g id=\"text_2\">\n      <!-- −1 -->\n      <g style=\"fill:#262626;\" transform=\"translate(113.785816 242.498281)scale(0.11 -0.11)\">\n       <defs>\n        <path d=\"M 794 531 \nL 1825 531 \nL 1825 4091 \nL 703 3866 \nL 703 4441 \nL 1819 4666 \nL 2450 4666 \nL 2450 531 \nL 3481 531 \nL 3481 0 \nL 794 0 \nL 794 531 \nz\n\" id=\"DejaVuSans-31\" transform=\"scale(0.015625)\"/>\n       </defs>\n       <use xlink:href=\"#DejaVuSans-2212\"/>\n       <use x=\"83.789062\" xlink:href=\"#DejaVuSans-31\"/>\n      </g>\n     </g>\n    </g>\n    <g id=\"xtick_3\">\n     <g id=\"line2d_3\">\n      <path clip-path=\"url(#pc5ce22d10b)\" d=\"M 179.627296 224.64 \nL 179.627296 7.2 \n\" style=\"fill:none;stroke:#ffffff;stroke-linecap:round;\"/>\n     </g>\n     <g id=\"text_3\">\n      <!-- 0 -->\n      <g style=\"fill:#262626;\" transform=\"translate(176.127921 242.498281)scale(0.11 -0.11)\">\n       <defs>\n        <path d=\"M 2034 4250 \nQ 1547 4250 1301 3770 \nQ 1056 3291 1056 2328 \nQ 1056 1369 1301 889 \nQ 1547 409 2034 409 \nQ 2525 409 2770 889 \nQ 3016 1369 3016 2328 \nQ 3016 3291 2770 3770 \nQ 2525 4250 2034 4250 \nz\nM 2034 4750 \nQ 2819 4750 3233 4129 \nQ 3647 3509 3647 2328 \nQ 3647 1150 3233 529 \nQ 2819 -91 2034 -91 \nQ 1250 -91 836 529 \nQ 422 1150 422 2328 \nQ 422 3509 836 4129 \nQ 1250 4750 2034 4750 \nz\n\" id=\"DejaVuSans-30\" transform=\"scale(0.015625)\"/>\n       </defs>\n       <use xlink:href=\"#DejaVuSans-30\"/>\n      </g>\n     </g>\n    </g>\n    <g id=\"xtick_4\">\n     <g id=\"line2d_4\">\n      <path clip-path=\"url(#pc5ce22d10b)\" d=\"M 237.360572 224.64 \nL 237.360572 7.2 \n\" style=\"fill:none;stroke:#ffffff;stroke-linecap:round;\"/>\n     </g>\n     <g id=\"text_4\">\n      <!-- 1 -->\n      <g style=\"fill:#262626;\" transform=\"translate(233.861197 242.498281)scale(0.11 -0.11)\">\n       <use xlink:href=\"#DejaVuSans-31\"/>\n      </g>\n     </g>\n    </g>\n    <g id=\"xtick_5\">\n     <g id=\"line2d_5\">\n      <path clip-path=\"url(#pc5ce22d10b)\" d=\"M 295.093849 224.64 \nL 295.093849 7.2 \n\" style=\"fill:none;stroke:#ffffff;stroke-linecap:round;\"/>\n     </g>\n     <g id=\"text_5\">\n      <!-- 2 -->\n      <g style=\"fill:#262626;\" transform=\"translate(291.594474 242.498281)scale(0.11 -0.11)\">\n       <use xlink:href=\"#DejaVuSans-32\"/>\n      </g>\n     </g>\n    </g>\n    <g id=\"xtick_6\">\n     <g id=\"line2d_6\">\n      <path clip-path=\"url(#pc5ce22d10b)\" d=\"M 352.827126 224.64 \nL 352.827126 7.2 \n\" style=\"fill:none;stroke:#ffffff;stroke-linecap:round;\"/>\n     </g>\n     <g id=\"text_6\">\n      <!-- 3 -->\n      <g style=\"fill:#262626;\" transform=\"translate(349.327751 242.498281)scale(0.11 -0.11)\">\n       <defs>\n        <path d=\"M 2597 2516 \nQ 3050 2419 3304 2112 \nQ 3559 1806 3559 1356 \nQ 3559 666 3084 287 \nQ 2609 -91 1734 -91 \nQ 1441 -91 1130 -33 \nQ 819 25 488 141 \nL 488 750 \nQ 750 597 1062 519 \nQ 1375 441 1716 441 \nQ 2309 441 2620 675 \nQ 2931 909 2931 1356 \nQ 2931 1769 2642 2001 \nQ 2353 2234 1838 2234 \nL 1294 2234 \nL 1294 2753 \nL 1863 2753 \nQ 2328 2753 2575 2939 \nQ 2822 3125 2822 3475 \nQ 2822 3834 2567 4026 \nQ 2313 4219 1838 4219 \nQ 1578 4219 1281 4162 \nQ 984 4106 628 3988 \nL 628 4550 \nQ 988 4650 1302 4700 \nQ 1616 4750 1894 4750 \nQ 2613 4750 3031 4423 \nQ 3450 4097 3450 3541 \nQ 3450 3153 3228 2886 \nQ 3006 2619 2597 2516 \nz\n\" id=\"DejaVuSans-33\" transform=\"scale(0.015625)\"/>\n       </defs>\n       <use xlink:href=\"#DejaVuSans-33\"/>\n      </g>\n     </g>\n    </g>\n   </g>\n   <g id=\"matplotlib.axis_2\">\n    <g id=\"ytick_1\">\n     <g id=\"line2d_7\">\n      <path clip-path=\"url(#pc5ce22d10b)\" d=\"M 32.916406 209.434701 \nL 367.716406 209.434701 \n\" style=\"fill:none;stroke:#ffffff;stroke-linecap:round;\"/>\n     </g>\n     <g id=\"text_7\">\n      <!-- −2 -->\n      <g style=\"fill:#262626;\" transform=\"translate(7.2 213.613842)scale(0.11 -0.11)\">\n       <use xlink:href=\"#DejaVuSans-2212\"/>\n       <use x=\"83.789062\" xlink:href=\"#DejaVuSans-32\"/>\n      </g>\n     </g>\n    </g>\n    <g id=\"ytick_2\">\n     <g id=\"line2d_8\">\n      <path clip-path=\"url(#pc5ce22d10b)\" d=\"M 32.916406 163.3963 \nL 367.716406 163.3963 \n\" style=\"fill:none;stroke:#ffffff;stroke-linecap:round;\"/>\n     </g>\n     <g id=\"text_8\">\n      <!-- −1 -->\n      <g style=\"fill:#262626;\" transform=\"translate(7.2 167.575441)scale(0.11 -0.11)\">\n       <use xlink:href=\"#DejaVuSans-2212\"/>\n       <use x=\"83.789062\" xlink:href=\"#DejaVuSans-31\"/>\n      </g>\n     </g>\n    </g>\n    <g id=\"ytick_3\">\n     <g id=\"line2d_9\">\n      <path clip-path=\"url(#pc5ce22d10b)\" d=\"M 32.916406 117.357899 \nL 367.716406 117.357899 \n\" style=\"fill:none;stroke:#ffffff;stroke-linecap:round;\"/>\n     </g>\n     <g id=\"text_9\">\n      <!-- 0 -->\n      <g style=\"fill:#262626;\" transform=\"translate(16.417656 121.53704)scale(0.11 -0.11)\">\n       <use xlink:href=\"#DejaVuSans-30\"/>\n      </g>\n     </g>\n    </g>\n    <g id=\"ytick_4\">\n     <g id=\"line2d_10\">\n      <path clip-path=\"url(#pc5ce22d10b)\" d=\"M 32.916406 71.319498 \nL 367.716406 71.319498 \n\" style=\"fill:none;stroke:#ffffff;stroke-linecap:round;\"/>\n     </g>\n     <g id=\"text_10\">\n      <!-- 1 -->\n      <g style=\"fill:#262626;\" transform=\"translate(16.417656 75.498639)scale(0.11 -0.11)\">\n       <use xlink:href=\"#DejaVuSans-31\"/>\n      </g>\n     </g>\n    </g>\n    <g id=\"ytick_5\">\n     <g id=\"line2d_11\">\n      <path clip-path=\"url(#pc5ce22d10b)\" d=\"M 32.916406 25.281097 \nL 367.716406 25.281097 \n\" style=\"fill:none;stroke:#ffffff;stroke-linecap:round;\"/>\n     </g>\n     <g id=\"text_11\">\n      <!-- 2 -->\n      <g style=\"fill:#262626;\" transform=\"translate(16.417656 29.460238)scale(0.11 -0.11)\">\n       <use xlink:href=\"#DejaVuSans-32\"/>\n      </g>\n     </g>\n    </g>\n   </g>\n   <g id=\"PathCollection_1\">\n    <defs>\n     <path d=\"M 0 3 \nC 0.795609 3 1.55874 2.683901 2.12132 2.12132 \nC 2.683901 1.55874 3 0.795609 3 0 \nC 3 -0.795609 2.683901 -1.55874 2.12132 -2.12132 \nC 1.55874 -2.683901 0.795609 -3 0 -3 \nC -0.795609 -3 -1.55874 -2.683901 -2.12132 -2.12132 \nC -2.683901 -1.55874 -3 -0.795609 -3 0 \nC -3 0.795609 -2.683901 1.55874 -2.12132 2.12132 \nC -1.55874 2.683901 -0.795609 3 0 3 \nz\n\" id=\"md6f99c4466\" style=\"stroke:#4c72b0;\"/>\n    </defs>\n    <g clip-path=\"url(#pc5ce22d10b)\">\n     <use style=\"fill:#4c72b0;stroke:#4c72b0;\" x=\"212.66974\" xlink:href=\"#md6f99c4466\" y=\"57.971947\"/>\n     <use style=\"fill:#4c72b0;stroke:#4c72b0;\" x=\"188.017773\" xlink:href=\"#md6f99c4466\" y=\"41.484926\"/>\n     <use style=\"fill:#4c72b0;stroke:#4c72b0;\" x=\"159.041402\" xlink:href=\"#md6f99c4466\" y=\"26.457001\"/>\n     <use style=\"fill:#4c72b0;stroke:#4c72b0;\" x=\"215.951802\" xlink:href=\"#md6f99c4466\" y=\"58.140386\"/>\n     <use style=\"fill:#4c72b0;stroke:#4c72b0;\" x=\"221.041672\" xlink:href=\"#md6f99c4466\" y=\"61.32788\"/>\n     <use style=\"fill:#4c72b0;stroke:#4c72b0;\" x=\"266.684482\" xlink:href=\"#md6f99c4466\" y=\"86.814403\"/>\n     <use style=\"fill:#4c72b0;stroke:#4c72b0;\" x=\"240.135836\" xlink:href=\"#md6f99c4466\" y=\"71.356093\"/>\n     <use style=\"fill:#4c72b0;stroke:#4c72b0;\" x=\"305.732632\" xlink:href=\"#md6f99c4466\" y=\"112.270157\"/>\n     <use style=\"fill:#4c72b0;stroke:#4c72b0;\" x=\"258.755429\" xlink:href=\"#md6f99c4466\" y=\"85.27336\"/>\n     <use style=\"fill:#4c72b0;stroke:#4c72b0;\" x=\"159.645636\" xlink:href=\"#md6f99c4466\" y=\"24.595402\"/>\n     <use style=\"fill:#4c72b0;stroke:#4c72b0;\" x=\"289.608824\" xlink:href=\"#md6f99c4466\" y=\"103.76194\"/>\n     <use style=\"fill:#4c72b0;stroke:#4c72b0;\" x=\"244.869955\" xlink:href=\"#md6f99c4466\" y=\"74.38141\"/>\n     <use style=\"fill:#4c72b0;stroke:#4c72b0;\" x=\"313.694542\" xlink:href=\"#md6f99c4466\" y=\"117.263244\"/>\n     <use style=\"fill:#4c72b0;stroke:#4c72b0;\" x=\"278.006856\" xlink:href=\"#md6f99c4466\" y=\"95.152233\"/>\n     <use style=\"fill:#4c72b0;stroke:#4c72b0;\" x=\"197.963449\" xlink:href=\"#md6f99c4466\" y=\"46.81404\"/>\n     <use style=\"fill:#4c72b0;stroke:#4c72b0;\" x=\"222.998017\" xlink:href=\"#md6f99c4466\" y=\"65.591026\"/>\n     <use style=\"fill:#4c72b0;stroke:#4c72b0;\" x=\"268.330108\" xlink:href=\"#md6f99c4466\" y=\"87.565481\"/>\n     <use style=\"fill:#4c72b0;stroke:#4c72b0;\" x=\"257.794747\" xlink:href=\"#md6f99c4466\" y=\"82.005493\"/>\n     <use style=\"fill:#4c72b0;stroke:#4c72b0;\" x=\"238.182712\" xlink:href=\"#md6f99c4466\" y=\"71.002225\"/>\n     <use style=\"fill:#4c72b0;stroke:#4c72b0;\" x=\"283.984357\" xlink:href=\"#md6f99c4466\" y=\"99.950253\"/>\n     <use style=\"fill:#4c72b0;stroke:#4c72b0;\" x=\"214.794734\" xlink:href=\"#md6f99c4466\" y=\"58.584028\"/>\n     <use style=\"fill:#4c72b0;stroke:#4c72b0;\" x=\"247.356058\" xlink:href=\"#md6f99c4466\" y=\"76.244685\"/>\n     <use style=\"fill:#4c72b0;stroke:#4c72b0;\" x=\"276.045358\" xlink:href=\"#md6f99c4466\" y=\"93.983098\"/>\n     <use style=\"fill:#4c72b0;stroke:#4c72b0;\" x=\"220.773777\" xlink:href=\"#md6f99c4466\" y=\"59.65404\"/>\n     <use style=\"fill:#4c72b0;stroke:#4c72b0;\" x=\"221.564649\" xlink:href=\"#md6f99c4466\" y=\"62.25537\"/>\n     <use style=\"fill:#4c72b0;stroke:#4c72b0;\" x=\"204.701068\" xlink:href=\"#md6f99c4466\" y=\"50.801689\"/>\n     <use style=\"fill:#4c72b0;stroke:#4c72b0;\" x=\"229.729793\" xlink:href=\"#md6f99c4466\" y=\"64.574983\"/>\n     <use style=\"fill:#4c72b0;stroke:#4c72b0;\" x=\"216.201344\" xlink:href=\"#md6f99c4466\" y=\"62.055204\"/>\n     <use style=\"fill:#4c72b0;stroke:#4c72b0;\" x=\"219.24342\" xlink:href=\"#md6f99c4466\" y=\"60.247294\"/>\n     <use style=\"fill:#4c72b0;stroke:#4c72b0;\" x=\"212.924199\" xlink:href=\"#md6f99c4466\" y=\"57.348632\"/>\n     <use style=\"fill:#4c72b0;stroke:#4c72b0;\" x=\"207.153598\" xlink:href=\"#md6f99c4466\" y=\"55.27588\"/>\n     <use style=\"fill:#4c72b0;stroke:#4c72b0;\" x=\"264.665433\" xlink:href=\"#md6f99c4466\" y=\"89.565229\"/>\n     <use style=\"fill:#4c72b0;stroke:#4c72b0;\" x=\"265.885877\" xlink:href=\"#md6f99c4466\" y=\"90.282061\"/>\n     <use style=\"fill:#4c72b0;stroke:#4c72b0;\" x=\"177.638327\" xlink:href=\"#md6f99c4466\" y=\"38.266263\"/>\n     <use style=\"fill:#4c72b0;stroke:#4c72b0;\" x=\"239.31252\" xlink:href=\"#md6f99c4466\" y=\"74.709603\"/>\n     <use style=\"fill:#4c72b0;stroke:#4c72b0;\" x=\"171.285917\" xlink:href=\"#md6f99c4466\" y=\"34.100136\"/>\n     <use style=\"fill:#4c72b0;stroke:#4c72b0;\" x=\"239.978907\" xlink:href=\"#md6f99c4466\" y=\"73.138027\"/>\n     <use style=\"fill:#4c72b0;stroke:#4c72b0;\" x=\"280.56519\" xlink:href=\"#md6f99c4466\" y=\"98.219463\"/>\n     <use style=\"fill:#4c72b0;stroke:#4c72b0;\" x=\"164.551185\" xlink:href=\"#md6f99c4466\" y=\"31.954193\"/>\n     <use style=\"fill:#4c72b0;stroke:#4c72b0;\" x=\"222.900835\" xlink:href=\"#md6f99c4466\" y=\"65.242121\"/>\n     <use style=\"fill:#4c72b0;stroke:#4c72b0;\" x=\"247.744966\" xlink:href=\"#md6f99c4466\" y=\"78.418209\"/>\n     <use style=\"fill:#4c72b0;stroke:#4c72b0;\" x=\"189.227319\" xlink:href=\"#md6f99c4466\" y=\"43.456592\"/>\n     <use style=\"fill:#4c72b0;stroke:#4c72b0;\" x=\"273.407025\" xlink:href=\"#md6f99c4466\" y=\"90.859718\"/>\n     <use style=\"fill:#4c72b0;stroke:#4c72b0;\" x=\"194.99742\" xlink:href=\"#md6f99c4466\" y=\"44.673571\"/>\n     <use style=\"fill:#4c72b0;stroke:#4c72b0;\" x=\"264.101947\" xlink:href=\"#md6f99c4466\" y=\"87.365732\"/>\n     <use style=\"fill:#4c72b0;stroke:#4c72b0;\" x=\"177.177648\" xlink:href=\"#md6f99c4466\" y=\"35.47242\"/>\n     <use style=\"fill:#4c72b0;stroke:#4c72b0;\" x=\"152.469155\" xlink:href=\"#md6f99c4466\" y=\"24.607384\"/>\n     <use style=\"fill:#4c72b0;stroke:#4c72b0;\" x=\"208.670861\" xlink:href=\"#md6f99c4466\" y=\"51.640709\"/>\n     <use style=\"fill:#4c72b0;stroke:#4c72b0;\" x=\"305.013569\" xlink:href=\"#md6f99c4466\" y=\"111.283545\"/>\n     <use style=\"fill:#4c72b0;stroke:#4c72b0;\" x=\"290.320653\" xlink:href=\"#md6f99c4466\" y=\"103.996639\"/>\n     <use style=\"fill:#4c72b0;stroke:#4c72b0;\" x=\"185.983408\" xlink:href=\"#md6f99c4466\" y=\"40.406203\"/>\n     <use style=\"fill:#4c72b0;stroke:#4c72b0;\" x=\"215.658916\" xlink:href=\"#md6f99c4466\" y=\"57.498869\"/>\n     <use style=\"fill:#4c72b0;stroke:#4c72b0;\" x=\"296.528847\" xlink:href=\"#md6f99c4466\" y=\"104.533354\"/>\n     <use style=\"fill:#4c72b0;stroke:#4c72b0;\" x=\"148.240282\" xlink:href=\"#md6f99c4466\" y=\"22.070659\"/>\n     <use style=\"fill:#4c72b0;stroke:#4c72b0;\" x=\"229.663144\" xlink:href=\"#md6f99c4466\" y=\"64.951814\"/>\n     <use style=\"fill:#4c72b0;stroke:#4c72b0;\" x=\"213.456973\" xlink:href=\"#md6f99c4466\" y=\"60.927568\"/>\n     <use style=\"fill:#4c72b0;stroke:#4c72b0;\" x=\"224.753234\" xlink:href=\"#md6f99c4466\" y=\"61.52967\"/>\n     <use style=\"fill:#4c72b0;stroke:#4c72b0;\" x=\"257.009844\" xlink:href=\"#md6f99c4466\" y=\"82.282014\"/>\n     <use style=\"fill:#4c72b0;stroke:#4c72b0;\" x=\"253.779837\" xlink:href=\"#md6f99c4466\" y=\"81.398263\"/>\n     <use style=\"fill:#4c72b0;stroke:#4c72b0;\" x=\"216.151127\" xlink:href=\"#md6f99c4466\" y=\"58.31604\"/>\n     <use style=\"fill:#4c72b0;stroke:#4c72b0;\" x=\"170.326998\" xlink:href=\"#md6f99c4466\" y=\"35.551272\"/>\n     <use style=\"fill:#4c72b0;stroke:#4c72b0;\" x=\"247.479406\" xlink:href=\"#md6f99c4466\" y=\"75.524238\"/>\n     <use style=\"fill:#4c72b0;stroke:#4c72b0;\" x=\"263.421424\" xlink:href=\"#md6f99c4466\" y=\"88.910953\"/>\n     <use style=\"fill:#4c72b0;stroke:#4c72b0;\" x=\"244.561075\" xlink:href=\"#md6f99c4466\" y=\"74.301517\"/>\n     <use style=\"fill:#4c72b0;stroke:#4c72b0;\" x=\"217.720865\" xlink:href=\"#md6f99c4466\" y=\"60.07255\"/>\n     <use style=\"fill:#4c72b0;stroke:#4c72b0;\" x=\"297.910285\" xlink:href=\"#md6f99c4466\" y=\"108.56049\"/>\n     <use style=\"fill:#4c72b0;stroke:#4c72b0;\" x=\"247.096227\" xlink:href=\"#md6f99c4466\" y=\"78.062283\"/>\n     <use style=\"fill:#4c72b0;stroke:#4c72b0;\" x=\"178.281688\" xlink:href=\"#md6f99c4466\" y=\"36.14686\"/>\n     <use style=\"fill:#4c72b0;stroke:#4c72b0;\" x=\"298.222786\" xlink:href=\"#md6f99c4466\" y=\"107.901799\"/>\n     <use style=\"fill:#4c72b0;stroke:#4c72b0;\" x=\"247.136399\" xlink:href=\"#md6f99c4466\" y=\"77.583653\"/>\n     <use style=\"fill:#4c72b0;stroke:#4c72b0;\" x=\"190.28125\" xlink:href=\"#md6f99c4466\" y=\"42.879836\"/>\n     <use style=\"fill:#4c72b0;stroke:#4c72b0;\" x=\"223.787001\" xlink:href=\"#md6f99c4466\" y=\"66.100048\"/>\n     <use style=\"fill:#4c72b0;stroke:#4c72b0;\" x=\"166.759387\" xlink:href=\"#md6f99c4466\" y=\"32.465587\"/>\n     <use style=\"fill:#4c72b0;stroke:#4c72b0;\" x=\"222.671767\" xlink:href=\"#md6f99c4466\" y=\"64.455896\"/>\n     <use style=\"fill:#4c72b0;stroke:#4c72b0;\" x=\"240.733854\" xlink:href=\"#md6f99c4466\" y=\"74.15613\"/>\n     <use style=\"fill:#4c72b0;stroke:#4c72b0;\" x=\"238.558721\" xlink:href=\"#md6f99c4466\" y=\"73.186476\"/>\n     <use style=\"fill:#4c72b0;stroke:#4c72b0;\" x=\"214.183464\" xlink:href=\"#md6f99c4466\" y=\"56.379394\"/>\n     <use style=\"fill:#4c72b0;stroke:#4c72b0;\" x=\"191.034337\" xlink:href=\"#md6f99c4466\" y=\"43.25227\"/>\n     <use style=\"fill:#4c72b0;stroke:#4c72b0;\" x=\"212.485743\" xlink:href=\"#md6f99c4466\" y=\"56.782845\"/>\n     <use style=\"fill:#4c72b0;stroke:#4c72b0;\" x=\"270.636025\" xlink:href=\"#md6f99c4466\" y=\"91.409662\"/>\n     <use style=\"fill:#4c72b0;stroke:#4c72b0;\" x=\"228.674468\" xlink:href=\"#md6f99c4466\" y=\"66.583459\"/>\n     <use style=\"fill:#4c72b0;stroke:#4c72b0;\" x=\"267.034061\" xlink:href=\"#md6f99c4466\" y=\"88.49048\"/>\n     <use style=\"fill:#4c72b0;stroke:#4c72b0;\" x=\"182.763336\" xlink:href=\"#md6f99c4466\" y=\"41.658097\"/>\n     <use style=\"fill:#4c72b0;stroke:#4c72b0;\" x=\"230.774786\" xlink:href=\"#md6f99c4466\" y=\"66.770066\"/>\n     <use style=\"fill:#4c72b0;stroke:#4c72b0;\" x=\"302.329151\" xlink:href=\"#md6f99c4466\" y=\"105.99015\"/>\n     <use style=\"fill:#4c72b0;stroke:#4c72b0;\" x=\"262.933177\" xlink:href=\"#md6f99c4466\" y=\"84.995128\"/>\n     <use style=\"fill:#4c72b0;stroke:#4c72b0;\" x=\"237.231862\" xlink:href=\"#md6f99c4466\" y=\"69.261131\"/>\n     <use style=\"fill:#4c72b0;stroke:#4c72b0;\" x=\"291.959896\" xlink:href=\"#md6f99c4466\" y=\"102.093266\"/>\n     <use style=\"fill:#4c72b0;stroke:#4c72b0;\" x=\"200.604184\" xlink:href=\"#md6f99c4466\" y=\"50.466364\"/>\n     <use style=\"fill:#4c72b0;stroke:#4c72b0;\" x=\"204.458962\" xlink:href=\"#md6f99c4466\" y=\"53.1206\"/>\n     <use style=\"fill:#4c72b0;stroke:#4c72b0;\" x=\"285.115944\" xlink:href=\"#md6f99c4466\" y=\"99.161253\"/>\n     <use style=\"fill:#4c72b0;stroke:#4c72b0;\" x=\"208.441799\" xlink:href=\"#md6f99c4466\" y=\"57.589025\"/>\n     <use style=\"fill:#4c72b0;stroke:#4c72b0;\" x=\"295.933804\" xlink:href=\"#md6f99c4466\" y=\"104.478607\"/>\n     <use style=\"fill:#4c72b0;stroke:#4c72b0;\" x=\"170.624029\" xlink:href=\"#md6f99c4466\" y=\"32.52459\"/>\n     <use style=\"fill:#4c72b0;stroke:#4c72b0;\" x=\"248.049553\" xlink:href=\"#md6f99c4466\" y=\"77.449599\"/>\n     <use style=\"fill:#4c72b0;stroke:#4c72b0;\" x=\"241.457244\" xlink:href=\"#md6f99c4466\" y=\"72.876173\"/>\n     <use style=\"fill:#4c72b0;stroke:#4c72b0;\" x=\"279.011713\" xlink:href=\"#md6f99c4466\" y=\"97.350157\"/>\n     <use style=\"fill:#4c72b0;stroke:#4c72b0;\" x=\"236.891937\" xlink:href=\"#md6f99c4466\" y=\"69.314076\"/>\n     <use style=\"fill:#4c72b0;stroke:#4c72b0;\" x=\"162.102136\" xlink:href=\"#md6f99c4466\" y=\"29.704302\"/>\n     <use style=\"fill:#4c72b0;stroke:#4c72b0;\" x=\"143.522567\" xlink:href=\"#md6f99c4466\" y=\"19.161328\"/>\n     <use style=\"fill:#4c72b0;stroke:#4c72b0;\" x=\"211.145776\" xlink:href=\"#md6f99c4466\" y=\"57.29424\"/>\n     <use style=\"fill:#4c72b0;stroke:#4c72b0;\" x=\"195.526668\" xlink:href=\"#md6f99c4466\" y=\"46.851042\"/>\n     <use style=\"fill:#4c72b0;stroke:#4c72b0;\" x=\"239.567806\" xlink:href=\"#md6f99c4466\" y=\"74.537707\"/>\n     <use style=\"fill:#4c72b0;stroke:#4c72b0;\" x=\"232.626503\" xlink:href=\"#md6f99c4466\" y=\"68.319838\"/>\n     <use style=\"fill:#4c72b0;stroke:#4c72b0;\" x=\"222.303389\" xlink:href=\"#md6f99c4466\" y=\"61.905469\"/>\n     <use style=\"fill:#4c72b0;stroke:#4c72b0;\" x=\"267.726367\" xlink:href=\"#md6f99c4466\" y=\"88.373759\"/>\n     <use style=\"fill:#4c72b0;stroke:#4c72b0;\" x=\"293.492782\" xlink:href=\"#md6f99c4466\" y=\"102.511751\"/>\n     <use style=\"fill:#4c72b0;stroke:#4c72b0;\" x=\"228.501399\" xlink:href=\"#md6f99c4466\" y=\"63.010015\"/>\n     <use style=\"fill:#4c72b0;stroke:#4c72b0;\" x=\"174.774102\" xlink:href=\"#md6f99c4466\" y=\"32.652332\"/>\n     <use style=\"fill:#4c72b0;stroke:#4c72b0;\" x=\"282.398491\" xlink:href=\"#md6f99c4466\" y=\"97.31281\"/>\n     <use style=\"fill:#4c72b0;stroke:#4c72b0;\" x=\"270.947436\" xlink:href=\"#md6f99c4466\" y=\"91.417893\"/>\n     <use style=\"fill:#4c72b0;stroke:#4c72b0;\" x=\"214.454579\" xlink:href=\"#md6f99c4466\" y=\"58.374589\"/>\n     <use style=\"fill:#4c72b0;stroke:#4c72b0;\" x=\"278.356842\" xlink:href=\"#md6f99c4466\" y=\"92.06824\"/>\n     <use style=\"fill:#4c72b0;stroke:#4c72b0;\" x=\"215.646762\" xlink:href=\"#md6f99c4466\" y=\"58.883929\"/>\n     <use style=\"fill:#4c72b0;stroke:#4c72b0;\" x=\"187.519267\" xlink:href=\"#md6f99c4466\" y=\"41.882826\"/>\n     <use style=\"fill:#4c72b0;stroke:#4c72b0;\" x=\"265.904464\" xlink:href=\"#md6f99c4466\" y=\"89.37255\"/>\n     <use style=\"fill:#4c72b0;stroke:#4c72b0;\" x=\"258.756437\" xlink:href=\"#md6f99c4466\" y=\"83.199881\"/>\n     <use style=\"fill:#4c72b0;stroke:#4c72b0;\" x=\"254.607345\" xlink:href=\"#md6f99c4466\" y=\"80.961844\"/>\n     <use style=\"fill:#4c72b0;stroke:#4c72b0;\" x=\"274.98642\" xlink:href=\"#md6f99c4466\" y=\"90.970642\"/>\n     <use style=\"fill:#4c72b0;stroke:#4c72b0;\" x=\"274.006363\" xlink:href=\"#md6f99c4466\" y=\"92.946176\"/>\n     <use style=\"fill:#4c72b0;stroke:#4c72b0;\" x=\"249.098216\" xlink:href=\"#md6f99c4466\" y=\"77.165211\"/>\n     <use style=\"fill:#4c72b0;stroke:#4c72b0;\" x=\"256.086354\" xlink:href=\"#md6f99c4466\" y=\"81.276784\"/>\n     <use style=\"fill:#4c72b0;stroke:#4c72b0;\" x=\"182.156095\" xlink:href=\"#md6f99c4466\" y=\"37.977118\"/>\n     <use style=\"fill:#4c72b0;stroke:#4c72b0;\" x=\"254.879751\" xlink:href=\"#md6f99c4466\" y=\"81.573357\"/>\n     <use style=\"fill:#4c72b0;stroke:#4c72b0;\" x=\"216.591973\" xlink:href=\"#md6f99c4466\" y=\"57.365166\"/>\n     <use style=\"fill:#4c72b0;stroke:#4c72b0;\" x=\"195.232985\" xlink:href=\"#md6f99c4466\" y=\"46.674368\"/>\n     <use style=\"fill:#4c72b0;stroke:#4c72b0;\" x=\"253.140989\" xlink:href=\"#md6f99c4466\" y=\"79.527837\"/>\n     <use style=\"fill:#4c72b0;stroke:#4c72b0;\" x=\"242.265201\" xlink:href=\"#md6f99c4466\" y=\"75.096974\"/>\n     <use style=\"fill:#4c72b0;stroke:#4c72b0;\" x=\"269.259356\" xlink:href=\"#md6f99c4466\" y=\"92.590756\"/>\n     <use style=\"fill:#4c72b0;stroke:#4c72b0;\" x=\"233.711425\" xlink:href=\"#md6f99c4466\" y=\"67.517058\"/>\n     <use style=\"fill:#4c72b0;stroke:#4c72b0;\" x=\"164.028012\" xlink:href=\"#md6f99c4466\" y=\"28.130301\"/>\n     <use style=\"fill:#4c72b0;stroke:#4c72b0;\" x=\"229.496734\" xlink:href=\"#md6f99c4466\" y=\"66.741624\"/>\n     <use style=\"fill:#4c72b0;stroke:#4c72b0;\" x=\"312.931254\" xlink:href=\"#md6f99c4466\" y=\"115.371646\"/>\n     <use style=\"fill:#4c72b0;stroke:#4c72b0;\" x=\"297.930747\" xlink:href=\"#md6f99c4466\" y=\"106.552939\"/>\n     <use style=\"fill:#4c72b0;stroke:#4c72b0;\" x=\"223.712804\" xlink:href=\"#md6f99c4466\" y=\"65.580842\"/>\n     <use style=\"fill:#4c72b0;stroke:#4c72b0;\" x=\"249.294405\" xlink:href=\"#md6f99c4466\" y=\"79.238669\"/>\n     <use style=\"fill:#4c72b0;stroke:#4c72b0;\" x=\"237.784542\" xlink:href=\"#md6f99c4466\" y=\"72.542812\"/>\n     <use style=\"fill:#4c72b0;stroke:#4c72b0;\" x=\"207.82498\" xlink:href=\"#md6f99c4466\" y=\"54.16862\"/>\n     <use style=\"fill:#4c72b0;stroke:#4c72b0;\" x=\"195.019901\" xlink:href=\"#md6f99c4466\" y=\"49.271347\"/>\n     <use style=\"fill:#4c72b0;stroke:#4c72b0;\" x=\"276.273444\" xlink:href=\"#md6f99c4466\" y=\"94.609724\"/>\n     <use style=\"fill:#4c72b0;stroke:#4c72b0;\" x=\"276.653182\" xlink:href=\"#md6f99c4466\" y=\"95.011784\"/>\n     <use style=\"fill:#4c72b0;stroke:#4c72b0;\" x=\"231.93856\" xlink:href=\"#md6f99c4466\" y=\"69.046649\"/>\n     <use style=\"fill:#4c72b0;stroke:#4c72b0;\" x=\"281.655222\" xlink:href=\"#md6f99c4466\" y=\"96.342258\"/>\n     <use style=\"fill:#4c72b0;stroke:#4c72b0;\" x=\"245.47611\" xlink:href=\"#md6f99c4466\" y=\"74.308775\"/>\n     <use style=\"fill:#4c72b0;stroke:#4c72b0;\" x=\"170.400257\" xlink:href=\"#md6f99c4466\" y=\"32.427414\"/>\n     <use style=\"fill:#4c72b0;stroke:#4c72b0;\" x=\"211.034573\" xlink:href=\"#md6f99c4466\" y=\"57.513771\"/>\n     <use style=\"fill:#4c72b0;stroke:#4c72b0;\" x=\"176.9681\" xlink:href=\"#md6f99c4466\" y=\"32.652763\"/>\n     <use style=\"fill:#4c72b0;stroke:#4c72b0;\" x=\"261.042798\" xlink:href=\"#md6f99c4466\" y=\"84.897367\"/>\n     <use style=\"fill:#4c72b0;stroke:#4c72b0;\" x=\"268.547807\" xlink:href=\"#md6f99c4466\" y=\"89.790474\"/>\n     <use style=\"fill:#4c72b0;stroke:#4c72b0;\" x=\"223.510323\" xlink:href=\"#md6f99c4466\" y=\"60.438377\"/>\n     <use style=\"fill:#4c72b0;stroke:#4c72b0;\" x=\"258.331781\" xlink:href=\"#md6f99c4466\" y=\"83.53847\"/>\n     <use style=\"fill:#4c72b0;stroke:#4c72b0;\" x=\"296.523916\" xlink:href=\"#md6f99c4466\" y=\"104.17149\"/>\n     <use style=\"fill:#4c72b0;stroke:#4c72b0;\" x=\"205.287623\" xlink:href=\"#md6f99c4466\" y=\"53.922918\"/>\n     <use style=\"fill:#4c72b0;stroke:#4c72b0;\" x=\"222.499824\" xlink:href=\"#md6f99c4466\" y=\"66.165934\"/>\n     <use style=\"fill:#4c72b0;stroke:#4c72b0;\" x=\"242.583129\" xlink:href=\"#md6f99c4466\" y=\"73.495873\"/>\n     <use style=\"fill:#4c72b0;stroke:#4c72b0;\" x=\"250.23475\" xlink:href=\"#md6f99c4466\" y=\"78.157468\"/>\n     <use style=\"fill:#4c72b0;stroke:#4c72b0;\" x=\"176.135704\" xlink:href=\"#md6f99c4466\" y=\"36.034499\"/>\n     <use style=\"fill:#4c72b0;stroke:#4c72b0;\" x=\"252.768614\" xlink:href=\"#md6f99c4466\" y=\"79.924914\"/>\n     <use style=\"fill:#4c72b0;stroke:#4c72b0;\" x=\"237.32891\" xlink:href=\"#md6f99c4466\" y=\"71.994218\"/>\n     <use style=\"fill:#4c72b0;stroke:#4c72b0;\" x=\"175.384101\" xlink:href=\"#md6f99c4466\" y=\"36.19935\"/>\n     <use style=\"fill:#4c72b0;stroke:#4c72b0;\" x=\"243.71539\" xlink:href=\"#md6f99c4466\" y=\"74.467664\"/>\n     <use style=\"fill:#4c72b0;stroke:#4c72b0;\" x=\"249.201576\" xlink:href=\"#md6f99c4466\" y=\"79.527821\"/>\n     <use style=\"fill:#4c72b0;stroke:#4c72b0;\" x=\"263.660092\" xlink:href=\"#md6f99c4466\" y=\"85.201022\"/>\n     <use style=\"fill:#4c72b0;stroke:#4c72b0;\" x=\"183.727989\" xlink:href=\"#md6f99c4466\" y=\"37.399112\"/>\n     <use style=\"fill:#4c72b0;stroke:#4c72b0;\" x=\"257.965203\" xlink:href=\"#md6f99c4466\" y=\"83.483122\"/>\n     <use style=\"fill:#4c72b0;stroke:#4c72b0;\" x=\"216.802123\" xlink:href=\"#md6f99c4466\" y=\"61.491877\"/>\n     <use style=\"fill:#4c72b0;stroke:#4c72b0;\" x=\"232.499689\" xlink:href=\"#md6f99c4466\" y=\"68.547831\"/>\n     <use style=\"fill:#4c72b0;stroke:#4c72b0;\" x=\"210.639618\" xlink:href=\"#md6f99c4466\" y=\"55.987362\"/>\n     <use style=\"fill:#4c72b0;stroke:#4c72b0;\" x=\"270.646519\" xlink:href=\"#md6f99c4466\" y=\"91.453601\"/>\n     <use style=\"fill:#4c72b0;stroke:#4c72b0;\" x=\"224.641473\" xlink:href=\"#md6f99c4466\" y=\"62.027993\"/>\n     <use style=\"fill:#4c72b0;stroke:#4c72b0;\" x=\"211.084175\" xlink:href=\"#md6f99c4466\" y=\"57.689767\"/>\n     <use style=\"fill:#4c72b0;stroke:#4c72b0;\" x=\"235.266797\" xlink:href=\"#md6f99c4466\" y=\"69.11275\"/>\n     <use style=\"fill:#4c72b0;stroke:#4c72b0;\" x=\"208.26665\" xlink:href=\"#md6f99c4466\" y=\"55.917753\"/>\n     <use style=\"fill:#4c72b0;stroke:#4c72b0;\" x=\"240.646203\" xlink:href=\"#md6f99c4466\" y=\"72.710568\"/>\n     <use style=\"fill:#4c72b0;stroke:#4c72b0;\" x=\"190.921931\" xlink:href=\"#md6f99c4466\" y=\"45.678971\"/>\n     <use style=\"fill:#4c72b0;stroke:#4c72b0;\" x=\"237.078077\" xlink:href=\"#md6f99c4466\" y=\"71.298182\"/>\n     <use style=\"fill:#4c72b0;stroke:#4c72b0;\" x=\"273.220684\" xlink:href=\"#md6f99c4466\" y=\"90.525353\"/>\n     <use style=\"fill:#4c72b0;stroke:#4c72b0;\" x=\"251.250157\" xlink:href=\"#md6f99c4466\" y=\"81.974438\"/>\n     <use style=\"fill:#4c72b0;stroke:#4c72b0;\" x=\"183.130225\" xlink:href=\"#md6f99c4466\" y=\"38.923971\"/>\n     <use style=\"fill:#4c72b0;stroke:#4c72b0;\" x=\"246.257379\" xlink:href=\"#md6f99c4466\" y=\"73.209356\"/>\n     <use style=\"fill:#4c72b0;stroke:#4c72b0;\" x=\"185.323814\" xlink:href=\"#md6f99c4466\" y=\"39.366595\"/>\n     <use style=\"fill:#4c72b0;stroke:#4c72b0;\" x=\"199.680142\" xlink:href=\"#md6f99c4466\" y=\"46.234414\"/>\n     <use style=\"fill:#4c72b0;stroke:#4c72b0;\" x=\"262.776564\" xlink:href=\"#md6f99c4466\" y=\"88.060878\"/>\n     <use style=\"fill:#4c72b0;stroke:#4c72b0;\" x=\"187.699164\" xlink:href=\"#md6f99c4466\" y=\"42.640385\"/>\n     <use style=\"fill:#4c72b0;stroke:#4c72b0;\" x=\"309.744969\" xlink:href=\"#md6f99c4466\" y=\"112.251722\"/>\n     <use style=\"fill:#4c72b0;stroke:#4c72b0;\" x=\"210.501503\" xlink:href=\"#md6f99c4466\" y=\"54.765941\"/>\n     <use style=\"fill:#4c72b0;stroke:#4c72b0;\" x=\"230.975599\" xlink:href=\"#md6f99c4466\" y=\"68.347026\"/>\n     <use style=\"fill:#4c72b0;stroke:#4c72b0;\" x=\"232.928271\" xlink:href=\"#md6f99c4466\" y=\"68.273043\"/>\n     <use style=\"fill:#4c72b0;stroke:#4c72b0;\" x=\"218.481132\" xlink:href=\"#md6f99c4466\" y=\"58.785272\"/>\n     <use style=\"fill:#4c72b0;stroke:#4c72b0;\" x=\"224.94747\" xlink:href=\"#md6f99c4466\" y=\"60.686843\"/>\n     <use style=\"fill:#4c72b0;stroke:#4c72b0;\" x=\"278.70689\" xlink:href=\"#md6f99c4466\" y=\"98.456443\"/>\n     <use style=\"fill:#4c72b0;stroke:#4c72b0;\" x=\"254.960717\" xlink:href=\"#md6f99c4466\" y=\"82.845556\"/>\n     <use style=\"fill:#4c72b0;stroke:#4c72b0;\" x=\"267.444813\" xlink:href=\"#md6f99c4466\" y=\"86.662248\"/>\n     <use style=\"fill:#4c72b0;stroke:#4c72b0;\" x=\"160.078811\" xlink:href=\"#md6f99c4466\" y=\"28.180892\"/>\n     <use style=\"fill:#4c72b0;stroke:#4c72b0;\" x=\"238.91102\" xlink:href=\"#md6f99c4466\" y=\"69.971607\"/>\n     <use style=\"fill:#4c72b0;stroke:#4c72b0;\" x=\"276.871594\" xlink:href=\"#md6f99c4466\" y=\"94.779471\"/>\n     <use style=\"fill:#4c72b0;stroke:#4c72b0;\" x=\"222.871169\" xlink:href=\"#md6f99c4466\" y=\"61.261603\"/>\n     <use style=\"fill:#4c72b0;stroke:#4c72b0;\" x=\"227.569846\" xlink:href=\"#md6f99c4466\" y=\"66.645538\"/>\n     <use style=\"fill:#4c72b0;stroke:#4c72b0;\" x=\"208.640917\" xlink:href=\"#md6f99c4466\" y=\"52.051045\"/>\n     <use style=\"fill:#4c72b0;stroke:#4c72b0;\" x=\"170.548485\" xlink:href=\"#md6f99c4466\" y=\"33.105772\"/>\n     <use style=\"fill:#4c72b0;stroke:#4c72b0;\" x=\"315.376367\" xlink:href=\"#md6f99c4466\" y=\"117.401933\"/>\n     <use style=\"fill:#4c72b0;stroke:#4c72b0;\" x=\"212.346284\" xlink:href=\"#md6f99c4466\" y=\"55.124746\"/>\n     <use style=\"fill:#4c72b0;stroke:#4c72b0;\" x=\"225.744859\" xlink:href=\"#md6f99c4466\" y=\"62.232852\"/>\n     <use style=\"fill:#4c72b0;stroke:#4c72b0;\" x=\"328.628283\" xlink:href=\"#md6f99c4466\" y=\"122.032551\"/>\n     <use style=\"fill:#4c72b0;stroke:#4c72b0;\" x=\"217.226597\" xlink:href=\"#md6f99c4466\" y=\"63.062642\"/>\n     <use style=\"fill:#4c72b0;stroke:#4c72b0;\" x=\"234.895237\" xlink:href=\"#md6f99c4466\" y=\"72.979692\"/>\n     <use style=\"fill:#4c72b0;stroke:#4c72b0;\" x=\"283.025993\" xlink:href=\"#md6f99c4466\" y=\"96.072758\"/>\n     <use style=\"fill:#4c72b0;stroke:#4c72b0;\" x=\"223.24902\" xlink:href=\"#md6f99c4466\" y=\"63.818287\"/>\n     <use style=\"fill:#4c72b0;stroke:#4c72b0;\" x=\"218.945309\" xlink:href=\"#md6f99c4466\" y=\"59.278918\"/>\n     <use style=\"fill:#4c72b0;stroke:#4c72b0;\" x=\"312.963734\" xlink:href=\"#md6f99c4466\" y=\"114.151098\"/>\n     <use style=\"fill:#4c72b0;stroke:#4c72b0;\" x=\"287.87602\" xlink:href=\"#md6f99c4466\" y=\"102.346724\"/>\n     <use style=\"fill:#4c72b0;stroke:#4c72b0;\" x=\"232.215456\" xlink:href=\"#md6f99c4466\" y=\"68.758806\"/>\n     <use style=\"fill:#4c72b0;stroke:#4c72b0;\" x=\"208.105331\" xlink:href=\"#md6f99c4466\" y=\"55.955666\"/>\n     <use style=\"fill:#4c72b0;stroke:#4c72b0;\" x=\"243.496248\" xlink:href=\"#md6f99c4466\" y=\"75.052242\"/>\n     <use style=\"fill:#4c72b0;stroke:#4c72b0;\" x=\"248.085733\" xlink:href=\"#md6f99c4466\" y=\"76.316651\"/>\n     <use style=\"fill:#4c72b0;stroke:#4c72b0;\" x=\"213.239226\" xlink:href=\"#md6f99c4466\" y=\"58.277566\"/>\n     <use style=\"fill:#4c72b0;stroke:#4c72b0;\" x=\"283.365653\" xlink:href=\"#md6f99c4466\" y=\"100.605663\"/>\n     <use style=\"fill:#4c72b0;stroke:#4c72b0;\" x=\"204.859084\" xlink:href=\"#md6f99c4466\" y=\"48.560852\"/>\n     <use style=\"fill:#4c72b0;stroke:#4c72b0;\" x=\"180.307942\" xlink:href=\"#md6f99c4466\" y=\"37.107713\"/>\n     <use style=\"fill:#4c72b0;stroke:#4c72b0;\" x=\"330.660407\" xlink:href=\"#md6f99c4466\" y=\"123.638462\"/>\n     <use style=\"fill:#4c72b0;stroke:#4c72b0;\" x=\"193.696658\" xlink:href=\"#md6f99c4466\" y=\"45.733764\"/>\n     <use style=\"fill:#4c72b0;stroke:#4c72b0;\" x=\"194.439317\" xlink:href=\"#md6f99c4466\" y=\"46.052624\"/>\n     <use style=\"fill:#4c72b0;stroke:#4c72b0;\" x=\"245.030879\" xlink:href=\"#md6f99c4466\" y=\"74.275391\"/>\n     <use style=\"fill:#4c72b0;stroke:#4c72b0;\" x=\"212.649227\" xlink:href=\"#md6f99c4466\" y=\"58.11783\"/>\n     <use style=\"fill:#4c72b0;stroke:#4c72b0;\" x=\"191.079651\" xlink:href=\"#md6f99c4466\" y=\"44.334214\"/>\n     <use style=\"fill:#4c72b0;stroke:#4c72b0;\" x=\"238.729454\" xlink:href=\"#md6f99c4466\" y=\"74.17665\"/>\n     <use style=\"fill:#4c72b0;stroke:#4c72b0;\" x=\"312.321665\" xlink:href=\"#md6f99c4466\" y=\"112.663869\"/>\n     <use style=\"fill:#4c72b0;stroke:#4c72b0;\" x=\"207.072989\" xlink:href=\"#md6f99c4466\" y=\"52.117812\"/>\n     <use style=\"fill:#4c72b0;stroke:#4c72b0;\" x=\"281.6039\" xlink:href=\"#md6f99c4466\" y=\"92.555307\"/>\n     <use style=\"fill:#4c72b0;stroke:#4c72b0;\" x=\"180.38397\" xlink:href=\"#md6f99c4466\" y=\"36.380488\"/>\n     <use style=\"fill:#4c72b0;stroke:#4c72b0;\" x=\"177.773221\" xlink:href=\"#md6f99c4466\" y=\"35.713312\"/>\n     <use style=\"fill:#4c72b0;stroke:#4c72b0;\" x=\"265.698316\" xlink:href=\"#md6f99c4466\" y=\"86.633331\"/>\n     <use style=\"fill:#4c72b0;stroke:#4c72b0;\" x=\"209.911297\" xlink:href=\"#md6f99c4466\" y=\"54.810335\"/>\n     <use style=\"fill:#4c72b0;stroke:#4c72b0;\" x=\"182.592275\" xlink:href=\"#md6f99c4466\" y=\"37.42505\"/>\n     <use style=\"fill:#4c72b0;stroke:#4c72b0;\" x=\"194.430069\" xlink:href=\"#md6f99c4466\" y=\"45.388804\"/>\n     <use style=\"fill:#4c72b0;stroke:#4c72b0;\" x=\"274.235002\" xlink:href=\"#md6f99c4466\" y=\"91.099334\"/>\n     <use style=\"fill:#4c72b0;stroke:#4c72b0;\" x=\"184.913946\" xlink:href=\"#md6f99c4466\" y=\"42.1796\"/>\n     <use style=\"fill:#4c72b0;stroke:#4c72b0;\" x=\"234.204986\" xlink:href=\"#md6f99c4466\" y=\"72.771698\"/>\n     <use style=\"fill:#4c72b0;stroke:#4c72b0;\" x=\"198.631586\" xlink:href=\"#md6f99c4466\" y=\"46.584846\"/>\n     <use style=\"fill:#4c72b0;stroke:#4c72b0;\" x=\"193.641418\" xlink:href=\"#md6f99c4466\" y=\"44.930622\"/>\n     <use style=\"fill:#4c72b0;stroke:#4c72b0;\" x=\"203.115832\" xlink:href=\"#md6f99c4466\" y=\"53.048245\"/>\n     <use style=\"fill:#4c72b0;stroke:#4c72b0;\" x=\"249.775012\" xlink:href=\"#md6f99c4466\" y=\"76.031237\"/>\n     <use style=\"fill:#4c72b0;stroke:#4c72b0;\" x=\"276.853513\" xlink:href=\"#md6f99c4466\" y=\"93.03463\"/>\n     <use style=\"fill:#4c72b0;stroke:#4c72b0;\" x=\"265.541\" xlink:href=\"#md6f99c4466\" y=\"88.80317\"/>\n     <use style=\"fill:#4c72b0;stroke:#4c72b0;\" x=\"178.119136\" xlink:href=\"#md6f99c4466\" y=\"39.064342\"/>\n     <use style=\"fill:#4c72b0;stroke:#4c72b0;\" x=\"226.455462\" xlink:href=\"#md6f99c4466\" y=\"67.10823\"/>\n     <use style=\"fill:#4c72b0;stroke:#4c72b0;\" x=\"251.739825\" xlink:href=\"#md6f99c4466\" y=\"81.804175\"/>\n     <use style=\"fill:#4c72b0;stroke:#4c72b0;\" x=\"203.415064\" xlink:href=\"#md6f99c4466\" y=\"53.386346\"/>\n     <use style=\"fill:#4c72b0;stroke:#4c72b0;\" x=\"239.191579\" xlink:href=\"#md6f99c4466\" y=\"73.377719\"/>\n     <use style=\"fill:#4c72b0;stroke:#4c72b0;\" x=\"204.08758\" xlink:href=\"#md6f99c4466\" y=\"51.456663\"/>\n     <use style=\"fill:#4c72b0;stroke:#4c72b0;\" x=\"238.367341\" xlink:href=\"#md6f99c4466\" y=\"72.865899\"/>\n     <use style=\"fill:#4c72b0;stroke:#4c72b0;\" x=\"240.513383\" xlink:href=\"#md6f99c4466\" y=\"72.852064\"/>\n     <use style=\"fill:#4c72b0;stroke:#4c72b0;\" x=\"209.165677\" xlink:href=\"#md6f99c4466\" y=\"55.807356\"/>\n     <use style=\"fill:#4c72b0;stroke:#4c72b0;\" x=\"232.403279\" xlink:href=\"#md6f99c4466\" y=\"68.191588\"/>\n     <use style=\"fill:#4c72b0;stroke:#4c72b0;\" x=\"319.071217\" xlink:href=\"#md6f99c4466\" y=\"115.951934\"/>\n     <use style=\"fill:#4c72b0;stroke:#4c72b0;\" x=\"254.593732\" xlink:href=\"#md6f99c4466\" y=\"80.482832\"/>\n     <use style=\"fill:#4c72b0;stroke:#4c72b0;\" x=\"192.152752\" xlink:href=\"#md6f99c4466\" y=\"44.52051\"/>\n     <use style=\"fill:#4c72b0;stroke:#4c72b0;\" x=\"270.13131\" xlink:href=\"#md6f99c4466\" y=\"88.752363\"/>\n     <use style=\"fill:#4c72b0;stroke:#4c72b0;\" x=\"209.384666\" xlink:href=\"#md6f99c4466\" y=\"57.179434\"/>\n     <use style=\"fill:#4c72b0;stroke:#4c72b0;\" x=\"216.975644\" xlink:href=\"#md6f99c4466\" y=\"60.103212\"/>\n     <use style=\"fill:#4c72b0;stroke:#4c72b0;\" x=\"211.749951\" xlink:href=\"#md6f99c4466\" y=\"56.877296\"/>\n     <use style=\"fill:#4c72b0;stroke:#4c72b0;\" x=\"213.155613\" xlink:href=\"#md6f99c4466\" y=\"55.702995\"/>\n     <use style=\"fill:#4c72b0;stroke:#4c72b0;\" x=\"246.746889\" xlink:href=\"#md6f99c4466\" y=\"76.311953\"/>\n     <use style=\"fill:#4c72b0;stroke:#4c72b0;\" x=\"204.236222\" xlink:href=\"#md6f99c4466\" y=\"50.585293\"/>\n     <use style=\"fill:#4c72b0;stroke:#4c72b0;\" x=\"276.091729\" xlink:href=\"#md6f99c4466\" y=\"95.62177\"/>\n     <use style=\"fill:#4c72b0;stroke:#4c72b0;\" x=\"216.262316\" xlink:href=\"#md6f99c4466\" y=\"57.371884\"/>\n     <use style=\"fill:#4c72b0;stroke:#4c72b0;\" x=\"186.399022\" xlink:href=\"#md6f99c4466\" y=\"42.110985\"/>\n     <use style=\"fill:#4c72b0;stroke:#4c72b0;\" x=\"245.807111\" xlink:href=\"#md6f99c4466\" y=\"76.105116\"/>\n     <use style=\"fill:#4c72b0;stroke:#4c72b0;\" x=\"261.288884\" xlink:href=\"#md6f99c4466\" y=\"84.883041\"/>\n     <use style=\"fill:#4c72b0;stroke:#4c72b0;\" x=\"217.829862\" xlink:href=\"#md6f99c4466\" y=\"58.656426\"/>\n     <use style=\"fill:#4c72b0;stroke:#4c72b0;\" x=\"261.775794\" xlink:href=\"#md6f99c4466\" y=\"86.564606\"/>\n     <use style=\"fill:#4c72b0;stroke:#4c72b0;\" x=\"212.192538\" xlink:href=\"#md6f99c4466\" y=\"56.162516\"/>\n     <use style=\"fill:#4c72b0;stroke:#4c72b0;\" x=\"188.468752\" xlink:href=\"#md6f99c4466\" y=\"43.59061\"/>\n     <use style=\"fill:#4c72b0;stroke:#4c72b0;\" x=\"189.806702\" xlink:href=\"#md6f99c4466\" y=\"41.85601\"/>\n     <use style=\"fill:#4c72b0;stroke:#4c72b0;\" x=\"174.058852\" xlink:href=\"#md6f99c4466\" y=\"36.018692\"/>\n     <use style=\"fill:#4c72b0;stroke:#4c72b0;\" x=\"268.429001\" xlink:href=\"#md6f99c4466\" y=\"89.57448\"/>\n     <use style=\"fill:#4c72b0;stroke:#4c72b0;\" x=\"293.21326\" xlink:href=\"#md6f99c4466\" y=\"104.33191\"/>\n     <use style=\"fill:#4c72b0;stroke:#4c72b0;\" x=\"222.868624\" xlink:href=\"#md6f99c4466\" y=\"63.477459\"/>\n     <use style=\"fill:#4c72b0;stroke:#4c72b0;\" x=\"241.316536\" xlink:href=\"#md6f99c4466\" y=\"73.565468\"/>\n     <use style=\"fill:#4c72b0;stroke:#4c72b0;\" x=\"237.326081\" xlink:href=\"#md6f99c4466\" y=\"71.732696\"/>\n     <use style=\"fill:#4c72b0;stroke:#4c72b0;\" x=\"153.938421\" xlink:href=\"#md6f99c4466\" y=\"21.436606\"/>\n     <use style=\"fill:#4c72b0;stroke:#4c72b0;\" x=\"219.996577\" xlink:href=\"#md6f99c4466\" y=\"59.634093\"/>\n     <use style=\"fill:#4c72b0;stroke:#4c72b0;\" x=\"218.490218\" xlink:href=\"#md6f99c4466\" y=\"58.039245\"/>\n     <use style=\"fill:#4c72b0;stroke:#4c72b0;\" x=\"251.965679\" xlink:href=\"#md6f99c4466\" y=\"78.349284\"/>\n     <use style=\"fill:#4c72b0;stroke:#4c72b0;\" x=\"224.776001\" xlink:href=\"#md6f99c4466\" y=\"63.213996\"/>\n     <use style=\"fill:#4c72b0;stroke:#4c72b0;\" x=\"259.800084\" xlink:href=\"#md6f99c4466\" y=\"88.078171\"/>\n     <use style=\"fill:#4c72b0;stroke:#4c72b0;\" x=\"278.894281\" xlink:href=\"#md6f99c4466\" y=\"96.789628\"/>\n     <use style=\"fill:#4c72b0;stroke:#4c72b0;\" x=\"187.23342\" xlink:href=\"#md6f99c4466\" y=\"45.762782\"/>\n     <use style=\"fill:#4c72b0;stroke:#4c72b0;\" x=\"267.427198\" xlink:href=\"#md6f99c4466\" y=\"88.666572\"/>\n     <use style=\"fill:#4c72b0;stroke:#4c72b0;\" x=\"283.976337\" xlink:href=\"#md6f99c4466\" y=\"98.962887\"/>\n     <use style=\"fill:#4c72b0;stroke:#4c72b0;\" x=\"259.033938\" xlink:href=\"#md6f99c4466\" y=\"82.970531\"/>\n     <use style=\"fill:#4c72b0;stroke:#4c72b0;\" x=\"258.190991\" xlink:href=\"#md6f99c4466\" y=\"85.598521\"/>\n     <use style=\"fill:#4c72b0;stroke:#4c72b0;\" x=\"299.573592\" xlink:href=\"#md6f99c4466\" y=\"109.611901\"/>\n     <use style=\"fill:#4c72b0;stroke:#4c72b0;\" x=\"183.626437\" xlink:href=\"#md6f99c4466\" y=\"42.197564\"/>\n     <use style=\"fill:#4c72b0;stroke:#4c72b0;\" x=\"326.740183\" xlink:href=\"#md6f99c4466\" y=\"124.802387\"/>\n     <use style=\"fill:#4c72b0;stroke:#4c72b0;\" x=\"245.392216\" xlink:href=\"#md6f99c4466\" y=\"78.382645\"/>\n     <use style=\"fill:#4c72b0;stroke:#4c72b0;\" x=\"261.856985\" xlink:href=\"#md6f99c4466\" y=\"86.058911\"/>\n     <use style=\"fill:#4c72b0;stroke:#4c72b0;\" x=\"306.127932\" xlink:href=\"#md6f99c4466\" y=\"112.145812\"/>\n     <use style=\"fill:#4c72b0;stroke:#4c72b0;\" x=\"176.297525\" xlink:href=\"#md6f99c4466\" y=\"35.501746\"/>\n     <use style=\"fill:#4c72b0;stroke:#4c72b0;\" x=\"286.443241\" xlink:href=\"#md6f99c4466\" y=\"99.059848\"/>\n     <use style=\"fill:#4c72b0;stroke:#4c72b0;\" x=\"301.264226\" xlink:href=\"#md6f99c4466\" y=\"107.959148\"/>\n     <use style=\"fill:#4c72b0;stroke:#4c72b0;\" x=\"151.376909\" xlink:href=\"#md6f99c4466\" y=\"24.546473\"/>\n     <use style=\"fill:#4c72b0;stroke:#4c72b0;\" x=\"263.021224\" xlink:href=\"#md6f99c4466\" y=\"86.100598\"/>\n     <use style=\"fill:#4c72b0;stroke:#4c72b0;\" x=\"153.875434\" xlink:href=\"#md6f99c4466\" y=\"25.090402\"/>\n     <use style=\"fill:#4c72b0;stroke:#4c72b0;\" x=\"252.658003\" xlink:href=\"#md6f99c4466\" y=\"81.342432\"/>\n     <use style=\"fill:#4c72b0;stroke:#4c72b0;\" x=\"257.486904\" xlink:href=\"#md6f99c4466\" y=\"80.110741\"/>\n     <use style=\"fill:#4c72b0;stroke:#4c72b0;\" x=\"258.280752\" xlink:href=\"#md6f99c4466\" y=\"85.588134\"/>\n     <use style=\"fill:#4c72b0;stroke:#4c72b0;\" x=\"249.93302\" xlink:href=\"#md6f99c4466\" y=\"78.304265\"/>\n     <use style=\"fill:#4c72b0;stroke:#4c72b0;\" x=\"314.057466\" xlink:href=\"#md6f99c4466\" y=\"114.84069\"/>\n     <use style=\"fill:#4c72b0;stroke:#4c72b0;\" x=\"235.294936\" xlink:href=\"#md6f99c4466\" y=\"68.849136\"/>\n     <use style=\"fill:#4c72b0;stroke:#4c72b0;\" x=\"261.658477\" xlink:href=\"#md6f99c4466\" y=\"83.047654\"/>\n     <use style=\"fill:#4c72b0;stroke:#4c72b0;\" x=\"230.115718\" xlink:href=\"#md6f99c4466\" y=\"65.40761\"/>\n     <use style=\"fill:#4c72b0;stroke:#4c72b0;\" x=\"209.17529\" xlink:href=\"#md6f99c4466\" y=\"56.788978\"/>\n     <use style=\"fill:#4c72b0;stroke:#4c72b0;\" x=\"223.834102\" xlink:href=\"#md6f99c4466\" y=\"65.465094\"/>\n     <use style=\"fill:#4c72b0;stroke:#4c72b0;\" x=\"197.83684\" xlink:href=\"#md6f99c4466\" y=\"48.958209\"/>\n     <use style=\"fill:#4c72b0;stroke:#4c72b0;\" x=\"239.654133\" xlink:href=\"#md6f99c4466\" y=\"71.954164\"/>\n     <use style=\"fill:#4c72b0;stroke:#4c72b0;\" x=\"216.15671\" xlink:href=\"#md6f99c4466\" y=\"58.905261\"/>\n     <use style=\"fill:#4c72b0;stroke:#4c72b0;\" x=\"224.700398\" xlink:href=\"#md6f99c4466\" y=\"62.438125\"/>\n     <use style=\"fill:#4c72b0;stroke:#4c72b0;\" x=\"207.567756\" xlink:href=\"#md6f99c4466\" y=\"55.200171\"/>\n     <use style=\"fill:#4c72b0;stroke:#4c72b0;\" x=\"245.116525\" xlink:href=\"#md6f99c4466\" y=\"75.508199\"/>\n     <use style=\"fill:#4c72b0;stroke:#4c72b0;\" x=\"197.838221\" xlink:href=\"#md6f99c4466\" y=\"48.828856\"/>\n     <use style=\"fill:#4c72b0;stroke:#4c72b0;\" x=\"241.818909\" xlink:href=\"#md6f99c4466\" y=\"75.860028\"/>\n     <use style=\"fill:#4c72b0;stroke:#4c72b0;\" x=\"206.139611\" xlink:href=\"#md6f99c4466\" y=\"57.324821\"/>\n     <use style=\"fill:#4c72b0;stroke:#4c72b0;\" x=\"240.126326\" xlink:href=\"#md6f99c4466\" y=\"73.385933\"/>\n     <use style=\"fill:#4c72b0;stroke:#4c72b0;\" x=\"184.997436\" xlink:href=\"#md6f99c4466\" y=\"37.648503\"/>\n     <use style=\"fill:#4c72b0;stroke:#4c72b0;\" x=\"184.781292\" xlink:href=\"#md6f99c4466\" y=\"42.227264\"/>\n     <use style=\"fill:#4c72b0;stroke:#4c72b0;\" x=\"234.139169\" xlink:href=\"#md6f99c4466\" y=\"68.479708\"/>\n     <use style=\"fill:#4c72b0;stroke:#4c72b0;\" x=\"266.169522\" xlink:href=\"#md6f99c4466\" y=\"89.947217\"/>\n     <use style=\"fill:#4c72b0;stroke:#4c72b0;\" x=\"265.363668\" xlink:href=\"#md6f99c4466\" y=\"85.756913\"/>\n     <use style=\"fill:#4c72b0;stroke:#4c72b0;\" x=\"198.464761\" xlink:href=\"#md6f99c4466\" y=\"47.442621\"/>\n     <use style=\"fill:#4c72b0;stroke:#4c72b0;\" x=\"208.371718\" xlink:href=\"#md6f99c4466\" y=\"53.030109\"/>\n     <use style=\"fill:#4c72b0;stroke:#4c72b0;\" x=\"212.320724\" xlink:href=\"#md6f99c4466\" y=\"58.957753\"/>\n     <use style=\"fill:#4c72b0;stroke:#4c72b0;\" x=\"228.96952\" xlink:href=\"#md6f99c4466\" y=\"65.920917\"/>\n     <use style=\"fill:#4c72b0;stroke:#4c72b0;\" x=\"296.675979\" xlink:href=\"#md6f99c4466\" y=\"104.358965\"/>\n     <use style=\"fill:#4c72b0;stroke:#4c72b0;\" x=\"246.71061\" xlink:href=\"#md6f99c4466\" y=\"76.217908\"/>\n     <use style=\"fill:#4c72b0;stroke:#4c72b0;\" x=\"200.000894\" xlink:href=\"#md6f99c4466\" y=\"48.190937\"/>\n     <use style=\"fill:#4c72b0;stroke:#4c72b0;\" x=\"211.746219\" xlink:href=\"#md6f99c4466\" y=\"56.38697\"/>\n     <use style=\"fill:#4c72b0;stroke:#4c72b0;\" x=\"233.420427\" xlink:href=\"#md6f99c4466\" y=\"68.97126\"/>\n     <use style=\"fill:#4c72b0;stroke:#4c72b0;\" x=\"231.382675\" xlink:href=\"#md6f99c4466\" y=\"67.987687\"/>\n     <use style=\"fill:#4c72b0;stroke:#4c72b0;\" x=\"263.224035\" xlink:href=\"#md6f99c4466\" y=\"86.42859\"/>\n     <use style=\"fill:#4c72b0;stroke:#4c72b0;\" x=\"164.585898\" xlink:href=\"#md6f99c4466\" y=\"30.525775\"/>\n     <use style=\"fill:#4c72b0;stroke:#4c72b0;\" x=\"177.167188\" xlink:href=\"#md6f99c4466\" y=\"37.175365\"/>\n     <use style=\"fill:#4c72b0;stroke:#4c72b0;\" x=\"211.191741\" xlink:href=\"#md6f99c4466\" y=\"54.765019\"/>\n     <use style=\"fill:#4c72b0;stroke:#4c72b0;\" x=\"255.536848\" xlink:href=\"#md6f99c4466\" y=\"81.025295\"/>\n     <use style=\"fill:#4c72b0;stroke:#4c72b0;\" x=\"287.971743\" xlink:href=\"#md6f99c4466\" y=\"100.749721\"/>\n     <use style=\"fill:#4c72b0;stroke:#4c72b0;\" x=\"235.102768\" xlink:href=\"#md6f99c4466\" y=\"68.893886\"/>\n     <use style=\"fill:#4c72b0;stroke:#4c72b0;\" x=\"243.197479\" xlink:href=\"#md6f99c4466\" y=\"73.57211\"/>\n     <use style=\"fill:#4c72b0;stroke:#4c72b0;\" x=\"215.160916\" xlink:href=\"#md6f99c4466\" y=\"58.972049\"/>\n     <use style=\"fill:#4c72b0;stroke:#4c72b0;\" x=\"233.794542\" xlink:href=\"#md6f99c4466\" y=\"71.297172\"/>\n     <use style=\"fill:#4c72b0;stroke:#4c72b0;\" x=\"239.952518\" xlink:href=\"#md6f99c4466\" y=\"73.87474\"/>\n     <use style=\"fill:#4c72b0;stroke:#4c72b0;\" x=\"270.585106\" xlink:href=\"#md6f99c4466\" y=\"91.678128\"/>\n     <use style=\"fill:#4c72b0;stroke:#4c72b0;\" x=\"214.144518\" xlink:href=\"#md6f99c4466\" y=\"56.089561\"/>\n     <use style=\"fill:#4c72b0;stroke:#4c72b0;\" x=\"261.212262\" xlink:href=\"#md6f99c4466\" y=\"82.19909\"/>\n     <use style=\"fill:#4c72b0;stroke:#4c72b0;\" x=\"215.970191\" xlink:href=\"#md6f99c4466\" y=\"57.336782\"/>\n     <use style=\"fill:#4c72b0;stroke:#4c72b0;\" x=\"245.436732\" xlink:href=\"#md6f99c4466\" y=\"74.102782\"/>\n     <use style=\"fill:#4c72b0;stroke:#4c72b0;\" x=\"240.061293\" xlink:href=\"#md6f99c4466\" y=\"73.381864\"/>\n     <use style=\"fill:#4c72b0;stroke:#4c72b0;\" x=\"223.320555\" xlink:href=\"#md6f99c4466\" y=\"61.530646\"/>\n     <use style=\"fill:#4c72b0;stroke:#4c72b0;\" x=\"268.371848\" xlink:href=\"#md6f99c4466\" y=\"86.842618\"/>\n     <use style=\"fill:#4c72b0;stroke:#4c72b0;\" x=\"204.206505\" xlink:href=\"#md6f99c4466\" y=\"53.114725\"/>\n     <use style=\"fill:#4c72b0;stroke:#4c72b0;\" x=\"168.141073\" xlink:href=\"#md6f99c4466\" y=\"31.228424\"/>\n     <use style=\"fill:#4c72b0;stroke:#4c72b0;\" x=\"246.269885\" xlink:href=\"#md6f99c4466\" y=\"75.197667\"/>\n     <use style=\"fill:#4c72b0;stroke:#4c72b0;\" x=\"182.556916\" xlink:href=\"#md6f99c4466\" y=\"38.247735\"/>\n     <use style=\"fill:#4c72b0;stroke:#4c72b0;\" x=\"157.543834\" xlink:href=\"#md6f99c4466\" y=\"28.423405\"/>\n     <use style=\"fill:#4c72b0;stroke:#4c72b0;\" x=\"245.373774\" xlink:href=\"#md6f99c4466\" y=\"74.146644\"/>\n     <use style=\"fill:#4c72b0;stroke:#4c72b0;\" x=\"255.826756\" xlink:href=\"#md6f99c4466\" y=\"78.665417\"/>\n     <use style=\"fill:#4c72b0;stroke:#4c72b0;\" x=\"232.914273\" xlink:href=\"#md6f99c4466\" y=\"72.12593\"/>\n     <use style=\"fill:#4c72b0;stroke:#4c72b0;\" x=\"216.415717\" xlink:href=\"#md6f99c4466\" y=\"58.001691\"/>\n     <use style=\"fill:#4c72b0;stroke:#4c72b0;\" x=\"198.592452\" xlink:href=\"#md6f99c4466\" y=\"48.110895\"/>\n     <use style=\"fill:#4c72b0;stroke:#4c72b0;\" x=\"202.99363\" xlink:href=\"#md6f99c4466\" y=\"53.541462\"/>\n     <use style=\"fill:#4c72b0;stroke:#4c72b0;\" x=\"175.770188\" xlink:href=\"#md6f99c4466\" y=\"36.973307\"/>\n     <use style=\"fill:#4c72b0;stroke:#4c72b0;\" x=\"210.037586\" xlink:href=\"#md6f99c4466\" y=\"53.721748\"/>\n     <use style=\"fill:#4c72b0;stroke:#4c72b0;\" x=\"289.5656\" xlink:href=\"#md6f99c4466\" y=\"101.947744\"/>\n     <use style=\"fill:#4c72b0;stroke:#4c72b0;\" x=\"240.881843\" xlink:href=\"#md6f99c4466\" y=\"76.011761\"/>\n     <use style=\"fill:#4c72b0;stroke:#4c72b0;\" x=\"159.451656\" xlink:href=\"#md6f99c4466\" y=\"24.014178\"/>\n     <use style=\"fill:#4c72b0;stroke:#4c72b0;\" x=\"183.613152\" xlink:href=\"#md6f99c4466\" y=\"40.20486\"/>\n     <use style=\"fill:#4c72b0;stroke:#4c72b0;\" x=\"201.738425\" xlink:href=\"#md6f99c4466\" y=\"50.306435\"/>\n     <use style=\"fill:#4c72b0;stroke:#4c72b0;\" x=\"251.18696\" xlink:href=\"#md6f99c4466\" y=\"80.43348\"/>\n     <use style=\"fill:#4c72b0;stroke:#4c72b0;\" x=\"319.225034\" xlink:href=\"#md6f99c4466\" y=\"118.535652\"/>\n     <use style=\"fill:#4c72b0;stroke:#4c72b0;\" x=\"242.811447\" xlink:href=\"#md6f99c4466\" y=\"75.022023\"/>\n     <use style=\"fill:#4c72b0;stroke:#4c72b0;\" x=\"265.866548\" xlink:href=\"#md6f99c4466\" y=\"85.833187\"/>\n     <use style=\"fill:#4c72b0;stroke:#4c72b0;\" x=\"234.383085\" xlink:href=\"#md6f99c4466\" y=\"68.177717\"/>\n     <use style=\"fill:#4c72b0;stroke:#4c72b0;\" x=\"263.48902\" xlink:href=\"#md6f99c4466\" y=\"88.5861\"/>\n     <use style=\"fill:#4c72b0;stroke:#4c72b0;\" x=\"266.112206\" xlink:href=\"#md6f99c4466\" y=\"85.491145\"/>\n     <use style=\"fill:#4c72b0;stroke:#4c72b0;\" x=\"266.107369\" xlink:href=\"#md6f99c4466\" y=\"89.592592\"/>\n     <use style=\"fill:#4c72b0;stroke:#4c72b0;\" x=\"267.057417\" xlink:href=\"#md6f99c4466\" y=\"88.142592\"/>\n     <use style=\"fill:#4c72b0;stroke:#4c72b0;\" x=\"198.398454\" xlink:href=\"#md6f99c4466\" y=\"50.72054\"/>\n     <use style=\"fill:#4c72b0;stroke:#4c72b0;\" x=\"216.544644\" xlink:href=\"#md6f99c4466\" y=\"57.601244\"/>\n     <use style=\"fill:#4c72b0;stroke:#4c72b0;\" x=\"253.576588\" xlink:href=\"#md6f99c4466\" y=\"77.40215\"/>\n     <use style=\"fill:#4c72b0;stroke:#4c72b0;\" x=\"250.710491\" xlink:href=\"#md6f99c4466\" y=\"78.282591\"/>\n     <use style=\"fill:#4c72b0;stroke:#4c72b0;\" x=\"213.411956\" xlink:href=\"#md6f99c4466\" y=\"56.204668\"/>\n     <use style=\"fill:#4c72b0;stroke:#4c72b0;\" x=\"150.104012\" xlink:href=\"#md6f99c4466\" y=\"18.768956\"/>\n     <use style=\"fill:#4c72b0;stroke:#4c72b0;\" x=\"216.40566\" xlink:href=\"#md6f99c4466\" y=\"59.795798\"/>\n     <use style=\"fill:#4c72b0;stroke:#4c72b0;\" x=\"243.994271\" xlink:href=\"#md6f99c4466\" y=\"76.13326\"/>\n     <use style=\"fill:#4c72b0;stroke:#4c72b0;\" x=\"197.041441\" xlink:href=\"#md6f99c4466\" y=\"46.920319\"/>\n     <use style=\"fill:#4c72b0;stroke:#4c72b0;\" x=\"225.106608\" xlink:href=\"#md6f99c4466\" y=\"63.379641\"/>\n     <use style=\"fill:#4c72b0;stroke:#4c72b0;\" x=\"197.139321\" xlink:href=\"#md6f99c4466\" y=\"45.160703\"/>\n     <use style=\"fill:#4c72b0;stroke:#4c72b0;\" x=\"165.041074\" xlink:href=\"#md6f99c4466\" y=\"26.806107\"/>\n     <use style=\"fill:#4c72b0;stroke:#4c72b0;\" x=\"281.84853\" xlink:href=\"#md6f99c4466\" y=\"97.55237\"/>\n     <use style=\"fill:#4c72b0;stroke:#4c72b0;\" x=\"296.744044\" xlink:href=\"#md6f99c4466\" y=\"104.309921\"/>\n     <use style=\"fill:#4c72b0;stroke:#4c72b0;\" x=\"275.16434\" xlink:href=\"#md6f99c4466\" y=\"95.118457\"/>\n     <use style=\"fill:#4c72b0;stroke:#4c72b0;\" x=\"218.564134\" xlink:href=\"#md6f99c4466\" y=\"62.010528\"/>\n     <use style=\"fill:#4c72b0;stroke:#4c72b0;\" x=\"311.117807\" xlink:href=\"#md6f99c4466\" y=\"113.342777\"/>\n     <use style=\"fill:#4c72b0;stroke:#4c72b0;\" x=\"181.506642\" xlink:href=\"#md6f99c4466\" y=\"37.570051\"/>\n     <use style=\"fill:#4c72b0;stroke:#4c72b0;\" x=\"214.798606\" xlink:href=\"#md6f99c4466\" y=\"57.966485\"/>\n     <use style=\"fill:#4c72b0;stroke:#4c72b0;\" x=\"250.526711\" xlink:href=\"#md6f99c4466\" y=\"78.006746\"/>\n     <use style=\"fill:#4c72b0;stroke:#4c72b0;\" x=\"205.433968\" xlink:href=\"#md6f99c4466\" y=\"52.244225\"/>\n     <use style=\"fill:#4c72b0;stroke:#4c72b0;\" x=\"308.503421\" xlink:href=\"#md6f99c4466\" y=\"112.514955\"/>\n     <use style=\"fill:#4c72b0;stroke:#4c72b0;\" x=\"180.605447\" xlink:href=\"#md6f99c4466\" y=\"40.289939\"/>\n     <use style=\"fill:#4c72b0;stroke:#4c72b0;\" x=\"235.661203\" xlink:href=\"#md6f99c4466\" y=\"70.427051\"/>\n     <use style=\"fill:#4c72b0;stroke:#4c72b0;\" x=\"210.384615\" xlink:href=\"#md6f99c4466\" y=\"56.023996\"/>\n     <use style=\"fill:#4c72b0;stroke:#4c72b0;\" x=\"258.010203\" xlink:href=\"#md6f99c4466\" y=\"83.648008\"/>\n     <use style=\"fill:#4c72b0;stroke:#4c72b0;\" x=\"205.754534\" xlink:href=\"#md6f99c4466\" y=\"52.509905\"/>\n     <use style=\"fill:#4c72b0;stroke:#4c72b0;\" x=\"331.910515\" xlink:href=\"#md6f99c4466\" y=\"126.38102\"/>\n     <use style=\"fill:#4c72b0;stroke:#4c72b0;\" x=\"157.496999\" xlink:href=\"#md6f99c4466\" y=\"24.693633\"/>\n     <use style=\"fill:#4c72b0;stroke:#4c72b0;\" x=\"220.410033\" xlink:href=\"#md6f99c4466\" y=\"59.429052\"/>\n     <use style=\"fill:#4c72b0;stroke:#4c72b0;\" x=\"222.675526\" xlink:href=\"#md6f99c4466\" y=\"61.695495\"/>\n     <use style=\"fill:#4c72b0;stroke:#4c72b0;\" x=\"264.219675\" xlink:href=\"#md6f99c4466\" y=\"87.642581\"/>\n     <use style=\"fill:#4c72b0;stroke:#4c72b0;\" x=\"226.679666\" xlink:href=\"#md6f99c4466\" y=\"68.258041\"/>\n     <use style=\"fill:#4c72b0;stroke:#4c72b0;\" x=\"208.113162\" xlink:href=\"#md6f99c4466\" y=\"53.698037\"/>\n     <use style=\"fill:#4c72b0;stroke:#4c72b0;\" x=\"203.947609\" xlink:href=\"#md6f99c4466\" y=\"52.3476\"/>\n     <use style=\"fill:#4c72b0;stroke:#4c72b0;\" x=\"223.541231\" xlink:href=\"#md6f99c4466\" y=\"61.246883\"/>\n     <use style=\"fill:#4c72b0;stroke:#4c72b0;\" x=\"211.322518\" xlink:href=\"#md6f99c4466\" y=\"56.416298\"/>\n     <use style=\"fill:#4c72b0;stroke:#4c72b0;\" x=\"259.431172\" xlink:href=\"#md6f99c4466\" y=\"81.057501\"/>\n     <use style=\"fill:#4c72b0;stroke:#4c72b0;\" x=\"280.069611\" xlink:href=\"#md6f99c4466\" y=\"93.989059\"/>\n     <use style=\"fill:#4c72b0;stroke:#4c72b0;\" x=\"264.419271\" xlink:href=\"#md6f99c4466\" y=\"87.041342\"/>\n     <use style=\"fill:#4c72b0;stroke:#4c72b0;\" x=\"244.456403\" xlink:href=\"#md6f99c4466\" y=\"75.720097\"/>\n     <use style=\"fill:#4c72b0;stroke:#4c72b0;\" x=\"269.750098\" xlink:href=\"#md6f99c4466\" y=\"90.311506\"/>\n     <use style=\"fill:#4c72b0;stroke:#4c72b0;\" x=\"258.679771\" xlink:href=\"#md6f99c4466\" y=\"85.739807\"/>\n     <use style=\"fill:#4c72b0;stroke:#4c72b0;\" x=\"330.568465\" xlink:href=\"#md6f99c4466\" y=\"125.992192\"/>\n     <use style=\"fill:#4c72b0;stroke:#4c72b0;\" x=\"231.099839\" xlink:href=\"#md6f99c4466\" y=\"69.626169\"/>\n     <use style=\"fill:#4c72b0;stroke:#4c72b0;\" x=\"200.755198\" xlink:href=\"#md6f99c4466\" y=\"50.078014\"/>\n     <use style=\"fill:#4c72b0;stroke:#4c72b0;\" x=\"226.899788\" xlink:href=\"#md6f99c4466\" y=\"66.295287\"/>\n     <use style=\"fill:#4c72b0;stroke:#4c72b0;\" x=\"208.488563\" xlink:href=\"#md6f99c4466\" y=\"54.267923\"/>\n     <use style=\"fill:#4c72b0;stroke:#4c72b0;\" x=\"223.99854\" xlink:href=\"#md6f99c4466\" y=\"63.103465\"/>\n     <use style=\"fill:#4c72b0;stroke:#4c72b0;\" x=\"233.288969\" xlink:href=\"#md6f99c4466\" y=\"67.656375\"/>\n     <use style=\"fill:#4c72b0;stroke:#4c72b0;\" x=\"184.879845\" xlink:href=\"#md6f99c4466\" y=\"42.346078\"/>\n     <use style=\"fill:#4c72b0;stroke:#4c72b0;\" x=\"280.962186\" xlink:href=\"#md6f99c4466\" y=\"98.769776\"/>\n     <use style=\"fill:#4c72b0;stroke:#4c72b0;\" x=\"234.466682\" xlink:href=\"#md6f99c4466\" y=\"70.814044\"/>\n     <use style=\"fill:#4c72b0;stroke:#4c72b0;\" x=\"175.638759\" xlink:href=\"#md6f99c4466\" y=\"34.651227\"/>\n     <use style=\"fill:#4c72b0;stroke:#4c72b0;\" x=\"195.579157\" xlink:href=\"#md6f99c4466\" y=\"49.620562\"/>\n     <use style=\"fill:#4c72b0;stroke:#4c72b0;\" x=\"225.327623\" xlink:href=\"#md6f99c4466\" y=\"64.809909\"/>\n     <use style=\"fill:#4c72b0;stroke:#4c72b0;\" x=\"223.026655\" xlink:href=\"#md6f99c4466\" y=\"64.242546\"/>\n     <use style=\"fill:#4c72b0;stroke:#4c72b0;\" x=\"293.004851\" xlink:href=\"#md6f99c4466\" y=\"101.347802\"/>\n     <use style=\"fill:#4c72b0;stroke:#4c72b0;\" x=\"220.010866\" xlink:href=\"#md6f99c4466\" y=\"59.603785\"/>\n     <use style=\"fill:#4c72b0;stroke:#4c72b0;\" x=\"213.243295\" xlink:href=\"#md6f99c4466\" y=\"56.748586\"/>\n     <use style=\"fill:#4c72b0;stroke:#4c72b0;\" x=\"226.469421\" xlink:href=\"#md6f99c4466\" y=\"63.254106\"/>\n     <use style=\"fill:#4c72b0;stroke:#4c72b0;\" x=\"177.109345\" xlink:href=\"#md6f99c4466\" y=\"34.790381\"/>\n     <use style=\"fill:#4c72b0;stroke:#4c72b0;\" x=\"171.857164\" xlink:href=\"#md6f99c4466\" y=\"31.368991\"/>\n     <use style=\"fill:#4c72b0;stroke:#4c72b0;\" x=\"273.014763\" xlink:href=\"#md6f99c4466\" y=\"91.673259\"/>\n     <use style=\"fill:#4c72b0;stroke:#4c72b0;\" x=\"301.118633\" xlink:href=\"#md6f99c4466\" y=\"108.461658\"/>\n     <use style=\"fill:#4c72b0;stroke:#4c72b0;\" x=\"242.831428\" xlink:href=\"#md6f99c4466\" y=\"75.216028\"/>\n     <use style=\"fill:#4c72b0;stroke:#4c72b0;\" x=\"246.203067\" xlink:href=\"#md6f99c4466\" y=\"76.164099\"/>\n     <use style=\"fill:#4c72b0;stroke:#4c72b0;\" x=\"263.334862\" xlink:href=\"#md6f99c4466\" y=\"85.894\"/>\n     <use style=\"fill:#4c72b0;stroke:#4c72b0;\" x=\"258.561611\" xlink:href=\"#md6f99c4466\" y=\"87.337677\"/>\n     <use style=\"fill:#4c72b0;stroke:#4c72b0;\" x=\"276.485588\" xlink:href=\"#md6f99c4466\" y=\"92.616868\"/>\n     <use style=\"fill:#4c72b0;stroke:#4c72b0;\" x=\"220.043923\" xlink:href=\"#md6f99c4466\" y=\"58.88677\"/>\n     <use style=\"fill:#4c72b0;stroke:#4c72b0;\" x=\"203.73972\" xlink:href=\"#md6f99c4466\" y=\"52.566637\"/>\n     <use style=\"fill:#4c72b0;stroke:#4c72b0;\" x=\"244.594617\" xlink:href=\"#md6f99c4466\" y=\"74.023179\"/>\n     <use style=\"fill:#4c72b0;stroke:#4c72b0;\" x=\"221.956317\" xlink:href=\"#md6f99c4466\" y=\"60.22953\"/>\n     <use style=\"fill:#4c72b0;stroke:#4c72b0;\" x=\"168.578352\" xlink:href=\"#md6f99c4466\" y=\"32.84394\"/>\n     <use style=\"fill:#4c72b0;stroke:#4c72b0;\" x=\"274.49702\" xlink:href=\"#md6f99c4466\" y=\"91.665334\"/>\n     <use style=\"fill:#4c72b0;stroke:#4c72b0;\" x=\"252.543026\" xlink:href=\"#md6f99c4466\" y=\"78.653728\"/>\n     <use style=\"fill:#4c72b0;stroke:#4c72b0;\" x=\"222.520796\" xlink:href=\"#md6f99c4466\" y=\"63.609594\"/>\n     <use style=\"fill:#4c72b0;stroke:#4c72b0;\" x=\"338.658758\" xlink:href=\"#md6f99c4466\" y=\"130.701271\"/>\n     <use style=\"fill:#4c72b0;stroke:#4c72b0;\" x=\"185.720212\" xlink:href=\"#md6f99c4466\" y=\"41.795062\"/>\n     <use style=\"fill:#4c72b0;stroke:#4c72b0;\" x=\"297.377004\" xlink:href=\"#md6f99c4466\" y=\"110.285128\"/>\n     <use style=\"fill:#4c72b0;stroke:#4c72b0;\" x=\"226.181938\" xlink:href=\"#md6f99c4466\" y=\"66.162912\"/>\n     <use style=\"fill:#4c72b0;stroke:#4c72b0;\" x=\"209.278189\" xlink:href=\"#md6f99c4466\" y=\"55.709709\"/>\n     <use style=\"fill:#4c72b0;stroke:#4c72b0;\" x=\"185.685599\" xlink:href=\"#md6f99c4466\" y=\"40.987183\"/>\n     <use style=\"fill:#4c72b0;stroke:#4c72b0;\" x=\"294.0604\" xlink:href=\"#md6f99c4466\" y=\"103.619803\"/>\n     <use style=\"fill:#4c72b0;stroke:#4c72b0;\" x=\"251.627049\" xlink:href=\"#md6f99c4466\" y=\"77.204535\"/>\n     <use style=\"fill:#4c72b0;stroke:#4c72b0;\" x=\"196.443065\" xlink:href=\"#md6f99c4466\" y=\"47.927072\"/>\n     <use style=\"fill:#4c72b0;stroke:#4c72b0;\" x=\"249.476939\" xlink:href=\"#md6f99c4466\" y=\"76.918958\"/>\n     <use style=\"fill:#4c72b0;stroke:#4c72b0;\" x=\"246.887078\" xlink:href=\"#md6f99c4466\" y=\"76.197871\"/>\n     <use style=\"fill:#4c72b0;stroke:#4c72b0;\" x=\"263.816064\" xlink:href=\"#md6f99c4466\" y=\"84.291669\"/>\n     <use style=\"fill:#4c72b0;stroke:#4c72b0;\" x=\"219.039909\" xlink:href=\"#md6f99c4466\" y=\"60.671967\"/>\n     <use style=\"fill:#4c72b0;stroke:#4c72b0;\" x=\"171.876831\" xlink:href=\"#md6f99c4466\" y=\"30.927876\"/>\n     <use style=\"fill:#4c72b0;stroke:#4c72b0;\" x=\"260.554242\" xlink:href=\"#md6f99c4466\" y=\"82.752986\"/>\n     <use style=\"fill:#4c72b0;stroke:#4c72b0;\" x=\"194.195781\" xlink:href=\"#md6f99c4466\" y=\"47.546787\"/>\n     <use style=\"fill:#4c72b0;stroke:#4c72b0;\" x=\"202.319641\" xlink:href=\"#md6f99c4466\" y=\"50.074405\"/>\n     <use style=\"fill:#4c72b0;stroke:#4c72b0;\" x=\"253.159469\" xlink:href=\"#md6f99c4466\" y=\"81.235675\"/>\n     <use style=\"fill:#4c72b0;stroke:#4c72b0;\" x=\"274.058139\" xlink:href=\"#md6f99c4466\" y=\"92.907876\"/>\n     <use style=\"fill:#4c72b0;stroke:#4c72b0;\" x=\"229.128589\" xlink:href=\"#md6f99c4466\" y=\"66.105389\"/>\n     <use style=\"fill:#4c72b0;stroke:#4c72b0;\" x=\"230.638292\" xlink:href=\"#md6f99c4466\" y=\"64.262602\"/>\n     <use style=\"fill:#4c72b0;stroke:#4c72b0;\" x=\"263.099706\" xlink:href=\"#md6f99c4466\" y=\"85.61154\"/>\n     <use style=\"fill:#4c72b0;stroke:#4c72b0;\" x=\"180.87156\" xlink:href=\"#md6f99c4466\" y=\"36.546549\"/>\n     <use style=\"fill:#4c72b0;stroke:#4c72b0;\" x=\"279.314805\" xlink:href=\"#md6f99c4466\" y=\"93.580012\"/>\n     <use style=\"fill:#4c72b0;stroke:#4c72b0;\" x=\"260.290644\" xlink:href=\"#md6f99c4466\" y=\"86.419666\"/>\n     <use style=\"fill:#4c72b0;stroke:#4c72b0;\" x=\"242.971044\" xlink:href=\"#md6f99c4466\" y=\"75.663273\"/>\n     <use style=\"fill:#4c72b0;stroke:#4c72b0;\" x=\"239.039782\" xlink:href=\"#md6f99c4466\" y=\"70.79488\"/>\n     <use style=\"fill:#4c72b0;stroke:#4c72b0;\" x=\"210.927146\" xlink:href=\"#md6f99c4466\" y=\"52.909772\"/>\n     <use style=\"fill:#4c72b0;stroke:#4c72b0;\" x=\"245.261393\" xlink:href=\"#md6f99c4466\" y=\"74.380066\"/>\n     <use style=\"fill:#4c72b0;stroke:#4c72b0;\" x=\"212.711704\" xlink:href=\"#md6f99c4466\" y=\"57.500848\"/>\n     <use style=\"fill:#4c72b0;stroke:#4c72b0;\" x=\"224.17941\" xlink:href=\"#md6f99c4466\" y=\"63.826301\"/>\n     <use style=\"fill:#4c72b0;stroke:#4c72b0;\" x=\"273.270583\" xlink:href=\"#md6f99c4466\" y=\"90.462079\"/>\n     <use style=\"fill:#4c72b0;stroke:#4c72b0;\" x=\"170.914374\" xlink:href=\"#md6f99c4466\" y=\"34.950726\"/>\n     <use style=\"fill:#4c72b0;stroke:#4c72b0;\" x=\"237.382744\" xlink:href=\"#md6f99c4466\" y=\"70.865134\"/>\n     <use style=\"fill:#4c72b0;stroke:#4c72b0;\" x=\"248.181391\" xlink:href=\"#md6f99c4466\" y=\"78.756575\"/>\n     <use style=\"fill:#4c72b0;stroke:#4c72b0;\" x=\"327.733109\" xlink:href=\"#md6f99c4466\" y=\"121.027658\"/>\n     <use style=\"fill:#4c72b0;stroke:#4c72b0;\" x=\"248.430998\" xlink:href=\"#md6f99c4466\" y=\"76.508121\"/>\n     <use style=\"fill:#4c72b0;stroke:#4c72b0;\" x=\"234.04515\" xlink:href=\"#md6f99c4466\" y=\"70.343774\"/>\n     <use style=\"fill:#4c72b0;stroke:#4c72b0;\" x=\"210.701148\" xlink:href=\"#md6f99c4466\" y=\"53.222799\"/>\n     <use style=\"fill:#4c72b0;stroke:#4c72b0;\" x=\"190.41581\" xlink:href=\"#md6f99c4466\" y=\"44.199775\"/>\n     <use style=\"fill:#4c72b0;stroke:#4c72b0;\" x=\"285.416772\" xlink:href=\"#md6f99c4466\" y=\"98.069928\"/>\n     <use style=\"fill:#4c72b0;stroke:#4c72b0;\" x=\"248.580011\" xlink:href=\"#md6f99c4466\" y=\"78.658713\"/>\n     <use style=\"fill:#4c72b0;stroke:#4c72b0;\" x=\"171.977332\" xlink:href=\"#md6f99c4466\" y=\"32.719568\"/>\n     <use style=\"fill:#4c72b0;stroke:#4c72b0;\" x=\"268.029901\" xlink:href=\"#md6f99c4466\" y=\"88.846035\"/>\n     <use style=\"fill:#4c72b0;stroke:#4c72b0;\" x=\"243.124231\" xlink:href=\"#md6f99c4466\" y=\"73.253361\"/>\n     <use style=\"fill:#4c72b0;stroke:#4c72b0;\" x=\"219.044828\" xlink:href=\"#md6f99c4466\" y=\"62.291022\"/>\n     <use style=\"fill:#4c72b0;stroke:#4c72b0;\" x=\"222.091916\" xlink:href=\"#md6f99c4466\" y=\"65.178195\"/>\n     <use style=\"fill:#4c72b0;stroke:#4c72b0;\" x=\"228.676784\" xlink:href=\"#md6f99c4466\" y=\"67.532506\"/>\n     <use style=\"fill:#4c72b0;stroke:#4c72b0;\" x=\"197.094299\" xlink:href=\"#md6f99c4466\" y=\"49.823987\"/>\n     <use style=\"fill:#4c72b0;stroke:#4c72b0;\" x=\"220.640611\" xlink:href=\"#md6f99c4466\" y=\"61.429911\"/>\n     <use style=\"fill:#4c72b0;stroke:#4c72b0;\" x=\"212.212225\" xlink:href=\"#md6f99c4466\" y=\"56.124413\"/>\n     <use style=\"fill:#4c72b0;stroke:#4c72b0;\" x=\"311.838643\" xlink:href=\"#md6f99c4466\" y=\"116.015546\"/>\n     <use style=\"fill:#4c72b0;stroke:#4c72b0;\" x=\"253.254943\" xlink:href=\"#md6f99c4466\" y=\"80.142733\"/>\n     <use style=\"fill:#4c72b0;stroke:#4c72b0;\" x=\"208.920043\" xlink:href=\"#md6f99c4466\" y=\"53.29084\"/>\n     <use style=\"fill:#4c72b0;stroke:#4c72b0;\" x=\"240.862164\" xlink:href=\"#md6f99c4466\" y=\"74.60318\"/>\n     <use style=\"fill:#4c72b0;stroke:#4c72b0;\" x=\"236.410028\" xlink:href=\"#md6f99c4466\" y=\"69.38428\"/>\n     <use style=\"fill:#4c72b0;stroke:#4c72b0;\" x=\"280.253993\" xlink:href=\"#md6f99c4466\" y=\"100.160849\"/>\n     <use style=\"fill:#4c72b0;stroke:#4c72b0;\" x=\"253.84743\" xlink:href=\"#md6f99c4466\" y=\"81.521906\"/>\n     <use style=\"fill:#4c72b0;stroke:#4c72b0;\" x=\"233.902226\" xlink:href=\"#md6f99c4466\" y=\"70.717011\"/>\n     <use style=\"fill:#4c72b0;stroke:#4c72b0;\" x=\"204.314631\" xlink:href=\"#md6f99c4466\" y=\"50.989673\"/>\n     <use style=\"fill:#4c72b0;stroke:#4c72b0;\" x=\"222.167648\" xlink:href=\"#md6f99c4466\" y=\"61.821508\"/>\n     <use style=\"fill:#4c72b0;stroke:#4c72b0;\" x=\"305.831374\" xlink:href=\"#md6f99c4466\" y=\"110.076885\"/>\n     <use style=\"fill:#4c72b0;stroke:#4c72b0;\" x=\"305.377136\" xlink:href=\"#md6f99c4466\" y=\"110.842842\"/>\n     <use style=\"fill:#4c72b0;stroke:#4c72b0;\" x=\"246.008316\" xlink:href=\"#md6f99c4466\" y=\"75.161047\"/>\n     <use style=\"fill:#4c72b0;stroke:#4c72b0;\" x=\"225.532212\" xlink:href=\"#md6f99c4466\" y=\"65.836404\"/>\n     <use style=\"fill:#4c72b0;stroke:#4c72b0;\" x=\"215.241143\" xlink:href=\"#md6f99c4466\" y=\"59.26772\"/>\n     <use style=\"fill:#4c72b0;stroke:#4c72b0;\" x=\"216.646671\" xlink:href=\"#md6f99c4466\" y=\"57.279899\"/>\n     <use style=\"fill:#4c72b0;stroke:#4c72b0;\" x=\"241.630924\" xlink:href=\"#md6f99c4466\" y=\"75.261381\"/>\n     <use style=\"fill:#4c72b0;stroke:#4c72b0;\" x=\"285.441315\" xlink:href=\"#md6f99c4466\" y=\"98.663172\"/>\n     <use style=\"fill:#4c72b0;stroke:#4c72b0;\" x=\"290.329839\" xlink:href=\"#md6f99c4466\" y=\"103.392643\"/>\n     <use style=\"fill:#4c72b0;stroke:#4c72b0;\" x=\"206.732745\" xlink:href=\"#md6f99c4466\" y=\"54.412209\"/>\n     <use style=\"fill:#4c72b0;stroke:#4c72b0;\" x=\"235.567428\" xlink:href=\"#md6f99c4466\" y=\"71.315015\"/>\n     <use style=\"fill:#4c72b0;stroke:#4c72b0;\" x=\"271.342844\" xlink:href=\"#md6f99c4466\" y=\"87.701791\"/>\n     <use style=\"fill:#4c72b0;stroke:#4c72b0;\" x=\"248.561121\" xlink:href=\"#md6f99c4466\" y=\"73.54643\"/>\n     <use style=\"fill:#4c72b0;stroke:#4c72b0;\" x=\"280.261247\" xlink:href=\"#md6f99c4466\" y=\"95.709591\"/>\n     <use style=\"fill:#4c72b0;stroke:#4c72b0;\" x=\"243.929637\" xlink:href=\"#md6f99c4466\" y=\"72.850667\"/>\n     <use style=\"fill:#4c72b0;stroke:#4c72b0;\" x=\"230.433566\" xlink:href=\"#md6f99c4466\" y=\"68.578745\"/>\n     <use style=\"fill:#4c72b0;stroke:#4c72b0;\" x=\"217.628283\" xlink:href=\"#md6f99c4466\" y=\"58.213117\"/>\n     <use style=\"fill:#4c72b0;stroke:#4c72b0;\" x=\"225.659478\" xlink:href=\"#md6f99c4466\" y=\"63.944426\"/>\n     <use style=\"fill:#4c72b0;stroke:#4c72b0;\" x=\"228.856561\" xlink:href=\"#md6f99c4466\" y=\"66.992451\"/>\n     <use style=\"fill:#4c72b0;stroke:#4c72b0;\" x=\"191.535459\" xlink:href=\"#md6f99c4466\" y=\"46.538416\"/>\n     <use style=\"fill:#4c72b0;stroke:#4c72b0;\" x=\"261.473887\" xlink:href=\"#md6f99c4466\" y=\"84.627753\"/>\n     <use style=\"fill:#4c72b0;stroke:#4c72b0;\" x=\"258.447311\" xlink:href=\"#md6f99c4466\" y=\"84.087702\"/>\n     <use style=\"fill:#4c72b0;stroke:#4c72b0;\" x=\"187.266708\" xlink:href=\"#md6f99c4466\" y=\"43.295975\"/>\n     <use style=\"fill:#4c72b0;stroke:#4c72b0;\" x=\"175.783291\" xlink:href=\"#md6f99c4466\" y=\"38.390616\"/>\n     <use style=\"fill:#4c72b0;stroke:#4c72b0;\" x=\"211.193059\" xlink:href=\"#md6f99c4466\" y=\"58.213118\"/>\n     <use style=\"fill:#4c72b0;stroke:#4c72b0;\" x=\"251.857994\" xlink:href=\"#md6f99c4466\" y=\"78.584024\"/>\n     <use style=\"fill:#4c72b0;stroke:#4c72b0;\" x=\"251.858512\" xlink:href=\"#md6f99c4466\" y=\"80.988161\"/>\n     <use style=\"fill:#4c72b0;stroke:#4c72b0;\" x=\"219.439618\" xlink:href=\"#md6f99c4466\" y=\"61.130155\"/>\n     <use style=\"fill:#4c72b0;stroke:#4c72b0;\" x=\"230.186265\" xlink:href=\"#md6f99c4466\" y=\"67.286013\"/>\n     <use style=\"fill:#4c72b0;stroke:#4c72b0;\" x=\"284.071908\" xlink:href=\"#md6f99c4466\" y=\"97.463957\"/>\n     <use style=\"fill:#4c72b0;stroke:#4c72b0;\" x=\"257.093463\" xlink:href=\"#md6f99c4466\" y=\"82.14193\"/>\n     <use style=\"fill:#4c72b0;stroke:#4c72b0;\" x=\"352.498224\" xlink:href=\"#md6f99c4466\" y=\"137.096192\"/>\n     <use style=\"fill:#4c72b0;stroke:#4c72b0;\" x=\"175.315948\" xlink:href=\"#md6f99c4466\" y=\"33.593626\"/>\n     <use style=\"fill:#4c72b0;stroke:#4c72b0;\" x=\"209.664348\" xlink:href=\"#md6f99c4466\" y=\"55.33688\"/>\n     <use style=\"fill:#4c72b0;stroke:#4c72b0;\" x=\"203.708267\" xlink:href=\"#md6f99c4466\" y=\"52.028103\"/>\n     <use style=\"fill:#4c72b0;stroke:#4c72b0;\" x=\"226.572077\" xlink:href=\"#md6f99c4466\" y=\"68.116732\"/>\n     <use style=\"fill:#4c72b0;stroke:#4c72b0;\" x=\"248.116232\" xlink:href=\"#md6f99c4466\" y=\"77.803278\"/>\n     <use style=\"fill:#4c72b0;stroke:#4c72b0;\" x=\"239.819154\" xlink:href=\"#md6f99c4466\" y=\"73.528835\"/>\n     <use style=\"fill:#4c72b0;stroke:#4c72b0;\" x=\"248.623931\" xlink:href=\"#md6f99c4466\" y=\"76.772998\"/>\n     <use style=\"fill:#4c72b0;stroke:#4c72b0;\" x=\"219.759518\" xlink:href=\"#md6f99c4466\" y=\"61.160633\"/>\n     <use style=\"fill:#4c72b0;stroke:#4c72b0;\" x=\"239.343831\" xlink:href=\"#md6f99c4466\" y=\"73.130746\"/>\n     <use style=\"fill:#4c72b0;stroke:#4c72b0;\" x=\"235.079632\" xlink:href=\"#md6f99c4466\" y=\"70.772038\"/>\n     <use style=\"fill:#4c72b0;stroke:#4c72b0;\" x=\"217.709678\" xlink:href=\"#md6f99c4466\" y=\"60.657843\"/>\n     <use style=\"fill:#4c72b0;stroke:#4c72b0;\" x=\"235.293009\" xlink:href=\"#md6f99c4466\" y=\"69.500071\"/>\n     <use style=\"fill:#4c72b0;stroke:#4c72b0;\" x=\"217.614299\" xlink:href=\"#md6f99c4466\" y=\"58.137355\"/>\n     <use style=\"fill:#4c72b0;stroke:#4c72b0;\" x=\"246.86243\" xlink:href=\"#md6f99c4466\" y=\"77.925139\"/>\n     <use style=\"fill:#4c72b0;stroke:#4c72b0;\" x=\"283.556987\" xlink:href=\"#md6f99c4466\" y=\"97.635664\"/>\n     <use style=\"fill:#4c72b0;stroke:#4c72b0;\" x=\"206.719955\" xlink:href=\"#md6f99c4466\" y=\"52.985039\"/>\n     <use style=\"fill:#4c72b0;stroke:#4c72b0;\" x=\"204.325806\" xlink:href=\"#md6f99c4466\" y=\"55.499617\"/>\n     <use style=\"fill:#4c72b0;stroke:#4c72b0;\" x=\"250.925776\" xlink:href=\"#md6f99c4466\" y=\"79.260324\"/>\n     <use style=\"fill:#4c72b0;stroke:#4c72b0;\" x=\"310.755656\" xlink:href=\"#md6f99c4466\" y=\"114.130835\"/>\n     <use style=\"fill:#4c72b0;stroke:#4c72b0;\" x=\"226.913285\" xlink:href=\"#md6f99c4466\" y=\"64.768784\"/>\n     <use style=\"fill:#4c72b0;stroke:#4c72b0;\" x=\"277.641871\" xlink:href=\"#md6f99c4466\" y=\"94.674725\"/>\n     <use style=\"fill:#4c72b0;stroke:#4c72b0;\" x=\"255.827663\" xlink:href=\"#md6f99c4466\" y=\"81.941771\"/>\n     <use style=\"fill:#4c72b0;stroke:#4c72b0;\" x=\"230.488612\" xlink:href=\"#md6f99c4466\" y=\"68.825524\"/>\n     <use style=\"fill:#4c72b0;stroke:#4c72b0;\" x=\"254.244473\" xlink:href=\"#md6f99c4466\" y=\"81.843928\"/>\n     <use style=\"fill:#4c72b0;stroke:#4c72b0;\" x=\"252.762854\" xlink:href=\"#md6f99c4466\" y=\"79.923536\"/>\n     <use style=\"fill:#4c72b0;stroke:#4c72b0;\" x=\"267.14502\" xlink:href=\"#md6f99c4466\" y=\"90.030595\"/>\n     <use style=\"fill:#4c72b0;stroke:#4c72b0;\" x=\"264.047502\" xlink:href=\"#md6f99c4466\" y=\"84.8521\"/>\n     <use style=\"fill:#4c72b0;stroke:#4c72b0;\" x=\"235.304699\" xlink:href=\"#md6f99c4466\" y=\"71.365783\"/>\n     <use style=\"fill:#4c72b0;stroke:#4c72b0;\" x=\"236.093004\" xlink:href=\"#md6f99c4466\" y=\"69.635042\"/>\n     <use style=\"fill:#4c72b0;stroke:#4c72b0;\" x=\"302.671095\" xlink:href=\"#md6f99c4466\" y=\"107.888896\"/>\n     <use style=\"fill:#4c72b0;stroke:#4c72b0;\" x=\"206.230263\" xlink:href=\"#md6f99c4466\" y=\"54.666088\"/>\n     <use style=\"fill:#4c72b0;stroke:#4c72b0;\" x=\"265.960161\" xlink:href=\"#md6f99c4466\" y=\"85.497107\"/>\n     <use style=\"fill:#4c72b0;stroke:#4c72b0;\" x=\"280.82402\" xlink:href=\"#md6f99c4466\" y=\"95.488064\"/>\n     <use style=\"fill:#4c72b0;stroke:#4c72b0;\" x=\"290.177417\" xlink:href=\"#md6f99c4466\" y=\"100.906264\"/>\n     <use style=\"fill:#4c72b0;stroke:#4c72b0;\" x=\"285.563378\" xlink:href=\"#md6f99c4466\" y=\"101.727056\"/>\n     <use style=\"fill:#4c72b0;stroke:#4c72b0;\" x=\"307.058318\" xlink:href=\"#md6f99c4466\" y=\"113.490608\"/>\n     <use style=\"fill:#4c72b0;stroke:#4c72b0;\" x=\"275.591051\" xlink:href=\"#md6f99c4466\" y=\"91.735151\"/>\n     <use style=\"fill:#4c72b0;stroke:#4c72b0;\" x=\"191.684426\" xlink:href=\"#md6f99c4466\" y=\"44.865134\"/>\n     <use style=\"fill:#4c72b0;stroke:#4c72b0;\" x=\"281.854126\" xlink:href=\"#md6f99c4466\" y=\"97.793597\"/>\n     <use style=\"fill:#4c72b0;stroke:#4c72b0;\" x=\"263.811301\" xlink:href=\"#md6f99c4466\" y=\"85.191956\"/>\n     <use style=\"fill:#4c72b0;stroke:#4c72b0;\" x=\"248.698178\" xlink:href=\"#md6f99c4466\" y=\"75.113469\"/>\n     <use style=\"fill:#4c72b0;stroke:#4c72b0;\" x=\"168.408281\" xlink:href=\"#md6f99c4466\" y=\"30.210121\"/>\n     <use style=\"fill:#4c72b0;stroke:#4c72b0;\" x=\"206.609324\" xlink:href=\"#md6f99c4466\" y=\"54.554975\"/>\n     <use style=\"fill:#4c72b0;stroke:#4c72b0;\" x=\"265.021626\" xlink:href=\"#md6f99c4466\" y=\"87.518692\"/>\n     <use style=\"fill:#4c72b0;stroke:#4c72b0;\" x=\"180.11821\" xlink:href=\"#md6f99c4466\" y=\"38.466031\"/>\n     <use style=\"fill:#4c72b0;stroke:#4c72b0;\" x=\"211.986016\" xlink:href=\"#md6f99c4466\" y=\"55.42747\"/>\n     <use style=\"fill:#4c72b0;stroke:#4c72b0;\" x=\"296.880663\" xlink:href=\"#md6f99c4466\" y=\"105.976141\"/>\n     <use style=\"fill:#4c72b0;stroke:#4c72b0;\" x=\"187.976081\" xlink:href=\"#md6f99c4466\" y=\"46.701099\"/>\n     <use style=\"fill:#4c72b0;stroke:#4c72b0;\" x=\"205.868259\" xlink:href=\"#md6f99c4466\" y=\"50.726251\"/>\n     <use style=\"fill:#4c72b0;stroke:#4c72b0;\" x=\"167.308306\" xlink:href=\"#md6f99c4466\" y=\"32.056264\"/>\n     <use style=\"fill:#4c72b0;stroke:#4c72b0;\" x=\"175.157233\" xlink:href=\"#md6f99c4466\" y=\"37.341123\"/>\n     <use style=\"fill:#4c72b0;stroke:#4c72b0;\" x=\"232.701729\" xlink:href=\"#md6f99c4466\" y=\"67.55395\"/>\n     <use style=\"fill:#4c72b0;stroke:#4c72b0;\" x=\"250.807348\" xlink:href=\"#md6f99c4466\" y=\"77.213972\"/>\n     <use style=\"fill:#4c72b0;stroke:#4c72b0;\" x=\"249.979503\" xlink:href=\"#md6f99c4466\" y=\"77.302133\"/>\n     <use style=\"fill:#4c72b0;stroke:#4c72b0;\" x=\"278.046404\" xlink:href=\"#md6f99c4466\" y=\"95.834853\"/>\n     <use style=\"fill:#4c72b0;stroke:#4c72b0;\" x=\"300.015335\" xlink:href=\"#md6f99c4466\" y=\"106.304458\"/>\n     <use style=\"fill:#4c72b0;stroke:#4c72b0;\" x=\"231.667731\" xlink:href=\"#md6f99c4466\" y=\"69.256927\"/>\n     <use style=\"fill:#4c72b0;stroke:#4c72b0;\" x=\"279.672419\" xlink:href=\"#md6f99c4466\" y=\"98.440376\"/>\n     <use style=\"fill:#4c72b0;stroke:#4c72b0;\" x=\"193.973842\" xlink:href=\"#md6f99c4466\" y=\"46.727752\"/>\n     <use style=\"fill:#4c72b0;stroke:#4c72b0;\" x=\"209.667217\" xlink:href=\"#md6f99c4466\" y=\"53.330531\"/>\n     <use style=\"fill:#4c72b0;stroke:#4c72b0;\" x=\"230.2676\" xlink:href=\"#md6f99c4466\" y=\"65.291903\"/>\n     <use style=\"fill:#4c72b0;stroke:#4c72b0;\" x=\"208.23397\" xlink:href=\"#md6f99c4466\" y=\"57.96425\"/>\n     <use style=\"fill:#4c72b0;stroke:#4c72b0;\" x=\"206.362633\" xlink:href=\"#md6f99c4466\" y=\"54.069062\"/>\n     <use style=\"fill:#4c72b0;stroke:#4c72b0;\" x=\"232.183365\" xlink:href=\"#md6f99c4466\" y=\"68.787284\"/>\n     <use style=\"fill:#4c72b0;stroke:#4c72b0;\" x=\"253.725171\" xlink:href=\"#md6f99c4466\" y=\"79.07141\"/>\n     <use style=\"fill:#4c72b0;stroke:#4c72b0;\" x=\"201.802423\" xlink:href=\"#md6f99c4466\" y=\"50.895673\"/>\n     <use style=\"fill:#4c72b0;stroke:#4c72b0;\" x=\"205.88273\" xlink:href=\"#md6f99c4466\" y=\"53.974678\"/>\n     <use style=\"fill:#4c72b0;stroke:#4c72b0;\" x=\"260.319861\" xlink:href=\"#md6f99c4466\" y=\"86.543491\"/>\n     <use style=\"fill:#4c72b0;stroke:#4c72b0;\" x=\"210.629556\" xlink:href=\"#md6f99c4466\" y=\"55.019659\"/>\n     <use style=\"fill:#4c72b0;stroke:#4c72b0;\" x=\"286.036886\" xlink:href=\"#md6f99c4466\" y=\"98.614234\"/>\n     <use style=\"fill:#4c72b0;stroke:#4c72b0;\" x=\"210.635172\" xlink:href=\"#md6f99c4466\" y=\"53.951056\"/>\n     <use style=\"fill:#4c72b0;stroke:#4c72b0;\" x=\"315.866679\" xlink:href=\"#md6f99c4466\" y=\"118.799741\"/>\n     <use style=\"fill:#4c72b0;stroke:#4c72b0;\" x=\"232.383329\" xlink:href=\"#md6f99c4466\" y=\"70.258932\"/>\n     <use style=\"fill:#4c72b0;stroke:#4c72b0;\" x=\"274.562695\" xlink:href=\"#md6f99c4466\" y=\"93.621131\"/>\n     <use style=\"fill:#4c72b0;stroke:#4c72b0;\" x=\"211.196475\" xlink:href=\"#md6f99c4466\" y=\"55.282676\"/>\n     <use style=\"fill:#4c72b0;stroke:#4c72b0;\" x=\"226.782047\" xlink:href=\"#md6f99c4466\" y=\"66.125347\"/>\n     <use style=\"fill:#4c72b0;stroke:#4c72b0;\" x=\"221.11026\" xlink:href=\"#md6f99c4466\" y=\"62.728063\"/>\n     <use style=\"fill:#4c72b0;stroke:#4c72b0;\" x=\"318.392081\" xlink:href=\"#md6f99c4466\" y=\"119.756892\"/>\n     <use style=\"fill:#4c72b0;stroke:#4c72b0;\" x=\"230.058178\" xlink:href=\"#md6f99c4466\" y=\"65.849229\"/>\n     <use style=\"fill:#4c72b0;stroke:#4c72b0;\" x=\"260.337733\" xlink:href=\"#md6f99c4466\" y=\"83.722747\"/>\n     <use style=\"fill:#4c72b0;stroke:#4c72b0;\" x=\"240.258289\" xlink:href=\"#md6f99c4466\" y=\"76.894825\"/>\n     <use style=\"fill:#4c72b0;stroke:#4c72b0;\" x=\"249.506316\" xlink:href=\"#md6f99c4466\" y=\"78.207937\"/>\n     <use style=\"fill:#4c72b0;stroke:#4c72b0;\" x=\"298.998288\" xlink:href=\"#md6f99c4466\" y=\"106.116235\"/>\n     <use style=\"fill:#4c72b0;stroke:#4c72b0;\" x=\"217.907252\" xlink:href=\"#md6f99c4466\" y=\"60.892351\"/>\n     <use style=\"fill:#4c72b0;stroke:#4c72b0;\" x=\"208.854313\" xlink:href=\"#md6f99c4466\" y=\"56.822277\"/>\n     <use style=\"fill:#4c72b0;stroke:#4c72b0;\" x=\"248.835249\" xlink:href=\"#md6f99c4466\" y=\"74.853569\"/>\n     <use style=\"fill:#4c72b0;stroke:#4c72b0;\" x=\"251.53277\" xlink:href=\"#md6f99c4466\" y=\"78.51134\"/>\n     <use style=\"fill:#4c72b0;stroke:#4c72b0;\" x=\"234.980937\" xlink:href=\"#md6f99c4466\" y=\"70.996375\"/>\n     <use style=\"fill:#4c72b0;stroke:#4c72b0;\" x=\"259.613427\" xlink:href=\"#md6f99c4466\" y=\"84.654155\"/>\n     <use style=\"fill:#4c72b0;stroke:#4c72b0;\" x=\"164.098139\" xlink:href=\"#md6f99c4466\" y=\"27.137644\"/>\n     <use style=\"fill:#4c72b0;stroke:#4c72b0;\" x=\"232.976405\" xlink:href=\"#md6f99c4466\" y=\"66.002947\"/>\n     <use style=\"fill:#4c72b0;stroke:#4c72b0;\" x=\"313.614242\" xlink:href=\"#md6f99c4466\" y=\"115.634459\"/>\n     <use style=\"fill:#4c72b0;stroke:#4c72b0;\" x=\"150.678161\" xlink:href=\"#md6f99c4466\" y=\"22.955762\"/>\n     <use style=\"fill:#4c72b0;stroke:#4c72b0;\" x=\"250.484706\" xlink:href=\"#md6f99c4466\" y=\"76.636246\"/>\n     <use style=\"fill:#4c72b0;stroke:#4c72b0;\" x=\"219.430833\" xlink:href=\"#md6f99c4466\" y=\"65.818031\"/>\n     <use style=\"fill:#4c72b0;stroke:#4c72b0;\" x=\"233.829111\" xlink:href=\"#md6f99c4466\" y=\"68.377203\"/>\n     <use style=\"fill:#4c72b0;stroke:#4c72b0;\" x=\"297.941139\" xlink:href=\"#md6f99c4466\" y=\"104.567216\"/>\n     <use style=\"fill:#4c72b0;stroke:#4c72b0;\" x=\"248.118795\" xlink:href=\"#md6f99c4466\" y=\"77.873322\"/>\n     <use style=\"fill:#4c72b0;stroke:#4c72b0;\" x=\"172.611931\" xlink:href=\"#md6f99c4466\" y=\"31.402005\"/>\n     <use style=\"fill:#4c72b0;stroke:#4c72b0;\" x=\"278.179825\" xlink:href=\"#md6f99c4466\" y=\"95.165518\"/>\n     <use style=\"fill:#4c72b0;stroke:#4c72b0;\" x=\"224.105992\" xlink:href=\"#md6f99c4466\" y=\"62.929863\"/>\n     <use style=\"fill:#4c72b0;stroke:#4c72b0;\" x=\"251.785383\" xlink:href=\"#md6f99c4466\" y=\"81.723617\"/>\n     <use style=\"fill:#4c72b0;stroke:#4c72b0;\" x=\"277.746818\" xlink:href=\"#md6f99c4466\" y=\"94.502199\"/>\n     <use style=\"fill:#4c72b0;stroke:#4c72b0;\" x=\"198.065897\" xlink:href=\"#md6f99c4466\" y=\"48.792976\"/>\n     <use style=\"fill:#4c72b0;stroke:#4c72b0;\" x=\"249.708212\" xlink:href=\"#md6f99c4466\" y=\"78.878233\"/>\n     <use style=\"fill:#4c72b0;stroke:#4c72b0;\" x=\"239.130369\" xlink:href=\"#md6f99c4466\" y=\"69.695792\"/>\n     <use style=\"fill:#4c72b0;stroke:#4c72b0;\" x=\"317.928222\" xlink:href=\"#md6f99c4466\" y=\"121.769014\"/>\n     <use style=\"fill:#4c72b0;stroke:#4c72b0;\" x=\"190.371498\" xlink:href=\"#md6f99c4466\" y=\"45.869245\"/>\n     <use style=\"fill:#4c72b0;stroke:#4c72b0;\" x=\"236.288922\" xlink:href=\"#md6f99c4466\" y=\"68.135306\"/>\n     <use style=\"fill:#4c72b0;stroke:#4c72b0;\" x=\"285.006803\" xlink:href=\"#md6f99c4466\" y=\"97.781959\"/>\n     <use style=\"fill:#4c72b0;stroke:#4c72b0;\" x=\"278.470749\" xlink:href=\"#md6f99c4466\" y=\"94.814949\"/>\n     <use style=\"fill:#4c72b0;stroke:#4c72b0;\" x=\"231.770497\" xlink:href=\"#md6f99c4466\" y=\"66.594659\"/>\n     <use style=\"fill:#4c72b0;stroke:#4c72b0;\" x=\"240.663938\" xlink:href=\"#md6f99c4466\" y=\"71.85474\"/>\n     <use style=\"fill:#4c72b0;stroke:#4c72b0;\" x=\"299.971623\" xlink:href=\"#md6f99c4466\" y=\"111.122087\"/>\n     <use style=\"fill:#4c72b0;stroke:#4c72b0;\" x=\"234.593187\" xlink:href=\"#md6f99c4466\" y=\"72.051997\"/>\n     <use style=\"fill:#4c72b0;stroke:#4c72b0;\" x=\"303.6264\" xlink:href=\"#md6f99c4466\" y=\"111.226202\"/>\n     <use style=\"fill:#4c72b0;stroke:#4c72b0;\" x=\"292.560064\" xlink:href=\"#md6f99c4466\" y=\"103.012294\"/>\n     <use style=\"fill:#4c72b0;stroke:#4c72b0;\" x=\"235.894892\" xlink:href=\"#md6f99c4466\" y=\"71.660345\"/>\n     <use style=\"fill:#4c72b0;stroke:#4c72b0;\" x=\"287.001496\" xlink:href=\"#md6f99c4466\" y=\"100.124407\"/>\n     <use style=\"fill:#4c72b0;stroke:#4c72b0;\" x=\"285.457956\" xlink:href=\"#md6f99c4466\" y=\"99.973354\"/>\n     <use style=\"fill:#4c72b0;stroke:#4c72b0;\" x=\"267.448844\" xlink:href=\"#md6f99c4466\" y=\"89.085689\"/>\n     <use style=\"fill:#4c72b0;stroke:#4c72b0;\" x=\"216.626457\" xlink:href=\"#md6f99c4466\" y=\"59.498574\"/>\n     <use style=\"fill:#4c72b0;stroke:#4c72b0;\" x=\"294.307887\" xlink:href=\"#md6f99c4466\" y=\"104.155794\"/>\n     <use style=\"fill:#4c72b0;stroke:#4c72b0;\" x=\"235.225303\" xlink:href=\"#md6f99c4466\" y=\"70.792897\"/>\n     <use style=\"fill:#4c72b0;stroke:#4c72b0;\" x=\"225.316533\" xlink:href=\"#md6f99c4466\" y=\"64.959785\"/>\n     <use style=\"fill:#4c72b0;stroke:#4c72b0;\" x=\"199.985569\" xlink:href=\"#md6f99c4466\" y=\"49.480945\"/>\n     <use style=\"fill:#4c72b0;stroke:#4c72b0;\" x=\"284.161069\" xlink:href=\"#md6f99c4466\" y=\"98.397031\"/>\n     <use style=\"fill:#4c72b0;stroke:#4c72b0;\" x=\"315.581846\" xlink:href=\"#md6f99c4466\" y=\"116.48935\"/>\n     <use style=\"fill:#4c72b0;stroke:#4c72b0;\" x=\"215.923934\" xlink:href=\"#md6f99c4466\" y=\"61.135836\"/>\n     <use style=\"fill:#4c72b0;stroke:#4c72b0;\" x=\"250.269221\" xlink:href=\"#md6f99c4466\" y=\"78.426019\"/>\n     <use style=\"fill:#4c72b0;stroke:#4c72b0;\" x=\"216.2988\" xlink:href=\"#md6f99c4466\" y=\"58.331503\"/>\n     <use style=\"fill:#4c72b0;stroke:#4c72b0;\" x=\"169.257856\" xlink:href=\"#md6f99c4466\" y=\"33.216594\"/>\n     <use style=\"fill:#4c72b0;stroke:#4c72b0;\" x=\"313.185635\" xlink:href=\"#md6f99c4466\" y=\"115.108957\"/>\n     <use style=\"fill:#4c72b0;stroke:#4c72b0;\" x=\"256.13877\" xlink:href=\"#md6f99c4466\" y=\"79.887239\"/>\n     <use style=\"fill:#4c72b0;stroke:#4c72b0;\" x=\"262.391329\" xlink:href=\"#md6f99c4466\" y=\"87.708444\"/>\n     <use style=\"fill:#4c72b0;stroke:#4c72b0;\" x=\"195.721001\" xlink:href=\"#md6f99c4466\" y=\"47.622618\"/>\n     <use style=\"fill:#4c72b0;stroke:#4c72b0;\" x=\"223.394433\" xlink:href=\"#md6f99c4466\" y=\"62.52482\"/>\n     <use style=\"fill:#4c72b0;stroke:#4c72b0;\" x=\"258.245237\" xlink:href=\"#md6f99c4466\" y=\"84.090709\"/>\n     <use style=\"fill:#4c72b0;stroke:#4c72b0;\" x=\"266.30587\" xlink:href=\"#md6f99c4466\" y=\"86.242808\"/>\n     <use style=\"fill:#4c72b0;stroke:#4c72b0;\" x=\"245.432589\" xlink:href=\"#md6f99c4466\" y=\"78.659523\"/>\n     <use style=\"fill:#4c72b0;stroke:#4c72b0;\" x=\"230.728867\" xlink:href=\"#md6f99c4466\" y=\"68.234254\"/>\n     <use style=\"fill:#4c72b0;stroke:#4c72b0;\" x=\"292.996717\" xlink:href=\"#md6f99c4466\" y=\"101.598852\"/>\n     <use style=\"fill:#4c72b0;stroke:#4c72b0;\" x=\"222.77518\" xlink:href=\"#md6f99c4466\" y=\"63.149346\"/>\n     <use style=\"fill:#4c72b0;stroke:#4c72b0;\" x=\"233.233145\" xlink:href=\"#md6f99c4466\" y=\"66.841604\"/>\n     <use style=\"fill:#4c72b0;stroke:#4c72b0;\" x=\"192.836123\" xlink:href=\"#md6f99c4466\" y=\"46.731331\"/>\n     <use style=\"fill:#4c72b0;stroke:#4c72b0;\" x=\"205.545077\" xlink:href=\"#md6f99c4466\" y=\"53.806016\"/>\n     <use style=\"fill:#4c72b0;stroke:#4c72b0;\" x=\"241.605334\" xlink:href=\"#md6f99c4466\" y=\"77.754817\"/>\n     <use style=\"fill:#4c72b0;stroke:#4c72b0;\" x=\"227.19218\" xlink:href=\"#md6f99c4466\" y=\"66.112891\"/>\n     <use style=\"fill:#4c72b0;stroke:#4c72b0;\" x=\"277.610354\" xlink:href=\"#md6f99c4466\" y=\"93.460253\"/>\n     <use style=\"fill:#4c72b0;stroke:#4c72b0;\" x=\"282.568051\" xlink:href=\"#md6f99c4466\" y=\"97.732869\"/>\n     <use style=\"fill:#4c72b0;stroke:#4c72b0;\" x=\"261.688484\" xlink:href=\"#md6f99c4466\" y=\"85.799864\"/>\n     <use style=\"fill:#4c72b0;stroke:#4c72b0;\" x=\"208.441585\" xlink:href=\"#md6f99c4466\" y=\"54.301346\"/>\n     <use style=\"fill:#4c72b0;stroke:#4c72b0;\" x=\"259.000897\" xlink:href=\"#md6f99c4466\" y=\"87.090074\"/>\n     <use style=\"fill:#4c72b0;stroke:#4c72b0;\" x=\"269.254397\" xlink:href=\"#md6f99c4466\" y=\"91.801454\"/>\n     <use style=\"fill:#4c72b0;stroke:#4c72b0;\" x=\"277.407892\" xlink:href=\"#md6f99c4466\" y=\"93.622697\"/>\n     <use style=\"fill:#4c72b0;stroke:#4c72b0;\" x=\"333.1006\" xlink:href=\"#md6f99c4466\" y=\"127.743038\"/>\n     <use style=\"fill:#4c72b0;stroke:#4c72b0;\" x=\"244.001024\" xlink:href=\"#md6f99c4466\" y=\"76.829751\"/>\n     <use style=\"fill:#4c72b0;stroke:#4c72b0;\" x=\"218.55664\" xlink:href=\"#md6f99c4466\" y=\"60.621536\"/>\n     <use style=\"fill:#4c72b0;stroke:#4c72b0;\" x=\"209.522706\" xlink:href=\"#md6f99c4466\" y=\"56.531129\"/>\n     <use style=\"fill:#4c72b0;stroke:#4c72b0;\" x=\"244.852784\" xlink:href=\"#md6f99c4466\" y=\"75.486281\"/>\n     <use style=\"fill:#4c72b0;stroke:#4c72b0;\" x=\"280.274088\" xlink:href=\"#md6f99c4466\" y=\"98.024979\"/>\n     <use style=\"fill:#4c72b0;stroke:#4c72b0;\" x=\"287.481792\" xlink:href=\"#md6f99c4466\" y=\"102.757552\"/>\n     <use style=\"fill:#4c72b0;stroke:#4c72b0;\" x=\"282.883527\" xlink:href=\"#md6f99c4466\" y=\"96.350895\"/>\n     <use style=\"fill:#4c72b0;stroke:#4c72b0;\" x=\"195.052336\" xlink:href=\"#md6f99c4466\" y=\"45.328248\"/>\n     <use style=\"fill:#4c72b0;stroke:#4c72b0;\" x=\"295.76386\" xlink:href=\"#md6f99c4466\" y=\"105.383331\"/>\n     <use style=\"fill:#4c72b0;stroke:#4c72b0;\" x=\"238.18154\" xlink:href=\"#md6f99c4466\" y=\"70.90103\"/>\n     <use style=\"fill:#4c72b0;stroke:#4c72b0;\" x=\"188.351656\" xlink:href=\"#md6f99c4466\" y=\"43.608973\"/>\n     <use style=\"fill:#4c72b0;stroke:#4c72b0;\" x=\"192.397004\" xlink:href=\"#md6f99c4466\" y=\"42.779321\"/>\n     <use style=\"fill:#4c72b0;stroke:#4c72b0;\" x=\"249.577342\" xlink:href=\"#md6f99c4466\" y=\"78.477123\"/>\n     <use style=\"fill:#4c72b0;stroke:#4c72b0;\" x=\"217.940176\" xlink:href=\"#md6f99c4466\" y=\"60.773776\"/>\n     <use style=\"fill:#4c72b0;stroke:#4c72b0;\" x=\"212.846642\" xlink:href=\"#md6f99c4466\" y=\"54.728991\"/>\n     <use style=\"fill:#4c72b0;stroke:#4c72b0;\" x=\"217.400169\" xlink:href=\"#md6f99c4466\" y=\"59.350286\"/>\n     <use style=\"fill:#4c72b0;stroke:#4c72b0;\" x=\"339.047989\" xlink:href=\"#md6f99c4466\" y=\"131.004455\"/>\n     <use style=\"fill:#4c72b0;stroke:#4c72b0;\" x=\"213.450071\" xlink:href=\"#md6f99c4466\" y=\"57.901347\"/>\n     <use style=\"fill:#4c72b0;stroke:#4c72b0;\" x=\"170.62519\" xlink:href=\"#md6f99c4466\" y=\"31.687717\"/>\n     <use style=\"fill:#4c72b0;stroke:#4c72b0;\" x=\"175.10816\" xlink:href=\"#md6f99c4466\" y=\"30.635974\"/>\n     <use style=\"fill:#4c72b0;stroke:#4c72b0;\" x=\"269.809534\" xlink:href=\"#md6f99c4466\" y=\"90.619668\"/>\n     <use style=\"fill:#4c72b0;stroke:#4c72b0;\" x=\"254.657157\" xlink:href=\"#md6f99c4466\" y=\"82.829953\"/>\n     <use style=\"fill:#4c72b0;stroke:#4c72b0;\" x=\"278.864248\" xlink:href=\"#md6f99c4466\" y=\"93.880484\"/>\n     <use style=\"fill:#4c72b0;stroke:#4c72b0;\" x=\"271.732391\" xlink:href=\"#md6f99c4466\" y=\"93.002144\"/>\n     <use style=\"fill:#4c72b0;stroke:#4c72b0;\" x=\"288.547111\" xlink:href=\"#md6f99c4466\" y=\"102.039137\"/>\n     <use style=\"fill:#4c72b0;stroke:#4c72b0;\" x=\"187.245993\" xlink:href=\"#md6f99c4466\" y=\"46.905466\"/>\n     <use style=\"fill:#4c72b0;stroke:#4c72b0;\" x=\"211.465931\" xlink:href=\"#md6f99c4466\" y=\"56.085423\"/>\n     <use style=\"fill:#4c72b0;stroke:#4c72b0;\" x=\"208.85271\" xlink:href=\"#md6f99c4466\" y=\"55.797598\"/>\n     <use style=\"fill:#4c72b0;stroke:#4c72b0;\" x=\"170.342536\" xlink:href=\"#md6f99c4466\" y=\"32.772442\"/>\n     <use style=\"fill:#4c72b0;stroke:#4c72b0;\" x=\"279.156755\" xlink:href=\"#md6f99c4466\" y=\"95.474047\"/>\n     <use style=\"fill:#4c72b0;stroke:#4c72b0;\" x=\"267.062616\" xlink:href=\"#md6f99c4466\" y=\"86.165872\"/>\n     <use style=\"fill:#4c72b0;stroke:#4c72b0;\" x=\"251.588245\" xlink:href=\"#md6f99c4466\" y=\"79.142201\"/>\n     <use style=\"fill:#4c72b0;stroke:#4c72b0;\" x=\"241.180103\" xlink:href=\"#md6f99c4466\" y=\"73.708087\"/>\n     <use style=\"fill:#4c72b0;stroke:#4c72b0;\" x=\"203.807499\" xlink:href=\"#md6f99c4466\" y=\"48.674653\"/>\n     <use style=\"fill:#4c72b0;stroke:#4c72b0;\" x=\"265.489065\" xlink:href=\"#md6f99c4466\" y=\"87.185353\"/>\n     <use style=\"fill:#4c72b0;stroke:#4c72b0;\" x=\"270.100184\" xlink:href=\"#md6f99c4466\" y=\"92.456776\"/>\n     <use style=\"fill:#4c72b0;stroke:#4c72b0;\" x=\"243.273875\" xlink:href=\"#md6f99c4466\" y=\"76.338365\"/>\n     <use style=\"fill:#4c72b0;stroke:#4c72b0;\" x=\"202.278677\" xlink:href=\"#md6f99c4466\" y=\"53.870752\"/>\n     <use style=\"fill:#4c72b0;stroke:#4c72b0;\" x=\"208.971044\" xlink:href=\"#md6f99c4466\" y=\"55.08949\"/>\n     <use style=\"fill:#4c72b0;stroke:#4c72b0;\" x=\"197.260925\" xlink:href=\"#md6f99c4466\" y=\"46.460709\"/>\n     <use style=\"fill:#4c72b0;stroke:#4c72b0;\" x=\"256.187203\" xlink:href=\"#md6f99c4466\" y=\"81.347693\"/>\n     <use style=\"fill:#4c72b0;stroke:#4c72b0;\" x=\"197.894958\" xlink:href=\"#md6f99c4466\" y=\"48.698129\"/>\n     <use style=\"fill:#4c72b0;stroke:#4c72b0;\" x=\"243.174082\" xlink:href=\"#md6f99c4466\" y=\"72.867008\"/>\n     <use style=\"fill:#4c72b0;stroke:#4c72b0;\" x=\"326.27565\" xlink:href=\"#md6f99c4466\" y=\"122.049382\"/>\n     <use style=\"fill:#4c72b0;stroke:#4c72b0;\" x=\"211.36107\" xlink:href=\"#md6f99c4466\" y=\"56.462812\"/>\n     <use style=\"fill:#4c72b0;stroke:#4c72b0;\" x=\"199.870722\" xlink:href=\"#md6f99c4466\" y=\"48.997457\"/>\n     <use style=\"fill:#4c72b0;stroke:#4c72b0;\" x=\"243.787324\" xlink:href=\"#md6f99c4466\" y=\"76.435949\"/>\n     <use style=\"fill:#4c72b0;stroke:#4c72b0;\" x=\"180.77087\" xlink:href=\"#md6f99c4466\" y=\"37.978867\"/>\n     <use style=\"fill:#4c72b0;stroke:#4c72b0;\" x=\"223.157845\" xlink:href=\"#md6f99c4466\" y=\"64.268149\"/>\n     <use style=\"fill:#4c72b0;stroke:#4c72b0;\" x=\"250.451083\" xlink:href=\"#md6f99c4466\" y=\"78.851698\"/>\n     <use style=\"fill:#4c72b0;stroke:#4c72b0;\" x=\"300.444544\" xlink:href=\"#md6f99c4466\" y=\"109.554624\"/>\n     <use style=\"fill:#4c72b0;stroke:#4c72b0;\" x=\"223.497232\" xlink:href=\"#md6f99c4466\" y=\"61.993645\"/>\n     <use style=\"fill:#4c72b0;stroke:#4c72b0;\" x=\"259.484879\" xlink:href=\"#md6f99c4466\" y=\"84.359675\"/>\n     <use style=\"fill:#4c72b0;stroke:#4c72b0;\" x=\"183.467174\" xlink:href=\"#md6f99c4466\" y=\"39.488566\"/>\n     <use style=\"fill:#4c72b0;stroke:#4c72b0;\" x=\"249.925963\" xlink:href=\"#md6f99c4466\" y=\"76.330375\"/>\n     <use style=\"fill:#4c72b0;stroke:#4c72b0;\" x=\"259.272602\" xlink:href=\"#md6f99c4466\" y=\"85.166439\"/>\n     <use style=\"fill:#4c72b0;stroke:#4c72b0;\" x=\"216.091926\" xlink:href=\"#md6f99c4466\" y=\"58.710766\"/>\n     <use style=\"fill:#4c72b0;stroke:#4c72b0;\" x=\"273.87668\" xlink:href=\"#md6f99c4466\" y=\"93.500967\"/>\n     <use style=\"fill:#4c72b0;stroke:#4c72b0;\" x=\"244.701899\" xlink:href=\"#md6f99c4466\" y=\"77.443063\"/>\n     <use style=\"fill:#4c72b0;stroke:#4c72b0;\" x=\"233.28225\" xlink:href=\"#md6f99c4466\" y=\"68.328468\"/>\n     <use style=\"fill:#4c72b0;stroke:#4c72b0;\" x=\"230.938005\" xlink:href=\"#md6f99c4466\" y=\"67.046051\"/>\n     <use style=\"fill:#4c72b0;stroke:#4c72b0;\" x=\"307.87318\" xlink:href=\"#md6f99c4466\" y=\"114.627673\"/>\n     <use style=\"fill:#4c72b0;stroke:#4c72b0;\" x=\"248.873337\" xlink:href=\"#md6f99c4466\" y=\"78.526909\"/>\n     <use style=\"fill:#4c72b0;stroke:#4c72b0;\" x=\"248.326349\" xlink:href=\"#md6f99c4466\" y=\"76.846494\"/>\n     <use style=\"fill:#4c72b0;stroke:#4c72b0;\" x=\"260.7056\" xlink:href=\"#md6f99c4466\" y=\"82.472997\"/>\n     <use style=\"fill:#4c72b0;stroke:#4c72b0;\" x=\"243.575537\" xlink:href=\"#md6f99c4466\" y=\"71.593147\"/>\n     <use style=\"fill:#4c72b0;stroke:#4c72b0;\" x=\"206.420871\" xlink:href=\"#md6f99c4466\" y=\"56.242697\"/>\n     <use style=\"fill:#4c72b0;stroke:#4c72b0;\" x=\"234.424075\" xlink:href=\"#md6f99c4466\" y=\"70.934192\"/>\n     <use style=\"fill:#4c72b0;stroke:#4c72b0;\" x=\"298.142905\" xlink:href=\"#md6f99c4466\" y=\"104.625106\"/>\n     <use style=\"fill:#4c72b0;stroke:#4c72b0;\" x=\"203.088433\" xlink:href=\"#md6f99c4466\" y=\"50.087456\"/>\n     <use style=\"fill:#4c72b0;stroke:#4c72b0;\" x=\"207.227604\" xlink:href=\"#md6f99c4466\" y=\"55.389621\"/>\n     <use style=\"fill:#4c72b0;stroke:#4c72b0;\" x=\"266.202696\" xlink:href=\"#md6f99c4466\" y=\"90.314551\"/>\n     <use style=\"fill:#4c72b0;stroke:#4c72b0;\" x=\"153.8633\" xlink:href=\"#md6f99c4466\" y=\"24.219561\"/>\n     <use style=\"fill:#4c72b0;stroke:#4c72b0;\" x=\"267.222469\" xlink:href=\"#md6f99c4466\" y=\"90.103431\"/>\n     <use style=\"fill:#4c72b0;stroke:#4c72b0;\" x=\"218.9256\" xlink:href=\"#md6f99c4466\" y=\"58.878767\"/>\n     <use style=\"fill:#4c72b0;stroke:#4c72b0;\" x=\"236.106184\" xlink:href=\"#md6f99c4466\" y=\"71.727156\"/>\n     <use style=\"fill:#4c72b0;stroke:#4c72b0;\" x=\"233.116391\" xlink:href=\"#md6f99c4466\" y=\"68.676491\"/>\n     <use style=\"fill:#4c72b0;stroke:#4c72b0;\" x=\"295.103298\" xlink:href=\"#md6f99c4466\" y=\"103.113964\"/>\n     <use style=\"fill:#4c72b0;stroke:#4c72b0;\" x=\"236.464446\" xlink:href=\"#md6f99c4466\" y=\"71.119754\"/>\n     <use style=\"fill:#4c72b0;stroke:#4c72b0;\" x=\"246.512383\" xlink:href=\"#md6f99c4466\" y=\"73.972112\"/>\n     <use style=\"fill:#4c72b0;stroke:#4c72b0;\" x=\"237.428186\" xlink:href=\"#md6f99c4466\" y=\"70.937098\"/>\n     <use style=\"fill:#4c72b0;stroke:#4c72b0;\" x=\"260.275465\" xlink:href=\"#md6f99c4466\" y=\"85.005619\"/>\n     <use style=\"fill:#4c72b0;stroke:#4c72b0;\" x=\"205.766634\" xlink:href=\"#md6f99c4466\" y=\"53.424262\"/>\n     <use style=\"fill:#4c72b0;stroke:#4c72b0;\" x=\"234.966387\" xlink:href=\"#md6f99c4466\" y=\"68.679173\"/>\n     <use style=\"fill:#4c72b0;stroke:#4c72b0;\" x=\"214.351473\" xlink:href=\"#md6f99c4466\" y=\"58.175405\"/>\n     <use style=\"fill:#4c72b0;stroke:#4c72b0;\" x=\"181.861595\" xlink:href=\"#md6f99c4466\" y=\"39.401167\"/>\n     <use style=\"fill:#4c72b0;stroke:#4c72b0;\" x=\"263.411631\" xlink:href=\"#md6f99c4466\" y=\"86.214221\"/>\n     <use style=\"fill:#4c72b0;stroke:#4c72b0;\" x=\"246.771236\" xlink:href=\"#md6f99c4466\" y=\"75.505805\"/>\n     <use style=\"fill:#4c72b0;stroke:#4c72b0;\" x=\"304.91275\" xlink:href=\"#md6f99c4466\" y=\"110.072043\"/>\n     <use style=\"fill:#4c72b0;stroke:#4c72b0;\" x=\"213.292931\" xlink:href=\"#md6f99c4466\" y=\"57.655308\"/>\n     <use style=\"fill:#4c72b0;stroke:#4c72b0;\" x=\"195.160186\" xlink:href=\"#md6f99c4466\" y=\"46.160851\"/>\n     <use style=\"fill:#4c72b0;stroke:#4c72b0;\" x=\"221.623389\" xlink:href=\"#md6f99c4466\" y=\"65.711825\"/>\n     <use style=\"fill:#4c72b0;stroke:#4c72b0;\" x=\"228.320244\" xlink:href=\"#md6f99c4466\" y=\"67.183946\"/>\n     <use style=\"fill:#4c72b0;stroke:#4c72b0;\" x=\"234.106771\" xlink:href=\"#md6f99c4466\" y=\"70.647248\"/>\n     <use style=\"fill:#4c72b0;stroke:#4c72b0;\" x=\"225.639393\" xlink:href=\"#md6f99c4466\" y=\"63.588036\"/>\n     <use style=\"fill:#4c72b0;stroke:#4c72b0;\" x=\"287.947006\" xlink:href=\"#md6f99c4466\" y=\"102.641038\"/>\n     <use style=\"fill:#4c72b0;stroke:#4c72b0;\" x=\"209.064072\" xlink:href=\"#md6f99c4466\" y=\"52.670086\"/>\n     <use style=\"fill:#4c72b0;stroke:#4c72b0;\" x=\"227.33639\" xlink:href=\"#md6f99c4466\" y=\"65.491671\"/>\n     <use style=\"fill:#4c72b0;stroke:#4c72b0;\" x=\"260.166404\" xlink:href=\"#md6f99c4466\" y=\"82.878823\"/>\n     <use style=\"fill:#4c72b0;stroke:#4c72b0;\" x=\"315.820362\" xlink:href=\"#md6f99c4466\" y=\"117.517743\"/>\n     <use style=\"fill:#4c72b0;stroke:#4c72b0;\" x=\"242.087504\" xlink:href=\"#md6f99c4466\" y=\"74.377992\"/>\n     <use style=\"fill:#4c72b0;stroke:#4c72b0;\" x=\"207.386041\" xlink:href=\"#md6f99c4466\" y=\"52.039656\"/>\n     <use style=\"fill:#4c72b0;stroke:#4c72b0;\" x=\"243.38048\" xlink:href=\"#md6f99c4466\" y=\"77.584499\"/>\n     <use style=\"fill:#4c72b0;stroke:#4c72b0;\" x=\"289.704098\" xlink:href=\"#md6f99c4466\" y=\"102.906945\"/>\n     <use style=\"fill:#4c72b0;stroke:#4c72b0;\" x=\"260.257271\" xlink:href=\"#md6f99c4466\" y=\"81.520219\"/>\n     <use style=\"fill:#4c72b0;stroke:#4c72b0;\" x=\"228.317734\" xlink:href=\"#md6f99c4466\" y=\"65.621444\"/>\n     <use style=\"fill:#4c72b0;stroke:#4c72b0;\" x=\"266.833488\" xlink:href=\"#md6f99c4466\" y=\"87.94254\"/>\n     <use style=\"fill:#4c72b0;stroke:#4c72b0;\" x=\"334.836748\" xlink:href=\"#md6f99c4466\" y=\"128.721025\"/>\n     <use style=\"fill:#4c72b0;stroke:#4c72b0;\" x=\"254.121029\" xlink:href=\"#md6f99c4466\" y=\"80.046146\"/>\n     <use style=\"fill:#4c72b0;stroke:#4c72b0;\" x=\"181.389338\" xlink:href=\"#md6f99c4466\" y=\"39.101523\"/>\n     <use style=\"fill:#4c72b0;stroke:#4c72b0;\" x=\"232.883518\" xlink:href=\"#md6f99c4466\" y=\"66.054022\"/>\n     <use style=\"fill:#4c72b0;stroke:#4c72b0;\" x=\"177.922945\" xlink:href=\"#md6f99c4466\" y=\"38.128345\"/>\n     <use style=\"fill:#4c72b0;stroke:#4c72b0;\" x=\"234.106527\" xlink:href=\"#md6f99c4466\" y=\"69.492356\"/>\n     <use style=\"fill:#4c72b0;stroke:#4c72b0;\" x=\"352.311036\" xlink:href=\"#md6f99c4466\" y=\"138.480355\"/>\n     <use style=\"fill:#4c72b0;stroke:#4c72b0;\" x=\"216.31368\" xlink:href=\"#md6f99c4466\" y=\"58.164728\"/>\n     <use style=\"fill:#4c72b0;stroke:#4c72b0;\" x=\"242.970645\" xlink:href=\"#md6f99c4466\" y=\"73.903952\"/>\n     <use style=\"fill:#4c72b0;stroke:#4c72b0;\" x=\"232.056349\" xlink:href=\"#md6f99c4466\" y=\"66.596684\"/>\n     <use style=\"fill:#4c72b0;stroke:#4c72b0;\" x=\"165.380877\" xlink:href=\"#md6f99c4466\" y=\"30.889813\"/>\n     <use style=\"fill:#4c72b0;stroke:#4c72b0;\" x=\"183.390075\" xlink:href=\"#md6f99c4466\" y=\"41.129762\"/>\n     <use style=\"fill:#4c72b0;stroke:#4c72b0;\" x=\"216.407794\" xlink:href=\"#md6f99c4466\" y=\"59.577873\"/>\n     <use style=\"fill:#4c72b0;stroke:#4c72b0;\" x=\"187.673244\" xlink:href=\"#md6f99c4466\" y=\"43.69827\"/>\n     <use style=\"fill:#4c72b0;stroke:#4c72b0;\" x=\"240.817777\" xlink:href=\"#md6f99c4466\" y=\"72.843524\"/>\n     <use style=\"fill:#4c72b0;stroke:#4c72b0;\" x=\"164.637737\" xlink:href=\"#md6f99c4466\" y=\"29.205647\"/>\n     <use style=\"fill:#4c72b0;stroke:#4c72b0;\" x=\"228.646334\" xlink:href=\"#md6f99c4466\" y=\"66.708529\"/>\n     <use style=\"fill:#4c72b0;stroke:#4c72b0;\" x=\"228.086046\" xlink:href=\"#md6f99c4466\" y=\"65.664583\"/>\n     <use style=\"fill:#4c72b0;stroke:#4c72b0;\" x=\"290.257255\" xlink:href=\"#md6f99c4466\" y=\"100.627651\"/>\n     <use style=\"fill:#4c72b0;stroke:#4c72b0;\" x=\"237.197264\" xlink:href=\"#md6f99c4466\" y=\"74.670652\"/>\n     <use style=\"fill:#4c72b0;stroke:#4c72b0;\" x=\"249.959717\" xlink:href=\"#md6f99c4466\" y=\"76.848406\"/>\n     <use style=\"fill:#4c72b0;stroke:#4c72b0;\" x=\"249.912051\" xlink:href=\"#md6f99c4466\" y=\"81.111589\"/>\n     <use style=\"fill:#4c72b0;stroke:#4c72b0;\" x=\"261.994629\" xlink:href=\"#md6f99c4466\" y=\"88.890013\"/>\n     <use style=\"fill:#4c72b0;stroke:#4c72b0;\" x=\"239.782906\" xlink:href=\"#md6f99c4466\" y=\"72.510882\"/>\n     <use style=\"fill:#4c72b0;stroke:#4c72b0;\" x=\"203.961691\" xlink:href=\"#md6f99c4466\" y=\"50.950352\"/>\n     <use style=\"fill:#4c72b0;stroke:#4c72b0;\" x=\"151.559806\" xlink:href=\"#md6f99c4466\" y=\"21.417809\"/>\n     <use style=\"fill:#4c72b0;stroke:#4c72b0;\" x=\"242.686587\" xlink:href=\"#md6f99c4466\" y=\"71.496511\"/>\n     <use style=\"fill:#4c72b0;stroke:#4c72b0;\" x=\"300.831255\" xlink:href=\"#md6f99c4466\" y=\"106.693464\"/>\n     <use style=\"fill:#4c72b0;stroke:#4c72b0;\" x=\"221.883089\" xlink:href=\"#md6f99c4466\" y=\"62.855703\"/>\n     <use style=\"fill:#4c72b0;stroke:#4c72b0;\" x=\"230.733792\" xlink:href=\"#md6f99c4466\" y=\"67.696829\"/>\n     <use style=\"fill:#4c72b0;stroke:#4c72b0;\" x=\"238.168168\" xlink:href=\"#md6f99c4466\" y=\"74.228981\"/>\n     <use style=\"fill:#4c72b0;stroke:#4c72b0;\" x=\"195.255509\" xlink:href=\"#md6f99c4466\" y=\"49.849551\"/>\n     <use style=\"fill:#4c72b0;stroke:#4c72b0;\" x=\"277.453236\" xlink:href=\"#md6f99c4466\" y=\"97.177228\"/>\n     <use style=\"fill:#4c72b0;stroke:#4c72b0;\" x=\"252.426527\" xlink:href=\"#md6f99c4466\" y=\"77.000326\"/>\n     <use style=\"fill:#4c72b0;stroke:#4c72b0;\" x=\"259.954335\" xlink:href=\"#md6f99c4466\" y=\"82.657859\"/>\n     <use style=\"fill:#4c72b0;stroke:#4c72b0;\" x=\"266.221962\" xlink:href=\"#md6f99c4466\" y=\"85.983049\"/>\n     <use style=\"fill:#4c72b0;stroke:#4c72b0;\" x=\"262.297001\" xlink:href=\"#md6f99c4466\" y=\"85.812695\"/>\n     <use style=\"fill:#4c72b0;stroke:#4c72b0;\" x=\"217.94559\" xlink:href=\"#md6f99c4466\" y=\"58.770564\"/>\n     <use style=\"fill:#4c72b0;stroke:#4c72b0;\" x=\"293.160159\" xlink:href=\"#md6f99c4466\" y=\"102.66946\"/>\n     <use style=\"fill:#4c72b0;stroke:#4c72b0;\" x=\"228.733401\" xlink:href=\"#md6f99c4466\" y=\"65.677626\"/>\n     <use style=\"fill:#4c72b0;stroke:#4c72b0;\" x=\"242.43599\" xlink:href=\"#md6f99c4466\" y=\"72.780371\"/>\n     <use style=\"fill:#4c72b0;stroke:#4c72b0;\" x=\"196.536424\" xlink:href=\"#md6f99c4466\" y=\"45.361243\"/>\n     <use style=\"fill:#4c72b0;stroke:#4c72b0;\" x=\"228.863923\" xlink:href=\"#md6f99c4466\" y=\"67.359705\"/>\n     <use style=\"fill:#4c72b0;stroke:#4c72b0;\" x=\"243.958949\" xlink:href=\"#md6f99c4466\" y=\"77.283633\"/>\n     <use style=\"fill:#4c72b0;stroke:#4c72b0;\" x=\"265.791802\" xlink:href=\"#md6f99c4466\" y=\"88.532942\"/>\n     <use style=\"fill:#4c72b0;stroke:#4c72b0;\" x=\"274.827439\" xlink:href=\"#md6f99c4466\" y=\"90.432453\"/>\n     <use style=\"fill:#4c72b0;stroke:#4c72b0;\" x=\"223.194959\" xlink:href=\"#md6f99c4466\" y=\"65.496276\"/>\n     <use style=\"fill:#4c72b0;stroke:#4c72b0;\" x=\"191.250292\" xlink:href=\"#md6f99c4466\" y=\"45.67264\"/>\n     <use style=\"fill:#4c72b0;stroke:#4c72b0;\" x=\"211.788195\" xlink:href=\"#md6f99c4466\" y=\"55.876325\"/>\n     <use style=\"fill:#4c72b0;stroke:#4c72b0;\" x=\"178.463038\" xlink:href=\"#md6f99c4466\" y=\"34.007654\"/>\n     <use style=\"fill:#4c72b0;stroke:#4c72b0;\" x=\"256.523026\" xlink:href=\"#md6f99c4466\" y=\"83.746536\"/>\n     <use style=\"fill:#4c72b0;stroke:#4c72b0;\" x=\"226.081661\" xlink:href=\"#md6f99c4466\" y=\"62.338698\"/>\n     <use style=\"fill:#4c72b0;stroke:#4c72b0;\" x=\"267.370872\" xlink:href=\"#md6f99c4466\" y=\"89.821171\"/>\n     <use style=\"fill:#4c72b0;stroke:#4c72b0;\" x=\"308.197173\" xlink:href=\"#md6f99c4466\" y=\"115.286738\"/>\n     <use style=\"fill:#4c72b0;stroke:#4c72b0;\" x=\"231.442149\" xlink:href=\"#md6f99c4466\" y=\"68.492647\"/>\n     <use style=\"fill:#4c72b0;stroke:#4c72b0;\" x=\"222.258795\" xlink:href=\"#md6f99c4466\" y=\"62.208475\"/>\n     <use style=\"fill:#4c72b0;stroke:#4c72b0;\" x=\"271.261692\" xlink:href=\"#md6f99c4466\" y=\"92.516357\"/>\n     <use style=\"fill:#4c72b0;stroke:#4c72b0;\" x=\"188.68104\" xlink:href=\"#md6f99c4466\" y=\"40.728285\"/>\n     <use style=\"fill:#4c72b0;stroke:#4c72b0;\" x=\"280.662207\" xlink:href=\"#md6f99c4466\" y=\"97.793652\"/>\n     <use style=\"fill:#4c72b0;stroke:#4c72b0;\" x=\"249.979046\" xlink:href=\"#md6f99c4466\" y=\"79.338168\"/>\n     <use style=\"fill:#4c72b0;stroke:#4c72b0;\" x=\"221.410754\" xlink:href=\"#md6f99c4466\" y=\"62.079357\"/>\n     <use style=\"fill:#4c72b0;stroke:#4c72b0;\" x=\"258.923158\" xlink:href=\"#md6f99c4466\" y=\"85.243757\"/>\n     <use style=\"fill:#4c72b0;stroke:#4c72b0;\" x=\"248.237257\" xlink:href=\"#md6f99c4466\" y=\"76.701341\"/>\n     <use style=\"fill:#4c72b0;stroke:#4c72b0;\" x=\"252.347251\" xlink:href=\"#md6f99c4466\" y=\"81.650096\"/>\n     <use style=\"fill:#4c72b0;stroke:#4c72b0;\" x=\"297.092661\" xlink:href=\"#md6f99c4466\" y=\"106.106982\"/>\n     <use style=\"fill:#4c72b0;stroke:#4c72b0;\" x=\"190.18317\" xlink:href=\"#md6f99c4466\" y=\"43.743136\"/>\n     <use style=\"fill:#4c72b0;stroke:#4c72b0;\" x=\"271.447798\" xlink:href=\"#md6f99c4466\" y=\"89.231597\"/>\n     <use style=\"fill:#4c72b0;stroke:#4c72b0;\" x=\"234.967106\" xlink:href=\"#md6f99c4466\" y=\"70.569227\"/>\n     <use style=\"fill:#4c72b0;stroke:#4c72b0;\" x=\"270.495376\" xlink:href=\"#md6f99c4466\" y=\"90.754486\"/>\n     <use style=\"fill:#4c72b0;stroke:#4c72b0;\" x=\"208.504906\" xlink:href=\"#md6f99c4466\" y=\"53.839046\"/>\n     <use style=\"fill:#4c72b0;stroke:#4c72b0;\" x=\"195.070444\" xlink:href=\"#md6f99c4466\" y=\"47.770011\"/>\n     <use style=\"fill:#4c72b0;stroke:#4c72b0;\" x=\"246.187991\" xlink:href=\"#md6f99c4466\" y=\"75.418313\"/>\n     <use style=\"fill:#4c72b0;stroke:#4c72b0;\" x=\"244.482192\" xlink:href=\"#md6f99c4466\" y=\"78.134614\"/>\n     <use style=\"fill:#4c72b0;stroke:#4c72b0;\" x=\"252.321656\" xlink:href=\"#md6f99c4466\" y=\"83.900511\"/>\n     <use style=\"fill:#4c72b0;stroke:#4c72b0;\" x=\"225.848721\" xlink:href=\"#md6f99c4466\" y=\"65.017414\"/>\n     <use style=\"fill:#4c72b0;stroke:#4c72b0;\" x=\"221.563847\" xlink:href=\"#md6f99c4466\" y=\"61.966724\"/>\n     <use style=\"fill:#4c72b0;stroke:#4c72b0;\" x=\"295.315763\" xlink:href=\"#md6f99c4466\" y=\"103.046843\"/>\n     <use style=\"fill:#4c72b0;stroke:#4c72b0;\" x=\"245.368972\" xlink:href=\"#md6f99c4466\" y=\"74.294495\"/>\n     <use style=\"fill:#4c72b0;stroke:#4c72b0;\" x=\"146.579482\" xlink:href=\"#md6f99c4466\" y=\"17.083636\"/>\n     <use style=\"fill:#4c72b0;stroke:#4c72b0;\" x=\"242.090192\" xlink:href=\"#md6f99c4466\" y=\"74.61842\"/>\n     <use style=\"fill:#4c72b0;stroke:#4c72b0;\" x=\"290.567113\" xlink:href=\"#md6f99c4466\" y=\"104.272046\"/>\n     <use style=\"fill:#4c72b0;stroke:#4c72b0;\" x=\"292.424692\" xlink:href=\"#md6f99c4466\" y=\"100.513635\"/>\n     <use style=\"fill:#4c72b0;stroke:#4c72b0;\" x=\"246.258951\" xlink:href=\"#md6f99c4466\" y=\"75.229717\"/>\n     <use style=\"fill:#4c72b0;stroke:#4c72b0;\" x=\"246.301024\" xlink:href=\"#md6f99c4466\" y=\"77.648461\"/>\n     <use style=\"fill:#4c72b0;stroke:#4c72b0;\" x=\"293.835986\" xlink:href=\"#md6f99c4466\" y=\"102.699089\"/>\n     <use style=\"fill:#4c72b0;stroke:#4c72b0;\" x=\"308.711047\" xlink:href=\"#md6f99c4466\" y=\"111.807213\"/>\n     <use style=\"fill:#4c72b0;stroke:#4c72b0;\" x=\"239.682287\" xlink:href=\"#md6f99c4466\" y=\"71.02948\"/>\n     <use style=\"fill:#4c72b0;stroke:#4c72b0;\" x=\"272.391557\" xlink:href=\"#md6f99c4466\" y=\"88.940025\"/>\n     <use style=\"fill:#4c72b0;stroke:#4c72b0;\" x=\"302.670573\" xlink:href=\"#md6f99c4466\" y=\"106.135343\"/>\n     <use style=\"fill:#4c72b0;stroke:#4c72b0;\" x=\"202.190744\" xlink:href=\"#md6f99c4466\" y=\"50.045645\"/>\n     <use style=\"fill:#4c72b0;stroke:#4c72b0;\" x=\"212.947093\" xlink:href=\"#md6f99c4466\" y=\"59.141348\"/>\n     <use style=\"fill:#4c72b0;stroke:#4c72b0;\" x=\"209.775212\" xlink:href=\"#md6f99c4466\" y=\"54.272192\"/>\n     <use style=\"fill:#4c72b0;stroke:#4c72b0;\" x=\"260.904401\" xlink:href=\"#md6f99c4466\" y=\"87.602916\"/>\n     <use style=\"fill:#4c72b0;stroke:#4c72b0;\" x=\"214.588425\" xlink:href=\"#md6f99c4466\" y=\"56.168498\"/>\n     <use style=\"fill:#4c72b0;stroke:#4c72b0;\" x=\"257.648866\" xlink:href=\"#md6f99c4466\" y=\"84.558967\"/>\n     <use style=\"fill:#4c72b0;stroke:#4c72b0;\" x=\"240.852056\" xlink:href=\"#md6f99c4466\" y=\"74.863171\"/>\n     <use style=\"fill:#4c72b0;stroke:#4c72b0;\" x=\"316.155528\" xlink:href=\"#md6f99c4466\" y=\"116.630953\"/>\n     <use style=\"fill:#4c72b0;stroke:#4c72b0;\" x=\"217.673875\" xlink:href=\"#md6f99c4466\" y=\"60.199978\"/>\n     <use style=\"fill:#4c72b0;stroke:#4c72b0;\" x=\"289.736697\" xlink:href=\"#md6f99c4466\" y=\"100.673329\"/>\n     <use style=\"fill:#4c72b0;stroke:#4c72b0;\" x=\"199.500559\" xlink:href=\"#md6f99c4466\" y=\"49.475096\"/>\n     <use style=\"fill:#4c72b0;stroke:#4c72b0;\" x=\"266.080478\" xlink:href=\"#md6f99c4466\" y=\"89.442073\"/>\n     <use style=\"fill:#4c72b0;stroke:#4c72b0;\" x=\"282.68718\" xlink:href=\"#md6f99c4466\" y=\"98.060435\"/>\n     <use style=\"fill:#4c72b0;stroke:#4c72b0;\" x=\"236.750058\" xlink:href=\"#md6f99c4466\" y=\"73.412117\"/>\n     <use style=\"fill:#4c72b0;stroke:#4c72b0;\" x=\"300.95037\" xlink:href=\"#md6f99c4466\" y=\"106.146163\"/>\n     <use style=\"fill:#4c72b0;stroke:#4c72b0;\" x=\"283.16514\" xlink:href=\"#md6f99c4466\" y=\"98.526009\"/>\n     <use style=\"fill:#4c72b0;stroke:#4c72b0;\" x=\"231.175439\" xlink:href=\"#md6f99c4466\" y=\"67.972065\"/>\n     <use style=\"fill:#4c72b0;stroke:#4c72b0;\" x=\"209.864555\" xlink:href=\"#md6f99c4466\" y=\"59.335531\"/>\n     <use style=\"fill:#4c72b0;stroke:#4c72b0;\" x=\"288.154312\" xlink:href=\"#md6f99c4466\" y=\"101.922581\"/>\n     <use style=\"fill:#4c72b0;stroke:#4c72b0;\" x=\"286.062091\" xlink:href=\"#md6f99c4466\" y=\"96.762871\"/>\n     <use style=\"fill:#4c72b0;stroke:#4c72b0;\" x=\"275.898602\" xlink:href=\"#md6f99c4466\" y=\"91.074979\"/>\n     <use style=\"fill:#4c72b0;stroke:#4c72b0;\" x=\"219.875396\" xlink:href=\"#md6f99c4466\" y=\"61.317718\"/>\n     <use style=\"fill:#4c72b0;stroke:#4c72b0;\" x=\"305.029221\" xlink:href=\"#md6f99c4466\" y=\"111.884896\"/>\n     <use style=\"fill:#4c72b0;stroke:#4c72b0;\" x=\"245.943345\" xlink:href=\"#md6f99c4466\" y=\"79.810646\"/>\n     <use style=\"fill:#4c72b0;stroke:#4c72b0;\" x=\"235.891298\" xlink:href=\"#md6f99c4466\" y=\"69.31286\"/>\n     <use style=\"fill:#4c72b0;stroke:#4c72b0;\" x=\"223.664546\" xlink:href=\"#md6f99c4466\" y=\"64.30279\"/>\n     <use style=\"fill:#4c72b0;stroke:#4c72b0;\" x=\"202.145814\" xlink:href=\"#md6f99c4466\" y=\"51.752558\"/>\n     <use style=\"fill:#4c72b0;stroke:#4c72b0;\" x=\"291.642283\" xlink:href=\"#md6f99c4466\" y=\"103.714789\"/>\n     <use style=\"fill:#4c72b0;stroke:#4c72b0;\" x=\"185.954734\" xlink:href=\"#md6f99c4466\" y=\"42.024616\"/>\n     <use style=\"fill:#4c72b0;stroke:#4c72b0;\" x=\"220.21408\" xlink:href=\"#md6f99c4466\" y=\"60.613091\"/>\n     <use style=\"fill:#4c72b0;stroke:#4c72b0;\" x=\"228.352842\" xlink:href=\"#md6f99c4466\" y=\"65.747073\"/>\n     <use style=\"fill:#4c72b0;stroke:#4c72b0;\" x=\"239.965201\" xlink:href=\"#md6f99c4466\" y=\"72.771248\"/>\n     <use style=\"fill:#4c72b0;stroke:#4c72b0;\" x=\"261.051378\" xlink:href=\"#md6f99c4466\" y=\"83.804442\"/>\n     <use style=\"fill:#4c72b0;stroke:#4c72b0;\" x=\"236.237852\" xlink:href=\"#md6f99c4466\" y=\"70.225572\"/>\n     <use style=\"fill:#4c72b0;stroke:#4c72b0;\" x=\"199.849344\" xlink:href=\"#md6f99c4466\" y=\"48.053247\"/>\n     <use style=\"fill:#4c72b0;stroke:#4c72b0;\" x=\"305.687417\" xlink:href=\"#md6f99c4466\" y=\"108.140437\"/>\n     <use style=\"fill:#4c72b0;stroke:#4c72b0;\" x=\"191.050717\" xlink:href=\"#md6f99c4466\" y=\"45.584336\"/>\n     <use style=\"fill:#4c72b0;stroke:#4c72b0;\" x=\"241.238276\" xlink:href=\"#md6f99c4466\" y=\"71.435111\"/>\n     <use style=\"fill:#4c72b0;stroke:#4c72b0;\" x=\"156.437925\" xlink:href=\"#md6f99c4466\" y=\"22.683204\"/>\n     <use style=\"fill:#4c72b0;stroke:#4c72b0;\" x=\"311.162019\" xlink:href=\"#md6f99c4466\" y=\"114.763295\"/>\n     <use style=\"fill:#4c72b0;stroke:#4c72b0;\" x=\"214.059719\" xlink:href=\"#md6f99c4466\" y=\"60.111622\"/>\n     <use style=\"fill:#4c72b0;stroke:#4c72b0;\" x=\"251.043482\" xlink:href=\"#md6f99c4466\" y=\"78.643556\"/>\n     <use style=\"fill:#4c72b0;stroke:#4c72b0;\" x=\"167.091447\" xlink:href=\"#md6f99c4466\" y=\"31.334645\"/>\n     <use style=\"fill:#4c72b0;stroke:#4c72b0;\" x=\"196.992013\" xlink:href=\"#md6f99c4466\" y=\"48.782106\"/>\n     <use style=\"fill:#4c72b0;stroke:#4c72b0;\" x=\"199.670252\" xlink:href=\"#md6f99c4466\" y=\"50.969553\"/>\n     <use style=\"fill:#4c72b0;stroke:#4c72b0;\" x=\"294.244967\" xlink:href=\"#md6f99c4466\" y=\"103.179341\"/>\n     <use style=\"fill:#4c72b0;stroke:#4c72b0;\" x=\"241.523523\" xlink:href=\"#md6f99c4466\" y=\"75.179974\"/>\n     <use style=\"fill:#4c72b0;stroke:#4c72b0;\" x=\"335.55468\" xlink:href=\"#md6f99c4466\" y=\"129.172791\"/>\n     <use style=\"fill:#4c72b0;stroke:#4c72b0;\" x=\"237.284084\" xlink:href=\"#md6f99c4466\" y=\"71.415852\"/>\n     <use style=\"fill:#4c72b0;stroke:#4c72b0;\" x=\"273.590902\" xlink:href=\"#md6f99c4466\" y=\"87.67398\"/>\n     <use style=\"fill:#4c72b0;stroke:#4c72b0;\" x=\"199.340497\" xlink:href=\"#md6f99c4466\" y=\"47.441766\"/>\n     <use style=\"fill:#4c72b0;stroke:#4c72b0;\" x=\"202.870803\" xlink:href=\"#md6f99c4466\" y=\"52.865393\"/>\n     <use style=\"fill:#4c72b0;stroke:#4c72b0;\" x=\"214.874485\" xlink:href=\"#md6f99c4466\" y=\"58.189074\"/>\n     <use style=\"fill:#4c72b0;stroke:#4c72b0;\" x=\"281.630979\" xlink:href=\"#md6f99c4466\" y=\"97.191778\"/>\n     <use style=\"fill:#4c72b0;stroke:#4c72b0;\" x=\"260.673346\" xlink:href=\"#md6f99c4466\" y=\"83.760446\"/>\n     <use style=\"fill:#4c72b0;stroke:#4c72b0;\" x=\"243.087456\" xlink:href=\"#md6f99c4466\" y=\"76.029707\"/>\n     <use style=\"fill:#4c72b0;stroke:#4c72b0;\" x=\"310.531774\" xlink:href=\"#md6f99c4466\" y=\"114.42662\"/>\n     <use style=\"fill:#4c72b0;stroke:#4c72b0;\" x=\"273.941128\" xlink:href=\"#md6f99c4466\" y=\"93.338485\"/>\n     <use style=\"fill:#4c72b0;stroke:#4c72b0;\" x=\"284.567901\" xlink:href=\"#md6f99c4466\" y=\"99.521253\"/>\n     <use style=\"fill:#4c72b0;stroke:#4c72b0;\" x=\"212.157445\" xlink:href=\"#md6f99c4466\" y=\"59.862709\"/>\n     <use style=\"fill:#4c72b0;stroke:#4c72b0;\" x=\"270.795109\" xlink:href=\"#md6f99c4466\" y=\"93.566225\"/>\n     <use style=\"fill:#4c72b0;stroke:#4c72b0;\" x=\"295.364689\" xlink:href=\"#md6f99c4466\" y=\"103.19792\"/>\n     <use style=\"fill:#4c72b0;stroke:#4c72b0;\" x=\"222.129299\" xlink:href=\"#md6f99c4466\" y=\"63.525148\"/>\n     <use style=\"fill:#4c72b0;stroke:#4c72b0;\" x=\"258.919109\" xlink:href=\"#md6f99c4466\" y=\"83.026932\"/>\n     <use style=\"fill:#4c72b0;stroke:#4c72b0;\" x=\"191.437811\" xlink:href=\"#md6f99c4466\" y=\"44.951336\"/>\n     <use style=\"fill:#4c72b0;stroke:#4c72b0;\" x=\"225.850243\" xlink:href=\"#md6f99c4466\" y=\"65.450847\"/>\n     <use style=\"fill:#4c72b0;stroke:#4c72b0;\" x=\"241.041169\" xlink:href=\"#md6f99c4466\" y=\"72.758679\"/>\n     <use style=\"fill:#4c72b0;stroke:#4c72b0;\" x=\"260.35426\" xlink:href=\"#md6f99c4466\" y=\"82.680456\"/>\n     <use style=\"fill:#4c72b0;stroke:#4c72b0;\" x=\"252.236965\" xlink:href=\"#md6f99c4466\" y=\"78.948148\"/>\n     <use style=\"fill:#4c72b0;stroke:#4c72b0;\" x=\"199.078779\" xlink:href=\"#md6f99c4466\" y=\"50.164463\"/>\n     <use style=\"fill:#4c72b0;stroke:#4c72b0;\" x=\"273.547372\" xlink:href=\"#md6f99c4466\" y=\"92.223515\"/>\n     <use style=\"fill:#4c72b0;stroke:#4c72b0;\" x=\"333.907528\" xlink:href=\"#md6f99c4466\" y=\"127.095056\"/>\n     <use style=\"fill:#4c72b0;stroke:#4c72b0;\" x=\"313.625419\" xlink:href=\"#md6f99c4466\" y=\"114.143273\"/>\n     <use style=\"fill:#4c72b0;stroke:#4c72b0;\" x=\"291.657071\" xlink:href=\"#md6f99c4466\" y=\"101.144069\"/>\n     <use style=\"fill:#4c72b0;stroke:#4c72b0;\" x=\"216.126745\" xlink:href=\"#md6f99c4466\" y=\"56.698337\"/>\n     <use style=\"fill:#4c72b0;stroke:#4c72b0;\" x=\"243.559853\" xlink:href=\"#md6f99c4466\" y=\"75.505013\"/>\n     <use style=\"fill:#4c72b0;stroke:#4c72b0;\" x=\"223.615469\" xlink:href=\"#md6f99c4466\" y=\"63.19124\"/>\n     <use style=\"fill:#4c72b0;stroke:#4c72b0;\" x=\"254.599785\" xlink:href=\"#md6f99c4466\" y=\"82.805809\"/>\n     <use style=\"fill:#4c72b0;stroke:#4c72b0;\" x=\"303.116773\" xlink:href=\"#md6f99c4466\" y=\"109.406937\"/>\n     <use style=\"fill:#4c72b0;stroke:#4c72b0;\" x=\"226.111948\" xlink:href=\"#md6f99c4466\" y=\"63.933851\"/>\n     <use style=\"fill:#4c72b0;stroke:#4c72b0;\" x=\"231.928982\" xlink:href=\"#md6f99c4466\" y=\"68.978427\"/>\n     <use style=\"fill:#4c72b0;stroke:#4c72b0;\" x=\"177.440502\" xlink:href=\"#md6f99c4466\" y=\"41.153821\"/>\n    </g>\n   </g>\n   <g id=\"PathCollection_2\">\n    <defs>\n     <path d=\"M 0 3 \nC 0.795609 3 1.55874 2.683901 2.12132 2.12132 \nC 2.683901 1.55874 3 0.795609 3 0 \nC 3 -0.795609 2.683901 -1.55874 2.12132 -2.12132 \nC 1.55874 -2.683901 0.795609 -3 0 -3 \nC -0.795609 -3 -1.55874 -2.683901 -2.12132 -2.12132 \nC -2.683901 -1.55874 -3 -0.795609 -3 0 \nC -3 0.795609 -2.683901 1.55874 -2.12132 2.12132 \nC -1.55874 2.683901 -0.795609 3 0 3 \nz\n\" id=\"m45bf191ee2\" style=\"stroke:#dd8452;\"/>\n    </defs>\n    <g clip-path=\"url(#pc5ce22d10b)\">\n     <use style=\"fill:#dd8452;stroke:#dd8452;\" x=\"176.79389\" xlink:href=\"#m45bf191ee2\" y=\"159.78991\"/>\n     <use style=\"fill:#dd8452;stroke:#dd8452;\" x=\"71.718928\" xlink:href=\"#m45bf191ee2\" y=\"149.016996\"/>\n     <use style=\"fill:#dd8452;stroke:#dd8452;\" x=\"165.037481\" xlink:href=\"#m45bf191ee2\" y=\"198.384822\"/>\n     <use style=\"fill:#dd8452;stroke:#dd8452;\" x=\"150.348914\" xlink:href=\"#m45bf191ee2\" y=\"168.368372\"/>\n     <use style=\"fill:#dd8452;stroke:#dd8452;\" x=\"80.631149\" xlink:href=\"#m45bf191ee2\" y=\"141.837918\"/>\n     <use style=\"fill:#dd8452;stroke:#dd8452;\" x=\"48.134588\" xlink:href=\"#m45bf191ee2\" y=\"118.470185\"/>\n     <use style=\"fill:#dd8452;stroke:#dd8452;\" x=\"185.927277\" xlink:href=\"#m45bf191ee2\" y=\"214.756364\"/>\n     <use style=\"fill:#dd8452;stroke:#dd8452;\" x=\"166.131619\" xlink:href=\"#m45bf191ee2\" y=\"152.270627\"/>\n     <use style=\"fill:#dd8452;stroke:#dd8452;\" x=\"112.980462\" xlink:href=\"#m45bf191ee2\" y=\"107.018901\"/>\n     <use style=\"fill:#dd8452;stroke:#dd8452;\" x=\"109.129016\" xlink:href=\"#m45bf191ee2\" y=\"150.758869\"/>\n    </g>\n   </g>\n   <g id=\"patch_3\">\n    <path d=\"M 32.916406 224.64 \nL 32.916406 7.2 \n\" style=\"fill:none;stroke:#ffffff;stroke-linecap:square;stroke-linejoin:miter;stroke-width:1.25;\"/>\n   </g>\n   <g id=\"patch_4\">\n    <path d=\"M 367.716406 224.64 \nL 367.716406 7.2 \n\" style=\"fill:none;stroke:#ffffff;stroke-linecap:square;stroke-linejoin:miter;stroke-width:1.25;\"/>\n   </g>\n   <g id=\"patch_5\">\n    <path d=\"M 32.916406 224.64 \nL 367.716406 224.64 \n\" style=\"fill:none;stroke:#ffffff;stroke-linecap:square;stroke-linejoin:miter;stroke-width:1.25;\"/>\n   </g>\n   <g id=\"patch_6\">\n    <path d=\"M 32.916406 7.2 \nL 367.716406 7.2 \n\" style=\"fill:none;stroke:#ffffff;stroke-linecap:square;stroke-linejoin:miter;stroke-width:1.25;\"/>\n   </g>\n   <g id=\"legend_1\">\n    <g id=\"patch_7\">\n     <path d=\"M 317.817656 48.291875 \nL 360.016406 48.291875 \nQ 362.216406 48.291875 362.216406 46.091875 \nL 362.216406 14.9 \nQ 362.216406 12.7 360.016406 12.7 \nL 317.817656 12.7 \nQ 315.617656 12.7 315.617656 14.9 \nL 315.617656 46.091875 \nQ 315.617656 48.291875 317.817656 48.291875 \nz\n\" style=\"fill:#eaeaf2;opacity:0.8;stroke:#cccccc;stroke-linejoin:miter;\"/>\n    </g>\n    <g id=\"PathCollection_3\">\n     <g>\n      <use style=\"fill:#4c72b0;stroke:#4c72b0;\" x=\"331.017656\" xlink:href=\"#md6f99c4466\" y=\"22.570781\"/>\n     </g>\n    </g>\n    <g id=\"text_12\">\n     <!-- 0 -->\n     <g style=\"fill:#262626;\" transform=\"translate(350.817656 25.458281)scale(0.11 -0.11)\">\n      <use xlink:href=\"#DejaVuSans-30\"/>\n     </g>\n    </g>\n    <g id=\"PathCollection_4\">\n     <g>\n      <use style=\"fill:#dd8452;stroke:#dd8452;\" x=\"331.017656\" xlink:href=\"#m45bf191ee2\" y=\"38.716719\"/>\n     </g>\n    </g>\n    <g id=\"text_13\">\n     <!-- 1 -->\n     <g style=\"fill:#262626;\" transform=\"translate(350.817656 41.604219)scale(0.11 -0.11)\">\n      <use xlink:href=\"#DejaVuSans-31\"/>\n     </g>\n    </g>\n   </g>\n  </g>\n </g>\n <defs>\n  <clipPath id=\"pc5ce22d10b\">\n   <rect height=\"217.44\" width=\"334.8\" x=\"32.916406\" y=\"7.2\"/>\n  </clipPath>\n </defs>\n</svg>\n",
      "image/png": "[encoded data removed]"
     },
     "metadata": {}
    }
   ],
   "source": [
    "# scatter plot of examples by class label\n",
    "for label, _ in counter.items():\n",
    "\trow_ix = where(y == label)[0]\n",
    "\tpyplot.scatter(X[row_ix, 0], X[row_ix, 1], label=str(label))\n",
    "    \n",
    "pyplot.legend()\n",
    "pyplot.show()"
   ]
  },
  {
   "source": [
    "## Data Summary"
   ],
   "cell_type": "markdown",
   "metadata": {}
  },
  {
   "cell_type": "code",
   "execution_count": 44,
   "metadata": {},
   "outputs": [
    {
     "output_type": "execute_result",
     "data": {
      "text/plain": [
       "                        sample_mean  real_mean  abs_error\n",
       "Cluster Sampling           3135.238   3281.828    146.590\n",
       "Systematic Sampling        3499.420   3281.828    217.592\n",
       "Simple Random Sampling     3621.331   3281.828    339.503\n",
       "Stratified Sampling        3643.000   3281.828    361.172"
      ],
      "text/html": "<div>\n<style scoped>\n    .dataframe tbody tr th:only-of-type {\n        vertical-align: middle;\n    }\n\n    .dataframe tbody tr th {\n        vertical-align: top;\n    }\n\n    .dataframe thead th {\n        text-align: right;\n    }\n</style>\n<table border=\"1\" class=\"dataframe\">\n  <thead>\n    <tr style=\"text-align: right;\">\n      <th></th>\n      <th>sample_mean</th>\n      <th>real_mean</th>\n      <th>abs_error</th>\n    </tr>\n  </thead>\n  <tbody>\n    <tr>\n      <th>Cluster Sampling</th>\n      <td>3135.238</td>\n      <td>3281.828</td>\n      <td>146.590</td>\n    </tr>\n    <tr>\n      <th>Systematic Sampling</th>\n      <td>3499.420</td>\n      <td>3281.828</td>\n      <td>217.592</td>\n    </tr>\n    <tr>\n      <th>Simple Random Sampling</th>\n      <td>3621.331</td>\n      <td>3281.828</td>\n      <td>339.503</td>\n    </tr>\n    <tr>\n      <th>Stratified Sampling</th>\n      <td>3643.000</td>\n      <td>3281.828</td>\n      <td>361.172</td>\n    </tr>\n  </tbody>\n</table>\n</div>"
     },
     "metadata": {},
     "execution_count": 44
    }
   ],
   "source": [
    "# Create a dictionary with the mean outcomes\n",
    "outcomes = {'sample_mean':[simple_random_mean, systematic_mean, stratified_mean, cluster_mean],'real_mean':real_mean}\n",
    "\n",
    "# Transform dictionary into a data frame\n",
    "outcomes = pd.DataFrame(outcomes, index=['Simple Random Sampling','Systematic Sampling','Stratified Sampling','Cluster Sampling'])\n",
    "\n",
    "# Add a value corresponding to the absolute error\n",
    "outcomes['abs_error'] = abs(outcomes['real_mean'] - outcomes['sample_mean'])\n",
    "\n",
    "# Sort data frame by absolute error\n",
    "outcomes.sort_values(by='abs_error')"
   ]
  },
  {
   "cell_type": "code",
   "execution_count": 45,
   "metadata": {},
   "outputs": [
    {
     "output_type": "execute_result",
     "data": {
      "text/plain": [
       "Text(0.5, 0, 'Stratified - Salary (millions of dollars) - Stratified Sample k=100')"
      ]
     },
     "metadata": {},
     "execution_count": 45
    },
    {
     "output_type": "display_data",
     "data": {
      "text/plain": "<Figure size 1440x576 with 4 Axes>",
      "image/svg+xml": "<?xml version=\"1.0\" encoding=\"utf-8\" standalone=\"no\"?>\n<!DOCTYPE svg PUBLIC \"-//W3C//DTD SVG 1.1//EN\"\n  \"http://www.w3.org/Graphics/SVG/1.1/DTD/svg11.dtd\">\n<svg height=\"500.157812pt\" version=\"1.1\" viewBox=\"0 0 1130.4 500.157812\" width=\"1130.4pt\" xmlns=\"http://www.w3.org/2000/svg\" xmlns:xlink=\"http://www.w3.org/1999/xlink\">\n <metadata>\n  <rdf:RDF xmlns:cc=\"http://creativecommons.org/ns#\" xmlns:dc=\"http://purl.org/dc/elements/1.1/\" xmlns:rdf=\"http://www.w3.org/1999/02/22-rdf-syntax-ns#\">\n   <cc:Work>\n    <dc:type rdf:resource=\"http://purl.org/dc/dcmitype/StillImage\"/>\n    <dc:date>2021-04-21T11:22:08.716952</dc:date>\n    <dc:format>image/svg+xml</dc:format>\n    <dc:creator>\n     <cc:Agent>\n      <dc:title>Matplotlib v3.4.1, https://matplotlib.org/</dc:title>\n     </cc:Agent>\n    </dc:creator>\n   </cc:Work>\n  </rdf:RDF>\n </metadata>\n <defs>\n  <style type=\"text/css\">*{stroke-linecap:butt;stroke-linejoin:round;}</style>\n </defs>\n <g id=\"figure_1\">\n  <g id=\"patch_1\">\n   <path d=\"M 0 500.157812 \nL 1130.4 500.157812 \nL 1130.4 0 \nL 0 0 \nz\n\" style=\"fill:#ffffff;\"/>\n  </g>\n  <g id=\"axes_1\">\n   <g id=\"patch_2\">\n    <path d=\"M 7.2 219.990852 \nL 514.472727 219.990852 \nL 514.472727 22.318125 \nL 7.2 22.318125 \nz\n\" style=\"fill:#eaeaf2;\"/>\n   </g>\n   <g id=\"matplotlib.axis_1\">\n    <g id=\"xtick_1\">\n     <g id=\"line2d_1\">\n      <path clip-path=\"url(#pac5330c67a)\" d=\"M 24.599483 219.990852 \nL 24.599483 22.318125 \n\" style=\"fill:none;stroke:#ffffff;stroke-linecap:round;\"/>\n     </g>\n     <g id=\"text_1\">\n      <!-- 0 -->\n      <g style=\"fill:#262626;\" transform=\"translate(21.100108 237.849134)scale(0.11 -0.11)\">\n       <defs>\n        <path d=\"M 2034 4250 \nQ 1547 4250 1301 3770 \nQ 1056 3291 1056 2328 \nQ 1056 1369 1301 889 \nQ 1547 409 2034 409 \nQ 2525 409 2770 889 \nQ 3016 1369 3016 2328 \nQ 3016 3291 2770 3770 \nQ 2525 4250 2034 4250 \nz\nM 2034 4750 \nQ 2819 4750 3233 4129 \nQ 3647 3509 3647 2328 \nQ 3647 1150 3233 529 \nQ 2819 -91 2034 -91 \nQ 1250 -91 836 529 \nQ 422 1150 422 2328 \nQ 422 3509 836 4129 \nQ 1250 4750 2034 4750 \nz\n\" id=\"DejaVuSans-30\" transform=\"scale(0.015625)\"/>\n       </defs>\n       <use xlink:href=\"#DejaVuSans-30\"/>\n      </g>\n     </g>\n    </g>\n    <g id=\"xtick_2\">\n     <g id=\"line2d_2\">\n      <path clip-path=\"url(#pac5330c67a)\" d=\"M 95.329088 219.990852 \nL 95.329088 22.318125 \n\" style=\"fill:none;stroke:#ffffff;stroke-linecap:round;\"/>\n     </g>\n     <g id=\"text_2\">\n      <!-- 5000 -->\n      <g style=\"fill:#262626;\" transform=\"translate(81.331588 237.849134)scale(0.11 -0.11)\">\n       <defs>\n        <path d=\"M 691 4666 \nL 3169 4666 \nL 3169 4134 \nL 1269 4134 \nL 1269 2991 \nQ 1406 3038 1543 3061 \nQ 1681 3084 1819 3084 \nQ 2600 3084 3056 2656 \nQ 3513 2228 3513 1497 \nQ 3513 744 3044 326 \nQ 2575 -91 1722 -91 \nQ 1428 -91 1123 -41 \nQ 819 9 494 109 \nL 494 744 \nQ 775 591 1075 516 \nQ 1375 441 1709 441 \nQ 2250 441 2565 725 \nQ 2881 1009 2881 1497 \nQ 2881 1984 2565 2268 \nQ 2250 2553 1709 2553 \nQ 1456 2553 1204 2497 \nQ 953 2441 691 2322 \nL 691 4666 \nz\n\" id=\"DejaVuSans-35\" transform=\"scale(0.015625)\"/>\n       </defs>\n       <use xlink:href=\"#DejaVuSans-35\"/>\n       <use x=\"63.623047\" xlink:href=\"#DejaVuSans-30\"/>\n       <use x=\"127.246094\" xlink:href=\"#DejaVuSans-30\"/>\n       <use x=\"190.869141\" xlink:href=\"#DejaVuSans-30\"/>\n      </g>\n     </g>\n    </g>\n    <g id=\"xtick_3\">\n     <g id=\"line2d_3\">\n      <path clip-path=\"url(#pac5330c67a)\" d=\"M 166.058693 219.990852 \nL 166.058693 22.318125 \n\" style=\"fill:none;stroke:#ffffff;stroke-linecap:round;\"/>\n     </g>\n     <g id=\"text_3\">\n      <!-- 10000 -->\n      <g style=\"fill:#262626;\" transform=\"translate(148.561818 237.849134)scale(0.11 -0.11)\">\n       <defs>\n        <path d=\"M 794 531 \nL 1825 531 \nL 1825 4091 \nL 703 3866 \nL 703 4441 \nL 1819 4666 \nL 2450 4666 \nL 2450 531 \nL 3481 531 \nL 3481 0 \nL 794 0 \nL 794 531 \nz\n\" id=\"DejaVuSans-31\" transform=\"scale(0.015625)\"/>\n       </defs>\n       <use xlink:href=\"#DejaVuSans-31\"/>\n       <use x=\"63.623047\" xlink:href=\"#DejaVuSans-30\"/>\n       <use x=\"127.246094\" xlink:href=\"#DejaVuSans-30\"/>\n       <use x=\"190.869141\" xlink:href=\"#DejaVuSans-30\"/>\n       <use x=\"254.492188\" xlink:href=\"#DejaVuSans-30\"/>\n      </g>\n     </g>\n    </g>\n    <g id=\"xtick_4\">\n     <g id=\"line2d_4\">\n      <path clip-path=\"url(#pac5330c67a)\" d=\"M 236.788298 219.990852 \nL 236.788298 22.318125 \n\" style=\"fill:none;stroke:#ffffff;stroke-linecap:round;\"/>\n     </g>\n     <g id=\"text_4\">\n      <!-- 15000 -->\n      <g style=\"fill:#262626;\" transform=\"translate(219.291423 237.849134)scale(0.11 -0.11)\">\n       <use xlink:href=\"#DejaVuSans-31\"/>\n       <use x=\"63.623047\" xlink:href=\"#DejaVuSans-35\"/>\n       <use x=\"127.246094\" xlink:href=\"#DejaVuSans-30\"/>\n       <use x=\"190.869141\" xlink:href=\"#DejaVuSans-30\"/>\n       <use x=\"254.492188\" xlink:href=\"#DejaVuSans-30\"/>\n      </g>\n     </g>\n    </g>\n    <g id=\"xtick_5\">\n     <g id=\"line2d_5\">\n      <path clip-path=\"url(#pac5330c67a)\" d=\"M 307.517903 219.990852 \nL 307.517903 22.318125 \n\" style=\"fill:none;stroke:#ffffff;stroke-linecap:round;\"/>\n     </g>\n     <g id=\"text_5\">\n      <!-- 20000 -->\n      <g style=\"fill:#262626;\" transform=\"translate(290.021028 237.849134)scale(0.11 -0.11)\">\n       <defs>\n        <path d=\"M 1228 531 \nL 3431 531 \nL 3431 0 \nL 469 0 \nL 469 531 \nQ 828 903 1448 1529 \nQ 2069 2156 2228 2338 \nQ 2531 2678 2651 2914 \nQ 2772 3150 2772 3378 \nQ 2772 3750 2511 3984 \nQ 2250 4219 1831 4219 \nQ 1534 4219 1204 4116 \nQ 875 4013 500 3803 \nL 500 4441 \nQ 881 4594 1212 4672 \nQ 1544 4750 1819 4750 \nQ 2544 4750 2975 4387 \nQ 3406 4025 3406 3419 \nQ 3406 3131 3298 2873 \nQ 3191 2616 2906 2266 \nQ 2828 2175 2409 1742 \nQ 1991 1309 1228 531 \nz\n\" id=\"DejaVuSans-32\" transform=\"scale(0.015625)\"/>\n       </defs>\n       <use xlink:href=\"#DejaVuSans-32\"/>\n       <use x=\"63.623047\" xlink:href=\"#DejaVuSans-30\"/>\n       <use x=\"127.246094\" xlink:href=\"#DejaVuSans-30\"/>\n       <use x=\"190.869141\" xlink:href=\"#DejaVuSans-30\"/>\n       <use x=\"254.492188\" xlink:href=\"#DejaVuSans-30\"/>\n      </g>\n     </g>\n    </g>\n    <g id=\"xtick_6\">\n     <g id=\"line2d_6\">\n      <path clip-path=\"url(#pac5330c67a)\" d=\"M 378.247508 219.990852 \nL 378.247508 22.318125 \n\" style=\"fill:none;stroke:#ffffff;stroke-linecap:round;\"/>\n     </g>\n     <g id=\"text_6\">\n      <!-- 25000 -->\n      <g style=\"fill:#262626;\" transform=\"translate(360.750633 237.849134)scale(0.11 -0.11)\">\n       <use xlink:href=\"#DejaVuSans-32\"/>\n       <use x=\"63.623047\" xlink:href=\"#DejaVuSans-35\"/>\n       <use x=\"127.246094\" xlink:href=\"#DejaVuSans-30\"/>\n       <use x=\"190.869141\" xlink:href=\"#DejaVuSans-30\"/>\n       <use x=\"254.492188\" xlink:href=\"#DejaVuSans-30\"/>\n      </g>\n     </g>\n    </g>\n    <g id=\"xtick_7\">\n     <g id=\"line2d_7\">\n      <path clip-path=\"url(#pac5330c67a)\" d=\"M 448.977113 219.990852 \nL 448.977113 22.318125 \n\" style=\"fill:none;stroke:#ffffff;stroke-linecap:round;\"/>\n     </g>\n     <g id=\"text_7\">\n      <!-- 30000 -->\n      <g style=\"fill:#262626;\" transform=\"translate(431.480238 237.849134)scale(0.11 -0.11)\">\n       <defs>\n        <path d=\"M 2597 2516 \nQ 3050 2419 3304 2112 \nQ 3559 1806 3559 1356 \nQ 3559 666 3084 287 \nQ 2609 -91 1734 -91 \nQ 1441 -91 1130 -33 \nQ 819 25 488 141 \nL 488 750 \nQ 750 597 1062 519 \nQ 1375 441 1716 441 \nQ 2309 441 2620 675 \nQ 2931 909 2931 1356 \nQ 2931 1769 2642 2001 \nQ 2353 2234 1838 2234 \nL 1294 2234 \nL 1294 2753 \nL 1863 2753 \nQ 2328 2753 2575 2939 \nQ 2822 3125 2822 3475 \nQ 2822 3834 2567 4026 \nQ 2313 4219 1838 4219 \nQ 1578 4219 1281 4162 \nQ 984 4106 628 3988 \nL 628 4550 \nQ 988 4650 1302 4700 \nQ 1616 4750 1894 4750 \nQ 2613 4750 3031 4423 \nQ 3450 4097 3450 3541 \nQ 3450 3153 3228 2886 \nQ 3006 2619 2597 2516 \nz\n\" id=\"DejaVuSans-33\" transform=\"scale(0.015625)\"/>\n       </defs>\n       <use xlink:href=\"#DejaVuSans-33\"/>\n       <use x=\"63.623047\" xlink:href=\"#DejaVuSans-30\"/>\n       <use x=\"127.246094\" xlink:href=\"#DejaVuSans-30\"/>\n       <use x=\"190.869141\" xlink:href=\"#DejaVuSans-30\"/>\n       <use x=\"254.492188\" xlink:href=\"#DejaVuSans-30\"/>\n      </g>\n     </g>\n    </g>\n    <g id=\"text_8\">\n     <!-- POPULATION - Salary (millions of dollars) -->\n     <g style=\"fill:#262626;\" transform=\"translate(138.516051 253.254915)scale(0.12 -0.12)\">\n      <defs>\n       <path d=\"M 1259 4147 \nL 1259 2394 \nL 2053 2394 \nQ 2494 2394 2734 2622 \nQ 2975 2850 2975 3272 \nQ 2975 3691 2734 3919 \nQ 2494 4147 2053 4147 \nL 1259 4147 \nz\nM 628 4666 \nL 2053 4666 \nQ 2838 4666 3239 4311 \nQ 3641 3956 3641 3272 \nQ 3641 2581 3239 2228 \nQ 2838 1875 2053 1875 \nL 1259 1875 \nL 1259 0 \nL 628 0 \nL 628 4666 \nz\n\" id=\"DejaVuSans-50\" transform=\"scale(0.015625)\"/>\n       <path d=\"M 2522 4238 \nQ 1834 4238 1429 3725 \nQ 1025 3213 1025 2328 \nQ 1025 1447 1429 934 \nQ 1834 422 2522 422 \nQ 3209 422 3611 934 \nQ 4013 1447 4013 2328 \nQ 4013 3213 3611 3725 \nQ 3209 4238 2522 4238 \nz\nM 2522 4750 \nQ 3503 4750 4090 4092 \nQ 4678 3434 4678 2328 \nQ 4678 1225 4090 567 \nQ 3503 -91 2522 -91 \nQ 1538 -91 948 565 \nQ 359 1222 359 2328 \nQ 359 3434 948 4092 \nQ 1538 4750 2522 4750 \nz\n\" id=\"DejaVuSans-4f\" transform=\"scale(0.015625)\"/>\n       <path d=\"M 556 4666 \nL 1191 4666 \nL 1191 1831 \nQ 1191 1081 1462 751 \nQ 1734 422 2344 422 \nQ 2950 422 3222 751 \nQ 3494 1081 3494 1831 \nL 3494 4666 \nL 4128 4666 \nL 4128 1753 \nQ 4128 841 3676 375 \nQ 3225 -91 2344 -91 \nQ 1459 -91 1007 375 \nQ 556 841 556 1753 \nL 556 4666 \nz\n\" id=\"DejaVuSans-55\" transform=\"scale(0.015625)\"/>\n       <path d=\"M 628 4666 \nL 1259 4666 \nL 1259 531 \nL 3531 531 \nL 3531 0 \nL 628 0 \nL 628 4666 \nz\n\" id=\"DejaVuSans-4c\" transform=\"scale(0.015625)\"/>\n       <path d=\"M 2188 4044 \nL 1331 1722 \nL 3047 1722 \nL 2188 4044 \nz\nM 1831 4666 \nL 2547 4666 \nL 4325 0 \nL 3669 0 \nL 3244 1197 \nL 1141 1197 \nL 716 0 \nL 50 0 \nL 1831 4666 \nz\n\" id=\"DejaVuSans-41\" transform=\"scale(0.015625)\"/>\n       <path d=\"M -19 4666 \nL 3928 4666 \nL 3928 4134 \nL 2272 4134 \nL 2272 0 \nL 1638 0 \nL 1638 4134 \nL -19 4134 \nL -19 4666 \nz\n\" id=\"DejaVuSans-54\" transform=\"scale(0.015625)\"/>\n       <path d=\"M 628 4666 \nL 1259 4666 \nL 1259 0 \nL 628 0 \nL 628 4666 \nz\n\" id=\"DejaVuSans-49\" transform=\"scale(0.015625)\"/>\n       <path d=\"M 628 4666 \nL 1478 4666 \nL 3547 763 \nL 3547 4666 \nL 4159 4666 \nL 4159 0 \nL 3309 0 \nL 1241 3903 \nL 1241 0 \nL 628 0 \nL 628 4666 \nz\n\" id=\"DejaVuSans-4e\" transform=\"scale(0.015625)\"/>\n       <path id=\"DejaVuSans-20\" transform=\"scale(0.015625)\"/>\n       <path d=\"M 313 2009 \nL 1997 2009 \nL 1997 1497 \nL 313 1497 \nL 313 2009 \nz\n\" id=\"DejaVuSans-2d\" transform=\"scale(0.015625)\"/>\n       <path d=\"M 3425 4513 \nL 3425 3897 \nQ 3066 4069 2747 4153 \nQ 2428 4238 2131 4238 \nQ 1616 4238 1336 4038 \nQ 1056 3838 1056 3469 \nQ 1056 3159 1242 3001 \nQ 1428 2844 1947 2747 \nL 2328 2669 \nQ 3034 2534 3370 2195 \nQ 3706 1856 3706 1288 \nQ 3706 609 3251 259 \nQ 2797 -91 1919 -91 \nQ 1588 -91 1214 -16 \nQ 841 59 441 206 \nL 441 856 \nQ 825 641 1194 531 \nQ 1563 422 1919 422 \nQ 2459 422 2753 634 \nQ 3047 847 3047 1241 \nQ 3047 1584 2836 1778 \nQ 2625 1972 2144 2069 \nL 1759 2144 \nQ 1053 2284 737 2584 \nQ 422 2884 422 3419 \nQ 422 4038 858 4394 \nQ 1294 4750 2059 4750 \nQ 2388 4750 2728 4690 \nQ 3069 4631 3425 4513 \nz\n\" id=\"DejaVuSans-53\" transform=\"scale(0.015625)\"/>\n       <path d=\"M 2194 1759 \nQ 1497 1759 1228 1600 \nQ 959 1441 959 1056 \nQ 959 750 1161 570 \nQ 1363 391 1709 391 \nQ 2188 391 2477 730 \nQ 2766 1069 2766 1631 \nL 2766 1759 \nL 2194 1759 \nz\nM 3341 1997 \nL 3341 0 \nL 2766 0 \nL 2766 531 \nQ 2569 213 2275 61 \nQ 1981 -91 1556 -91 \nQ 1019 -91 701 211 \nQ 384 513 384 1019 \nQ 384 1609 779 1909 \nQ 1175 2209 1959 2209 \nL 2766 2209 \nL 2766 2266 \nQ 2766 2663 2505 2880 \nQ 2244 3097 1772 3097 \nQ 1472 3097 1187 3025 \nQ 903 2953 641 2809 \nL 641 3341 \nQ 956 3463 1253 3523 \nQ 1550 3584 1831 3584 \nQ 2591 3584 2966 3190 \nQ 3341 2797 3341 1997 \nz\n\" id=\"DejaVuSans-61\" transform=\"scale(0.015625)\"/>\n       <path d=\"M 603 4863 \nL 1178 4863 \nL 1178 0 \nL 603 0 \nL 603 4863 \nz\n\" id=\"DejaVuSans-6c\" transform=\"scale(0.015625)\"/>\n       <path d=\"M 2631 2963 \nQ 2534 3019 2420 3045 \nQ 2306 3072 2169 3072 \nQ 1681 3072 1420 2755 \nQ 1159 2438 1159 1844 \nL 1159 0 \nL 581 0 \nL 581 3500 \nL 1159 3500 \nL 1159 2956 \nQ 1341 3275 1631 3429 \nQ 1922 3584 2338 3584 \nQ 2397 3584 2469 3576 \nQ 2541 3569 2628 3553 \nL 2631 2963 \nz\n\" id=\"DejaVuSans-72\" transform=\"scale(0.015625)\"/>\n       <path d=\"M 2059 -325 \nQ 1816 -950 1584 -1140 \nQ 1353 -1331 966 -1331 \nL 506 -1331 \nL 506 -850 \nL 844 -850 \nQ 1081 -850 1212 -737 \nQ 1344 -625 1503 -206 \nL 1606 56 \nL 191 3500 \nL 800 3500 \nL 1894 763 \nL 2988 3500 \nL 3597 3500 \nL 2059 -325 \nz\n\" id=\"DejaVuSans-79\" transform=\"scale(0.015625)\"/>\n       <path d=\"M 1984 4856 \nQ 1566 4138 1362 3434 \nQ 1159 2731 1159 2009 \nQ 1159 1288 1364 580 \nQ 1569 -128 1984 -844 \nL 1484 -844 \nQ 1016 -109 783 600 \nQ 550 1309 550 2009 \nQ 550 2706 781 3412 \nQ 1013 4119 1484 4856 \nL 1984 4856 \nz\n\" id=\"DejaVuSans-28\" transform=\"scale(0.015625)\"/>\n       <path d=\"M 3328 2828 \nQ 3544 3216 3844 3400 \nQ 4144 3584 4550 3584 \nQ 5097 3584 5394 3201 \nQ 5691 2819 5691 2113 \nL 5691 0 \nL 5113 0 \nL 5113 2094 \nQ 5113 2597 4934 2840 \nQ 4756 3084 4391 3084 \nQ 3944 3084 3684 2787 \nQ 3425 2491 3425 1978 \nL 3425 0 \nL 2847 0 \nL 2847 2094 \nQ 2847 2600 2669 2842 \nQ 2491 3084 2119 3084 \nQ 1678 3084 1418 2786 \nQ 1159 2488 1159 1978 \nL 1159 0 \nL 581 0 \nL 581 3500 \nL 1159 3500 \nL 1159 2956 \nQ 1356 3278 1631 3431 \nQ 1906 3584 2284 3584 \nQ 2666 3584 2933 3390 \nQ 3200 3197 3328 2828 \nz\n\" id=\"DejaVuSans-6d\" transform=\"scale(0.015625)\"/>\n       <path d=\"M 603 3500 \nL 1178 3500 \nL 1178 0 \nL 603 0 \nL 603 3500 \nz\nM 603 4863 \nL 1178 4863 \nL 1178 4134 \nL 603 4134 \nL 603 4863 \nz\n\" id=\"DejaVuSans-69\" transform=\"scale(0.015625)\"/>\n       <path d=\"M 1959 3097 \nQ 1497 3097 1228 2736 \nQ 959 2375 959 1747 \nQ 959 1119 1226 758 \nQ 1494 397 1959 397 \nQ 2419 397 2687 759 \nQ 2956 1122 2956 1747 \nQ 2956 2369 2687 2733 \nQ 2419 3097 1959 3097 \nz\nM 1959 3584 \nQ 2709 3584 3137 3096 \nQ 3566 2609 3566 1747 \nQ 3566 888 3137 398 \nQ 2709 -91 1959 -91 \nQ 1206 -91 779 398 \nQ 353 888 353 1747 \nQ 353 2609 779 3096 \nQ 1206 3584 1959 3584 \nz\n\" id=\"DejaVuSans-6f\" transform=\"scale(0.015625)\"/>\n       <path d=\"M 3513 2113 \nL 3513 0 \nL 2938 0 \nL 2938 2094 \nQ 2938 2591 2744 2837 \nQ 2550 3084 2163 3084 \nQ 1697 3084 1428 2787 \nQ 1159 2491 1159 1978 \nL 1159 0 \nL 581 0 \nL 581 3500 \nL 1159 3500 \nL 1159 2956 \nQ 1366 3272 1645 3428 \nQ 1925 3584 2291 3584 \nQ 2894 3584 3203 3211 \nQ 3513 2838 3513 2113 \nz\n\" id=\"DejaVuSans-6e\" transform=\"scale(0.015625)\"/>\n       <path d=\"M 2834 3397 \nL 2834 2853 \nQ 2591 2978 2328 3040 \nQ 2066 3103 1784 3103 \nQ 1356 3103 1142 2972 \nQ 928 2841 928 2578 \nQ 928 2378 1081 2264 \nQ 1234 2150 1697 2047 \nL 1894 2003 \nQ 2506 1872 2764 1633 \nQ 3022 1394 3022 966 \nQ 3022 478 2636 193 \nQ 2250 -91 1575 -91 \nQ 1294 -91 989 -36 \nQ 684 19 347 128 \nL 347 722 \nQ 666 556 975 473 \nQ 1284 391 1588 391 \nQ 1994 391 2212 530 \nQ 2431 669 2431 922 \nQ 2431 1156 2273 1281 \nQ 2116 1406 1581 1522 \nL 1381 1569 \nQ 847 1681 609 1914 \nQ 372 2147 372 2553 \nQ 372 3047 722 3315 \nQ 1072 3584 1716 3584 \nQ 2034 3584 2315 3537 \nQ 2597 3491 2834 3397 \nz\n\" id=\"DejaVuSans-73\" transform=\"scale(0.015625)\"/>\n       <path d=\"M 2375 4863 \nL 2375 4384 \nL 1825 4384 \nQ 1516 4384 1395 4259 \nQ 1275 4134 1275 3809 \nL 1275 3500 \nL 2222 3500 \nL 2222 3053 \nL 1275 3053 \nL 1275 0 \nL 697 0 \nL 697 3053 \nL 147 3053 \nL 147 3500 \nL 697 3500 \nL 697 3744 \nQ 697 4328 969 4595 \nQ 1241 4863 1831 4863 \nL 2375 4863 \nz\n\" id=\"DejaVuSans-66\" transform=\"scale(0.015625)\"/>\n       <path d=\"M 2906 2969 \nL 2906 4863 \nL 3481 4863 \nL 3481 0 \nL 2906 0 \nL 2906 525 \nQ 2725 213 2448 61 \nQ 2172 -91 1784 -91 \nQ 1150 -91 751 415 \nQ 353 922 353 1747 \nQ 353 2572 751 3078 \nQ 1150 3584 1784 3584 \nQ 2172 3584 2448 3432 \nQ 2725 3281 2906 2969 \nz\nM 947 1747 \nQ 947 1113 1208 752 \nQ 1469 391 1925 391 \nQ 2381 391 2643 752 \nQ 2906 1113 2906 1747 \nQ 2906 2381 2643 2742 \nQ 2381 3103 1925 3103 \nQ 1469 3103 1208 2742 \nQ 947 2381 947 1747 \nz\n\" id=\"DejaVuSans-64\" transform=\"scale(0.015625)\"/>\n       <path d=\"M 513 4856 \nL 1013 4856 \nQ 1481 4119 1714 3412 \nQ 1947 2706 1947 2009 \nQ 1947 1309 1714 600 \nQ 1481 -109 1013 -844 \nL 513 -844 \nQ 928 -128 1133 580 \nQ 1338 1288 1338 2009 \nQ 1338 2731 1133 3434 \nQ 928 4138 513 4856 \nz\n\" id=\"DejaVuSans-29\" transform=\"scale(0.015625)\"/>\n      </defs>\n      <use xlink:href=\"#DejaVuSans-50\"/>\n      <use x=\"60.302734\" xlink:href=\"#DejaVuSans-4f\"/>\n      <use x=\"139.013672\" xlink:href=\"#DejaVuSans-50\"/>\n      <use x=\"199.316406\" xlink:href=\"#DejaVuSans-55\"/>\n      <use x=\"272.509766\" xlink:href=\"#DejaVuSans-4c\"/>\n      <use x=\"330.472656\" xlink:href=\"#DejaVuSans-41\"/>\n      <use x=\"391.130859\" xlink:href=\"#DejaVuSans-54\"/>\n      <use x=\"452.214844\" xlink:href=\"#DejaVuSans-49\"/>\n      <use x=\"481.707031\" xlink:href=\"#DejaVuSans-4f\"/>\n      <use x=\"560.417969\" xlink:href=\"#DejaVuSans-4e\"/>\n      <use x=\"635.222656\" xlink:href=\"#DejaVuSans-20\"/>\n      <use x=\"667.009766\" xlink:href=\"#DejaVuSans-2d\"/>\n      <use x=\"703.09375\" xlink:href=\"#DejaVuSans-20\"/>\n      <use x=\"734.880859\" xlink:href=\"#DejaVuSans-53\"/>\n      <use x=\"798.357422\" xlink:href=\"#DejaVuSans-61\"/>\n      <use x=\"859.636719\" xlink:href=\"#DejaVuSans-6c\"/>\n      <use x=\"887.419922\" xlink:href=\"#DejaVuSans-61\"/>\n      <use x=\"948.699219\" xlink:href=\"#DejaVuSans-72\"/>\n      <use x=\"989.8125\" xlink:href=\"#DejaVuSans-79\"/>\n      <use x=\"1048.992188\" xlink:href=\"#DejaVuSans-20\"/>\n      <use x=\"1080.779297\" xlink:href=\"#DejaVuSans-28\"/>\n      <use x=\"1119.792969\" xlink:href=\"#DejaVuSans-6d\"/>\n      <use x=\"1217.205078\" xlink:href=\"#DejaVuSans-69\"/>\n      <use x=\"1244.988281\" xlink:href=\"#DejaVuSans-6c\"/>\n      <use x=\"1272.771484\" xlink:href=\"#DejaVuSans-6c\"/>\n      <use x=\"1300.554688\" xlink:href=\"#DejaVuSans-69\"/>\n      <use x=\"1328.337891\" xlink:href=\"#DejaVuSans-6f\"/>\n      <use x=\"1389.519531\" xlink:href=\"#DejaVuSans-6e\"/>\n      <use x=\"1452.898438\" xlink:href=\"#DejaVuSans-73\"/>\n      <use x=\"1504.998047\" xlink:href=\"#DejaVuSans-20\"/>\n      <use x=\"1536.785156\" xlink:href=\"#DejaVuSans-6f\"/>\n      <use x=\"1597.966797\" xlink:href=\"#DejaVuSans-66\"/>\n      <use x=\"1633.171875\" xlink:href=\"#DejaVuSans-20\"/>\n      <use x=\"1664.958984\" xlink:href=\"#DejaVuSans-64\"/>\n      <use x=\"1728.435547\" xlink:href=\"#DejaVuSans-6f\"/>\n      <use x=\"1789.617188\" xlink:href=\"#DejaVuSans-6c\"/>\n      <use x=\"1817.400391\" xlink:href=\"#DejaVuSans-6c\"/>\n      <use x=\"1845.183594\" xlink:href=\"#DejaVuSans-61\"/>\n      <use x=\"1906.462891\" xlink:href=\"#DejaVuSans-72\"/>\n      <use x=\"1947.576172\" xlink:href=\"#DejaVuSans-73\"/>\n      <use x=\"1999.675781\" xlink:href=\"#DejaVuSans-29\"/>\n     </g>\n    </g>\n   </g>\n   <g id=\"matplotlib.axis_2\">\n    <g id=\"ytick_1\"/>\n   </g>\n   <g id=\"patch_3\">\n    <path clip-path=\"url(#pac5330c67a)\" d=\"M 30.516934 91.50358 \nL 30.516934 150.805398 \nL 37.114215 150.805398 \nL 40.071584 135.979943 \nL 43.028953 150.805398 \nL 84.719647 150.805398 \nL 84.719647 91.50358 \nL 43.028953 91.50358 \nL 40.071584 106.329034 \nL 37.114215 91.50358 \nL 30.516934 91.50358 \nz\n\" style=\"fill:#b4d4df;stroke:#797979;stroke-linejoin:miter;\"/>\n   </g>\n   <g id=\"line2d_8\">\n    <path clip-path=\"url(#pac5330c67a)\" d=\"M 30.516934 121.154489 \nL 30.257851 121.154489 \n\" style=\"fill:none;stroke:#797979;stroke-linecap:round;\"/>\n   </g>\n   <g id=\"line2d_9\">\n    <path clip-path=\"url(#pac5330c67a)\" d=\"M 84.719647 121.154489 \nL 160.753973 121.154489 \n\" style=\"fill:none;stroke:#797979;stroke-linecap:round;\"/>\n   </g>\n   <g id=\"line2d_10\">\n    <path clip-path=\"url(#pac5330c67a)\" d=\"M 30.257851 106.329034 \nL 30.257851 135.979943 \n\" style=\"fill:none;stroke:#797979;stroke-linecap:round;\"/>\n   </g>\n   <g id=\"line2d_11\">\n    <path clip-path=\"url(#pac5330c67a)\" d=\"M 160.753973 106.329034 \nL 160.753973 135.979943 \n\" style=\"fill:none;stroke:#797979;stroke-linecap:round;\"/>\n   </g>\n   <g id=\"line2d_12\">\n    <defs>\n     <path d=\"M -0 3.535534 \nL 2.12132 0 \nL -0 -3.535534 \nL -2.12132 -0 \nz\n\" id=\"m77a66c6bf8\" style=\"stroke:#797979;stroke-linejoin:miter;\"/>\n    </defs>\n    <g clip-path=\"url(#pac5330c67a)\">\n     <use style=\"fill:#797979;stroke:#797979;stroke-linejoin:miter;\" x=\"236.788298\" xlink:href=\"#m77a66c6bf8\" y=\"121.154489\"/>\n     <use style=\"fill:#797979;stroke:#797979;stroke-linejoin:miter;\" x=\"222.642377\" xlink:href=\"#m77a66c6bf8\" y=\"121.154489\"/>\n     <use style=\"fill:#797979;stroke:#797979;stroke-linejoin:miter;\" x=\"194.350535\" xlink:href=\"#m77a66c6bf8\" y=\"121.154489\"/>\n     <use style=\"fill:#797979;stroke:#797979;stroke-linejoin:miter;\" x=\"166.058693\" xlink:href=\"#m77a66c6bf8\" y=\"121.154489\"/>\n     <use style=\"fill:#797979;stroke:#797979;stroke-linejoin:miter;\" x=\"289.128206\" xlink:href=\"#m77a66c6bf8\" y=\"121.154489\"/>\n     <use style=\"fill:#797979;stroke:#797979;stroke-linejoin:miter;\" x=\"222.642377\" xlink:href=\"#m77a66c6bf8\" y=\"121.154489\"/>\n     <use style=\"fill:#797979;stroke:#797979;stroke-linejoin:miter;\" x=\"208.496456\" xlink:href=\"#m77a66c6bf8\" y=\"121.154489\"/>\n     <use style=\"fill:#797979;stroke:#797979;stroke-linejoin:miter;\" x=\"201.423495\" xlink:href=\"#m77a66c6bf8\" y=\"121.154489\"/>\n     <use style=\"fill:#797979;stroke:#797979;stroke-linejoin:miter;\" x=\"195.765127\" xlink:href=\"#m77a66c6bf8\" y=\"121.154489\"/>\n     <use style=\"fill:#797979;stroke:#797979;stroke-linejoin:miter;\" x=\"293.371982\" xlink:href=\"#m77a66c6bf8\" y=\"121.154489\"/>\n     <use style=\"fill:#797979;stroke:#797979;stroke-linejoin:miter;\" x=\"291.603742\" xlink:href=\"#m77a66c6bf8\" y=\"121.154489\"/>\n     <use style=\"fill:#797979;stroke:#797979;stroke-linejoin:miter;\" x=\"261.54366\" xlink:href=\"#m77a66c6bf8\" y=\"121.154489\"/>\n     <use style=\"fill:#797979;stroke:#797979;stroke-linejoin:miter;\" x=\"222.642377\" xlink:href=\"#m77a66c6bf8\" y=\"121.154489\"/>\n     <use style=\"fill:#797979;stroke:#797979;stroke-linejoin:miter;\" x=\"215.569416\" xlink:href=\"#m77a66c6bf8\" y=\"121.154489\"/>\n     <use style=\"fill:#797979;stroke:#797979;stroke-linejoin:miter;\" x=\"212.032936\" xlink:href=\"#m77a66c6bf8\" y=\"121.154489\"/>\n     <use style=\"fill:#797979;stroke:#797979;stroke-linejoin:miter;\" x=\"208.496456\" xlink:href=\"#m77a66c6bf8\" y=\"121.154489\"/>\n     <use style=\"fill:#797979;stroke:#797979;stroke-linejoin:miter;\" x=\"204.959976\" xlink:href=\"#m77a66c6bf8\" y=\"121.154489\"/>\n     <use style=\"fill:#797979;stroke:#797979;stroke-linejoin:miter;\" x=\"236.788298\" xlink:href=\"#m77a66c6bf8\" y=\"121.154489\"/>\n     <use style=\"fill:#797979;stroke:#797979;stroke-linejoin:miter;\" x=\"222.642377\" xlink:href=\"#m77a66c6bf8\" y=\"121.154489\"/>\n     <use style=\"fill:#797979;stroke:#797979;stroke-linejoin:miter;\" x=\"194.350535\" xlink:href=\"#m77a66c6bf8\" y=\"121.154489\"/>\n     <use style=\"fill:#797979;stroke:#797979;stroke-linejoin:miter;\" x=\"168.887877\" xlink:href=\"#m77a66c6bf8\" y=\"121.154489\"/>\n     <use style=\"fill:#797979;stroke:#797979;stroke-linejoin:miter;\" x=\"201.423495\" xlink:href=\"#m77a66c6bf8\" y=\"121.154489\"/>\n     <use style=\"fill:#797979;stroke:#797979;stroke-linejoin:miter;\" x=\"196.118775\" xlink:href=\"#m77a66c6bf8\" y=\"121.154489\"/>\n     <use style=\"fill:#797979;stroke:#797979;stroke-linejoin:miter;\" x=\"189.045815\" xlink:href=\"#m77a66c6bf8\" y=\"121.154489\"/>\n     <use style=\"fill:#797979;stroke:#797979;stroke-linejoin:miter;\" x=\"187.277574\" xlink:href=\"#m77a66c6bf8\" y=\"121.154489\"/>\n     <use style=\"fill:#797979;stroke:#797979;stroke-linejoin:miter;\" x=\"180.204614\" xlink:href=\"#m77a66c6bf8\" y=\"121.154489\"/>\n     <use style=\"fill:#797979;stroke:#797979;stroke-linejoin:miter;\" x=\"173.131653\" xlink:href=\"#m77a66c6bf8\" y=\"121.154489\"/>\n     <use style=\"fill:#797979;stroke:#797979;stroke-linejoin:miter;\" x=\"276.043229\" xlink:href=\"#m77a66c6bf8\" y=\"121.154489\"/>\n     <use style=\"fill:#797979;stroke:#797979;stroke-linejoin:miter;\" x=\"307.517903\" xlink:href=\"#m77a66c6bf8\" y=\"121.154489\"/>\n     <use style=\"fill:#797979;stroke:#797979;stroke-linejoin:miter;\" x=\"276.764331\" xlink:href=\"#m77a66c6bf8\" y=\"121.154489\"/>\n     <use style=\"fill:#797979;stroke:#797979;stroke-linejoin:miter;\" x=\"208.496456\" xlink:href=\"#m77a66c6bf8\" y=\"121.154489\"/>\n     <use style=\"fill:#797979;stroke:#797979;stroke-linejoin:miter;\" x=\"201.423495\" xlink:href=\"#m77a66c6bf8\" y=\"121.154489\"/>\n     <use style=\"fill:#797979;stroke:#797979;stroke-linejoin:miter;\" x=\"194.350535\" xlink:href=\"#m77a66c6bf8\" y=\"121.154489\"/>\n     <use style=\"fill:#797979;stroke:#797979;stroke-linejoin:miter;\" x=\"166.058693\" xlink:href=\"#m77a66c6bf8\" y=\"121.154489\"/>\n     <use style=\"fill:#797979;stroke:#797979;stroke-linejoin:miter;\" x=\"293.371982\" xlink:href=\"#m77a66c6bf8\" y=\"121.154489\"/>\n     <use style=\"fill:#797979;stroke:#797979;stroke-linejoin:miter;\" x=\"236.788298\" xlink:href=\"#m77a66c6bf8\" y=\"121.154489\"/>\n     <use style=\"fill:#797979;stroke:#797979;stroke-linejoin:miter;\" x=\"229.715337\" xlink:href=\"#m77a66c6bf8\" y=\"121.154489\"/>\n     <use style=\"fill:#797979;stroke:#797979;stroke-linejoin:miter;\" x=\"200.008903\" xlink:href=\"#m77a66c6bf8\" y=\"121.154489\"/>\n     <use style=\"fill:#797979;stroke:#797979;stroke-linejoin:miter;\" x=\"194.350535\" xlink:href=\"#m77a66c6bf8\" y=\"121.154489\"/>\n     <use style=\"fill:#797979;stroke:#797979;stroke-linejoin:miter;\" x=\"286.299021\" xlink:href=\"#m77a66c6bf8\" y=\"121.154489\"/>\n     <use style=\"fill:#797979;stroke:#797979;stroke-linejoin:miter;\" x=\"289.057561\" xlink:href=\"#m77a66c6bf8\" y=\"121.154489\"/>\n     <use style=\"fill:#797979;stroke:#797979;stroke-linejoin:miter;\" x=\"242.918192\" xlink:href=\"#m77a66c6bf8\" y=\"121.154489\"/>\n     <use style=\"fill:#797979;stroke:#797979;stroke-linejoin:miter;\" x=\"204.959976\" xlink:href=\"#m77a66c6bf8\" y=\"121.154489\"/>\n     <use style=\"fill:#797979;stroke:#797979;stroke-linejoin:miter;\" x=\"180.204614\" xlink:href=\"#m77a66c6bf8\" y=\"121.154489\"/>\n     <use style=\"fill:#797979;stroke:#797979;stroke-linejoin:miter;\" x=\"236.788298\" xlink:href=\"#m77a66c6bf8\" y=\"121.154489\"/>\n     <use style=\"fill:#797979;stroke:#797979;stroke-linejoin:miter;\" x=\"201.423495\" xlink:href=\"#m77a66c6bf8\" y=\"121.154489\"/>\n     <use style=\"fill:#797979;stroke:#797979;stroke-linejoin:miter;\" x=\"183.741094\" xlink:href=\"#m77a66c6bf8\" y=\"121.154489\"/>\n     <use style=\"fill:#797979;stroke:#797979;stroke-linejoin:miter;\" x=\"309.564917\" xlink:href=\"#m77a66c6bf8\" y=\"121.154489\"/>\n     <use style=\"fill:#797979;stroke:#797979;stroke-linejoin:miter;\" x=\"299.052545\" xlink:href=\"#m77a66c6bf8\" y=\"121.154489\"/>\n     <use style=\"fill:#797979;stroke:#797979;stroke-linejoin:miter;\" x=\"196.708179\" xlink:href=\"#m77a66c6bf8\" y=\"121.154489\"/>\n     <use style=\"fill:#797979;stroke:#797979;stroke-linejoin:miter;\" x=\"194.350535\" xlink:href=\"#m77a66c6bf8\" y=\"121.154489\"/>\n     <use style=\"fill:#797979;stroke:#797979;stroke-linejoin:miter;\" x=\"185.862982\" xlink:href=\"#m77a66c6bf8\" y=\"121.154489\"/>\n     <use style=\"fill:#797979;stroke:#797979;stroke-linejoin:miter;\" x=\"169.595173\" xlink:href=\"#m77a66c6bf8\" y=\"121.154489\"/>\n     <use style=\"fill:#797979;stroke:#797979;stroke-linejoin:miter;\" x=\"491.414876\" xlink:href=\"#m77a66c6bf8\" y=\"121.154489\"/>\n     <use style=\"fill:#797979;stroke:#797979;stroke-linejoin:miter;\" x=\"368.143275\" xlink:href=\"#m77a66c6bf8\" y=\"121.154489\"/>\n     <use style=\"fill:#797979;stroke:#797979;stroke-linejoin:miter;\" x=\"344.297298\" xlink:href=\"#m77a66c6bf8\" y=\"121.154489\"/>\n     <use style=\"fill:#797979;stroke:#797979;stroke-linejoin:miter;\" x=\"316.359104\" xlink:href=\"#m77a66c6bf8\" y=\"121.154489\"/>\n     <use style=\"fill:#797979;stroke:#797979;stroke-linejoin:miter;\" x=\"258.007179\" xlink:href=\"#m77a66c6bf8\" y=\"121.154489\"/>\n     <use style=\"fill:#797979;stroke:#797979;stroke-linejoin:miter;\" x=\"236.788298\" xlink:href=\"#m77a66c6bf8\" y=\"121.154489\"/>\n     <use style=\"fill:#797979;stroke:#797979;stroke-linejoin:miter;\" x=\"209.911048\" xlink:href=\"#m77a66c6bf8\" y=\"121.154489\"/>\n     <use style=\"fill:#797979;stroke:#797979;stroke-linejoin:miter;\" x=\"190.814055\" xlink:href=\"#m77a66c6bf8\" y=\"121.154489\"/>\n     <use style=\"fill:#797979;stroke:#797979;stroke-linejoin:miter;\" x=\"187.277574\" xlink:href=\"#m77a66c6bf8\" y=\"121.154489\"/>\n     <use style=\"fill:#797979;stroke:#797979;stroke-linejoin:miter;\" x=\"201.423495\" xlink:href=\"#m77a66c6bf8\" y=\"121.154489\"/>\n     <use style=\"fill:#797979;stroke:#797979;stroke-linejoin:miter;\" x=\"166.058693\" xlink:href=\"#m77a66c6bf8\" y=\"121.154489\"/>\n     <use style=\"fill:#797979;stroke:#797979;stroke-linejoin:miter;\" x=\"293.371982\" xlink:href=\"#m77a66c6bf8\" y=\"121.154489\"/>\n     <use style=\"fill:#797979;stroke:#797979;stroke-linejoin:miter;\" x=\"247.397739\" xlink:href=\"#m77a66c6bf8\" y=\"121.154489\"/>\n     <use style=\"fill:#797979;stroke:#797979;stroke-linejoin:miter;\" x=\"240.829986\" xlink:href=\"#m77a66c6bf8\" y=\"121.154489\"/>\n     <use style=\"fill:#797979;stroke:#797979;stroke-linejoin:miter;\" x=\"196.708179\" xlink:href=\"#m77a66c6bf8\" y=\"121.154489\"/>\n     <use style=\"fill:#797979;stroke:#797979;stroke-linejoin:miter;\" x=\"194.350535\" xlink:href=\"#m77a66c6bf8\" y=\"121.154489\"/>\n     <use style=\"fill:#797979;stroke:#797979;stroke-linejoin:miter;\" x=\"286.299021\" xlink:href=\"#m77a66c6bf8\" y=\"121.154489\"/>\n     <use style=\"fill:#797979;stroke:#797979;stroke-linejoin:miter;\" x=\"216.984009\" xlink:href=\"#m77a66c6bf8\" y=\"121.154489\"/>\n     <use style=\"fill:#797979;stroke:#797979;stroke-linejoin:miter;\" x=\"166.058693\" xlink:href=\"#m77a66c6bf8\" y=\"121.154489\"/>\n     <use style=\"fill:#797979;stroke:#797979;stroke-linejoin:miter;\" x=\"279.226061\" xlink:href=\"#m77a66c6bf8\" y=\"121.154489\"/>\n     <use style=\"fill:#797979;stroke:#797979;stroke-linejoin:miter;\" x=\"180.204614\" xlink:href=\"#m77a66c6bf8\" y=\"121.154489\"/>\n     <use style=\"fill:#797979;stroke:#797979;stroke-linejoin:miter;\" x=\"255.649436\" xlink:href=\"#m77a66c6bf8\" y=\"121.154489\"/>\n     <use style=\"fill:#797979;stroke:#797979;stroke-linejoin:miter;\" x=\"248.684607\" xlink:href=\"#m77a66c6bf8\" y=\"121.154489\"/>\n     <use style=\"fill:#797979;stroke:#797979;stroke-linejoin:miter;\" x=\"231.072681\" xlink:href=\"#m77a66c6bf8\" y=\"121.154489\"/>\n     <use style=\"fill:#797979;stroke:#797979;stroke-linejoin:miter;\" x=\"167.826933\" xlink:href=\"#m77a66c6bf8\" y=\"121.154489\"/>\n     <use style=\"fill:#797979;stroke:#797979;stroke-linejoin:miter;\" x=\"166.058693\" xlink:href=\"#m77a66c6bf8\" y=\"121.154489\"/>\n     <use style=\"fill:#797979;stroke:#797979;stroke-linejoin:miter;\" x=\"210.971624\" xlink:href=\"#m77a66c6bf8\" y=\"121.154489\"/>\n     <use style=\"fill:#797979;stroke:#797979;stroke-linejoin:miter;\" x=\"246.513619\" xlink:href=\"#m77a66c6bf8\" y=\"121.154489\"/>\n     <use style=\"fill:#797979;stroke:#797979;stroke-linejoin:miter;\" x=\"194.350535\" xlink:href=\"#m77a66c6bf8\" y=\"121.154489\"/>\n    </g>\n   </g>\n   <g id=\"line2d_13\">\n    <path clip-path=\"url(#pac5330c67a)\" d=\"M 40.071584 106.329034 \nL 40.071584 135.979943 \n\" style=\"fill:none;stroke:#797979;stroke-linecap:round;\"/>\n   </g>\n   <g id=\"patch_4\">\n    <path d=\"M 7.2 219.990852 \nL 7.2 22.318125 \n\" style=\"fill:none;stroke:#ffffff;stroke-linecap:square;stroke-linejoin:miter;stroke-width:1.25;\"/>\n   </g>\n   <g id=\"patch_5\">\n    <path d=\"M 514.472727 219.990852 \nL 514.472727 22.318125 \n\" style=\"fill:none;stroke:#ffffff;stroke-linecap:square;stroke-linejoin:miter;stroke-width:1.25;\"/>\n   </g>\n   <g id=\"patch_6\">\n    <path d=\"M 7.2 219.990852 \nL 514.472727 219.990852 \n\" style=\"fill:none;stroke:#ffffff;stroke-linecap:square;stroke-linejoin:miter;stroke-width:1.25;\"/>\n   </g>\n   <g id=\"patch_7\">\n    <path d=\"M 7.2 22.318125 \nL 514.472727 22.318125 \n\" style=\"fill:none;stroke:#ffffff;stroke-linecap:square;stroke-linejoin:miter;stroke-width:1.25;\"/>\n   </g>\n   <g id=\"PathCollection_1\">\n    <defs>\n     <path d=\"M 0 2.5 \nC 0.663008 2.5 1.29895 2.236584 1.767767 1.767767 \nC 2.236584 1.29895 2.5 0.663008 2.5 -0 \nC 2.5 -0.663008 2.236584 -1.29895 1.767767 -1.767767 \nC 1.29895 -2.236584 0.663008 -2.5 0 -2.5 \nC -0.663008 -2.5 -1.29895 -2.236584 -1.767767 -1.767767 \nC -2.236584 -1.29895 -2.5 -0.663008 -2.5 0 \nC -2.5 0.663008 -2.236584 1.29895 -1.767767 1.767767 \nC -1.29895 2.236584 -0.663008 2.5 0 2.5 \nz\n\" id=\"C0_0_74341684b8\"/>\n    </defs>\n    <g clip-path=\"url(#pac5330c67a)\">\n     <use style=\"fill:#00008b;fill-opacity:0.2;\" x=\"144.839811\" xlink:href=\"#C0_0_74341684b8\" y=\"137.583464\"/>\n    </g>\n    <g clip-path=\"url(#pac5330c67a)\">\n     <use style=\"fill:#00008b;fill-opacity:0.2;\" x=\"141.303331\" xlink:href=\"#C0_0_74341684b8\" y=\"115.491783\"/>\n    </g>\n    <g clip-path=\"url(#pac5330c67a)\">\n     <use style=\"fill:#00008b;fill-opacity:0.2;\" x=\"98.865568\" xlink:href=\"#C0_0_74341684b8\" y=\"131.49796\"/>\n    </g>\n    <g clip-path=\"url(#pac5330c67a)\">\n     <use style=\"fill:#00008b;fill-opacity:0.2;\" x=\"89.670719\" xlink:href=\"#C0_0_74341684b8\" y=\"116.293543\"/>\n    </g>\n    <g clip-path=\"url(#pac5330c67a)\">\n     <use style=\"fill:#00008b;fill-opacity:0.2;\" x=\"88.256127\" xlink:href=\"#C0_0_74341684b8\" y=\"119.067706\"/>\n    </g>\n    <g clip-path=\"url(#pac5330c67a)\">\n     <use style=\"fill:#00008b;fill-opacity:0.2;\" x=\"83.800162\" xlink:href=\"#C0_0_74341684b8\" y=\"133.983676\"/>\n    </g>\n    <g clip-path=\"url(#pac5330c67a)\">\n     <use style=\"fill:#00008b;fill-opacity:0.2;\" x=\"73.40291\" xlink:href=\"#C0_0_74341684b8\" y=\"139.731508\"/>\n    </g>\n    <g clip-path=\"url(#pac5330c67a)\">\n     <use style=\"fill:#00008b;fill-opacity:0.2;\" x=\"72.695614\" xlink:href=\"#C0_0_74341684b8\" y=\"129.961316\"/>\n    </g>\n    <g clip-path=\"url(#pac5330c67a)\">\n     <use style=\"fill:#00008b;fill-opacity:0.2;\" x=\"68.451838\" xlink:href=\"#C0_0_74341684b8\" y=\"105.004129\"/>\n    </g>\n    <g clip-path=\"url(#pac5330c67a)\">\n     <use style=\"fill:#00008b;fill-opacity:0.2;\" x=\"57.842397\" xlink:href=\"#C0_0_74341684b8\" y=\"112.559719\"/>\n    </g>\n    <g clip-path=\"url(#pac5330c67a)\">\n     <use style=\"fill:#00008b;fill-opacity:0.2;\" x=\"55.013213\" xlink:href=\"#C0_0_74341684b8\" y=\"114.353722\"/>\n    </g>\n    <g clip-path=\"url(#pac5330c67a)\">\n     <use style=\"fill:#00008b;fill-opacity:0.2;\" x=\"52.891325\" xlink:href=\"#C0_0_74341684b8\" y=\"133.442125\"/>\n    </g>\n    <g clip-path=\"url(#pac5330c67a)\">\n     <use style=\"fill:#00008b;fill-opacity:0.2;\" x=\"52.891325\" xlink:href=\"#C0_0_74341684b8\" y=\"107.44947\"/>\n    </g>\n    <g clip-path=\"url(#pac5330c67a)\">\n     <use style=\"fill:#00008b;fill-opacity:0.2;\" x=\"36.387746\" xlink:href=\"#C0_0_74341684b8\" y=\"105.338693\"/>\n    </g>\n    <g clip-path=\"url(#pac5330c67a)\">\n     <use style=\"fill:#00008b;fill-opacity:0.2;\" x=\"36.269868\" xlink:href=\"#C0_0_74341684b8\" y=\"102.088529\"/>\n    </g>\n    <g clip-path=\"url(#pac5330c67a)\">\n     <use style=\"fill:#00008b;fill-opacity:0.2;\" x=\"34.855276\" xlink:href=\"#C0_0_74341684b8\" y=\"139.439486\"/>\n    </g>\n    <g clip-path=\"url(#pac5330c67a)\">\n     <use style=\"fill:#00008b;fill-opacity:0.2;\" x=\"34.619506\" xlink:href=\"#C0_0_74341684b8\" y=\"114.328593\"/>\n    </g>\n    <g clip-path=\"url(#pac5330c67a)\">\n     <use style=\"fill:#00008b;fill-opacity:0.2;\" x=\"33.794331\" xlink:href=\"#C0_0_74341684b8\" y=\"124.050831\"/>\n    </g>\n    <g clip-path=\"url(#pac5330c67a)\">\n     <use style=\"fill:#00008b;fill-opacity:0.2;\" x=\"30.413456\" xlink:href=\"#C0_0_74341684b8\" y=\"136.200827\"/>\n    </g>\n    <g clip-path=\"url(#pac5330c67a)\">\n     <use style=\"fill:#00008b;fill-opacity:0.2;\" x=\"30.392237\" xlink:href=\"#C0_0_74341684b8\" y=\"130.113308\"/>\n    </g>\n    <g clip-path=\"url(#pac5330c67a)\">\n     <use style=\"fill:#00008b;fill-opacity:0.2;\" x=\"30.356873\" xlink:href=\"#C0_0_74341684b8\" y=\"113.210511\"/>\n    </g>\n    <g clip-path=\"url(#pac5330c67a)\">\n     <use style=\"fill:#00008b;fill-opacity:0.2;\" x=\"30.335654\" xlink:href=\"#C0_0_74341684b8\" y=\"137.786381\"/>\n    </g>\n    <g clip-path=\"url(#pac5330c67a)\">\n     <use style=\"fill:#00008b;fill-opacity:0.2;\" x=\"30.321508\" xlink:href=\"#C0_0_74341684b8\" y=\"101.418307\"/>\n    </g>\n    <g clip-path=\"url(#pac5330c67a)\">\n     <use style=\"fill:#00008b;fill-opacity:0.2;\" x=\"30.300289\" xlink:href=\"#C0_0_74341684b8\" y=\"129.098514\"/>\n    </g>\n    <g clip-path=\"url(#pac5330c67a)\">\n     <use style=\"fill:#00008b;fill-opacity:0.2;\" x=\"30.271997\" xlink:href=\"#C0_0_74341684b8\" y=\"137.201914\"/>\n    </g>\n    <g clip-path=\"url(#pac5330c67a)\">\n     <use style=\"fill:#00008b;fill-opacity:0.2;\" x=\"30.257851\" xlink:href=\"#C0_0_74341684b8\" y=\"129.317189\"/>\n    </g>\n    <g clip-path=\"url(#pac5330c67a)\">\n     <use style=\"fill:#00008b;fill-opacity:0.2;\" x=\"236.788298\" xlink:href=\"#C0_0_74341684b8\" y=\"101.472177\"/>\n    </g>\n    <g clip-path=\"url(#pac5330c67a)\">\n     <use style=\"fill:#00008b;fill-opacity:0.2;\" x=\"222.642377\" xlink:href=\"#C0_0_74341684b8\" y=\"112.850237\"/>\n    </g>\n    <g clip-path=\"url(#pac5330c67a)\">\n     <use style=\"fill:#00008b;fill-opacity:0.2;\" x=\"151.912772\" xlink:href=\"#C0_0_74341684b8\" y=\"103.04255\"/>\n    </g>\n    <g clip-path=\"url(#pac5330c67a)\">\n     <use style=\"fill:#00008b;fill-opacity:0.2;\" x=\"128.340943\" xlink:href=\"#C0_0_74341684b8\" y=\"126.288696\"/>\n    </g>\n    <g clip-path=\"url(#pac5330c67a)\">\n     <use style=\"fill:#00008b;fill-opacity:0.2;\" x=\"120.08445\" xlink:href=\"#C0_0_74341684b8\" y=\"109.276908\"/>\n    </g>\n    <g clip-path=\"url(#pac5330c67a)\">\n     <use style=\"fill:#00008b;fill-opacity:0.2;\" x=\"105.231233\" xlink:href=\"#C0_0_74341684b8\" y=\"132.555628\"/>\n    </g>\n    <g clip-path=\"url(#pac5330c67a)\">\n     <use style=\"fill:#00008b;fill-opacity:0.2;\" x=\"95.329088\" xlink:href=\"#C0_0_74341684b8\" y=\"130.366384\"/>\n    </g>\n    <g clip-path=\"url(#pac5330c67a)\">\n     <use style=\"fill:#00008b;fill-opacity:0.2;\" x=\"69.86643\" xlink:href=\"#C0_0_74341684b8\" y=\"125.032023\"/>\n    </g>\n    <g clip-path=\"url(#pac5330c67a)\">\n     <use style=\"fill:#00008b;fill-opacity:0.2;\" x=\"68.451838\" xlink:href=\"#C0_0_74341684b8\" y=\"124.666435\"/>\n    </g>\n    <g clip-path=\"url(#pac5330c67a)\">\n     <use style=\"fill:#00008b;fill-opacity:0.2;\" x=\"60.671581\" xlink:href=\"#C0_0_74341684b8\" y=\"115.37921\"/>\n    </g>\n    <g clip-path=\"url(#pac5330c67a)\">\n     <use style=\"fill:#00008b;fill-opacity:0.2;\" x=\"56.074157\" xlink:href=\"#C0_0_74341684b8\" y=\"111.821744\"/>\n    </g>\n    <g clip-path=\"url(#pac5330c67a)\">\n     <use style=\"fill:#00008b;fill-opacity:0.2;\" x=\"49.354845\" xlink:href=\"#C0_0_74341684b8\" y=\"112.941737\"/>\n    </g>\n    <g clip-path=\"url(#pac5330c67a)\">\n     <use style=\"fill:#00008b;fill-opacity:0.2;\" x=\"47.232956\" xlink:href=\"#C0_0_74341684b8\" y=\"102.767227\"/>\n    </g>\n    <g clip-path=\"url(#pac5330c67a)\">\n     <use style=\"fill:#00008b;fill-opacity:0.2;\" x=\"40.867292\" xlink:href=\"#C0_0_74341684b8\" y=\"125.713093\"/>\n    </g>\n    <g clip-path=\"url(#pac5330c67a)\">\n     <use style=\"fill:#00008b;fill-opacity:0.2;\" x=\"38.745404\" xlink:href=\"#C0_0_74341684b8\" y=\"121.398001\"/>\n    </g>\n    <g clip-path=\"url(#pac5330c67a)\">\n     <use style=\"fill:#00008b;fill-opacity:0.2;\" x=\"31.389525\" xlink:href=\"#C0_0_74341684b8\" y=\"136.121827\"/>\n    </g>\n    <g clip-path=\"url(#pac5330c67a)\">\n     <use style=\"fill:#00008b;fill-opacity:0.2;\" x=\"30.823688\" xlink:href=\"#C0_0_74341684b8\" y=\"101.449006\"/>\n    </g>\n    <g clip-path=\"url(#pac5330c67a)\">\n     <use style=\"fill:#00008b;fill-opacity:0.2;\" x=\"30.823688\" xlink:href=\"#C0_0_74341684b8\" y=\"123.967585\"/>\n    </g>\n    <g clip-path=\"url(#pac5330c67a)\">\n     <use style=\"fill:#00008b;fill-opacity:0.2;\" x=\"30.752958\" xlink:href=\"#C0_0_74341684b8\" y=\"140.815004\"/>\n    </g>\n    <g clip-path=\"url(#pac5330c67a)\">\n     <use style=\"fill:#00008b;fill-opacity:0.2;\" x=\"30.752958\" xlink:href=\"#C0_0_74341684b8\" y=\"123.901792\"/>\n    </g>\n    <g clip-path=\"url(#pac5330c67a)\">\n     <use style=\"fill:#00008b;fill-opacity:0.2;\" x=\"30.47004\" xlink:href=\"#C0_0_74341684b8\" y=\"138.658325\"/>\n    </g>\n    <g clip-path=\"url(#pac5330c67a)\">\n     <use style=\"fill:#00008b;fill-opacity:0.2;\" x=\"30.39931\" xlink:href=\"#C0_0_74341684b8\" y=\"116.357023\"/>\n    </g>\n    <g clip-path=\"url(#pac5330c67a)\">\n     <use style=\"fill:#00008b;fill-opacity:0.2;\" x=\"30.363946\" xlink:href=\"#C0_0_74341684b8\" y=\"128.300166\"/>\n    </g>\n    <g clip-path=\"url(#pac5330c67a)\">\n     <use style=\"fill:#00008b;fill-opacity:0.2;\" x=\"30.293216\" xlink:href=\"#C0_0_74341684b8\" y=\"122.073579\"/>\n    </g>\n    <g clip-path=\"url(#pac5330c67a)\">\n     <use style=\"fill:#00008b;fill-opacity:0.2;\" x=\"30.257851\" xlink:href=\"#C0_0_74341684b8\" y=\"108.594175\"/>\n    </g>\n    <g clip-path=\"url(#pac5330c67a)\">\n     <use style=\"fill:#00008b;fill-opacity:0.2;\" x=\"30.257851\" xlink:href=\"#C0_0_74341684b8\" y=\"106.115052\"/>\n    </g>\n    <g clip-path=\"url(#pac5330c67a)\">\n     <use style=\"fill:#00008b;fill-opacity:0.2;\" x=\"30.257851\" xlink:href=\"#C0_0_74341684b8\" y=\"125.235956\"/>\n    </g>\n    <g clip-path=\"url(#pac5330c67a)\">\n     <use style=\"fill:#00008b;fill-opacity:0.2;\" x=\"194.350535\" xlink:href=\"#C0_0_74341684b8\" y=\"110.58426\"/>\n    </g>\n    <g clip-path=\"url(#pac5330c67a)\">\n     <use style=\"fill:#00008b;fill-opacity:0.2;\" x=\"166.058693\" xlink:href=\"#C0_0_74341684b8\" y=\"105.713791\"/>\n    </g>\n    <g clip-path=\"url(#pac5330c67a)\">\n     <use style=\"fill:#00008b;fill-opacity:0.2;\" x=\"155.449252\" xlink:href=\"#C0_0_74341684b8\" y=\"140.537791\"/>\n    </g>\n    <g clip-path=\"url(#pac5330c67a)\">\n     <use style=\"fill:#00008b;fill-opacity:0.2;\" x=\"125.035522\" xlink:href=\"#C0_0_74341684b8\" y=\"137.379278\"/>\n    </g>\n    <g clip-path=\"url(#pac5330c67a)\">\n     <use style=\"fill:#00008b;fill-opacity:0.2;\" x=\"109.475009\" xlink:href=\"#C0_0_74341684b8\" y=\"121.047985\"/>\n    </g>\n    <g clip-path=\"url(#pac5330c67a)\">\n     <use style=\"fill:#00008b;fill-opacity:0.2;\" x=\"109.475009\" xlink:href=\"#C0_0_74341684b8\" y=\"115.207321\"/>\n    </g>\n    <g clip-path=\"url(#pac5330c67a)\">\n     <use style=\"fill:#00008b;fill-opacity:0.2;\" x=\"95.329088\" xlink:href=\"#C0_0_74341684b8\" y=\"135.404509\"/>\n    </g>\n    <g clip-path=\"url(#pac5330c67a)\">\n     <use style=\"fill:#00008b;fill-opacity:0.2;\" x=\"81.890463\" xlink:href=\"#C0_0_74341684b8\" y=\"107.527708\"/>\n    </g>\n    <g clip-path=\"url(#pac5330c67a)\">\n     <use style=\"fill:#00008b;fill-opacity:0.2;\" x=\"81.183167\" xlink:href=\"#C0_0_74341684b8\" y=\"111.776136\"/>\n    </g>\n    <g clip-path=\"url(#pac5330c67a)\">\n     <use style=\"fill:#00008b;fill-opacity:0.2;\" x=\"74.110206\" xlink:href=\"#C0_0_74341684b8\" y=\"132.753681\"/>\n    </g>\n    <g clip-path=\"url(#pac5330c67a)\">\n     <use style=\"fill:#00008b;fill-opacity:0.2;\" x=\"67.037246\" xlink:href=\"#C0_0_74341684b8\" y=\"130.019764\"/>\n    </g>\n    <g clip-path=\"url(#pac5330c67a)\">\n     <use style=\"fill:#00008b;fill-opacity:0.2;\" x=\"61.378877\" xlink:href=\"#C0_0_74341684b8\" y=\"123.228103\"/>\n    </g>\n    <g clip-path=\"url(#pac5330c67a)\">\n     <use style=\"fill:#00008b;fill-opacity:0.2;\" x=\"43.696476\" xlink:href=\"#C0_0_74341684b8\" y=\"124.580174\"/>\n    </g>\n    <g clip-path=\"url(#pac5330c67a)\">\n     <use style=\"fill:#00008b;fill-opacity:0.2;\" x=\"42.98918\" xlink:href=\"#C0_0_74341684b8\" y=\"101.890861\"/>\n    </g>\n    <g clip-path=\"url(#pac5330c67a)\">\n     <use style=\"fill:#00008b;fill-opacity:0.2;\" x=\"41.574588\" xlink:href=\"#C0_0_74341684b8\" y=\"102.965074\"/>\n    </g>\n    <g clip-path=\"url(#pac5330c67a)\">\n     <use style=\"fill:#00008b;fill-opacity:0.2;\" x=\"36.623516\" xlink:href=\"#C0_0_74341684b8\" y=\"105.200348\"/>\n    </g>\n    <g clip-path=\"url(#pac5330c67a)\">\n     <use style=\"fill:#00008b;fill-opacity:0.2;\" x=\"34.218709\" xlink:href=\"#C0_0_74341684b8\" y=\"136.11012\"/>\n    </g>\n    <g clip-path=\"url(#pac5330c67a)\">\n     <use style=\"fill:#00008b;fill-opacity:0.2;\" x=\"31.177336\" xlink:href=\"#C0_0_74341684b8\" y=\"111.030615\"/>\n    </g>\n    <g clip-path=\"url(#pac5330c67a)\">\n     <use style=\"fill:#00008b;fill-opacity:0.2;\" x=\"30.823688\" xlink:href=\"#C0_0_74341684b8\" y=\"118.385856\"/>\n    </g>\n    <g clip-path=\"url(#pac5330c67a)\">\n     <use style=\"fill:#00008b;fill-opacity:0.2;\" x=\"30.54077\" xlink:href=\"#C0_0_74341684b8\" y=\"102.884543\"/>\n    </g>\n    <g clip-path=\"url(#pac5330c67a)\">\n     <use style=\"fill:#00008b;fill-opacity:0.2;\" x=\"30.328581\" xlink:href=\"#C0_0_74341684b8\" y=\"139.077099\"/>\n    </g>\n    <g clip-path=\"url(#pac5330c67a)\">\n     <use style=\"fill:#00008b;fill-opacity:0.2;\" x=\"30.293216\" xlink:href=\"#C0_0_74341684b8\" y=\"121.225901\"/>\n    </g>\n    <g clip-path=\"url(#pac5330c67a)\">\n     <use style=\"fill:#00008b;fill-opacity:0.2;\" x=\"30.257851\" xlink:href=\"#C0_0_74341684b8\" y=\"133.016276\"/>\n    </g>\n    <g clip-path=\"url(#pac5330c67a)\">\n     <use style=\"fill:#00008b;fill-opacity:0.2;\" x=\"30.257851\" xlink:href=\"#C0_0_74341684b8\" y=\"105.11667\"/>\n    </g>\n    <g clip-path=\"url(#pac5330c67a)\">\n     <use style=\"fill:#00008b;fill-opacity:0.2;\" x=\"30.257851\" xlink:href=\"#C0_0_74341684b8\" y=\"113.744847\"/>\n    </g>\n    <g clip-path=\"url(#pac5330c67a)\">\n     <use style=\"fill:#00008b;fill-opacity:0.2;\" x=\"30.257851\" xlink:href=\"#C0_0_74341684b8\" y=\"122.216119\"/>\n    </g>\n    <g clip-path=\"url(#pac5330c67a)\">\n     <use style=\"fill:#00008b;fill-opacity:0.2;\" x=\"289.128206\" xlink:href=\"#C0_0_74341684b8\" y=\"134.643732\"/>\n    </g>\n    <g clip-path=\"url(#pac5330c67a)\">\n     <use style=\"fill:#00008b;fill-opacity:0.2;\" x=\"222.642377\" xlink:href=\"#C0_0_74341684b8\" y=\"106.050599\"/>\n    </g>\n    <g clip-path=\"url(#pac5330c67a)\">\n     <use style=\"fill:#00008b;fill-opacity:0.2;\" x=\"208.496456\" xlink:href=\"#C0_0_74341684b8\" y=\"137.431855\"/>\n    </g>\n    <g clip-path=\"url(#pac5330c67a)\">\n     <use style=\"fill:#00008b;fill-opacity:0.2;\" x=\"201.423495\" xlink:href=\"#C0_0_74341684b8\" y=\"102.351891\"/>\n    </g>\n    <g clip-path=\"url(#pac5330c67a)\">\n     <use style=\"fill:#00008b;fill-opacity:0.2;\" x=\"195.765127\" xlink:href=\"#C0_0_74341684b8\" y=\"116.783467\"/>\n    </g>\n    <g clip-path=\"url(#pac5330c67a)\">\n     <use style=\"fill:#00008b;fill-opacity:0.2;\" x=\"157.217492\" xlink:href=\"#C0_0_74341684b8\" y=\"132.901203\"/>\n    </g>\n    <g clip-path=\"url(#pac5330c67a)\">\n     <use style=\"fill:#00008b;fill-opacity:0.2;\" x=\"156.863844\" xlink:href=\"#C0_0_74341684b8\" y=\"106.327428\"/>\n    </g>\n    <g clip-path=\"url(#pac5330c67a)\">\n     <use style=\"fill:#00008b;fill-opacity:0.2;\" x=\"151.912772\" xlink:href=\"#C0_0_74341684b8\" y=\"118.642596\"/>\n    </g>\n    <g clip-path=\"url(#pac5330c67a)\">\n     <use style=\"fill:#00008b;fill-opacity:0.2;\" x=\"145.193459\" xlink:href=\"#C0_0_74341684b8\" y=\"118.600665\"/>\n    </g>\n    <g clip-path=\"url(#pac5330c67a)\">\n     <use style=\"fill:#00008b;fill-opacity:0.2;\" x=\"142.482153\" xlink:href=\"#C0_0_74341684b8\" y=\"140.83988\"/>\n    </g>\n    <g clip-path=\"url(#pac5330c67a)\">\n     <use style=\"fill:#00008b;fill-opacity:0.2;\" x=\"134.230371\" xlink:href=\"#C0_0_74341684b8\" y=\"101.670954\"/>\n    </g>\n    <g clip-path=\"url(#pac5330c67a)\">\n     <use style=\"fill:#00008b;fill-opacity:0.2;\" x=\"133.523075\" xlink:href=\"#C0_0_74341684b8\" y=\"140.02362\"/>\n    </g>\n    <g clip-path=\"url(#pac5330c67a)\">\n     <use style=\"fill:#00008b;fill-opacity:0.2;\" x=\"102.402048\" xlink:href=\"#C0_0_74341684b8\" y=\"126.500374\"/>\n    </g>\n    <g clip-path=\"url(#pac5330c67a)\">\n     <use style=\"fill:#00008b;fill-opacity:0.2;\" x=\"77.646687\" xlink:href=\"#C0_0_74341684b8\" y=\"107.285664\"/>\n    </g>\n    <g clip-path=\"url(#pac5330c67a)\">\n     <use style=\"fill:#00008b;fill-opacity:0.2;\" x=\"77.646687\" xlink:href=\"#C0_0_74341684b8\" y=\"123.971289\"/>\n    </g>\n    <g clip-path=\"url(#pac5330c67a)\">\n     <use style=\"fill:#00008b;fill-opacity:0.2;\" x=\"74.110206\" xlink:href=\"#C0_0_74341684b8\" y=\"105.062469\"/>\n    </g>\n    <g clip-path=\"url(#pac5330c67a)\">\n     <use style=\"fill:#00008b;fill-opacity:0.2;\" x=\"71.917589\" xlink:href=\"#C0_0_74341684b8\" y=\"102.935504\"/>\n    </g>\n    <g clip-path=\"url(#pac5330c67a)\">\n     <use style=\"fill:#00008b;fill-opacity:0.2;\" x=\"67.037246\" xlink:href=\"#C0_0_74341684b8\" y=\"124.308534\"/>\n    </g>\n    <g clip-path=\"url(#pac5330c67a)\">\n     <use style=\"fill:#00008b;fill-opacity:0.2;\" x=\"63.500766\" xlink:href=\"#C0_0_74341684b8\" y=\"136.11562\"/>\n    </g>\n    <g clip-path=\"url(#pac5330c67a)\">\n     <use style=\"fill:#00008b;fill-opacity:0.2;\" x=\"40.938022\" xlink:href=\"#C0_0_74341684b8\" y=\"126.600988\"/>\n    </g>\n    <g clip-path=\"url(#pac5330c67a)\">\n     <use style=\"fill:#00008b;fill-opacity:0.2;\" x=\"40.159996\" xlink:href=\"#C0_0_74341684b8\" y=\"105.245802\"/>\n    </g>\n    <g clip-path=\"url(#pac5330c67a)\">\n     <use style=\"fill:#00008b;fill-opacity:0.2;\" x=\"37.401541\" xlink:href=\"#C0_0_74341684b8\" y=\"121.511299\"/>\n    </g>\n    <g clip-path=\"url(#pac5330c67a)\">\n     <use style=\"fill:#00008b;fill-opacity:0.2;\" x=\"33.794331\" xlink:href=\"#C0_0_74341684b8\" y=\"140.825303\"/>\n    </g>\n    <g clip-path=\"url(#pac5330c67a)\">\n     <use style=\"fill:#00008b;fill-opacity:0.2;\" x=\"31.672443\" xlink:href=\"#C0_0_74341684b8\" y=\"118.967447\"/>\n    </g>\n    <g clip-path=\"url(#pac5330c67a)\">\n     <use style=\"fill:#00008b;fill-opacity:0.2;\" x=\"31.622933\" xlink:href=\"#C0_0_74341684b8\" y=\"122.613507\"/>\n    </g>\n    <g clip-path=\"url(#pac5330c67a)\">\n     <use style=\"fill:#00008b;fill-opacity:0.2;\" x=\"30.866126\" xlink:href=\"#C0_0_74341684b8\" y=\"115.329082\"/>\n    </g>\n    <g clip-path=\"url(#pac5330c67a)\">\n     <use style=\"fill:#00008b;fill-opacity:0.2;\" x=\"30.738813\" xlink:href=\"#C0_0_74341684b8\" y=\"129.543237\"/>\n    </g>\n    <g clip-path=\"url(#pac5330c67a)\">\n     <use style=\"fill:#00008b;fill-opacity:0.2;\" x=\"30.54077\" xlink:href=\"#C0_0_74341684b8\" y=\"109.313298\"/>\n    </g>\n    <g clip-path=\"url(#pac5330c67a)\">\n     <use style=\"fill:#00008b;fill-opacity:0.2;\" x=\"30.477113\" xlink:href=\"#C0_0_74341684b8\" y=\"112.401307\"/>\n    </g>\n    <g clip-path=\"url(#pac5330c67a)\">\n     <use style=\"fill:#00008b;fill-opacity:0.2;\" x=\"293.371982\" xlink:href=\"#C0_0_74341684b8\" y=\"102.937094\"/>\n    </g>\n    <g clip-path=\"url(#pac5330c67a)\">\n     <use style=\"fill:#00008b;fill-opacity:0.2;\" x=\"291.603742\" xlink:href=\"#C0_0_74341684b8\" y=\"128.375344\"/>\n    </g>\n    <g clip-path=\"url(#pac5330c67a)\">\n     <use style=\"fill:#00008b;fill-opacity:0.2;\" x=\"261.54366\" xlink:href=\"#C0_0_74341684b8\" y=\"115.851756\"/>\n    </g>\n    <g clip-path=\"url(#pac5330c67a)\">\n     <use style=\"fill:#00008b;fill-opacity:0.2;\" x=\"222.642377\" xlink:href=\"#C0_0_74341684b8\" y=\"113.774546\"/>\n    </g>\n    <g clip-path=\"url(#pac5330c67a)\">\n     <use style=\"fill:#00008b;fill-opacity:0.2;\" x=\"215.569416\" xlink:href=\"#C0_0_74341684b8\" y=\"125.052127\"/>\n    </g>\n    <g clip-path=\"url(#pac5330c67a)\">\n     <use style=\"fill:#00008b;fill-opacity:0.2;\" x=\"212.032936\" xlink:href=\"#C0_0_74341684b8\" y=\"119.026513\"/>\n    </g>\n    <g clip-path=\"url(#pac5330c67a)\">\n     <use style=\"fill:#00008b;fill-opacity:0.2;\" x=\"208.496456\" xlink:href=\"#C0_0_74341684b8\" y=\"110.978635\"/>\n    </g>\n    <g clip-path=\"url(#pac5330c67a)\">\n     <use style=\"fill:#00008b;fill-opacity:0.2;\" x=\"204.959976\" xlink:href=\"#C0_0_74341684b8\" y=\"111.876091\"/>\n    </g>\n    <g clip-path=\"url(#pac5330c67a)\">\n     <use style=\"fill:#00008b;fill-opacity:0.2;\" x=\"71.281022\" xlink:href=\"#C0_0_74341684b8\" y=\"127.461991\"/>\n    </g>\n    <g clip-path=\"url(#pac5330c67a)\">\n     <use style=\"fill:#00008b;fill-opacity:0.2;\" x=\"67.037246\" xlink:href=\"#C0_0_74341684b8\" y=\"119.9867\"/>\n    </g>\n    <g clip-path=\"url(#pac5330c67a)\">\n     <use style=\"fill:#00008b;fill-opacity:0.2;\" x=\"67.037246\" xlink:href=\"#C0_0_74341684b8\" y=\"108.472509\"/>\n    </g>\n    <g clip-path=\"url(#pac5330c67a)\">\n     <use style=\"fill:#00008b;fill-opacity:0.2;\" x=\"62.79347\" xlink:href=\"#C0_0_74341684b8\" y=\"122.875556\"/>\n    </g>\n    <g clip-path=\"url(#pac5330c67a)\">\n     <use style=\"fill:#00008b;fill-opacity:0.2;\" x=\"61.378877\" xlink:href=\"#C0_0_74341684b8\" y=\"108.935603\"/>\n    </g>\n    <g clip-path=\"url(#pac5330c67a)\">\n     <use style=\"fill:#00008b;fill-opacity:0.2;\" x=\"54.659565\" xlink:href=\"#C0_0_74341684b8\" y=\"107.707217\"/>\n    </g>\n    <g clip-path=\"url(#pac5330c67a)\">\n     <use style=\"fill:#00008b;fill-opacity:0.2;\" x=\"38.745404\" xlink:href=\"#C0_0_74341684b8\" y=\"106.456334\"/>\n    </g>\n    <g clip-path=\"url(#pac5330c67a)\">\n     <use style=\"fill:#00008b;fill-opacity:0.2;\" x=\"38.391756\" xlink:href=\"#C0_0_74341684b8\" y=\"117.802054\"/>\n    </g>\n    <g clip-path=\"url(#pac5330c67a)\">\n     <use style=\"fill:#00008b;fill-opacity:0.2;\" x=\"38.038108\" xlink:href=\"#C0_0_74341684b8\" y=\"138.531371\"/>\n    </g>\n    <g clip-path=\"url(#pac5330c67a)\">\n     <use style=\"fill:#00008b;fill-opacity:0.2;\" x=\"37.330812\" xlink:href=\"#C0_0_74341684b8\" y=\"127.812761\"/>\n    </g>\n    <g clip-path=\"url(#pac5330c67a)\">\n     <use style=\"fill:#00008b;fill-opacity:0.2;\" x=\"36.269868\" xlink:href=\"#C0_0_74341684b8\" y=\"125.029853\"/>\n    </g>\n    <g clip-path=\"url(#pac5330c67a)\">\n     <use style=\"fill:#00008b;fill-opacity:0.2;\" x=\"35.91622\" xlink:href=\"#C0_0_74341684b8\" y=\"104.202701\"/>\n    </g>\n    <g clip-path=\"url(#pac5330c67a)\">\n     <use style=\"fill:#00008b;fill-opacity:0.2;\" x=\"34.501628\" xlink:href=\"#C0_0_74341684b8\" y=\"112.588626\"/>\n    </g>\n    <g clip-path=\"url(#pac5330c67a)\">\n     <use style=\"fill:#00008b;fill-opacity:0.2;\" x=\"32.733387\" xlink:href=\"#C0_0_74341684b8\" y=\"113.523506\"/>\n    </g>\n    <g clip-path=\"url(#pac5330c67a)\">\n     <use style=\"fill:#00008b;fill-opacity:0.2;\" x=\"30.639791\" xlink:href=\"#C0_0_74341684b8\" y=\"109.467724\"/>\n    </g>\n    <g clip-path=\"url(#pac5330c67a)\">\n     <use style=\"fill:#00008b;fill-opacity:0.2;\" x=\"30.300289\" xlink:href=\"#C0_0_74341684b8\" y=\"128.688958\"/>\n    </g>\n    <g clip-path=\"url(#pac5330c67a)\">\n     <use style=\"fill:#00008b;fill-opacity:0.2;\" x=\"30.300289\" xlink:href=\"#C0_0_74341684b8\" y=\"113.835956\"/>\n    </g>\n    <g clip-path=\"url(#pac5330c67a)\">\n     <use style=\"fill:#00008b;fill-opacity:0.2;\" x=\"30.271997\" xlink:href=\"#C0_0_74341684b8\" y=\"116.485713\"/>\n    </g>\n    <g clip-path=\"url(#pac5330c67a)\">\n     <use style=\"fill:#00008b;fill-opacity:0.2;\" x=\"30.257851\" xlink:href=\"#C0_0_74341684b8\" y=\"136.936197\"/>\n    </g>\n    <g clip-path=\"url(#pac5330c67a)\">\n     <use style=\"fill:#00008b;fill-opacity:0.2;\" x=\"236.788298\" xlink:href=\"#C0_0_74341684b8\" y=\"107.874546\"/>\n    </g>\n    <g clip-path=\"url(#pac5330c67a)\">\n     <use style=\"fill:#00008b;fill-opacity:0.2;\" x=\"222.642377\" xlink:href=\"#C0_0_74341684b8\" y=\"136.28572\"/>\n    </g>\n    <g clip-path=\"url(#pac5330c67a)\">\n     <use style=\"fill:#00008b;fill-opacity:0.2;\" x=\"194.350535\" xlink:href=\"#C0_0_74341684b8\" y=\"122.721166\"/>\n    </g>\n    <g clip-path=\"url(#pac5330c67a)\">\n     <use style=\"fill:#00008b;fill-opacity:0.2;\" x=\"168.887877\" xlink:href=\"#C0_0_74341684b8\" y=\"138.982593\"/>\n    </g>\n    <g clip-path=\"url(#pac5330c67a)\">\n     <use style=\"fill:#00008b;fill-opacity:0.2;\" x=\"130.69389\" xlink:href=\"#C0_0_74341684b8\" y=\"108.619702\"/>\n    </g>\n    <g clip-path=\"url(#pac5330c67a)\">\n     <use style=\"fill:#00008b;fill-opacity:0.2;\" x=\"123.62093\" xlink:href=\"#C0_0_74341684b8\" y=\"120.410326\"/>\n    </g>\n    <g clip-path=\"url(#pac5330c67a)\">\n     <use style=\"fill:#00008b;fill-opacity:0.2;\" x=\"120.08445\" xlink:href=\"#C0_0_74341684b8\" y=\"136.424679\"/>\n    </g>\n    <g clip-path=\"url(#pac5330c67a)\">\n     <use style=\"fill:#00008b;fill-opacity:0.2;\" x=\"95.329088\" xlink:href=\"#C0_0_74341684b8\" y=\"125.544069\"/>\n    </g>\n    <g clip-path=\"url(#pac5330c67a)\">\n     <use style=\"fill:#00008b;fill-opacity:0.2;\" x=\"77.646687\" xlink:href=\"#C0_0_74341684b8\" y=\"122.034852\"/>\n    </g>\n    <g clip-path=\"url(#pac5330c67a)\">\n     <use style=\"fill:#00008b;fill-opacity:0.2;\" x=\"73.40291\" xlink:href=\"#C0_0_74341684b8\" y=\"103.424874\"/>\n    </g>\n    <g clip-path=\"url(#pac5330c67a)\">\n     <use style=\"fill:#00008b;fill-opacity:0.2;\" x=\"69.86643\" xlink:href=\"#C0_0_74341684b8\" y=\"127.967462\"/>\n    </g>\n    <g clip-path=\"url(#pac5330c67a)\">\n     <use style=\"fill:#00008b;fill-opacity:0.2;\" x=\"67.037246\" xlink:href=\"#C0_0_74341684b8\" y=\"131.817309\"/>\n    </g>\n    <g clip-path=\"url(#pac5330c67a)\">\n     <use style=\"fill:#00008b;fill-opacity:0.2;\" x=\"63.500766\" xlink:href=\"#C0_0_74341684b8\" y=\"128.095589\"/>\n    </g>\n    <g clip-path=\"url(#pac5330c67a)\">\n     <use style=\"fill:#00008b;fill-opacity:0.2;\" x=\"56.427805\" xlink:href=\"#C0_0_74341684b8\" y=\"112.248533\"/>\n    </g>\n    <g clip-path=\"url(#pac5330c67a)\">\n     <use style=\"fill:#00008b;fill-opacity:0.2;\" x=\"45.818364\" xlink:href=\"#C0_0_74341684b8\" y=\"138.946299\"/>\n    </g>\n    <g clip-path=\"url(#pac5330c67a)\">\n     <use style=\"fill:#00008b;fill-opacity:0.2;\" x=\"44.050124\" xlink:href=\"#C0_0_74341684b8\" y=\"136.91401\"/>\n    </g>\n    <g clip-path=\"url(#pac5330c67a)\">\n     <use style=\"fill:#00008b;fill-opacity:0.2;\" x=\"41.928236\" xlink:href=\"#C0_0_74341684b8\" y=\"101.879044\"/>\n    </g>\n    <g clip-path=\"url(#pac5330c67a)\">\n     <use style=\"fill:#00008b;fill-opacity:0.2;\" x=\"41.574588\" xlink:href=\"#C0_0_74341684b8\" y=\"113.825593\"/>\n    </g>\n    <g clip-path=\"url(#pac5330c67a)\">\n     <use style=\"fill:#00008b;fill-opacity:0.2;\" x=\"38.745404\" xlink:href=\"#C0_0_74341684b8\" y=\"126.145741\"/>\n    </g>\n    <g clip-path=\"url(#pac5330c67a)\">\n     <use style=\"fill:#00008b;fill-opacity:0.2;\" x=\"35.91622\" xlink:href=\"#C0_0_74341684b8\" y=\"138.625203\"/>\n    </g>\n    <g clip-path=\"url(#pac5330c67a)\">\n     <use style=\"fill:#00008b;fill-opacity:0.2;\" x=\"31.672443\" xlink:href=\"#C0_0_74341684b8\" y=\"106.27328\"/>\n    </g>\n    <g clip-path=\"url(#pac5330c67a)\">\n     <use style=\"fill:#00008b;fill-opacity:0.2;\" x=\"30.894418\" xlink:href=\"#C0_0_74341684b8\" y=\"117.448789\"/>\n    </g>\n    <g clip-path=\"url(#pac5330c67a)\">\n     <use style=\"fill:#00008b;fill-opacity:0.2;\" x=\"30.54077\" xlink:href=\"#C0_0_74341684b8\" y=\"135.986033\"/>\n    </g>\n    <g clip-path=\"url(#pac5330c67a)\">\n     <use style=\"fill:#00008b;fill-opacity:0.2;\" x=\"30.47004\" xlink:href=\"#C0_0_74341684b8\" y=\"103.520021\"/>\n    </g>\n    <g clip-path=\"url(#pac5330c67a)\">\n     <use style=\"fill:#00008b;fill-opacity:0.2;\" x=\"30.257851\" xlink:href=\"#C0_0_74341684b8\" y=\"116.721954\"/>\n    </g>\n    <g clip-path=\"url(#pac5330c67a)\">\n     <use style=\"fill:#00008b;fill-opacity:0.2;\" x=\"30.257851\" xlink:href=\"#C0_0_74341684b8\" y=\"134.017115\"/>\n    </g>\n    <g clip-path=\"url(#pac5330c67a)\">\n     <use style=\"fill:#00008b;fill-opacity:0.2;\" x=\"201.423495\" xlink:href=\"#C0_0_74341684b8\" y=\"102.246265\"/>\n    </g>\n    <g clip-path=\"url(#pac5330c67a)\">\n     <use style=\"fill:#00008b;fill-opacity:0.2;\" x=\"196.118775\" xlink:href=\"#C0_0_74341684b8\" y=\"107.687548\"/>\n    </g>\n    <g clip-path=\"url(#pac5330c67a)\">\n     <use style=\"fill:#00008b;fill-opacity:0.2;\" x=\"189.045815\" xlink:href=\"#C0_0_74341684b8\" y=\"140.824775\"/>\n    </g>\n    <g clip-path=\"url(#pac5330c67a)\">\n     <use style=\"fill:#00008b;fill-opacity:0.2;\" x=\"133.051534\" xlink:href=\"#C0_0_74341684b8\" y=\"133.534476\"/>\n    </g>\n    <g clip-path=\"url(#pac5330c67a)\">\n     <use style=\"fill:#00008b;fill-opacity:0.2;\" x=\"122.73681\" xlink:href=\"#C0_0_74341684b8\" y=\"114.203653\"/>\n    </g>\n    <g clip-path=\"url(#pac5330c67a)\">\n     <use style=\"fill:#00008b;fill-opacity:0.2;\" x=\"79.321224\" xlink:href=\"#C0_0_74341684b8\" y=\"108.067238\"/>\n    </g>\n    <g clip-path=\"url(#pac5330c67a)\">\n     <use style=\"fill:#00008b;fill-opacity:0.2;\" x=\"62.79347\" xlink:href=\"#C0_0_74341684b8\" y=\"107.94095\"/>\n    </g>\n    <g clip-path=\"url(#pac5330c67a)\">\n     <use style=\"fill:#00008b;fill-opacity:0.2;\" x=\"59.964285\" xlink:href=\"#C0_0_74341684b8\" y=\"131.957371\"/>\n    </g>\n    <g clip-path=\"url(#pac5330c67a)\">\n     <use style=\"fill:#00008b;fill-opacity:0.2;\" x=\"53.174243\" xlink:href=\"#C0_0_74341684b8\" y=\"103.334637\"/>\n    </g>\n    <g clip-path=\"url(#pac5330c67a)\">\n     <use style=\"fill:#00008b;fill-opacity:0.2;\" x=\"52.891325\" xlink:href=\"#C0_0_74341684b8\" y=\"126.522421\"/>\n    </g>\n    <g clip-path=\"url(#pac5330c67a)\">\n     <use style=\"fill:#00008b;fill-opacity:0.2;\" x=\"39.240511\" xlink:href=\"#C0_0_74341684b8\" y=\"129.790352\"/>\n    </g>\n    <g clip-path=\"url(#pac5330c67a)\">\n     <use style=\"fill:#00008b;fill-opacity:0.2;\" x=\"35.91622\" xlink:href=\"#C0_0_74341684b8\" y=\"101.578662\"/>\n    </g>\n    <g clip-path=\"url(#pac5330c67a)\">\n     <use style=\"fill:#00008b;fill-opacity:0.2;\" x=\"32.026091\" xlink:href=\"#C0_0_74341684b8\" y=\"131.881005\"/>\n    </g>\n    <g clip-path=\"url(#pac5330c67a)\">\n     <use style=\"fill:#00008b;fill-opacity:0.2;\" x=\"30.894418\" xlink:href=\"#C0_0_74341684b8\" y=\"113.837078\"/>\n    </g>\n    <g clip-path=\"url(#pac5330c67a)\">\n     <use style=\"fill:#00008b;fill-opacity:0.2;\" x=\"30.894418\" xlink:href=\"#C0_0_74341684b8\" y=\"139.867117\"/>\n    </g>\n    <g clip-path=\"url(#pac5330c67a)\">\n     <use style=\"fill:#00008b;fill-opacity:0.2;\" x=\"30.823688\" xlink:href=\"#C0_0_74341684b8\" y=\"103.076957\"/>\n    </g>\n    <g clip-path=\"url(#pac5330c67a)\">\n     <use style=\"fill:#00008b;fill-opacity:0.2;\" x=\"30.823688\" xlink:href=\"#C0_0_74341684b8\" y=\"132.592155\"/>\n    </g>\n    <g clip-path=\"url(#pac5330c67a)\">\n     <use style=\"fill:#00008b;fill-opacity:0.2;\" x=\"30.512478\" xlink:href=\"#C0_0_74341684b8\" y=\"110.379872\"/>\n    </g>\n    <g clip-path=\"url(#pac5330c67a)\">\n     <use style=\"fill:#00008b;fill-opacity:0.2;\" x=\"30.484186\" xlink:href=\"#C0_0_74341684b8\" y=\"136.553498\"/>\n    </g>\n    <g clip-path=\"url(#pac5330c67a)\">\n     <use style=\"fill:#00008b;fill-opacity:0.2;\" x=\"30.47004\" xlink:href=\"#C0_0_74341684b8\" y=\"132.12209\"/>\n    </g>\n    <g clip-path=\"url(#pac5330c67a)\">\n     <use style=\"fill:#00008b;fill-opacity:0.2;\" x=\"30.47004\" xlink:href=\"#C0_0_74341684b8\" y=\"109.488635\"/>\n    </g>\n    <g clip-path=\"url(#pac5330c67a)\">\n     <use style=\"fill:#00008b;fill-opacity:0.2;\" x=\"30.434675\" xlink:href=\"#C0_0_74341684b8\" y=\"106.118615\"/>\n    </g>\n    <g clip-path=\"url(#pac5330c67a)\">\n     <use style=\"fill:#00008b;fill-opacity:0.2;\" x=\"30.434675\" xlink:href=\"#C0_0_74341684b8\" y=\"114.769683\"/>\n    </g>\n    <g clip-path=\"url(#pac5330c67a)\">\n     <use style=\"fill:#00008b;fill-opacity:0.2;\" x=\"30.257851\" xlink:href=\"#C0_0_74341684b8\" y=\"135.861993\"/>\n    </g>\n    <g clip-path=\"url(#pac5330c67a)\">\n     <use style=\"fill:#00008b;fill-opacity:0.2;\" x=\"30.257851\" xlink:href=\"#C0_0_74341684b8\" y=\"102.243579\"/>\n    </g>\n    <g clip-path=\"url(#pac5330c67a)\">\n     <use style=\"fill:#00008b;fill-opacity:0.2;\" x=\"30.257851\" xlink:href=\"#C0_0_74341684b8\" y=\"102.795046\"/>\n    </g>\n    <g clip-path=\"url(#pac5330c67a)\">\n     <use style=\"fill:#00008b;fill-opacity:0.2;\" x=\"187.277574\" xlink:href=\"#C0_0_74341684b8\" y=\"104.857571\"/>\n    </g>\n    <g clip-path=\"url(#pac5330c67a)\">\n     <use style=\"fill:#00008b;fill-opacity:0.2;\" x=\"180.204614\" xlink:href=\"#C0_0_74341684b8\" y=\"136.736635\"/>\n    </g>\n    <g clip-path=\"url(#pac5330c67a)\">\n     <use style=\"fill:#00008b;fill-opacity:0.2;\" x=\"173.131653\" xlink:href=\"#C0_0_74341684b8\" y=\"137.34785\"/>\n    </g>\n    <g clip-path=\"url(#pac5330c67a)\">\n     <use style=\"fill:#00008b;fill-opacity:0.2;\" x=\"106.174285\" xlink:href=\"#C0_0_74341684b8\" y=\"104.64214\"/>\n    </g>\n    <g clip-path=\"url(#pac5330c67a)\">\n     <use style=\"fill:#00008b;fill-opacity:0.2;\" x=\"96.566856\" xlink:href=\"#C0_0_74341684b8\" y=\"113.598013\"/>\n    </g>\n    <g clip-path=\"url(#pac5330c67a)\">\n     <use style=\"fill:#00008b;fill-opacity:0.2;\" x=\"93.2072\" xlink:href=\"#C0_0_74341684b8\" y=\"105.184961\"/>\n    </g>\n    <g clip-path=\"url(#pac5330c67a)\">\n     <use style=\"fill:#00008b;fill-opacity:0.2;\" x=\"45.818364\" xlink:href=\"#C0_0_74341684b8\" y=\"109.315329\"/>\n    </g>\n    <g clip-path=\"url(#pac5330c67a)\">\n     <use style=\"fill:#00008b;fill-opacity:0.2;\" x=\"37.330812\" xlink:href=\"#C0_0_74341684b8\" y=\"102.729516\"/>\n    </g>\n    <g clip-path=\"url(#pac5330c67a)\">\n     <use style=\"fill:#00008b;fill-opacity:0.2;\" x=\"36.623516\" xlink:href=\"#C0_0_74341684b8\" y=\"110.501146\"/>\n    </g>\n    <g clip-path=\"url(#pac5330c67a)\">\n     <use style=\"fill:#00008b;fill-opacity:0.2;\" x=\"35.84549\" xlink:href=\"#C0_0_74341684b8\" y=\"106.65587\"/>\n    </g>\n    <g clip-path=\"url(#pac5330c67a)\">\n     <use style=\"fill:#00008b;fill-opacity:0.2;\" x=\"35.208924\" xlink:href=\"#C0_0_74341684b8\" y=\"122.796446\"/>\n    </g>\n    <g clip-path=\"url(#pac5330c67a)\">\n     <use style=\"fill:#00008b;fill-opacity:0.2;\" x=\"33.087035\" xlink:href=\"#C0_0_74341684b8\" y=\"104.499649\"/>\n    </g>\n    <g clip-path=\"url(#pac5330c67a)\">\n     <use style=\"fill:#00008b;fill-opacity:0.2;\" x=\"31.122167\" xlink:href=\"#C0_0_74341684b8\" y=\"126.074048\"/>\n    </g>\n    <g clip-path=\"url(#pac5330c67a)\">\n     <use style=\"fill:#00008b;fill-opacity:0.2;\" x=\"30.888759\" xlink:href=\"#C0_0_74341684b8\" y=\"108.371894\"/>\n    </g>\n    <g clip-path=\"url(#pac5330c67a)\">\n     <use style=\"fill:#00008b;fill-opacity:0.2;\" x=\"30.646864\" xlink:href=\"#C0_0_74341684b8\" y=\"126.491728\"/>\n    </g>\n    <g clip-path=\"url(#pac5330c67a)\">\n     <use style=\"fill:#00008b;fill-opacity:0.2;\" x=\"30.639791\" xlink:href=\"#C0_0_74341684b8\" y=\"115.483367\"/>\n    </g>\n    <g clip-path=\"url(#pac5330c67a)\">\n     <use style=\"fill:#00008b;fill-opacity:0.2;\" x=\"30.611499\" xlink:href=\"#C0_0_74341684b8\" y=\"120.043999\"/>\n    </g>\n    <g clip-path=\"url(#pac5330c67a)\">\n     <use style=\"fill:#00008b;fill-opacity:0.2;\" x=\"30.594524\" xlink:href=\"#C0_0_74341684b8\" y=\"115.904429\"/>\n    </g>\n    <g clip-path=\"url(#pac5330c67a)\">\n     <use style=\"fill:#00008b;fill-opacity:0.2;\" x=\"30.57472\" xlink:href=\"#C0_0_74341684b8\" y=\"132.210672\"/>\n    </g>\n    <g clip-path=\"url(#pac5330c67a)\">\n     <use style=\"fill:#00008b;fill-opacity:0.2;\" x=\"30.567647\" xlink:href=\"#C0_0_74341684b8\" y=\"116.654676\"/>\n    </g>\n    <g clip-path=\"url(#pac5330c67a)\">\n     <use style=\"fill:#00008b;fill-opacity:0.2;\" x=\"30.465796\" xlink:href=\"#C0_0_74341684b8\" y=\"104.863807\"/>\n    </g>\n    <g clip-path=\"url(#pac5330c67a)\">\n     <use style=\"fill:#00008b;fill-opacity:0.2;\" x=\"30.447407\" xlink:href=\"#C0_0_74341684b8\" y=\"137.771438\"/>\n    </g>\n    <g clip-path=\"url(#pac5330c67a)\">\n     <use style=\"fill:#00008b;fill-opacity:0.2;\" x=\"30.409213\" xlink:href=\"#C0_0_74341684b8\" y=\"131.172234\"/>\n    </g>\n    <g clip-path=\"url(#pac5330c67a)\">\n     <use style=\"fill:#00008b;fill-opacity:0.2;\" x=\"30.361116\" xlink:href=\"#C0_0_74341684b8\" y=\"125.913081\"/>\n    </g>\n    <g clip-path=\"url(#pac5330c67a)\">\n     <use style=\"fill:#00008b;fill-opacity:0.2;\" x=\"30.296045\" xlink:href=\"#C0_0_74341684b8\" y=\"121.541799\"/>\n    </g>\n    <g clip-path=\"url(#pac5330c67a)\">\n     <use style=\"fill:#00008b;fill-opacity:0.2;\" x=\"30.274826\" xlink:href=\"#C0_0_74341684b8\" y=\"112.289506\"/>\n    </g>\n    <g clip-path=\"url(#pac5330c67a)\">\n     <use style=\"fill:#00008b;fill-opacity:0.2;\" x=\"30.269168\" xlink:href=\"#C0_0_74341684b8\" y=\"110.704637\"/>\n    </g>\n    <g clip-path=\"url(#pac5330c67a)\">\n     <use style=\"fill:#00008b;fill-opacity:0.2;\" x=\"30.267753\" xlink:href=\"#C0_0_74341684b8\" y=\"121.555178\"/>\n    </g>\n    <g clip-path=\"url(#pac5330c67a)\">\n     <use style=\"fill:#00008b;fill-opacity:0.2;\" x=\"30.257851\" xlink:href=\"#C0_0_74341684b8\" y=\"122.522138\"/>\n    </g>\n    <g clip-path=\"url(#pac5330c67a)\">\n     <use style=\"fill:#00008b;fill-opacity:0.2;\" x=\"276.043229\" xlink:href=\"#C0_0_74341684b8\" y=\"110.90482\"/>\n    </g>\n    <g clip-path=\"url(#pac5330c67a)\">\n     <use style=\"fill:#00008b;fill-opacity:0.2;\" x=\"160.753973\" xlink:href=\"#C0_0_74341684b8\" y=\"107.128953\"/>\n    </g>\n    <g clip-path=\"url(#pac5330c67a)\">\n     <use style=\"fill:#00008b;fill-opacity:0.2;\" x=\"130.69389\" xlink:href=\"#C0_0_74341684b8\" y=\"104.463249\"/>\n    </g>\n    <g clip-path=\"url(#pac5330c67a)\">\n     <use style=\"fill:#00008b;fill-opacity:0.2;\" x=\"126.450114\" xlink:href=\"#C0_0_74341684b8\" y=\"117.962563\"/>\n    </g>\n    <g clip-path=\"url(#pac5330c67a)\">\n     <use style=\"fill:#00008b;fill-opacity:0.2;\" x=\"105.938529\" xlink:href=\"#C0_0_74341684b8\" y=\"125.825871\"/>\n    </g>\n    <g clip-path=\"url(#pac5330c67a)\">\n     <use style=\"fill:#00008b;fill-opacity:0.2;\" x=\"103.81664\" xlink:href=\"#C0_0_74341684b8\" y=\"106.23533\"/>\n    </g>\n    <g clip-path=\"url(#pac5330c67a)\">\n     <use style=\"fill:#00008b;fill-opacity:0.2;\" x=\"78.000335\" xlink:href=\"#C0_0_74341684b8\" y=\"130.176137\"/>\n    </g>\n    <g clip-path=\"url(#pac5330c67a)\">\n     <use style=\"fill:#00008b;fill-opacity:0.2;\" x=\"74.110206\" xlink:href=\"#C0_0_74341684b8\" y=\"129.366805\"/>\n    </g>\n    <g clip-path=\"url(#pac5330c67a)\">\n     <use style=\"fill:#00008b;fill-opacity:0.2;\" x=\"71.63467\" xlink:href=\"#C0_0_74341684b8\" y=\"107.76434\"/>\n    </g>\n    <g clip-path=\"url(#pac5330c67a)\">\n     <use style=\"fill:#00008b;fill-opacity:0.2;\" x=\"63.500766\" xlink:href=\"#C0_0_74341684b8\" y=\"125.520255\"/>\n    </g>\n    <g clip-path=\"url(#pac5330c67a)\">\n     <use style=\"fill:#00008b;fill-opacity:0.2;\" x=\"52.891325\" xlink:href=\"#C0_0_74341684b8\" y=\"135.091582\"/>\n    </g>\n    <g clip-path=\"url(#pac5330c67a)\">\n     <use style=\"fill:#00008b;fill-opacity:0.2;\" x=\"51.476733\" xlink:href=\"#C0_0_74341684b8\" y=\"110.964961\"/>\n    </g>\n    <g clip-path=\"url(#pac5330c67a)\">\n     <use style=\"fill:#00008b;fill-opacity:0.2;\" x=\"49.354845\" xlink:href=\"#C0_0_74341684b8\" y=\"132.626131\"/>\n    </g>\n    <g clip-path=\"url(#pac5330c67a)\">\n     <use style=\"fill:#00008b;fill-opacity:0.2;\" x=\"49.354845\" xlink:href=\"#C0_0_74341684b8\" y=\"138.930493\"/>\n    </g>\n    <g clip-path=\"url(#pac5330c67a)\">\n     <use style=\"fill:#00008b;fill-opacity:0.2;\" x=\"42.98918\" xlink:href=\"#C0_0_74341684b8\" y=\"125.615985\"/>\n    </g>\n    <g clip-path=\"url(#pac5330c67a)\">\n     <use style=\"fill:#00008b;fill-opacity:0.2;\" x=\"42.635532\" xlink:href=\"#C0_0_74341684b8\" y=\"139.477305\"/>\n    </g>\n    <g clip-path=\"url(#pac5330c67a)\">\n     <use style=\"fill:#00008b;fill-opacity:0.2;\" x=\"42.281884\" xlink:href=\"#C0_0_74341684b8\" y=\"116.622531\"/>\n    </g>\n    <g clip-path=\"url(#pac5330c67a)\">\n     <use style=\"fill:#00008b;fill-opacity:0.2;\" x=\"39.523429\" xlink:href=\"#C0_0_74341684b8\" y=\"120.978881\"/>\n    </g>\n    <g clip-path=\"url(#pac5330c67a)\">\n     <use style=\"fill:#00008b;fill-opacity:0.2;\" x=\"36.623516\" xlink:href=\"#C0_0_74341684b8\" y=\"125.981075\"/>\n    </g>\n    <g clip-path=\"url(#pac5330c67a)\">\n     <use style=\"fill:#00008b;fill-opacity:0.2;\" x=\"33.794331\" xlink:href=\"#C0_0_74341684b8\" y=\"115.915521\"/>\n    </g>\n    <g clip-path=\"url(#pac5330c67a)\">\n     <use style=\"fill:#00008b;fill-opacity:0.2;\" x=\"30.371019\" xlink:href=\"#C0_0_74341684b8\" y=\"127.282521\"/>\n    </g>\n    <g clip-path=\"url(#pac5330c67a)\">\n     <use style=\"fill:#00008b;fill-opacity:0.2;\" x=\"30.356873\" xlink:href=\"#C0_0_74341684b8\" y=\"140.685201\"/>\n    </g>\n    <g clip-path=\"url(#pac5330c67a)\">\n     <use style=\"fill:#00008b;fill-opacity:0.2;\" x=\"30.342727\" xlink:href=\"#C0_0_74341684b8\" y=\"108.860281\"/>\n    </g>\n    <g clip-path=\"url(#pac5330c67a)\">\n     <use style=\"fill:#00008b;fill-opacity:0.2;\" x=\"30.342727\" xlink:href=\"#C0_0_74341684b8\" y=\"106.954011\"/>\n    </g>\n    <g clip-path=\"url(#pac5330c67a)\">\n     <use style=\"fill:#00008b;fill-opacity:0.2;\" x=\"30.342727\" xlink:href=\"#C0_0_74341684b8\" y=\"103.133783\"/>\n    </g>\n    <g clip-path=\"url(#pac5330c67a)\">\n     <use style=\"fill:#00008b;fill-opacity:0.2;\" x=\"30.314435\" xlink:href=\"#C0_0_74341684b8\" y=\"108.883277\"/>\n    </g>\n    <g clip-path=\"url(#pac5330c67a)\">\n     <use style=\"fill:#00008b;fill-opacity:0.2;\" x=\"30.300289\" xlink:href=\"#C0_0_74341684b8\" y=\"114.819418\"/>\n    </g>\n    <g clip-path=\"url(#pac5330c67a)\">\n     <use style=\"fill:#00008b;fill-opacity:0.2;\" x=\"30.271997\" xlink:href=\"#C0_0_74341684b8\" y=\"133.90404\"/>\n    </g>\n    <g clip-path=\"url(#pac5330c67a)\">\n     <use style=\"fill:#00008b;fill-opacity:0.2;\" x=\"307.517903\" xlink:href=\"#C0_0_74341684b8\" y=\"114.212023\"/>\n    </g>\n    <g clip-path=\"url(#pac5330c67a)\">\n     <use style=\"fill:#00008b;fill-opacity:0.2;\" x=\"276.764331\" xlink:href=\"#C0_0_74341684b8\" y=\"129.586202\"/>\n    </g>\n    <g clip-path=\"url(#pac5330c67a)\">\n     <use style=\"fill:#00008b;fill-opacity:0.2;\" x=\"208.496456\" xlink:href=\"#C0_0_74341684b8\" y=\"103.119601\"/>\n    </g>\n    <g clip-path=\"url(#pac5330c67a)\">\n     <use style=\"fill:#00008b;fill-opacity:0.2;\" x=\"201.423495\" xlink:href=\"#C0_0_74341684b8\" y=\"111.419457\"/>\n    </g>\n    <g clip-path=\"url(#pac5330c67a)\">\n     <use style=\"fill:#00008b;fill-opacity:0.2;\" x=\"194.350535\" xlink:href=\"#C0_0_74341684b8\" y=\"113.598866\"/>\n    </g>\n    <g clip-path=\"url(#pac5330c67a)\">\n     <use style=\"fill:#00008b;fill-opacity:0.2;\" x=\"137.766851\" xlink:href=\"#C0_0_74341684b8\" y=\"122.748576\"/>\n    </g>\n    <g clip-path=\"url(#pac5330c67a)\">\n     <use style=\"fill:#00008b;fill-opacity:0.2;\" x=\"122.00903\" xlink:href=\"#C0_0_74341684b8\" y=\"119.442432\"/>\n    </g>\n    <g clip-path=\"url(#pac5330c67a)\">\n     <use style=\"fill:#00008b;fill-opacity:0.2;\" x=\"121.499042\" xlink:href=\"#C0_0_74341684b8\" y=\"136.689442\"/>\n    </g>\n    <g clip-path=\"url(#pac5330c67a)\">\n     <use style=\"fill:#00008b;fill-opacity:0.2;\" x=\"117.962561\" xlink:href=\"#C0_0_74341684b8\" y=\"105.195697\"/>\n    </g>\n    <g clip-path=\"url(#pac5330c67a)\">\n     <use style=\"fill:#00008b;fill-opacity:0.2;\" x=\"80.475871\" xlink:href=\"#C0_0_74341684b8\" y=\"135.964607\"/>\n    </g>\n    <g clip-path=\"url(#pac5330c67a)\">\n     <use style=\"fill:#00008b;fill-opacity:0.2;\" x=\"59.610637\" xlink:href=\"#C0_0_74341684b8\" y=\"118.238669\"/>\n    </g>\n    <g clip-path=\"url(#pac5330c67a)\">\n     <use style=\"fill:#00008b;fill-opacity:0.2;\" x=\"51.759651\" xlink:href=\"#C0_0_74341684b8\" y=\"131.071923\"/>\n    </g>\n    <g clip-path=\"url(#pac5330c67a)\">\n     <use style=\"fill:#00008b;fill-opacity:0.2;\" x=\"46.52566\" xlink:href=\"#C0_0_74341684b8\" y=\"128.718304\"/>\n    </g>\n    <g clip-path=\"url(#pac5330c67a)\">\n     <use style=\"fill:#00008b;fill-opacity:0.2;\" x=\"45.818364\" xlink:href=\"#C0_0_74341684b8\" y=\"135.975835\"/>\n    </g>\n    <g clip-path=\"url(#pac5330c67a)\">\n     <use style=\"fill:#00008b;fill-opacity:0.2;\" x=\"42.281884\" xlink:href=\"#C0_0_74341684b8\" y=\"127.040702\"/>\n    </g>\n    <g clip-path=\"url(#pac5330c67a)\">\n     <use style=\"fill:#00008b;fill-opacity:0.2;\" x=\"38.745404\" xlink:href=\"#C0_0_74341684b8\" y=\"125.724993\"/>\n    </g>\n    <g clip-path=\"url(#pac5330c67a)\">\n     <use style=\"fill:#00008b;fill-opacity:0.2;\" x=\"38.038108\" xlink:href=\"#C0_0_74341684b8\" y=\"117.344641\"/>\n    </g>\n    <g clip-path=\"url(#pac5330c67a)\">\n     <use style=\"fill:#00008b;fill-opacity:0.2;\" x=\"37.543001\" xlink:href=\"#C0_0_74341684b8\" y=\"111.351215\"/>\n    </g>\n    <g clip-path=\"url(#pac5330c67a)\">\n     <use style=\"fill:#00008b;fill-opacity:0.2;\" x=\"30.795396\" xlink:href=\"#C0_0_74341684b8\" y=\"101.489265\"/>\n    </g>\n    <g clip-path=\"url(#pac5330c67a)\">\n     <use style=\"fill:#00008b;fill-opacity:0.2;\" x=\"30.611499\" xlink:href=\"#C0_0_74341684b8\" y=\"121.309783\"/>\n    </g>\n    <g clip-path=\"url(#pac5330c67a)\">\n     <use style=\"fill:#00008b;fill-opacity:0.2;\" x=\"30.378092\" xlink:href=\"#C0_0_74341684b8\" y=\"136.934601\"/>\n    </g>\n    <g clip-path=\"url(#pac5330c67a)\">\n     <use style=\"fill:#00008b;fill-opacity:0.2;\" x=\"30.363946\" xlink:href=\"#C0_0_74341684b8\" y=\"110.405333\"/>\n    </g>\n    <g clip-path=\"url(#pac5330c67a)\">\n     <use style=\"fill:#00008b;fill-opacity:0.2;\" x=\"30.328581\" xlink:href=\"#C0_0_74341684b8\" y=\"115.054526\"/>\n    </g>\n    <g clip-path=\"url(#pac5330c67a)\">\n     <use style=\"fill:#00008b;fill-opacity:0.2;\" x=\"30.327166\" xlink:href=\"#C0_0_74341684b8\" y=\"110.635455\"/>\n    </g>\n    <g clip-path=\"url(#pac5330c67a)\">\n     <use style=\"fill:#00008b;fill-opacity:0.2;\" x=\"30.314435\" xlink:href=\"#C0_0_74341684b8\" y=\"138.052005\"/>\n    </g>\n    <g clip-path=\"url(#pac5330c67a)\">\n     <use style=\"fill:#00008b;fill-opacity:0.2;\" x=\"30.257851\" xlink:href=\"#C0_0_74341684b8\" y=\"125.172972\"/>\n    </g>\n    <g clip-path=\"url(#pac5330c67a)\">\n     <use style=\"fill:#00008b;fill-opacity:0.2;\" x=\"30.257851\" xlink:href=\"#C0_0_74341684b8\" y=\"111.952191\"/>\n    </g>\n    <g clip-path=\"url(#pac5330c67a)\">\n     <use style=\"fill:#00008b;fill-opacity:0.2;\" x=\"166.058693\" xlink:href=\"#C0_0_74341684b8\" y=\"107.559872\"/>\n    </g>\n    <g clip-path=\"url(#pac5330c67a)\">\n     <use style=\"fill:#00008b;fill-opacity:0.2;\" x=\"134.937667\" xlink:href=\"#C0_0_74341684b8\" y=\"127.096794\"/>\n    </g>\n    <g clip-path=\"url(#pac5330c67a)\">\n     <use style=\"fill:#00008b;fill-opacity:0.2;\" x=\"123.62093\" xlink:href=\"#C0_0_74341684b8\" y=\"134.786017\"/>\n    </g>\n    <g clip-path=\"url(#pac5330c67a)\">\n     <use style=\"fill:#00008b;fill-opacity:0.2;\" x=\"109.475009\" xlink:href=\"#C0_0_74341684b8\" y=\"119.338768\"/>\n    </g>\n    <g clip-path=\"url(#pac5330c67a)\">\n     <use style=\"fill:#00008b;fill-opacity:0.2;\" x=\"87.548831\" xlink:href=\"#C0_0_74341684b8\" y=\"108.854955\"/>\n    </g>\n    <g clip-path=\"url(#pac5330c67a)\">\n     <use style=\"fill:#00008b;fill-opacity:0.2;\" x=\"78.353983\" xlink:href=\"#C0_0_74341684b8\" y=\"130.949718\"/>\n    </g>\n    <g clip-path=\"url(#pac5330c67a)\">\n     <use style=\"fill:#00008b;fill-opacity:0.2;\" x=\"77.646687\" xlink:href=\"#C0_0_74341684b8\" y=\"103.057963\"/>\n    </g>\n    <g clip-path=\"url(#pac5330c67a)\">\n     <use style=\"fill:#00008b;fill-opacity:0.2;\" x=\"52.891325\" xlink:href=\"#C0_0_74341684b8\" y=\"126.452887\"/>\n    </g>\n    <g clip-path=\"url(#pac5330c67a)\">\n     <use style=\"fill:#00008b;fill-opacity:0.2;\" x=\"49.923779\" xlink:href=\"#C0_0_74341684b8\" y=\"108.957418\"/>\n    </g>\n    <g clip-path=\"url(#pac5330c67a)\">\n     <use style=\"fill:#00008b;fill-opacity:0.2;\" x=\"42.281884\" xlink:href=\"#C0_0_74341684b8\" y=\"131.553715\"/>\n    </g>\n    <g clip-path=\"url(#pac5330c67a)\">\n     <use style=\"fill:#00008b;fill-opacity:0.2;\" x=\"40.159996\" xlink:href=\"#C0_0_74341684b8\" y=\"131.358075\"/>\n    </g>\n    <g clip-path=\"url(#pac5330c67a)\">\n     <use style=\"fill:#00008b;fill-opacity:0.2;\" x=\"39.806348\" xlink:href=\"#C0_0_74341684b8\" y=\"121.219417\"/>\n    </g>\n    <g clip-path=\"url(#pac5330c67a)\">\n     <use style=\"fill:#00008b;fill-opacity:0.2;\" x=\"38.038108\" xlink:href=\"#C0_0_74341684b8\" y=\"133.803818\"/>\n    </g>\n    <g clip-path=\"url(#pac5330c67a)\">\n     <use style=\"fill:#00008b;fill-opacity:0.2;\" x=\"32.379739\" xlink:href=\"#C0_0_74341684b8\" y=\"115.283496\"/>\n    </g>\n    <g clip-path=\"url(#pac5330c67a)\">\n     <use style=\"fill:#00008b;fill-opacity:0.2;\" x=\"31.672443\" xlink:href=\"#C0_0_74341684b8\" y=\"108.02547\"/>\n    </g>\n    <g clip-path=\"url(#pac5330c67a)\">\n     <use style=\"fill:#00008b;fill-opacity:0.2;\" x=\"31.318795\" xlink:href=\"#C0_0_74341684b8\" y=\"137.325107\"/>\n    </g>\n    <g clip-path=\"url(#pac5330c67a)\">\n     <use style=\"fill:#00008b;fill-opacity:0.2;\" x=\"30.611499\" xlink:href=\"#C0_0_74341684b8\" y=\"119.747291\"/>\n    </g>\n    <g clip-path=\"url(#pac5330c67a)\">\n     <use style=\"fill:#00008b;fill-opacity:0.2;\" x=\"30.54077\" xlink:href=\"#C0_0_74341684b8\" y=\"120.674066\"/>\n    </g>\n    <g clip-path=\"url(#pac5330c67a)\">\n     <use style=\"fill:#00008b;fill-opacity:0.2;\" x=\"30.54077\" xlink:href=\"#C0_0_74341684b8\" y=\"139.404953\"/>\n    </g>\n    <g clip-path=\"url(#pac5330c67a)\">\n     <use style=\"fill:#00008b;fill-opacity:0.2;\" x=\"30.47004\" xlink:href=\"#C0_0_74341684b8\" y=\"130.123032\"/>\n    </g>\n    <g clip-path=\"url(#pac5330c67a)\">\n     <use style=\"fill:#00008b;fill-opacity:0.2;\" x=\"30.47004\" xlink:href=\"#C0_0_74341684b8\" y=\"134.878676\"/>\n    </g>\n    <g clip-path=\"url(#pac5330c67a)\">\n     <use style=\"fill:#00008b;fill-opacity:0.2;\" x=\"30.47004\" xlink:href=\"#C0_0_74341684b8\" y=\"134.311755\"/>\n    </g>\n    <g clip-path=\"url(#pac5330c67a)\">\n     <use style=\"fill:#00008b;fill-opacity:0.2;\" x=\"30.434675\" xlink:href=\"#C0_0_74341684b8\" y=\"105.264925\"/>\n    </g>\n    <g clip-path=\"url(#pac5330c67a)\">\n     <use style=\"fill:#00008b;fill-opacity:0.2;\" x=\"30.363946\" xlink:href=\"#C0_0_74341684b8\" y=\"113.116503\"/>\n    </g>\n    <g clip-path=\"url(#pac5330c67a)\">\n     <use style=\"fill:#00008b;fill-opacity:0.2;\" x=\"30.328581\" xlink:href=\"#C0_0_74341684b8\" y=\"124.274919\"/>\n    </g>\n    <g clip-path=\"url(#pac5330c67a)\">\n     <use style=\"fill:#00008b;fill-opacity:0.2;\" x=\"30.307362\" xlink:href=\"#C0_0_74341684b8\" y=\"116.318935\"/>\n    </g>\n    <g clip-path=\"url(#pac5330c67a)\">\n     <use style=\"fill:#00008b;fill-opacity:0.2;\" x=\"30.271997\" xlink:href=\"#C0_0_74341684b8\" y=\"117.523682\"/>\n    </g>\n    <g clip-path=\"url(#pac5330c67a)\">\n     <use style=\"fill:#00008b;fill-opacity:0.2;\" x=\"293.371982\" xlink:href=\"#C0_0_74341684b8\" y=\"118.631378\"/>\n    </g>\n    <g clip-path=\"url(#pac5330c67a)\">\n     <use style=\"fill:#00008b;fill-opacity:0.2;\" x=\"236.788298\" xlink:href=\"#C0_0_74341684b8\" y=\"124.260328\"/>\n    </g>\n    <g clip-path=\"url(#pac5330c67a)\">\n     <use style=\"fill:#00008b;fill-opacity:0.2;\" x=\"229.715337\" xlink:href=\"#C0_0_74341684b8\" y=\"103.205839\"/>\n    </g>\n    <g clip-path=\"url(#pac5330c67a)\">\n     <use style=\"fill:#00008b;fill-opacity:0.2;\" x=\"102.402048\" xlink:href=\"#C0_0_74341684b8\" y=\"109.043309\"/>\n    </g>\n    <g clip-path=\"url(#pac5330c67a)\">\n     <use style=\"fill:#00008b;fill-opacity:0.2;\" x=\"95.329088\" xlink:href=\"#C0_0_74341684b8\" y=\"111.100557\"/>\n    </g>\n    <g clip-path=\"url(#pac5330c67a)\">\n     <use style=\"fill:#00008b;fill-opacity:0.2;\" x=\"88.256127\" xlink:href=\"#C0_0_74341684b8\" y=\"127.721561\"/>\n    </g>\n    <g clip-path=\"url(#pac5330c67a)\">\n     <use style=\"fill:#00008b;fill-opacity:0.2;\" x=\"84.719647\" xlink:href=\"#C0_0_74341684b8\" y=\"118.943682\"/>\n    </g>\n    <g clip-path=\"url(#pac5330c67a)\">\n     <use style=\"fill:#00008b;fill-opacity:0.2;\" x=\"74.110206\" xlink:href=\"#C0_0_74341684b8\" y=\"128.750725\"/>\n    </g>\n    <g clip-path=\"url(#pac5330c67a)\">\n     <use style=\"fill:#00008b;fill-opacity:0.2;\" x=\"68.451838\" xlink:href=\"#C0_0_74341684b8\" y=\"115.488167\"/>\n    </g>\n    <g clip-path=\"url(#pac5330c67a)\">\n     <use style=\"fill:#00008b;fill-opacity:0.2;\" x=\"67.037246\" xlink:href=\"#C0_0_74341684b8\" y=\"107.539932\"/>\n    </g>\n    <g clip-path=\"url(#pac5330c67a)\">\n     <use style=\"fill:#00008b;fill-opacity:0.2;\" x=\"58.549693\" xlink:href=\"#C0_0_74341684b8\" y=\"135.261804\"/>\n    </g>\n    <g clip-path=\"url(#pac5330c67a)\">\n     <use style=\"fill:#00008b;fill-opacity:0.2;\" x=\"47.586604\" xlink:href=\"#C0_0_74341684b8\" y=\"130.45252\"/>\n    </g>\n    <g clip-path=\"url(#pac5330c67a)\">\n     <use style=\"fill:#00008b;fill-opacity:0.2;\" x=\"47.232956\" xlink:href=\"#C0_0_74341684b8\" y=\"134.792415\"/>\n    </g>\n    <g clip-path=\"url(#pac5330c67a)\">\n     <use style=\"fill:#00008b;fill-opacity:0.2;\" x=\"45.818364\" xlink:href=\"#C0_0_74341684b8\" y=\"101.671459\"/>\n    </g>\n    <g clip-path=\"url(#pac5330c67a)\">\n     <use style=\"fill:#00008b;fill-opacity:0.2;\" x=\"40.867292\" xlink:href=\"#C0_0_74341684b8\" y=\"132.908497\"/>\n    </g>\n    <g clip-path=\"url(#pac5330c67a)\">\n     <use style=\"fill:#00008b;fill-opacity:0.2;\" x=\"36.128408\" xlink:href=\"#C0_0_74341684b8\" y=\"110.823967\"/>\n    </g>\n    <g clip-path=\"url(#pac5330c67a)\">\n     <use style=\"fill:#00008b;fill-opacity:0.2;\" x=\"35.91622\" xlink:href=\"#C0_0_74341684b8\" y=\"121.763382\"/>\n    </g>\n    <g clip-path=\"url(#pac5330c67a)\">\n     <use style=\"fill:#00008b;fill-opacity:0.2;\" x=\"35.208924\" xlink:href=\"#C0_0_74341684b8\" y=\"118.752189\"/>\n    </g>\n    <g clip-path=\"url(#pac5330c67a)\">\n     <use style=\"fill:#00008b;fill-opacity:0.2;\" x=\"34.501628\" xlink:href=\"#C0_0_74341684b8\" y=\"125.617973\"/>\n    </g>\n    <g clip-path=\"url(#pac5330c67a)\">\n     <use style=\"fill:#00008b;fill-opacity:0.2;\" x=\"30.611499\" xlink:href=\"#C0_0_74341684b8\" y=\"112.102686\"/>\n    </g>\n    <g clip-path=\"url(#pac5330c67a)\">\n     <use style=\"fill:#00008b;fill-opacity:0.2;\" x=\"30.477113\" xlink:href=\"#C0_0_74341684b8\" y=\"125.050367\"/>\n    </g>\n    <g clip-path=\"url(#pac5330c67a)\">\n     <use style=\"fill:#00008b;fill-opacity:0.2;\" x=\"30.47004\" xlink:href=\"#C0_0_74341684b8\" y=\"137.906949\"/>\n    </g>\n    <g clip-path=\"url(#pac5330c67a)\">\n     <use style=\"fill:#00008b;fill-opacity:0.2;\" x=\"30.3498\" xlink:href=\"#C0_0_74341684b8\" y=\"115.388933\"/>\n    </g>\n    <g clip-path=\"url(#pac5330c67a)\">\n     <use style=\"fill:#00008b;fill-opacity:0.2;\" x=\"30.293216\" xlink:href=\"#C0_0_74341684b8\" y=\"107.254744\"/>\n    </g>\n    <g clip-path=\"url(#pac5330c67a)\">\n     <use style=\"fill:#00008b;fill-opacity:0.2;\" x=\"30.271997\" xlink:href=\"#C0_0_74341684b8\" y=\"132.476944\"/>\n    </g>\n    <g clip-path=\"url(#pac5330c67a)\">\n     <use style=\"fill:#00008b;fill-opacity:0.2;\" x=\"30.257851\" xlink:href=\"#C0_0_74341684b8\" y=\"107.310987\"/>\n    </g>\n    <g clip-path=\"url(#pac5330c67a)\">\n     <use style=\"fill:#00008b;fill-opacity:0.2;\" x=\"30.257851\" xlink:href=\"#C0_0_74341684b8\" y=\"110.831894\"/>\n    </g>\n    <g clip-path=\"url(#pac5330c67a)\">\n     <use style=\"fill:#00008b;fill-opacity:0.2;\" x=\"30.257851\" xlink:href=\"#C0_0_74341684b8\" y=\"110.795845\"/>\n    </g>\n    <g clip-path=\"url(#pac5330c67a)\">\n     <use style=\"fill:#00008b;fill-opacity:0.2;\" x=\"200.008903\" xlink:href=\"#C0_0_74341684b8\" y=\"101.439871\"/>\n    </g>\n    <g clip-path=\"url(#pac5330c67a)\">\n     <use style=\"fill:#00008b;fill-opacity:0.2;\" x=\"194.350535\" xlink:href=\"#C0_0_74341684b8\" y=\"122.15662\"/>\n    </g>\n    <g clip-path=\"url(#pac5330c67a)\">\n     <use style=\"fill:#00008b;fill-opacity:0.2;\" x=\"127.15741\" xlink:href=\"#C0_0_74341684b8\" y=\"139.447221\"/>\n    </g>\n    <g clip-path=\"url(#pac5330c67a)\">\n     <use style=\"fill:#00008b;fill-opacity:0.2;\" x=\"91.085312\" xlink:href=\"#C0_0_74341684b8\" y=\"127.718845\"/>\n    </g>\n    <g clip-path=\"url(#pac5330c67a)\">\n     <use style=\"fill:#00008b;fill-opacity:0.2;\" x=\"88.256127\" xlink:href=\"#C0_0_74341684b8\" y=\"135.11079\"/>\n    </g>\n    <g clip-path=\"url(#pac5330c67a)\">\n     <use style=\"fill:#00008b;fill-opacity:0.2;\" x=\"71.281022\" xlink:href=\"#C0_0_74341684b8\" y=\"129.189186\"/>\n    </g>\n    <g clip-path=\"url(#pac5330c67a)\">\n     <use style=\"fill:#00008b;fill-opacity:0.2;\" x=\"70.573726\" xlink:href=\"#C0_0_74341684b8\" y=\"116.843406\"/>\n    </g>\n    <g clip-path=\"url(#pac5330c67a)\">\n     <use style=\"fill:#00008b;fill-opacity:0.2;\" x=\"67.037246\" xlink:href=\"#C0_0_74341684b8\" y=\"139.706471\"/>\n    </g>\n    <g clip-path=\"url(#pac5330c67a)\">\n     <use style=\"fill:#00008b;fill-opacity:0.2;\" x=\"63.500766\" xlink:href=\"#C0_0_74341684b8\" y=\"125.973108\"/>\n    </g>\n    <g clip-path=\"url(#pac5330c67a)\">\n     <use style=\"fill:#00008b;fill-opacity:0.2;\" x=\"57.135101\" xlink:href=\"#C0_0_74341684b8\" y=\"122.248967\"/>\n    </g>\n    <g clip-path=\"url(#pac5330c67a)\">\n     <use style=\"fill:#00008b;fill-opacity:0.2;\" x=\"56.427805\" xlink:href=\"#C0_0_74341684b8\" y=\"139.939906\"/>\n    </g>\n    <g clip-path=\"url(#pac5330c67a)\">\n     <use style=\"fill:#00008b;fill-opacity:0.2;\" x=\"50.062141\" xlink:href=\"#C0_0_74341684b8\" y=\"122.110792\"/>\n    </g>\n    <g clip-path=\"url(#pac5330c67a)\">\n     <use style=\"fill:#00008b;fill-opacity:0.2;\" x=\"49.496304\" xlink:href=\"#C0_0_74341684b8\" y=\"113.370055\"/>\n    </g>\n    <g clip-path=\"url(#pac5330c67a)\">\n     <use style=\"fill:#00008b;fill-opacity:0.2;\" x=\"48.647549\" xlink:href=\"#C0_0_74341684b8\" y=\"107.038432\"/>\n    </g>\n    <g clip-path=\"url(#pac5330c67a)\">\n     <use style=\"fill:#00008b;fill-opacity:0.2;\" x=\"47.940252\" xlink:href=\"#C0_0_74341684b8\" y=\"131.7887\"/>\n    </g>\n    <g clip-path=\"url(#pac5330c67a)\">\n     <use style=\"fill:#00008b;fill-opacity:0.2;\" x=\"40.867292\" xlink:href=\"#C0_0_74341684b8\" y=\"108.656119\"/>\n    </g>\n    <g clip-path=\"url(#pac5330c67a)\">\n     <use style=\"fill:#00008b;fill-opacity:0.2;\" x=\"38.038108\" xlink:href=\"#C0_0_74341684b8\" y=\"130.14501\"/>\n    </g>\n    <g clip-path=\"url(#pac5330c67a)\">\n     <use style=\"fill:#00008b;fill-opacity:0.2;\" x=\"34.00652\" xlink:href=\"#C0_0_74341684b8\" y=\"132.361399\"/>\n    </g>\n    <g clip-path=\"url(#pac5330c67a)\">\n     <use style=\"fill:#00008b;fill-opacity:0.2;\" x=\"33.087035\" xlink:href=\"#C0_0_74341684b8\" y=\"119.026735\"/>\n    </g>\n    <g clip-path=\"url(#pac5330c67a)\">\n     <use style=\"fill:#00008b;fill-opacity:0.2;\" x=\"31.248066\" xlink:href=\"#C0_0_74341684b8\" y=\"115.518812\"/>\n    </g>\n    <g clip-path=\"url(#pac5330c67a)\">\n     <use style=\"fill:#00008b;fill-opacity:0.2;\" x=\"31.106607\" xlink:href=\"#C0_0_74341684b8\" y=\"132.249934\"/>\n    </g>\n    <g clip-path=\"url(#pac5330c67a)\">\n     <use style=\"fill:#00008b;fill-opacity:0.2;\" x=\"30.668083\" xlink:href=\"#C0_0_74341684b8\" y=\"129.881287\"/>\n    </g>\n    <g clip-path=\"url(#pac5330c67a)\">\n     <use style=\"fill:#00008b;fill-opacity:0.2;\" x=\"30.653937\" xlink:href=\"#C0_0_74341684b8\" y=\"119.154003\"/>\n    </g>\n    <g clip-path=\"url(#pac5330c67a)\">\n     <use style=\"fill:#00008b;fill-opacity:0.2;\" x=\"30.569062\" xlink:href=\"#C0_0_74341684b8\" y=\"136.78139\"/>\n    </g>\n    <g clip-path=\"url(#pac5330c67a)\">\n     <use style=\"fill:#00008b;fill-opacity:0.2;\" x=\"30.462967\" xlink:href=\"#C0_0_74341684b8\" y=\"133.525234\"/>\n    </g>\n    <g clip-path=\"url(#pac5330c67a)\">\n     <use style=\"fill:#00008b;fill-opacity:0.2;\" x=\"30.345697\" xlink:href=\"#C0_0_74341684b8\" y=\"132.265605\"/>\n    </g>\n    <g clip-path=\"url(#pac5330c67a)\">\n     <use style=\"fill:#00008b;fill-opacity:0.2;\" x=\"30.264924\" xlink:href=\"#C0_0_74341684b8\" y=\"137.365387\"/>\n    </g>\n    <g clip-path=\"url(#pac5330c67a)\">\n     <use style=\"fill:#00008b;fill-opacity:0.2;\" x=\"286.299021\" xlink:href=\"#C0_0_74341684b8\" y=\"105.838601\"/>\n    </g>\n    <g clip-path=\"url(#pac5330c67a)\">\n     <use style=\"fill:#00008b;fill-opacity:0.2;\" x=\"151.912772\" xlink:href=\"#C0_0_74341684b8\" y=\"138.201785\"/>\n    </g>\n    <g clip-path=\"url(#pac5330c67a)\">\n     <use style=\"fill:#00008b;fill-opacity:0.2;\" x=\"151.912772\" xlink:href=\"#C0_0_74341684b8\" y=\"126.602318\"/>\n    </g>\n    <g clip-path=\"url(#pac5330c67a)\">\n     <use style=\"fill:#00008b;fill-opacity:0.2;\" x=\"137.766851\" xlink:href=\"#C0_0_74341684b8\" y=\"106.585051\"/>\n    </g>\n    <g clip-path=\"url(#pac5330c67a)\">\n     <use style=\"fill:#00008b;fill-opacity:0.2;\" x=\"137.766851\" xlink:href=\"#C0_0_74341684b8\" y=\"124.859637\"/>\n    </g>\n    <g clip-path=\"url(#pac5330c67a)\">\n     <use style=\"fill:#00008b;fill-opacity:0.2;\" x=\"109.475009\" xlink:href=\"#C0_0_74341684b8\" y=\"101.679729\"/>\n    </g>\n    <g clip-path=\"url(#pac5330c67a)\">\n     <use style=\"fill:#00008b;fill-opacity:0.2;\" x=\"109.475009\" xlink:href=\"#C0_0_74341684b8\" y=\"105.302037\"/>\n    </g>\n    <g clip-path=\"url(#pac5330c67a)\">\n     <use style=\"fill:#00008b;fill-opacity:0.2;\" x=\"102.402048\" xlink:href=\"#C0_0_74341684b8\" y=\"108.630093\"/>\n    </g>\n    <g clip-path=\"url(#pac5330c67a)\">\n     <use style=\"fill:#00008b;fill-opacity:0.2;\" x=\"100.28016\" xlink:href=\"#C0_0_74341684b8\" y=\"106.625384\"/>\n    </g>\n    <g clip-path=\"url(#pac5330c67a)\">\n     <use style=\"fill:#00008b;fill-opacity:0.2;\" x=\"84.931836\" xlink:href=\"#C0_0_74341684b8\" y=\"105.976969\"/>\n    </g>\n    <g clip-path=\"url(#pac5330c67a)\">\n     <use style=\"fill:#00008b;fill-opacity:0.2;\" x=\"84.719647\" xlink:href=\"#C0_0_74341684b8\" y=\"113.995314\"/>\n    </g>\n    <g clip-path=\"url(#pac5330c67a)\">\n     <use style=\"fill:#00008b;fill-opacity:0.2;\" x=\"76.939391\" xlink:href=\"#C0_0_74341684b8\" y=\"122.589527\"/>\n    </g>\n    <g clip-path=\"url(#pac5330c67a)\">\n     <use style=\"fill:#00008b;fill-opacity:0.2;\" x=\"75.524798\" xlink:href=\"#C0_0_74341684b8\" y=\"136.451612\"/>\n    </g>\n    <g clip-path=\"url(#pac5330c67a)\">\n     <use style=\"fill:#00008b;fill-opacity:0.2;\" x=\"63.736522\" xlink:href=\"#C0_0_74341684b8\" y=\"129.267803\"/>\n    </g>\n    <g clip-path=\"url(#pac5330c67a)\">\n     <use style=\"fill:#00008b;fill-opacity:0.2;\" x=\"53.598621\" xlink:href=\"#C0_0_74341684b8\" y=\"136.76027\"/>\n    </g>\n    <g clip-path=\"url(#pac5330c67a)\">\n     <use style=\"fill:#00008b;fill-opacity:0.2;\" x=\"49.354845\" xlink:href=\"#C0_0_74341684b8\" y=\"115.049737\"/>\n    </g>\n    <g clip-path=\"url(#pac5330c67a)\">\n     <use style=\"fill:#00008b;fill-opacity:0.2;\" x=\"42.98918\" xlink:href=\"#C0_0_74341684b8\" y=\"120.960434\"/>\n    </g>\n    <g clip-path=\"url(#pac5330c67a)\">\n     <use style=\"fill:#00008b;fill-opacity:0.2;\" x=\"41.574588\" xlink:href=\"#C0_0_74341684b8\" y=\"110.023022\"/>\n    </g>\n    <g clip-path=\"url(#pac5330c67a)\">\n     <use style=\"fill:#00008b;fill-opacity:0.2;\" x=\"33.440683\" xlink:href=\"#C0_0_74341684b8\" y=\"127.324155\"/>\n    </g>\n    <g clip-path=\"url(#pac5330c67a)\">\n     <use style=\"fill:#00008b;fill-opacity:0.2;\" x=\"30.752958\" xlink:href=\"#C0_0_74341684b8\" y=\"108.614585\"/>\n    </g>\n    <g clip-path=\"url(#pac5330c67a)\">\n     <use style=\"fill:#00008b;fill-opacity:0.2;\" x=\"30.54077\" xlink:href=\"#C0_0_74341684b8\" y=\"116.097155\"/>\n    </g>\n    <g clip-path=\"url(#pac5330c67a)\">\n     <use style=\"fill:#00008b;fill-opacity:0.2;\" x=\"30.512478\" xlink:href=\"#C0_0_74341684b8\" y=\"117.551779\"/>\n    </g>\n    <g clip-path=\"url(#pac5330c67a)\">\n     <use style=\"fill:#00008b;fill-opacity:0.2;\" x=\"30.47004\" xlink:href=\"#C0_0_74341684b8\" y=\"114.359906\"/>\n    </g>\n    <g clip-path=\"url(#pac5330c67a)\">\n     <use style=\"fill:#00008b;fill-opacity:0.2;\" x=\"30.39931\" xlink:href=\"#C0_0_74341684b8\" y=\"119.215929\"/>\n    </g>\n    <g clip-path=\"url(#pac5330c67a)\">\n     <use style=\"fill:#00008b;fill-opacity:0.2;\" x=\"30.328581\" xlink:href=\"#C0_0_74341684b8\" y=\"136.700411\"/>\n    </g>\n    <g clip-path=\"url(#pac5330c67a)\">\n     <use style=\"fill:#00008b;fill-opacity:0.2;\" x=\"30.288972\" xlink:href=\"#C0_0_74341684b8\" y=\"106.093195\"/>\n    </g>\n    <g clip-path=\"url(#pac5330c67a)\">\n     <use style=\"fill:#00008b;fill-opacity:0.2;\" x=\"30.286143\" xlink:href=\"#C0_0_74341684b8\" y=\"140.250815\"/>\n    </g>\n    <g clip-path=\"url(#pac5330c67a)\">\n     <use style=\"fill:#00008b;fill-opacity:0.2;\" x=\"30.257851\" xlink:href=\"#C0_0_74341684b8\" y=\"111.690422\"/>\n    </g>\n    <g clip-path=\"url(#pac5330c67a)\">\n     <use style=\"fill:#00008b;fill-opacity:0.2;\" x=\"30.257851\" xlink:href=\"#C0_0_74341684b8\" y=\"116.092694\"/>\n    </g>\n    <g clip-path=\"url(#pac5330c67a)\">\n     <use style=\"fill:#00008b;fill-opacity:0.2;\" x=\"289.057561\" xlink:href=\"#C0_0_74341684b8\" y=\"105.886767\"/>\n    </g>\n    <g clip-path=\"url(#pac5330c67a)\">\n     <use style=\"fill:#00008b;fill-opacity:0.2;\" x=\"242.918192\" xlink:href=\"#C0_0_74341684b8\" y=\"103.263781\"/>\n    </g>\n    <g clip-path=\"url(#pac5330c67a)\">\n     <use style=\"fill:#00008b;fill-opacity:0.2;\" x=\"158.985732\" xlink:href=\"#C0_0_74341684b8\" y=\"109.189135\"/>\n    </g>\n    <g clip-path=\"url(#pac5330c67a)\">\n     <use style=\"fill:#00008b;fill-opacity:0.2;\" x=\"113.011489\" xlink:href=\"#C0_0_74341684b8\" y=\"113.829306\"/>\n    </g>\n    <g clip-path=\"url(#pac5330c67a)\">\n     <use style=\"fill:#00008b;fill-opacity:0.2;\" x=\"105.938529\" xlink:href=\"#C0_0_74341684b8\" y=\"102.037261\"/>\n    </g>\n    <g clip-path=\"url(#pac5330c67a)\">\n     <use style=\"fill:#00008b;fill-opacity:0.2;\" x=\"96.036384\" xlink:href=\"#C0_0_74341684b8\" y=\"121.106511\"/>\n    </g>\n    <g clip-path=\"url(#pac5330c67a)\">\n     <use style=\"fill:#00008b;fill-opacity:0.2;\" x=\"95.682736\" xlink:href=\"#C0_0_74341684b8\" y=\"119.049738\"/>\n    </g>\n    <g clip-path=\"url(#pac5330c67a)\">\n     <use style=\"fill:#00008b;fill-opacity:0.2;\" x=\"88.256127\" xlink:href=\"#C0_0_74341684b8\" y=\"114.658747\"/>\n    </g>\n    <g clip-path=\"url(#pac5330c67a)\">\n     <use style=\"fill:#00008b;fill-opacity:0.2;\" x=\"81.183167\" xlink:href=\"#C0_0_74341684b8\" y=\"108.922274\"/>\n    </g>\n    <g clip-path=\"url(#pac5330c67a)\">\n     <use style=\"fill:#00008b;fill-opacity:0.2;\" x=\"81.183167\" xlink:href=\"#C0_0_74341684b8\" y=\"127.747838\"/>\n    </g>\n    <g clip-path=\"url(#pac5330c67a)\">\n     <use style=\"fill:#00008b;fill-opacity:0.2;\" x=\"79.061279\" xlink:href=\"#C0_0_74341684b8\" y=\"125.821091\"/>\n    </g>\n    <g clip-path=\"url(#pac5330c67a)\">\n     <use style=\"fill:#00008b;fill-opacity:0.2;\" x=\"68.451838\" xlink:href=\"#C0_0_74341684b8\" y=\"111.810743\"/>\n    </g>\n    <g clip-path=\"url(#pac5330c67a)\">\n     <use style=\"fill:#00008b;fill-opacity:0.2;\" x=\"46.323048\" xlink:href=\"#C0_0_74341684b8\" y=\"103.168324\"/>\n    </g>\n    <g clip-path=\"url(#pac5330c67a)\">\n     <use style=\"fill:#00008b;fill-opacity:0.2;\" x=\"38.745404\" xlink:href=\"#C0_0_74341684b8\" y=\"107.668017\"/>\n    </g>\n    <g clip-path=\"url(#pac5330c67a)\">\n     <use style=\"fill:#00008b;fill-opacity:0.2;\" x=\"38.038108\" xlink:href=\"#C0_0_74341684b8\" y=\"106.679601\"/>\n    </g>\n    <g clip-path=\"url(#pac5330c67a)\">\n     <use style=\"fill:#00008b;fill-opacity:0.2;\" x=\"36.623516\" xlink:href=\"#C0_0_74341684b8\" y=\"127.362979\"/>\n    </g>\n    <g clip-path=\"url(#pac5330c67a)\">\n     <use style=\"fill:#00008b;fill-opacity:0.2;\" x=\"36.269868\" xlink:href=\"#C0_0_74341684b8\" y=\"136.388143\"/>\n    </g>\n    <g clip-path=\"url(#pac5330c67a)\">\n     <use style=\"fill:#00008b;fill-opacity:0.2;\" x=\"35.91622\" xlink:href=\"#C0_0_74341684b8\" y=\"108.527129\"/>\n    </g>\n    <g clip-path=\"url(#pac5330c67a)\">\n     <use style=\"fill:#00008b;fill-opacity:0.2;\" x=\"35.91622\" xlink:href=\"#C0_0_74341684b8\" y=\"124.860144\"/>\n    </g>\n    <g clip-path=\"url(#pac5330c67a)\">\n     <use style=\"fill:#00008b;fill-opacity:0.2;\" x=\"32.379739\" xlink:href=\"#C0_0_74341684b8\" y=\"113.979552\"/>\n    </g>\n    <g clip-path=\"url(#pac5330c67a)\">\n     <use style=\"fill:#00008b;fill-opacity:0.2;\" x=\"30.823688\" xlink:href=\"#C0_0_74341684b8\" y=\"125.585475\"/>\n    </g>\n    <g clip-path=\"url(#pac5330c67a)\">\n     <use style=\"fill:#00008b;fill-opacity:0.2;\" x=\"30.484186\" xlink:href=\"#C0_0_74341684b8\" y=\"127.115599\"/>\n    </g>\n    <g clip-path=\"url(#pac5330c67a)\">\n     <use style=\"fill:#00008b;fill-opacity:0.2;\" x=\"30.434675\" xlink:href=\"#C0_0_74341684b8\" y=\"115.632453\"/>\n    </g>\n    <g clip-path=\"url(#pac5330c67a)\">\n     <use style=\"fill:#00008b;fill-opacity:0.2;\" x=\"30.413456\" xlink:href=\"#C0_0_74341684b8\" y=\"140.603932\"/>\n    </g>\n    <g clip-path=\"url(#pac5330c67a)\">\n     <use style=\"fill:#00008b;fill-opacity:0.2;\" x=\"30.39931\" xlink:href=\"#C0_0_74341684b8\" y=\"103.63048\"/>\n    </g>\n    <g clip-path=\"url(#pac5330c67a)\">\n     <use style=\"fill:#00008b;fill-opacity:0.2;\" x=\"30.321508\" xlink:href=\"#C0_0_74341684b8\" y=\"136.64661\"/>\n    </g>\n    <g clip-path=\"url(#pac5330c67a)\">\n     <use style=\"fill:#00008b;fill-opacity:0.2;\" x=\"30.257851\" xlink:href=\"#C0_0_74341684b8\" y=\"132.864091\"/>\n    </g>\n    <g clip-path=\"url(#pac5330c67a)\">\n     <use style=\"fill:#00008b;fill-opacity:0.2;\" x=\"204.959976\" xlink:href=\"#C0_0_74341684b8\" y=\"135.317238\"/>\n    </g>\n    <g clip-path=\"url(#pac5330c67a)\">\n     <use style=\"fill:#00008b;fill-opacity:0.2;\" x=\"180.204614\" xlink:href=\"#C0_0_74341684b8\" y=\"108.237709\"/>\n    </g>\n    <g clip-path=\"url(#pac5330c67a)\">\n     <use style=\"fill:#00008b;fill-opacity:0.2;\" x=\"149.087492\" xlink:href=\"#C0_0_74341684b8\" y=\"113.240051\"/>\n    </g>\n    <g clip-path=\"url(#pac5330c67a)\">\n     <use style=\"fill:#00008b;fill-opacity:0.2;\" x=\"130.69389\" xlink:href=\"#C0_0_74341684b8\" y=\"134.53321\"/>\n    </g>\n    <g clip-path=\"url(#pac5330c67a)\">\n     <use style=\"fill:#00008b;fill-opacity:0.2;\" x=\"92.499904\" xlink:href=\"#C0_0_74341684b8\" y=\"113.679911\"/>\n    </g>\n    <g clip-path=\"url(#pac5330c67a)\">\n     <use style=\"fill:#00008b;fill-opacity:0.2;\" x=\"88.256127\" xlink:href=\"#C0_0_74341684b8\" y=\"109.610961\"/>\n    </g>\n    <g clip-path=\"url(#pac5330c67a)\">\n     <use style=\"fill:#00008b;fill-opacity:0.2;\" x=\"84.719647\" xlink:href=\"#C0_0_74341684b8\" y=\"123.200582\"/>\n    </g>\n    <g clip-path=\"url(#pac5330c67a)\">\n     <use style=\"fill:#00008b;fill-opacity:0.2;\" x=\"84.22454\" xlink:href=\"#C0_0_74341684b8\" y=\"125.761398\"/>\n    </g>\n    <g clip-path=\"url(#pac5330c67a)\">\n     <use style=\"fill:#00008b;fill-opacity:0.2;\" x=\"70.573726\" xlink:href=\"#C0_0_74341684b8\" y=\"140.403865\"/>\n    </g>\n    <g clip-path=\"url(#pac5330c67a)\">\n     <use style=\"fill:#00008b;fill-opacity:0.2;\" x=\"63.500766\" xlink:href=\"#C0_0_74341684b8\" y=\"125.51296\"/>\n    </g>\n    <g clip-path=\"url(#pac5330c67a)\">\n     <use style=\"fill:#00008b;fill-opacity:0.2;\" x=\"54.305917\" xlink:href=\"#C0_0_74341684b8\" y=\"123.108475\"/>\n    </g>\n    <g clip-path=\"url(#pac5330c67a)\">\n     <use style=\"fill:#00008b;fill-opacity:0.2;\" x=\"53.245001\" xlink:href=\"#C0_0_74341684b8\" y=\"129.508862\"/>\n    </g>\n    <g clip-path=\"url(#pac5330c67a)\">\n     <use style=\"fill:#00008b;fill-opacity:0.2;\" x=\"52.891325\" xlink:href=\"#C0_0_74341684b8\" y=\"131.150542\"/>\n    </g>\n    <g clip-path=\"url(#pac5330c67a)\">\n     <use style=\"fill:#00008b;fill-opacity:0.2;\" x=\"51.476733\" xlink:href=\"#C0_0_74341684b8\" y=\"116.883587\"/>\n    </g>\n    <g clip-path=\"url(#pac5330c67a)\">\n     <use style=\"fill:#00008b;fill-opacity:0.2;\" x=\"42.812356\" xlink:href=\"#C0_0_74341684b8\" y=\"109.031976\"/>\n    </g>\n    <g clip-path=\"url(#pac5330c67a)\">\n     <use style=\"fill:#00008b;fill-opacity:0.2;\" x=\"40.159996\" xlink:href=\"#C0_0_74341684b8\" y=\"123.039237\"/>\n    </g>\n    <g clip-path=\"url(#pac5330c67a)\">\n     <use style=\"fill:#00008b;fill-opacity:0.2;\" x=\"38.038108\" xlink:href=\"#C0_0_74341684b8\" y=\"135.325206\"/>\n    </g>\n    <g clip-path=\"url(#pac5330c67a)\">\n     <use style=\"fill:#00008b;fill-opacity:0.2;\" x=\"37.330812\" xlink:href=\"#C0_0_74341684b8\" y=\"116.326826\"/>\n    </g>\n    <g clip-path=\"url(#pac5330c67a)\">\n     <use style=\"fill:#00008b;fill-opacity:0.2;\" x=\"36.623516\" xlink:href=\"#C0_0_74341684b8\" y=\"120.240663\"/>\n    </g>\n    <g clip-path=\"url(#pac5330c67a)\">\n     <use style=\"fill:#00008b;fill-opacity:0.2;\" x=\"30.965147\" xlink:href=\"#C0_0_74341684b8\" y=\"136.224872\"/>\n    </g>\n    <g clip-path=\"url(#pac5330c67a)\">\n     <use style=\"fill:#00008b;fill-opacity:0.2;\" x=\"30.823688\" xlink:href=\"#C0_0_74341684b8\" y=\"107.328591\"/>\n    </g>\n    <g clip-path=\"url(#pac5330c67a)\">\n     <use style=\"fill:#00008b;fill-opacity:0.2;\" x=\"30.646864\" xlink:href=\"#C0_0_74341684b8\" y=\"104.874464\"/>\n    </g>\n    <g clip-path=\"url(#pac5330c67a)\">\n     <use style=\"fill:#00008b;fill-opacity:0.2;\" x=\"30.54077\" xlink:href=\"#C0_0_74341684b8\" y=\"133.621121\"/>\n    </g>\n    <g clip-path=\"url(#pac5330c67a)\">\n     <use style=\"fill:#00008b;fill-opacity:0.2;\" x=\"30.484186\" xlink:href=\"#C0_0_74341684b8\" y=\"133.337562\"/>\n    </g>\n    <g clip-path=\"url(#pac5330c67a)\">\n     <use style=\"fill:#00008b;fill-opacity:0.2;\" x=\"30.378092\" xlink:href=\"#C0_0_74341684b8\" y=\"101.883521\"/>\n    </g>\n    <g clip-path=\"url(#pac5330c67a)\">\n     <use style=\"fill:#00008b;fill-opacity:0.2;\" x=\"30.3498\" xlink:href=\"#C0_0_74341684b8\" y=\"106.181301\"/>\n    </g>\n    <g clip-path=\"url(#pac5330c67a)\">\n     <use style=\"fill:#00008b;fill-opacity:0.2;\" x=\"30.3498\" xlink:href=\"#C0_0_74341684b8\" y=\"107.483994\"/>\n    </g>\n    <g clip-path=\"url(#pac5330c67a)\">\n     <use style=\"fill:#00008b;fill-opacity:0.2;\" x=\"30.335654\" xlink:href=\"#C0_0_74341684b8\" y=\"111.745634\"/>\n    </g>\n    <g clip-path=\"url(#pac5330c67a)\">\n     <use style=\"fill:#00008b;fill-opacity:0.2;\" x=\"30.257851\" xlink:href=\"#C0_0_74341684b8\" y=\"126.439044\"/>\n    </g>\n    <g clip-path=\"url(#pac5330c67a)\">\n     <use style=\"fill:#00008b;fill-opacity:0.2;\" x=\"236.788298\" xlink:href=\"#C0_0_74341684b8\" y=\"129.867805\"/>\n    </g>\n    <g clip-path=\"url(#pac5330c67a)\">\n     <use style=\"fill:#00008b;fill-opacity:0.2;\" x=\"201.423495\" xlink:href=\"#C0_0_74341684b8\" y=\"140.056203\"/>\n    </g>\n    <g clip-path=\"url(#pac5330c67a)\">\n     <use style=\"fill:#00008b;fill-opacity:0.2;\" x=\"183.741094\" xlink:href=\"#C0_0_74341684b8\" y=\"105.237359\"/>\n    </g>\n    <g clip-path=\"url(#pac5330c67a)\">\n     <use style=\"fill:#00008b;fill-opacity:0.2;\" x=\"157.806896\" xlink:href=\"#C0_0_74341684b8\" y=\"134.779631\"/>\n    </g>\n    <g clip-path=\"url(#pac5330c67a)\">\n     <use style=\"fill:#00008b;fill-opacity:0.2;\" x=\"123.62093\" xlink:href=\"#C0_0_74341684b8\" y=\"128.364089\"/>\n    </g>\n    <g clip-path=\"url(#pac5330c67a)\">\n     <use style=\"fill:#00008b;fill-opacity:0.2;\" x=\"96.74368\" xlink:href=\"#C0_0_74341684b8\" y=\"127.208783\"/>\n    </g>\n    <g clip-path=\"url(#pac5330c67a)\">\n     <use style=\"fill:#00008b;fill-opacity:0.2;\" x=\"95.329088\" xlink:href=\"#C0_0_74341684b8\" y=\"136.989528\"/>\n    </g>\n    <g clip-path=\"url(#pac5330c67a)\">\n     <use style=\"fill:#00008b;fill-opacity:0.2;\" x=\"82.597759\" xlink:href=\"#C0_0_74341684b8\" y=\"112.214491\"/>\n    </g>\n    <g clip-path=\"url(#pac5330c67a)\">\n     <use style=\"fill:#00008b;fill-opacity:0.2;\" x=\"81.183167\" xlink:href=\"#C0_0_74341684b8\" y=\"127.043038\"/>\n    </g>\n    <g clip-path=\"url(#pac5330c67a)\">\n     <use style=\"fill:#00008b;fill-opacity:0.2;\" x=\"69.159134\" xlink:href=\"#C0_0_74341684b8\" y=\"139.009729\"/>\n    </g>\n    <g clip-path=\"url(#pac5330c67a)\">\n     <use style=\"fill:#00008b;fill-opacity:0.2;\" x=\"67.037246\" xlink:href=\"#C0_0_74341684b8\" y=\"135.769466\"/>\n    </g>\n    <g clip-path=\"url(#pac5330c67a)\">\n     <use style=\"fill:#00008b;fill-opacity:0.2;\" x=\"65.622654\" xlink:href=\"#C0_0_74341684b8\" y=\"124.190315\"/>\n    </g>\n    <g clip-path=\"url(#pac5330c67a)\">\n     <use style=\"fill:#00008b;fill-opacity:0.2;\" x=\"61.378877\" xlink:href=\"#C0_0_74341684b8\" y=\"126.479748\"/>\n    </g>\n    <g clip-path=\"url(#pac5330c67a)\">\n     <use style=\"fill:#00008b;fill-opacity:0.2;\" x=\"52.891325\" xlink:href=\"#C0_0_74341684b8\" y=\"125.650658\"/>\n    </g>\n    <g clip-path=\"url(#pac5330c67a)\">\n     <use style=\"fill:#00008b;fill-opacity:0.2;\" x=\"47.232956\" xlink:href=\"#C0_0_74341684b8\" y=\"132.217315\"/>\n    </g>\n    <g clip-path=\"url(#pac5330c67a)\">\n     <use style=\"fill:#00008b;fill-opacity:0.2;\" x=\"45.818364\" xlink:href=\"#C0_0_74341684b8\" y=\"127.080921\"/>\n    </g>\n    <g clip-path=\"url(#pac5330c67a)\">\n     <use style=\"fill:#00008b;fill-opacity:0.2;\" x=\"45.111068\" xlink:href=\"#C0_0_74341684b8\" y=\"114.060586\"/>\n    </g>\n    <g clip-path=\"url(#pac5330c67a)\">\n     <use style=\"fill:#00008b;fill-opacity:0.2;\" x=\"37.330812\" xlink:href=\"#C0_0_74341684b8\" y=\"101.715071\"/>\n    </g>\n    <g clip-path=\"url(#pac5330c67a)\">\n     <use style=\"fill:#00008b;fill-opacity:0.2;\" x=\"35.208924\" xlink:href=\"#C0_0_74341684b8\" y=\"132.484255\"/>\n    </g>\n    <g clip-path=\"url(#pac5330c67a)\">\n     <use style=\"fill:#00008b;fill-opacity:0.2;\" x=\"35.208924\" xlink:href=\"#C0_0_74341684b8\" y=\"129.906282\"/>\n    </g>\n    <g clip-path=\"url(#pac5330c67a)\">\n     <use style=\"fill:#00008b;fill-opacity:0.2;\" x=\"33.440683\" xlink:href=\"#C0_0_74341684b8\" y=\"103.11325\"/>\n    </g>\n    <g clip-path=\"url(#pac5330c67a)\">\n     <use style=\"fill:#00008b;fill-opacity:0.2;\" x=\"31.248066\" xlink:href=\"#C0_0_74341684b8\" y=\"138.611861\"/>\n    </g>\n    <g clip-path=\"url(#pac5330c67a)\">\n     <use style=\"fill:#00008b;fill-opacity:0.2;\" x=\"30.788323\" xlink:href=\"#C0_0_74341684b8\" y=\"133.405759\"/>\n    </g>\n    <g clip-path=\"url(#pac5330c67a)\">\n     <use style=\"fill:#00008b;fill-opacity:0.2;\" x=\"30.682229\" xlink:href=\"#C0_0_74341684b8\" y=\"106.04883\"/>\n    </g>\n    <g clip-path=\"url(#pac5330c67a)\">\n     <use style=\"fill:#00008b;fill-opacity:0.2;\" x=\"30.505405\" xlink:href=\"#C0_0_74341684b8\" y=\"138.812619\"/>\n    </g>\n    <g clip-path=\"url(#pac5330c67a)\">\n     <use style=\"fill:#00008b;fill-opacity:0.2;\" x=\"30.434675\" xlink:href=\"#C0_0_74341684b8\" y=\"110.380585\"/>\n    </g>\n    <g clip-path=\"url(#pac5330c67a)\">\n     <use style=\"fill:#00008b;fill-opacity:0.2;\" x=\"30.257851\" xlink:href=\"#C0_0_74341684b8\" y=\"135.916513\"/>\n    </g>\n    <g clip-path=\"url(#pac5330c67a)\">\n     <use style=\"fill:#00008b;fill-opacity:0.2;\" x=\"30.257851\" xlink:href=\"#C0_0_74341684b8\" y=\"106.921421\"/>\n    </g>\n    <g clip-path=\"url(#pac5330c67a)\">\n     <use style=\"fill:#00008b;fill-opacity:0.2;\" x=\"309.564917\" xlink:href=\"#C0_0_74341684b8\" y=\"123.2649\"/>\n    </g>\n    <g clip-path=\"url(#pac5330c67a)\">\n     <use style=\"fill:#00008b;fill-opacity:0.2;\" x=\"299.052545\" xlink:href=\"#C0_0_74341684b8\" y=\"117.959974\"/>\n    </g>\n    <g clip-path=\"url(#pac5330c67a)\">\n     <use style=\"fill:#00008b;fill-opacity:0.2;\" x=\"196.708179\" xlink:href=\"#C0_0_74341684b8\" y=\"107.640518\"/>\n    </g>\n    <g clip-path=\"url(#pac5330c67a)\">\n     <use style=\"fill:#00008b;fill-opacity:0.2;\" x=\"194.350535\" xlink:href=\"#C0_0_74341684b8\" y=\"132.377335\"/>\n    </g>\n    <g clip-path=\"url(#pac5330c67a)\">\n     <use style=\"fill:#00008b;fill-opacity:0.2;\" x=\"185.862982\" xlink:href=\"#C0_0_74341684b8\" y=\"111.75205\"/>\n    </g>\n    <g clip-path=\"url(#pac5330c67a)\">\n     <use style=\"fill:#00008b;fill-opacity:0.2;\" x=\"169.595173\" xlink:href=\"#C0_0_74341684b8\" y=\"112.324077\"/>\n    </g>\n    <g clip-path=\"url(#pac5330c67a)\">\n     <use style=\"fill:#00008b;fill-opacity:0.2;\" x=\"157.217492\" xlink:href=\"#C0_0_74341684b8\" y=\"119.518301\"/>\n    </g>\n    <g clip-path=\"url(#pac5330c67a)\">\n     <use style=\"fill:#00008b;fill-opacity:0.2;\" x=\"146.608052\" xlink:href=\"#C0_0_74341684b8\" y=\"140.685739\"/>\n    </g>\n    <g clip-path=\"url(#pac5330c67a)\">\n     <use style=\"fill:#00008b;fill-opacity:0.2;\" x=\"113.011489\" xlink:href=\"#C0_0_74341684b8\" y=\"113.769663\"/>\n    </g>\n    <g clip-path=\"url(#pac5330c67a)\">\n     <use style=\"fill:#00008b;fill-opacity:0.2;\" x=\"95.329088\" xlink:href=\"#C0_0_74341684b8\" y=\"117.589493\"/>\n    </g>\n    <g clip-path=\"url(#pac5330c67a)\">\n     <use style=\"fill:#00008b;fill-opacity:0.2;\" x=\"71.281022\" xlink:href=\"#C0_0_74341684b8\" y=\"102.041992\"/>\n    </g>\n    <g clip-path=\"url(#pac5330c67a)\">\n     <use style=\"fill:#00008b;fill-opacity:0.2;\" x=\"65.622654\" xlink:href=\"#C0_0_74341684b8\" y=\"129.037501\"/>\n    </g>\n    <g clip-path=\"url(#pac5330c67a)\">\n     <use style=\"fill:#00008b;fill-opacity:0.2;\" x=\"50.769437\" xlink:href=\"#C0_0_74341684b8\" y=\"124.45503\"/>\n    </g>\n    <g clip-path=\"url(#pac5330c67a)\">\n     <use style=\"fill:#00008b;fill-opacity:0.2;\" x=\"45.818364\" xlink:href=\"#C0_0_74341684b8\" y=\"111.116321\"/>\n    </g>\n    <g clip-path=\"url(#pac5330c67a)\">\n     <use style=\"fill:#00008b;fill-opacity:0.2;\" x=\"42.281884\" xlink:href=\"#C0_0_74341684b8\" y=\"102.396322\"/>\n    </g>\n    <g clip-path=\"url(#pac5330c67a)\">\n     <use style=\"fill:#00008b;fill-opacity:0.2;\" x=\"42.281884\" xlink:href=\"#C0_0_74341684b8\" y=\"121.131356\"/>\n    </g>\n    <g clip-path=\"url(#pac5330c67a)\">\n     <use style=\"fill:#00008b;fill-opacity:0.2;\" x=\"38.745404\" xlink:href=\"#C0_0_74341684b8\" y=\"114.779115\"/>\n    </g>\n    <g clip-path=\"url(#pac5330c67a)\">\n     <use style=\"fill:#00008b;fill-opacity:0.2;\" x=\"38.391756\" xlink:href=\"#C0_0_74341684b8\" y=\"131.267471\"/>\n    </g>\n    <g clip-path=\"url(#pac5330c67a)\">\n     <use style=\"fill:#00008b;fill-opacity:0.2;\" x=\"37.330812\" xlink:href=\"#C0_0_74341684b8\" y=\"102.135781\"/>\n    </g>\n    <g clip-path=\"url(#pac5330c67a)\">\n     <use style=\"fill:#00008b;fill-opacity:0.2;\" x=\"36.623516\" xlink:href=\"#C0_0_74341684b8\" y=\"107.467215\"/>\n    </g>\n    <g clip-path=\"url(#pac5330c67a)\">\n     <use style=\"fill:#00008b;fill-opacity:0.2;\" x=\"35.208924\" xlink:href=\"#C0_0_74341684b8\" y=\"135.577687\"/>\n    </g>\n    <g clip-path=\"url(#pac5330c67a)\">\n     <use style=\"fill:#00008b;fill-opacity:0.2;\" x=\"33.794331\" xlink:href=\"#C0_0_74341684b8\" y=\"135.560914\"/>\n    </g>\n    <g clip-path=\"url(#pac5330c67a)\">\n     <use style=\"fill:#00008b;fill-opacity:0.2;\" x=\"31.672443\" xlink:href=\"#C0_0_74341684b8\" y=\"133.331447\"/>\n    </g>\n    <g clip-path=\"url(#pac5330c67a)\">\n     <use style=\"fill:#00008b;fill-opacity:0.2;\" x=\"31.672443\" xlink:href=\"#C0_0_74341684b8\" y=\"120.366494\"/>\n    </g>\n    <g clip-path=\"url(#pac5330c67a)\">\n     <use style=\"fill:#00008b;fill-opacity:0.2;\" x=\"30.526624\" xlink:href=\"#C0_0_74341684b8\" y=\"103.8882\"/>\n    </g>\n    <g clip-path=\"url(#pac5330c67a)\">\n     <use style=\"fill:#00008b;fill-opacity:0.2;\" x=\"30.455894\" xlink:href=\"#C0_0_74341684b8\" y=\"131.6084\"/>\n    </g>\n    <g clip-path=\"url(#pac5330c67a)\">\n     <use style=\"fill:#00008b;fill-opacity:0.2;\" x=\"30.286143\" xlink:href=\"#C0_0_74341684b8\" y=\"126.492616\"/>\n    </g>\n    <g clip-path=\"url(#pac5330c67a)\">\n     <use style=\"fill:#00008b;fill-opacity:0.2;\" x=\"30.257851\" xlink:href=\"#C0_0_74341684b8\" y=\"125.057447\"/>\n    </g>\n    <g clip-path=\"url(#pac5330c67a)\">\n     <use style=\"fill:#00008b;fill-opacity:0.2;\" x=\"491.414876\" xlink:href=\"#C0_0_74341684b8\" y=\"103.206238\"/>\n    </g>\n    <g clip-path=\"url(#pac5330c67a)\">\n     <use style=\"fill:#00008b;fill-opacity:0.2;\" x=\"368.143275\" xlink:href=\"#C0_0_74341684b8\" y=\"113.264056\"/>\n    </g>\n    <g clip-path=\"url(#pac5330c67a)\">\n     <use style=\"fill:#00008b;fill-opacity:0.2;\" x=\"344.297298\" xlink:href=\"#C0_0_74341684b8\" y=\"101.568663\"/>\n    </g>\n    <g clip-path=\"url(#pac5330c67a)\">\n     <use style=\"fill:#00008b;fill-opacity:0.2;\" x=\"316.359104\" xlink:href=\"#C0_0_74341684b8\" y=\"103.592254\"/>\n    </g>\n    <g clip-path=\"url(#pac5330c67a)\">\n     <use style=\"fill:#00008b;fill-opacity:0.2;\" x=\"258.007179\" xlink:href=\"#C0_0_74341684b8\" y=\"110.602038\"/>\n    </g>\n    <g clip-path=\"url(#pac5330c67a)\">\n     <use style=\"fill:#00008b;fill-opacity:0.2;\" x=\"236.788298\" xlink:href=\"#C0_0_74341684b8\" y=\"129.644572\"/>\n    </g>\n    <g clip-path=\"url(#pac5330c67a)\">\n     <use style=\"fill:#00008b;fill-opacity:0.2;\" x=\"209.911048\" xlink:href=\"#C0_0_74341684b8\" y=\"105.311526\"/>\n    </g>\n    <g clip-path=\"url(#pac5330c67a)\">\n     <use style=\"fill:#00008b;fill-opacity:0.2;\" x=\"190.814055\" xlink:href=\"#C0_0_74341684b8\" y=\"110.97724\"/>\n    </g>\n    <g clip-path=\"url(#pac5330c67a)\">\n     <use style=\"fill:#00008b;fill-opacity:0.2;\" x=\"187.277574\" xlink:href=\"#C0_0_74341684b8\" y=\"110.216435\"/>\n    </g>\n    <g clip-path=\"url(#pac5330c67a)\">\n     <use style=\"fill:#00008b;fill-opacity:0.2;\" x=\"151.912772\" xlink:href=\"#C0_0_74341684b8\" y=\"126.342385\"/>\n    </g>\n    <g clip-path=\"url(#pac5330c67a)\">\n     <use style=\"fill:#00008b;fill-opacity:0.2;\" x=\"121.499042\" xlink:href=\"#C0_0_74341684b8\" y=\"111.733204\"/>\n    </g>\n    <g clip-path=\"url(#pac5330c67a)\">\n     <use style=\"fill:#00008b;fill-opacity:0.2;\" x=\"102.402048\" xlink:href=\"#C0_0_74341684b8\" y=\"140.307012\"/>\n    </g>\n    <g clip-path=\"url(#pac5330c67a)\">\n     <use style=\"fill:#00008b;fill-opacity:0.2;\" x=\"102.402048\" xlink:href=\"#C0_0_74341684b8\" y=\"103.160749\"/>\n    </g>\n    <g clip-path=\"url(#pac5330c67a)\">\n     <use style=\"fill:#00008b;fill-opacity:0.2;\" x=\"81.183167\" xlink:href=\"#C0_0_74341684b8\" y=\"124.624222\"/>\n    </g>\n    <g clip-path=\"url(#pac5330c67a)\">\n     <use style=\"fill:#00008b;fill-opacity:0.2;\" x=\"41.574588\" xlink:href=\"#C0_0_74341684b8\" y=\"131.082894\"/>\n    </g>\n    <g clip-path=\"url(#pac5330c67a)\">\n     <use style=\"fill:#00008b;fill-opacity:0.2;\" x=\"40.159996\" xlink:href=\"#C0_0_74341684b8\" y=\"107.042253\"/>\n    </g>\n    <g clip-path=\"url(#pac5330c67a)\">\n     <use style=\"fill:#00008b;fill-opacity:0.2;\" x=\"37.330812\" xlink:href=\"#C0_0_74341684b8\" y=\"134.162307\"/>\n    </g>\n    <g clip-path=\"url(#pac5330c67a)\">\n     <use style=\"fill:#00008b;fill-opacity:0.2;\" x=\"36.623516\" xlink:href=\"#C0_0_74341684b8\" y=\"122.274293\"/>\n    </g>\n    <g clip-path=\"url(#pac5330c67a)\">\n     <use style=\"fill:#00008b;fill-opacity:0.2;\" x=\"31.502339\" xlink:href=\"#C0_0_74341684b8\" y=\"140.435027\"/>\n    </g>\n    <g clip-path=\"url(#pac5330c67a)\">\n     <use style=\"fill:#00008b;fill-opacity:0.2;\" x=\"31.000512\" xlink:href=\"#C0_0_74341684b8\" y=\"105.346492\"/>\n    </g>\n    <g clip-path=\"url(#pac5330c67a)\">\n     <use style=\"fill:#00008b;fill-opacity:0.2;\" x=\"30.92271\" xlink:href=\"#C0_0_74341684b8\" y=\"110.645759\"/>\n    </g>\n    <g clip-path=\"url(#pac5330c67a)\">\n     <use style=\"fill:#00008b;fill-opacity:0.2;\" x=\"30.762153\" xlink:href=\"#C0_0_74341684b8\" y=\"123.138102\"/>\n    </g>\n    <g clip-path=\"url(#pac5330c67a)\">\n     <use style=\"fill:#00008b;fill-opacity:0.2;\" x=\"30.63484\" xlink:href=\"#C0_0_74341684b8\" y=\"114.992367\"/>\n    </g>\n    <g clip-path=\"url(#pac5330c67a)\">\n     <use style=\"fill:#00008b;fill-opacity:0.2;\" x=\"30.429017\" xlink:href=\"#C0_0_74341684b8\" y=\"138.837919\"/>\n    </g>\n    <g clip-path=\"url(#pac5330c67a)\">\n     <use style=\"fill:#00008b;fill-opacity:0.2;\" x=\"30.410627\" xlink:href=\"#C0_0_74341684b8\" y=\"134.40006\"/>\n    </g>\n    <g clip-path=\"url(#pac5330c67a)\">\n     <use style=\"fill:#00008b;fill-opacity:0.2;\" x=\"201.423495\" xlink:href=\"#C0_0_74341684b8\" y=\"140.676126\"/>\n    </g>\n    <g clip-path=\"url(#pac5330c67a)\">\n     <use style=\"fill:#00008b;fill-opacity:0.2;\" x=\"166.058693\" xlink:href=\"#C0_0_74341684b8\" y=\"130.920567\"/>\n    </g>\n    <g clip-path=\"url(#pac5330c67a)\">\n     <use style=\"fill:#00008b;fill-opacity:0.2;\" x=\"102.402048\" xlink:href=\"#C0_0_74341684b8\" y=\"137.074204\"/>\n    </g>\n    <g clip-path=\"url(#pac5330c67a)\">\n     <use style=\"fill:#00008b;fill-opacity:0.2;\" x=\"95.329088\" xlink:href=\"#C0_0_74341684b8\" y=\"106.231427\"/>\n    </g>\n    <g clip-path=\"url(#pac5330c67a)\">\n     <use style=\"fill:#00008b;fill-opacity:0.2;\" x=\"68.451838\" xlink:href=\"#C0_0_74341684b8\" y=\"137.681514\"/>\n    </g>\n    <g clip-path=\"url(#pac5330c67a)\">\n     <use style=\"fill:#00008b;fill-opacity:0.2;\" x=\"55.720509\" xlink:href=\"#C0_0_74341684b8\" y=\"134.897684\"/>\n    </g>\n    <g clip-path=\"url(#pac5330c67a)\">\n     <use style=\"fill:#00008b;fill-opacity:0.2;\" x=\"49.354845\" xlink:href=\"#C0_0_74341684b8\" y=\"124.649433\"/>\n    </g>\n    <g clip-path=\"url(#pac5330c67a)\">\n     <use style=\"fill:#00008b;fill-opacity:0.2;\" x=\"43.696476\" xlink:href=\"#C0_0_74341684b8\" y=\"117.701074\"/>\n    </g>\n    <g clip-path=\"url(#pac5330c67a)\">\n     <use style=\"fill:#00008b;fill-opacity:0.2;\" x=\"35.208924\" xlink:href=\"#C0_0_74341684b8\" y=\"139.482487\"/>\n    </g>\n    <g clip-path=\"url(#pac5330c67a)\">\n     <use style=\"fill:#00008b;fill-opacity:0.2;\" x=\"34.501628\" xlink:href=\"#C0_0_74341684b8\" y=\"136.629441\"/>\n    </g>\n    <g clip-path=\"url(#pac5330c67a)\">\n     <use style=\"fill:#00008b;fill-opacity:0.2;\" x=\"32.485834\" xlink:href=\"#C0_0_74341684b8\" y=\"136.556441\"/>\n    </g>\n    <g clip-path=\"url(#pac5330c67a)\">\n     <use style=\"fill:#00008b;fill-opacity:0.2;\" x=\"30.752958\" xlink:href=\"#C0_0_74341684b8\" y=\"130.232266\"/>\n    </g>\n    <g clip-path=\"url(#pac5330c67a)\">\n     <use style=\"fill:#00008b;fill-opacity:0.2;\" x=\"30.645449\" xlink:href=\"#C0_0_74341684b8\" y=\"133.592398\"/>\n    </g>\n    <g clip-path=\"url(#pac5330c67a)\">\n     <use style=\"fill:#00008b;fill-opacity:0.2;\" x=\"30.611499\" xlink:href=\"#C0_0_74341684b8\" y=\"121.095513\"/>\n    </g>\n    <g clip-path=\"url(#pac5330c67a)\">\n     <use style=\"fill:#00008b;fill-opacity:0.2;\" x=\"30.54077\" xlink:href=\"#C0_0_74341684b8\" y=\"137.050874\"/>\n    </g>\n    <g clip-path=\"url(#pac5330c67a)\">\n     <use style=\"fill:#00008b;fill-opacity:0.2;\" x=\"30.54077\" xlink:href=\"#C0_0_74341684b8\" y=\"119.050335\"/>\n    </g>\n    <g clip-path=\"url(#pac5330c67a)\">\n     <use style=\"fill:#00008b;fill-opacity:0.2;\" x=\"30.54077\" xlink:href=\"#C0_0_74341684b8\" y=\"121.456932\"/>\n    </g>\n    <g clip-path=\"url(#pac5330c67a)\">\n     <use style=\"fill:#00008b;fill-opacity:0.2;\" x=\"30.39931\" xlink:href=\"#C0_0_74341684b8\" y=\"102.558517\"/>\n    </g>\n    <g clip-path=\"url(#pac5330c67a)\">\n     <use style=\"fill:#00008b;fill-opacity:0.2;\" x=\"30.39931\" xlink:href=\"#C0_0_74341684b8\" y=\"136.31318\"/>\n    </g>\n    <g clip-path=\"url(#pac5330c67a)\">\n     <use style=\"fill:#00008b;fill-opacity:0.2;\" x=\"30.39931\" xlink:href=\"#C0_0_74341684b8\" y=\"137.109739\"/>\n    </g>\n    <g clip-path=\"url(#pac5330c67a)\">\n     <use style=\"fill:#00008b;fill-opacity:0.2;\" x=\"30.39931\" xlink:href=\"#C0_0_74341684b8\" y=\"135.159562\"/>\n    </g>\n    <g clip-path=\"url(#pac5330c67a)\">\n     <use style=\"fill:#00008b;fill-opacity:0.2;\" x=\"30.39931\" xlink:href=\"#C0_0_74341684b8\" y=\"116.644165\"/>\n    </g>\n    <g clip-path=\"url(#pac5330c67a)\">\n     <use style=\"fill:#00008b;fill-opacity:0.2;\" x=\"30.39931\" xlink:href=\"#C0_0_74341684b8\" y=\"102.163803\"/>\n    </g>\n    <g clip-path=\"url(#pac5330c67a)\">\n     <use style=\"fill:#00008b;fill-opacity:0.2;\" x=\"30.39931\" xlink:href=\"#C0_0_74341684b8\" y=\"129.181889\"/>\n    </g>\n    <g clip-path=\"url(#pac5330c67a)\">\n     <use style=\"fill:#00008b;fill-opacity:0.2;\" x=\"30.328581\" xlink:href=\"#C0_0_74341684b8\" y=\"128.142797\"/>\n    </g>\n    <g clip-path=\"url(#pac5330c67a)\">\n     <use style=\"fill:#00008b;fill-opacity:0.2;\" x=\"30.328581\" xlink:href=\"#C0_0_74341684b8\" y=\"106.468157\"/>\n    </g>\n    <g clip-path=\"url(#pac5330c67a)\">\n     <use style=\"fill:#00008b;fill-opacity:0.2;\" x=\"30.328581\" xlink:href=\"#C0_0_74341684b8\" y=\"104.483642\"/>\n    </g>\n    <g clip-path=\"url(#pac5330c67a)\">\n     <use style=\"fill:#00008b;fill-opacity:0.2;\" x=\"30.328581\" xlink:href=\"#C0_0_74341684b8\" y=\"119.479298\"/>\n    </g>\n    <g clip-path=\"url(#pac5330c67a)\">\n     <use style=\"fill:#00008b;fill-opacity:0.2;\" x=\"30.328581\" xlink:href=\"#C0_0_74341684b8\" y=\"111.831535\"/>\n    </g>\n    <g clip-path=\"url(#pac5330c67a)\">\n     <use style=\"fill:#00008b;fill-opacity:0.2;\" x=\"30.328581\" xlink:href=\"#C0_0_74341684b8\" y=\"132.203268\"/>\n    </g>\n    <g clip-path=\"url(#pac5330c67a)\">\n     <use style=\"fill:#00008b;fill-opacity:0.2;\" x=\"30.257851\" xlink:href=\"#C0_0_74341684b8\" y=\"113.182422\"/>\n    </g>\n    <g clip-path=\"url(#pac5330c67a)\">\n     <use style=\"fill:#00008b;fill-opacity:0.2;\" x=\"293.371982\" xlink:href=\"#C0_0_74341684b8\" y=\"120.956692\"/>\n    </g>\n    <g clip-path=\"url(#pac5330c67a)\">\n     <use style=\"fill:#00008b;fill-opacity:0.2;\" x=\"247.397739\" xlink:href=\"#C0_0_74341684b8\" y=\"111.364235\"/>\n    </g>\n    <g clip-path=\"url(#pac5330c67a)\">\n     <use style=\"fill:#00008b;fill-opacity:0.2;\" x=\"240.829986\" xlink:href=\"#C0_0_74341684b8\" y=\"123.629074\"/>\n    </g>\n    <g clip-path=\"url(#pac5330c67a)\">\n     <use style=\"fill:#00008b;fill-opacity:0.2;\" x=\"196.708179\" xlink:href=\"#C0_0_74341684b8\" y=\"124.670128\"/>\n    </g>\n    <g clip-path=\"url(#pac5330c67a)\">\n     <use style=\"fill:#00008b;fill-opacity:0.2;\" x=\"194.350535\" xlink:href=\"#C0_0_74341684b8\" y=\"110.861028\"/>\n    </g>\n    <g clip-path=\"url(#pac5330c67a)\">\n     <use style=\"fill:#00008b;fill-opacity:0.2;\" x=\"144.839811\" xlink:href=\"#C0_0_74341684b8\" y=\"110.919606\"/>\n    </g>\n    <g clip-path=\"url(#pac5330c67a)\">\n     <use style=\"fill:#00008b;fill-opacity:0.2;\" x=\"137.766851\" xlink:href=\"#C0_0_74341684b8\" y=\"121.530643\"/>\n    </g>\n    <g clip-path=\"url(#pac5330c67a)\">\n     <use style=\"fill:#00008b;fill-opacity:0.2;\" x=\"130.69389\" xlink:href=\"#C0_0_74341684b8\" y=\"137.48587\"/>\n    </g>\n    <g clip-path=\"url(#pac5330c67a)\">\n     <use style=\"fill:#00008b;fill-opacity:0.2;\" x=\"118.669858\" xlink:href=\"#C0_0_74341684b8\" y=\"127.403531\"/>\n    </g>\n    <g clip-path=\"url(#pac5330c67a)\">\n     <use style=\"fill:#00008b;fill-opacity:0.2;\" x=\"97.686732\" xlink:href=\"#C0_0_74341684b8\" y=\"113.4111\"/>\n    </g>\n    <g clip-path=\"url(#pac5330c67a)\">\n     <use style=\"fill:#00008b;fill-opacity:0.2;\" x=\"95.329088\" xlink:href=\"#C0_0_74341684b8\" y=\"128.401447\"/>\n    </g>\n    <g clip-path=\"url(#pac5330c67a)\">\n     <use style=\"fill:#00008b;fill-opacity:0.2;\" x=\"92.97143\" xlink:href=\"#C0_0_74341684b8\" y=\"102.937848\"/>\n    </g>\n    <g clip-path=\"url(#pac5330c67a)\">\n     <use style=\"fill:#00008b;fill-opacity:0.2;\" x=\"84.719647\" xlink:href=\"#C0_0_74341684b8\" y=\"127.006222\"/>\n    </g>\n    <g clip-path=\"url(#pac5330c67a)\">\n     <use style=\"fill:#00008b;fill-opacity:0.2;\" x=\"67.037246\" xlink:href=\"#C0_0_74341684b8\" y=\"133.966576\"/>\n    </g>\n    <g clip-path=\"url(#pac5330c67a)\">\n     <use style=\"fill:#00008b;fill-opacity:0.2;\" x=\"59.964285\" xlink:href=\"#C0_0_74341684b8\" y=\"126.531321\"/>\n    </g>\n    <g clip-path=\"url(#pac5330c67a)\">\n     <use style=\"fill:#00008b;fill-opacity:0.2;\" x=\"54.659565\" xlink:href=\"#C0_0_74341684b8\" y=\"111.125973\"/>\n    </g>\n    <g clip-path=\"url(#pac5330c67a)\">\n     <use style=\"fill:#00008b;fill-opacity:0.2;\" x=\"51.476733\" xlink:href=\"#C0_0_74341684b8\" y=\"116.517269\"/>\n    </g>\n    <g clip-path=\"url(#pac5330c67a)\">\n     <use style=\"fill:#00008b;fill-opacity:0.2;\" x=\"45.818364\" xlink:href=\"#C0_0_74341684b8\" y=\"108.877668\"/>\n    </g>\n    <g clip-path=\"url(#pac5330c67a)\">\n     <use style=\"fill:#00008b;fill-opacity:0.2;\" x=\"43.696476\" xlink:href=\"#C0_0_74341684b8\" y=\"109.07861\"/>\n    </g>\n    <g clip-path=\"url(#pac5330c67a)\">\n     <use style=\"fill:#00008b;fill-opacity:0.2;\" x=\"40.513644\" xlink:href=\"#C0_0_74341684b8\" y=\"138.190489\"/>\n    </g>\n    <g clip-path=\"url(#pac5330c67a)\">\n     <use style=\"fill:#00008b;fill-opacity:0.2;\" x=\"38.745404\" xlink:href=\"#C0_0_74341684b8\" y=\"125.51643\"/>\n    </g>\n    <g clip-path=\"url(#pac5330c67a)\">\n     <use style=\"fill:#00008b;fill-opacity:0.2;\" x=\"34.501628\" xlink:href=\"#C0_0_74341684b8\" y=\"118.654385\"/>\n    </g>\n    <g clip-path=\"url(#pac5330c67a)\">\n     <use style=\"fill:#00008b;fill-opacity:0.2;\" x=\"31.389525\" xlink:href=\"#C0_0_74341684b8\" y=\"128.533827\"/>\n    </g>\n    <g clip-path=\"url(#pac5330c67a)\">\n     <use style=\"fill:#00008b;fill-opacity:0.2;\" x=\"31.248066\" xlink:href=\"#C0_0_74341684b8\" y=\"115.985879\"/>\n    </g>\n    <g clip-path=\"url(#pac5330c67a)\">\n     <use style=\"fill:#00008b;fill-opacity:0.2;\" x=\"31.248066\" xlink:href=\"#C0_0_74341684b8\" y=\"118.486192\"/>\n    </g>\n    <g clip-path=\"url(#pac5330c67a)\">\n     <use style=\"fill:#00008b;fill-opacity:0.2;\" x=\"30.328581\" xlink:href=\"#C0_0_74341684b8\" y=\"140.361145\"/>\n    </g>\n    <g clip-path=\"url(#pac5330c67a)\">\n     <use style=\"fill:#00008b;fill-opacity:0.2;\" x=\"30.271997\" xlink:href=\"#C0_0_74341684b8\" y=\"116.251091\"/>\n    </g>\n    <g clip-path=\"url(#pac5330c67a)\">\n     <use style=\"fill:#00008b;fill-opacity:0.2;\" x=\"30.257851\" xlink:href=\"#C0_0_74341684b8\" y=\"104.645965\"/>\n    </g>\n    <g clip-path=\"url(#pac5330c67a)\">\n     <use style=\"fill:#00008b;fill-opacity:0.2;\" x=\"95.329088\" xlink:href=\"#C0_0_74341684b8\" y=\"102.144563\"/>\n    </g>\n    <g clip-path=\"url(#pac5330c67a)\">\n     <use style=\"fill:#00008b;fill-opacity:0.2;\" x=\"93.2072\" xlink:href=\"#C0_0_74341684b8\" y=\"106.396451\"/>\n    </g>\n    <g clip-path=\"url(#pac5330c67a)\">\n     <use style=\"fill:#00008b;fill-opacity:0.2;\" x=\"85.426943\" xlink:href=\"#C0_0_74341684b8\" y=\"120.233437\"/>\n    </g>\n    <g clip-path=\"url(#pac5330c67a)\">\n     <use style=\"fill:#00008b;fill-opacity:0.2;\" x=\"76.232095\" xlink:href=\"#C0_0_74341684b8\" y=\"118.730815\"/>\n    </g>\n    <g clip-path=\"url(#pac5330c67a)\">\n     <use style=\"fill:#00008b;fill-opacity:0.2;\" x=\"70.573726\" xlink:href=\"#C0_0_74341684b8\" y=\"105.959511\"/>\n    </g>\n    <g clip-path=\"url(#pac5330c67a)\">\n     <use style=\"fill:#00008b;fill-opacity:0.2;\" x=\"45.818364\" xlink:href=\"#C0_0_74341684b8\" y=\"133.003095\"/>\n    </g>\n    <g clip-path=\"url(#pac5330c67a)\">\n     <use style=\"fill:#00008b;fill-opacity:0.2;\" x=\"43.696476\" xlink:href=\"#C0_0_74341684b8\" y=\"107.191298\"/>\n    </g>\n    <g clip-path=\"url(#pac5330c67a)\">\n     <use style=\"fill:#00008b;fill-opacity:0.2;\" x=\"40.513644\" xlink:href=\"#C0_0_74341684b8\" y=\"137.541451\"/>\n    </g>\n    <g clip-path=\"url(#pac5330c67a)\">\n     <use style=\"fill:#00008b;fill-opacity:0.2;\" x=\"38.745404\" xlink:href=\"#C0_0_74341684b8\" y=\"115.591494\"/>\n    </g>\n    <g clip-path=\"url(#pac5330c67a)\">\n     <use style=\"fill:#00008b;fill-opacity:0.2;\" x=\"38.038108\" xlink:href=\"#C0_0_74341684b8\" y=\"126.464653\"/>\n    </g>\n    <g clip-path=\"url(#pac5330c67a)\">\n     <use style=\"fill:#00008b;fill-opacity:0.2;\" x=\"36.411327\" xlink:href=\"#C0_0_74341684b8\" y=\"114.227382\"/>\n    </g>\n    <g clip-path=\"url(#pac5330c67a)\">\n     <use style=\"fill:#00008b;fill-opacity:0.2;\" x=\"35.562572\" xlink:href=\"#C0_0_74341684b8\" y=\"130.709184\"/>\n    </g>\n    <g clip-path=\"url(#pac5330c67a)\">\n     <use style=\"fill:#00008b;fill-opacity:0.2;\" x=\"31.007585\" xlink:href=\"#C0_0_74341684b8\" y=\"112.464509\"/>\n    </g>\n    <g clip-path=\"url(#pac5330c67a)\">\n     <use style=\"fill:#00008b;fill-opacity:0.2;\" x=\"30.993439\" xlink:href=\"#C0_0_74341684b8\" y=\"116.458681\"/>\n    </g>\n    <g clip-path=\"url(#pac5330c67a)\">\n     <use style=\"fill:#00008b;fill-opacity:0.2;\" x=\"30.979293\" xlink:href=\"#C0_0_74341684b8\" y=\"124.010698\"/>\n    </g>\n    <g clip-path=\"url(#pac5330c67a)\">\n     <use style=\"fill:#00008b;fill-opacity:0.2;\" x=\"30.887345\" xlink:href=\"#C0_0_74341684b8\" y=\"110.912895\"/>\n    </g>\n    <g clip-path=\"url(#pac5330c67a)\">\n     <use style=\"fill:#00008b;fill-opacity:0.2;\" x=\"30.809542\" xlink:href=\"#C0_0_74341684b8\" y=\"105.626417\"/>\n    </g>\n    <g clip-path=\"url(#pac5330c67a)\">\n     <use style=\"fill:#00008b;fill-opacity:0.2;\" x=\"30.611499\" xlink:href=\"#C0_0_74341684b8\" y=\"110.616677\"/>\n    </g>\n    <g clip-path=\"url(#pac5330c67a)\">\n     <use style=\"fill:#00008b;fill-opacity:0.2;\" x=\"30.576134\" xlink:href=\"#C0_0_74341684b8\" y=\"104.006007\"/>\n    </g>\n    <g clip-path=\"url(#pac5330c67a)\">\n     <use style=\"fill:#00008b;fill-opacity:0.2;\" x=\"30.576134\" xlink:href=\"#C0_0_74341684b8\" y=\"115.528806\"/>\n    </g>\n    <g clip-path=\"url(#pac5330c67a)\">\n     <use style=\"fill:#00008b;fill-opacity:0.2;\" x=\"30.491259\" xlink:href=\"#C0_0_74341684b8\" y=\"125.874112\"/>\n    </g>\n    <g clip-path=\"url(#pac5330c67a)\">\n     <use style=\"fill:#00008b;fill-opacity:0.2;\" x=\"30.448821\" xlink:href=\"#C0_0_74341684b8\" y=\"139.776061\"/>\n    </g>\n    <g clip-path=\"url(#pac5330c67a)\">\n     <use style=\"fill:#00008b;fill-opacity:0.2;\" x=\"30.39931\" xlink:href=\"#C0_0_74341684b8\" y=\"106.415761\"/>\n    </g>\n    <g clip-path=\"url(#pac5330c67a)\">\n     <use style=\"fill:#00008b;fill-opacity:0.2;\" x=\"30.328581\" xlink:href=\"#C0_0_74341684b8\" y=\"104.811834\"/>\n    </g>\n    <g clip-path=\"url(#pac5330c67a)\">\n     <use style=\"fill:#00008b;fill-opacity:0.2;\" x=\"30.286143\" xlink:href=\"#C0_0_74341684b8\" y=\"111.149608\"/>\n    </g>\n    <g clip-path=\"url(#pac5330c67a)\">\n     <use style=\"fill:#00008b;fill-opacity:0.2;\" x=\"30.27907\" xlink:href=\"#C0_0_74341684b8\" y=\"130.771308\"/>\n    </g>\n    <g clip-path=\"url(#pac5330c67a)\">\n     <use style=\"fill:#00008b;fill-opacity:0.2;\" x=\"30.257851\" xlink:href=\"#C0_0_74341684b8\" y=\"120.881664\"/>\n    </g>\n    <g clip-path=\"url(#pac5330c67a)\">\n     <use style=\"fill:#00008b;fill-opacity:0.2;\" x=\"114.779729\" xlink:href=\"#C0_0_74341684b8\" y=\"134.226174\"/>\n    </g>\n    <g clip-path=\"url(#pac5330c67a)\">\n     <use style=\"fill:#00008b;fill-opacity:0.2;\" x=\"93.560848\" xlink:href=\"#C0_0_74341684b8\" y=\"115.664815\"/>\n    </g>\n    <g clip-path=\"url(#pac5330c67a)\">\n     <use style=\"fill:#00008b;fill-opacity:0.2;\" x=\"91.085312\" xlink:href=\"#C0_0_74341684b8\" y=\"114.340145\"/>\n    </g>\n    <g clip-path=\"url(#pac5330c67a)\">\n     <use style=\"fill:#00008b;fill-opacity:0.2;\" x=\"81.183167\" xlink:href=\"#C0_0_74341684b8\" y=\"104.656515\"/>\n    </g>\n    <g clip-path=\"url(#pac5330c67a)\">\n     <use style=\"fill:#00008b;fill-opacity:0.2;\" x=\"75.524798\" xlink:href=\"#C0_0_74341684b8\" y=\"132.802642\"/>\n    </g>\n    <g clip-path=\"url(#pac5330c67a)\">\n     <use style=\"fill:#00008b;fill-opacity:0.2;\" x=\"59.256989\" xlink:href=\"#C0_0_74341684b8\" y=\"131.678809\"/>\n    </g>\n    <g clip-path=\"url(#pac5330c67a)\">\n     <use style=\"fill:#00008b;fill-opacity:0.2;\" x=\"54.659565\" xlink:href=\"#C0_0_74341684b8\" y=\"107.500959\"/>\n    </g>\n    <g clip-path=\"url(#pac5330c67a)\">\n     <use style=\"fill:#00008b;fill-opacity:0.2;\" x=\"38.745404\" xlink:href=\"#C0_0_74341684b8\" y=\"119.273568\"/>\n    </g>\n    <g clip-path=\"url(#pac5330c67a)\">\n     <use style=\"fill:#00008b;fill-opacity:0.2;\" x=\"38.745404\" xlink:href=\"#C0_0_74341684b8\" y=\"129.158971\"/>\n    </g>\n    <g clip-path=\"url(#pac5330c67a)\">\n     <use style=\"fill:#00008b;fill-opacity:0.2;\" x=\"35.208924\" xlink:href=\"#C0_0_74341684b8\" y=\"105.252117\"/>\n    </g>\n    <g clip-path=\"url(#pac5330c67a)\">\n     <use style=\"fill:#00008b;fill-opacity:0.2;\" x=\"34.501628\" xlink:href=\"#C0_0_74341684b8\" y=\"122.909831\"/>\n    </g>\n    <g clip-path=\"url(#pac5330c67a)\">\n     <use style=\"fill:#00008b;fill-opacity:0.2;\" x=\"30.649693\" xlink:href=\"#C0_0_74341684b8\" y=\"130.737932\"/>\n    </g>\n    <g clip-path=\"url(#pac5330c67a)\">\n     <use style=\"fill:#00008b;fill-opacity:0.2;\" x=\"30.59311\" xlink:href=\"#C0_0_74341684b8\" y=\"138.999308\"/>\n    </g>\n    <g clip-path=\"url(#pac5330c67a)\">\n     <use style=\"fill:#00008b;fill-opacity:0.2;\" x=\"30.53794\" xlink:href=\"#C0_0_74341684b8\" y=\"106.007745\"/>\n    </g>\n    <g clip-path=\"url(#pac5330c67a)\">\n     <use style=\"fill:#00008b;fill-opacity:0.2;\" x=\"30.53794\" xlink:href=\"#C0_0_74341684b8\" y=\"128.894432\"/>\n    </g>\n    <g clip-path=\"url(#pac5330c67a)\">\n     <use style=\"fill:#00008b;fill-opacity:0.2;\" x=\"30.523795\" xlink:href=\"#C0_0_74341684b8\" y=\"113.245787\"/>\n    </g>\n    <g clip-path=\"url(#pac5330c67a)\">\n     <use style=\"fill:#00008b;fill-opacity:0.2;\" x=\"30.491259\" xlink:href=\"#C0_0_74341684b8\" y=\"119.317181\"/>\n    </g>\n    <g clip-path=\"url(#pac5330c67a)\">\n     <use style=\"fill:#00008b;fill-opacity:0.2;\" x=\"30.479942\" xlink:href=\"#C0_0_74341684b8\" y=\"108.015144\"/>\n    </g>\n    <g clip-path=\"url(#pac5330c67a)\">\n     <use style=\"fill:#00008b;fill-opacity:0.2;\" x=\"30.471455\" xlink:href=\"#C0_0_74341684b8\" y=\"106.045199\"/>\n    </g>\n    <g clip-path=\"url(#pac5330c67a)\">\n     <use style=\"fill:#00008b;fill-opacity:0.2;\" x=\"30.448821\" xlink:href=\"#C0_0_74341684b8\" y=\"127.384163\"/>\n    </g>\n    <g clip-path=\"url(#pac5330c67a)\">\n     <use style=\"fill:#00008b;fill-opacity:0.2;\" x=\"30.438919\" xlink:href=\"#C0_0_74341684b8\" y=\"135.027493\"/>\n    </g>\n    <g clip-path=\"url(#pac5330c67a)\">\n     <use style=\"fill:#00008b;fill-opacity:0.2;\" x=\"30.437504\" xlink:href=\"#C0_0_74341684b8\" y=\"116.182059\"/>\n    </g>\n    <g clip-path=\"url(#pac5330c67a)\">\n     <use style=\"fill:#00008b;fill-opacity:0.2;\" x=\"30.407798\" xlink:href=\"#C0_0_74341684b8\" y=\"117.616043\"/>\n    </g>\n    <g clip-path=\"url(#pac5330c67a)\">\n     <use style=\"fill:#00008b;fill-opacity:0.2;\" x=\"30.378092\" xlink:href=\"#C0_0_74341684b8\" y=\"127.910239\"/>\n    </g>\n    <g clip-path=\"url(#pac5330c67a)\">\n     <use style=\"fill:#00008b;fill-opacity:0.2;\" x=\"30.368189\" xlink:href=\"#C0_0_74341684b8\" y=\"122.387292\"/>\n    </g>\n    <g clip-path=\"url(#pac5330c67a)\">\n     <use style=\"fill:#00008b;fill-opacity:0.2;\" x=\"30.276241\" xlink:href=\"#C0_0_74341684b8\" y=\"137.20454\"/>\n    </g>\n    <g clip-path=\"url(#pac5330c67a)\">\n     <use style=\"fill:#00008b;fill-opacity:0.2;\" x=\"286.299021\" xlink:href=\"#C0_0_74341684b8\" y=\"120.470623\"/>\n    </g>\n    <g clip-path=\"url(#pac5330c67a)\">\n     <use style=\"fill:#00008b;fill-opacity:0.2;\" x=\"216.984009\" xlink:href=\"#C0_0_74341684b8\" y=\"121.579528\"/>\n    </g>\n    <g clip-path=\"url(#pac5330c67a)\">\n     <use style=\"fill:#00008b;fill-opacity:0.2;\" x=\"166.058693\" xlink:href=\"#C0_0_74341684b8\" y=\"105.642953\"/>\n    </g>\n    <g clip-path=\"url(#pac5330c67a)\">\n     <use style=\"fill:#00008b;fill-opacity:0.2;\" x=\"151.912772\" xlink:href=\"#C0_0_74341684b8\" y=\"116.244234\"/>\n    </g>\n    <g clip-path=\"url(#pac5330c67a)\">\n     <use style=\"fill:#00008b;fill-opacity:0.2;\" x=\"116.547969\" xlink:href=\"#C0_0_74341684b8\" y=\"103.125249\"/>\n    </g>\n    <g clip-path=\"url(#pac5330c67a)\">\n     <use style=\"fill:#00008b;fill-opacity:0.2;\" x=\"109.475009\" xlink:href=\"#C0_0_74341684b8\" y=\"132.754898\"/>\n    </g>\n    <g clip-path=\"url(#pac5330c67a)\">\n     <use style=\"fill:#00008b;fill-opacity:0.2;\" x=\"109.475009\" xlink:href=\"#C0_0_74341684b8\" y=\"109.272034\"/>\n    </g>\n    <g clip-path=\"url(#pac5330c67a)\">\n     <use style=\"fill:#00008b;fill-opacity:0.2;\" x=\"89.434949\" xlink:href=\"#C0_0_74341684b8\" y=\"102.014584\"/>\n    </g>\n    <g clip-path=\"url(#pac5330c67a)\">\n     <use style=\"fill:#00008b;fill-opacity:0.2;\" x=\"88.256127\" xlink:href=\"#C0_0_74341684b8\" y=\"123.449786\"/>\n    </g>\n    <g clip-path=\"url(#pac5330c67a)\">\n     <use style=\"fill:#00008b;fill-opacity:0.2;\" x=\"81.183167\" xlink:href=\"#C0_0_74341684b8\" y=\"140.762222\"/>\n    </g>\n    <g clip-path=\"url(#pac5330c67a)\">\n     <use style=\"fill:#00008b;fill-opacity:0.2;\" x=\"70.573726\" xlink:href=\"#C0_0_74341684b8\" y=\"125.963313\"/>\n    </g>\n    <g clip-path=\"url(#pac5330c67a)\">\n     <use style=\"fill:#00008b;fill-opacity:0.2;\" x=\"67.037246\" xlink:href=\"#C0_0_74341684b8\" y=\"119.623202\"/>\n    </g>\n    <g clip-path=\"url(#pac5330c67a)\">\n     <use style=\"fill:#00008b;fill-opacity:0.2;\" x=\"54.305917\" xlink:href=\"#C0_0_74341684b8\" y=\"123.781971\"/>\n    </g>\n    <g clip-path=\"url(#pac5330c67a)\">\n     <use style=\"fill:#00008b;fill-opacity:0.2;\" x=\"38.745404\" xlink:href=\"#C0_0_74341684b8\" y=\"125.608475\"/>\n    </g>\n    <g clip-path=\"url(#pac5330c67a)\">\n     <use style=\"fill:#00008b;fill-opacity:0.2;\" x=\"36.199138\" xlink:href=\"#C0_0_74341684b8\" y=\"118.578242\"/>\n    </g>\n    <g clip-path=\"url(#pac5330c67a)\">\n     <use style=\"fill:#00008b;fill-opacity:0.2;\" x=\"35.208924\" xlink:href=\"#C0_0_74341684b8\" y=\"122.689555\"/>\n    </g>\n    <g clip-path=\"url(#pac5330c67a)\">\n     <use style=\"fill:#00008b;fill-opacity:0.2;\" x=\"31.177336\" xlink:href=\"#C0_0_74341684b8\" y=\"115.280736\"/>\n    </g>\n    <g clip-path=\"url(#pac5330c67a)\">\n     <use style=\"fill:#00008b;fill-opacity:0.2;\" x=\"31.035877\" xlink:href=\"#C0_0_74341684b8\" y=\"107.811162\"/>\n    </g>\n    <g clip-path=\"url(#pac5330c67a)\">\n     <use style=\"fill:#00008b;fill-opacity:0.2;\" x=\"30.625645\" xlink:href=\"#C0_0_74341684b8\" y=\"133.013268\"/>\n    </g>\n    <g clip-path=\"url(#pac5330c67a)\">\n     <use style=\"fill:#00008b;fill-opacity:0.2;\" x=\"30.498332\" xlink:href=\"#C0_0_74341684b8\" y=\"110.106843\"/>\n    </g>\n    <g clip-path=\"url(#pac5330c67a)\">\n     <use style=\"fill:#00008b;fill-opacity:0.2;\" x=\"30.491259\" xlink:href=\"#C0_0_74341684b8\" y=\"137.248759\"/>\n    </g>\n    <g clip-path=\"url(#pac5330c67a)\">\n     <use style=\"fill:#00008b;fill-opacity:0.2;\" x=\"30.491259\" xlink:href=\"#C0_0_74341684b8\" y=\"122.109034\"/>\n    </g>\n    <g clip-path=\"url(#pac5330c67a)\">\n     <use style=\"fill:#00008b;fill-opacity:0.2;\" x=\"30.484186\" xlink:href=\"#C0_0_74341684b8\" y=\"130.856684\"/>\n    </g>\n    <g clip-path=\"url(#pac5330c67a)\">\n     <use style=\"fill:#00008b;fill-opacity:0.2;\" x=\"30.39931\" xlink:href=\"#C0_0_74341684b8\" y=\"101.993486\"/>\n    </g>\n    <g clip-path=\"url(#pac5330c67a)\">\n     <use style=\"fill:#00008b;fill-opacity:0.2;\" x=\"30.39931\" xlink:href=\"#C0_0_74341684b8\" y=\"108.425433\"/>\n    </g>\n    <g clip-path=\"url(#pac5330c67a)\">\n     <use style=\"fill:#00008b;fill-opacity:0.2;\" x=\"30.328581\" xlink:href=\"#C0_0_74341684b8\" y=\"139.16173\"/>\n    </g>\n    <g clip-path=\"url(#pac5330c67a)\">\n     <use style=\"fill:#00008b;fill-opacity:0.2;\" x=\"30.264924\" xlink:href=\"#C0_0_74341684b8\" y=\"125.617541\"/>\n    </g>\n    <g clip-path=\"url(#pac5330c67a)\">\n     <use style=\"fill:#00008b;fill-opacity:0.2;\" x=\"30.264924\" xlink:href=\"#C0_0_74341684b8\" y=\"110.634419\"/>\n    </g>\n    <g clip-path=\"url(#pac5330c67a)\">\n     <use style=\"fill:#00008b;fill-opacity:0.2;\" x=\"279.226061\" xlink:href=\"#C0_0_74341684b8\" y=\"117.766313\"/>\n    </g>\n    <g clip-path=\"url(#pac5330c67a)\">\n     <use style=\"fill:#00008b;fill-opacity:0.2;\" x=\"180.204614\" xlink:href=\"#C0_0_74341684b8\" y=\"126.082527\"/>\n    </g>\n    <g clip-path=\"url(#pac5330c67a)\">\n     <use style=\"fill:#00008b;fill-opacity:0.2;\" x=\"151.912772\" xlink:href=\"#C0_0_74341684b8\" y=\"101.652317\"/>\n    </g>\n    <g clip-path=\"url(#pac5330c67a)\">\n     <use style=\"fill:#00008b;fill-opacity:0.2;\" x=\"144.839811\" xlink:href=\"#C0_0_74341684b8\" y=\"118.511612\"/>\n    </g>\n    <g clip-path=\"url(#pac5330c67a)\">\n     <use style=\"fill:#00008b;fill-opacity:0.2;\" x=\"126.450114\" xlink:href=\"#C0_0_74341684b8\" y=\"104.933087\"/>\n    </g>\n    <g clip-path=\"url(#pac5330c67a)\">\n     <use style=\"fill:#00008b;fill-opacity:0.2;\" x=\"95.329088\" xlink:href=\"#C0_0_74341684b8\" y=\"139.541196\"/>\n    </g>\n    <g clip-path=\"url(#pac5330c67a)\">\n     <use style=\"fill:#00008b;fill-opacity:0.2;\" x=\"87.548831\" xlink:href=\"#C0_0_74341684b8\" y=\"127.359058\"/>\n    </g>\n    <g clip-path=\"url(#pac5330c67a)\">\n     <use style=\"fill:#00008b;fill-opacity:0.2;\" x=\"74.35776\" xlink:href=\"#C0_0_74341684b8\" y=\"101.532648\"/>\n    </g>\n    <g clip-path=\"url(#pac5330c67a)\">\n     <use style=\"fill:#00008b;fill-opacity:0.2;\" x=\"67.037246\" xlink:href=\"#C0_0_74341684b8\" y=\"128.463882\"/>\n    </g>\n    <g clip-path=\"url(#pac5330c67a)\">\n     <use style=\"fill:#00008b;fill-opacity:0.2;\" x=\"63.500766\" xlink:href=\"#C0_0_74341684b8\" y=\"114.86499\"/>\n    </g>\n    <g clip-path=\"url(#pac5330c67a)\">\n     <use style=\"fill:#00008b;fill-opacity:0.2;\" x=\"57.842397\" xlink:href=\"#C0_0_74341684b8\" y=\"135.727622\"/>\n    </g>\n    <g clip-path=\"url(#pac5330c67a)\">\n     <use style=\"fill:#00008b;fill-opacity:0.2;\" x=\"57.311925\" xlink:href=\"#C0_0_74341684b8\" y=\"108.001715\"/>\n    </g>\n    <g clip-path=\"url(#pac5330c67a)\">\n     <use style=\"fill:#00008b;fill-opacity:0.2;\" x=\"45.818364\" xlink:href=\"#C0_0_74341684b8\" y=\"136.301696\"/>\n    </g>\n    <g clip-path=\"url(#pac5330c67a)\">\n     <use style=\"fill:#00008b;fill-opacity:0.2;\" x=\"40.867292\" xlink:href=\"#C0_0_74341684b8\" y=\"108.627196\"/>\n    </g>\n    <g clip-path=\"url(#pac5330c67a)\">\n     <use style=\"fill:#00008b;fill-opacity:0.2;\" x=\"39.983172\" xlink:href=\"#C0_0_74341684b8\" y=\"133.458866\"/>\n    </g>\n    <g clip-path=\"url(#pac5330c67a)\">\n     <use style=\"fill:#00008b;fill-opacity:0.2;\" x=\"33.794331\" xlink:href=\"#C0_0_74341684b8\" y=\"114.350764\"/>\n    </g>\n    <g clip-path=\"url(#pac5330c67a)\">\n     <use style=\"fill:#00008b;fill-opacity:0.2;\" x=\"32.026091\" xlink:href=\"#C0_0_74341684b8\" y=\"139.391761\"/>\n    </g>\n    <g clip-path=\"url(#pac5330c67a)\">\n     <use style=\"fill:#00008b;fill-opacity:0.2;\" x=\"30.823688\" xlink:href=\"#C0_0_74341684b8\" y=\"119.280754\"/>\n    </g>\n    <g clip-path=\"url(#pac5330c67a)\">\n     <use style=\"fill:#00008b;fill-opacity:0.2;\" x=\"30.491259\" xlink:href=\"#C0_0_74341684b8\" y=\"113.684344\"/>\n    </g>\n    <g clip-path=\"url(#pac5330c67a)\">\n     <use style=\"fill:#00008b;fill-opacity:0.2;\" x=\"30.47004\" xlink:href=\"#C0_0_74341684b8\" y=\"108.264507\"/>\n    </g>\n    <g clip-path=\"url(#pac5330c67a)\">\n     <use style=\"fill:#00008b;fill-opacity:0.2;\" x=\"30.434675\" xlink:href=\"#C0_0_74341684b8\" y=\"104.721645\"/>\n    </g>\n    <g clip-path=\"url(#pac5330c67a)\">\n     <use style=\"fill:#00008b;fill-opacity:0.2;\" x=\"30.434675\" xlink:href=\"#C0_0_74341684b8\" y=\"115.730413\"/>\n    </g>\n    <g clip-path=\"url(#pac5330c67a)\">\n     <use style=\"fill:#00008b;fill-opacity:0.2;\" x=\"30.434675\" xlink:href=\"#C0_0_74341684b8\" y=\"139.484924\"/>\n    </g>\n    <g clip-path=\"url(#pac5330c67a)\">\n     <use style=\"fill:#00008b;fill-opacity:0.2;\" x=\"30.3498\" xlink:href=\"#C0_0_74341684b8\" y=\"114.273491\"/>\n    </g>\n    <g clip-path=\"url(#pac5330c67a)\">\n     <use style=\"fill:#00008b;fill-opacity:0.2;\" x=\"30.271997\" xlink:href=\"#C0_0_74341684b8\" y=\"121.589114\"/>\n    </g>\n    <g clip-path=\"url(#pac5330c67a)\">\n     <use style=\"fill:#00008b;fill-opacity:0.2;\" x=\"30.271997\" xlink:href=\"#C0_0_74341684b8\" y=\"127.05889\"/>\n    </g>\n    <g clip-path=\"url(#pac5330c67a)\">\n     <use style=\"fill:#00008b;fill-opacity:0.2;\" x=\"30.257851\" xlink:href=\"#C0_0_74341684b8\" y=\"130.928008\"/>\n    </g>\n    <g clip-path=\"url(#pac5330c67a)\">\n     <use style=\"fill:#00008b;fill-opacity:0.2;\" x=\"30.257851\" xlink:href=\"#C0_0_74341684b8\" y=\"125.98878\"/>\n    </g>\n    <g clip-path=\"url(#pac5330c67a)\">\n     <use style=\"fill:#00008b;fill-opacity:0.2;\" x=\"255.649436\" xlink:href=\"#C0_0_74341684b8\" y=\"120.632043\"/>\n    </g>\n    <g clip-path=\"url(#pac5330c67a)\">\n     <use style=\"fill:#00008b;fill-opacity:0.2;\" x=\"248.684607\" xlink:href=\"#C0_0_74341684b8\" y=\"140.208883\"/>\n    </g>\n    <g clip-path=\"url(#pac5330c67a)\">\n     <use style=\"fill:#00008b;fill-opacity:0.2;\" x=\"231.072681\" xlink:href=\"#C0_0_74341684b8\" y=\"118.090266\"/>\n    </g>\n    <g clip-path=\"url(#pac5330c67a)\">\n     <use style=\"fill:#00008b;fill-opacity:0.2;\" x=\"154.565132\" xlink:href=\"#C0_0_74341684b8\" y=\"124.597769\"/>\n    </g>\n    <g clip-path=\"url(#pac5330c67a)\">\n     <use style=\"fill:#00008b;fill-opacity:0.2;\" x=\"130.69389\" xlink:href=\"#C0_0_74341684b8\" y=\"118.056842\"/>\n    </g>\n    <g clip-path=\"url(#pac5330c67a)\">\n     <use style=\"fill:#00008b;fill-opacity:0.2;\" x=\"101.694752\" xlink:href=\"#C0_0_74341684b8\" y=\"122.204439\"/>\n    </g>\n    <g clip-path=\"url(#pac5330c67a)\">\n     <use style=\"fill:#00008b;fill-opacity:0.2;\" x=\"93.030376\" xlink:href=\"#C0_0_74341684b8\" y=\"129.609841\"/>\n    </g>\n    <g clip-path=\"url(#pac5330c67a)\">\n     <use style=\"fill:#00008b;fill-opacity:0.2;\" x=\"85.603767\" xlink:href=\"#C0_0_74341684b8\" y=\"104.321044\"/>\n    </g>\n    <g clip-path=\"url(#pac5330c67a)\">\n     <use style=\"fill:#00008b;fill-opacity:0.2;\" x=\"67.744542\" xlink:href=\"#C0_0_74341684b8\" y=\"106.740904\"/>\n    </g>\n    <g clip-path=\"url(#pac5330c67a)\">\n     <use style=\"fill:#00008b;fill-opacity:0.2;\" x=\"52.891325\" xlink:href=\"#C0_0_74341684b8\" y=\"118.920358\"/>\n    </g>\n    <g clip-path=\"url(#pac5330c67a)\">\n     <use style=\"fill:#00008b;fill-opacity:0.2;\" x=\"52.891325\" xlink:href=\"#C0_0_74341684b8\" y=\"110.759226\"/>\n    </g>\n    <g clip-path=\"url(#pac5330c67a)\">\n     <use style=\"fill:#00008b;fill-opacity:0.2;\" x=\"52.891325\" xlink:href=\"#C0_0_74341684b8\" y=\"122.838329\"/>\n    </g>\n    <g clip-path=\"url(#pac5330c67a)\">\n     <use style=\"fill:#00008b;fill-opacity:0.2;\" x=\"38.745404\" xlink:href=\"#C0_0_74341684b8\" y=\"126.068272\"/>\n    </g>\n    <g clip-path=\"url(#pac5330c67a)\">\n     <use style=\"fill:#00008b;fill-opacity:0.2;\" x=\"38.038108\" xlink:href=\"#C0_0_74341684b8\" y=\"136.681954\"/>\n    </g>\n    <g clip-path=\"url(#pac5330c67a)\">\n     <use style=\"fill:#00008b;fill-opacity:0.2;\" x=\"30.611499\" xlink:href=\"#C0_0_74341684b8\" y=\"117.396497\"/>\n    </g>\n    <g clip-path=\"url(#pac5330c67a)\">\n     <use style=\"fill:#00008b;fill-opacity:0.2;\" x=\"30.611499\" xlink:href=\"#C0_0_74341684b8\" y=\"126.997566\"/>\n    </g>\n    <g clip-path=\"url(#pac5330c67a)\">\n     <use style=\"fill:#00008b;fill-opacity:0.2;\" x=\"30.512478\" xlink:href=\"#C0_0_74341684b8\" y=\"137.547643\"/>\n    </g>\n    <g clip-path=\"url(#pac5330c67a)\">\n     <use style=\"fill:#00008b;fill-opacity:0.2;\" x=\"30.413456\" xlink:href=\"#C0_0_74341684b8\" y=\"108.396698\"/>\n    </g>\n    <g clip-path=\"url(#pac5330c67a)\">\n     <use style=\"fill:#00008b;fill-opacity:0.2;\" x=\"30.286143\" xlink:href=\"#C0_0_74341684b8\" y=\"139.001505\"/>\n    </g>\n    <g clip-path=\"url(#pac5330c67a)\">\n     <use style=\"fill:#00008b;fill-opacity:0.2;\" x=\"30.286143\" xlink:href=\"#C0_0_74341684b8\" y=\"134.941386\"/>\n    </g>\n    <g clip-path=\"url(#pac5330c67a)\">\n     <use style=\"fill:#00008b;fill-opacity:0.2;\" x=\"30.257851\" xlink:href=\"#C0_0_74341684b8\" y=\"120.259022\"/>\n    </g>\n    <g clip-path=\"url(#pac5330c67a)\">\n     <use style=\"fill:#00008b;fill-opacity:0.2;\" x=\"30.257851\" xlink:href=\"#C0_0_74341684b8\" y=\"126.812403\"/>\n    </g>\n    <g clip-path=\"url(#pac5330c67a)\">\n     <use style=\"fill:#00008b;fill-opacity:0.2;\" x=\"30.257851\" xlink:href=\"#C0_0_74341684b8\" y=\"135.804831\"/>\n    </g>\n    <g clip-path=\"url(#pac5330c67a)\">\n     <use style=\"fill:#00008b;fill-opacity:0.2;\" x=\"30.257851\" xlink:href=\"#C0_0_74341684b8\" y=\"125.304434\"/>\n    </g>\n    <g clip-path=\"url(#pac5330c67a)\">\n     <use style=\"fill:#00008b;fill-opacity:0.2;\" x=\"30.257851\" xlink:href=\"#C0_0_74341684b8\" y=\"104.866889\"/>\n    </g>\n    <g clip-path=\"url(#pac5330c67a)\">\n     <use style=\"fill:#00008b;fill-opacity:0.2;\" x=\"167.826933\" xlink:href=\"#C0_0_74341684b8\" y=\"132.429627\"/>\n    </g>\n    <g clip-path=\"url(#pac5330c67a)\">\n     <use style=\"fill:#00008b;fill-opacity:0.2;\" x=\"166.058693\" xlink:href=\"#C0_0_74341684b8\" y=\"122.371935\"/>\n    </g>\n    <g clip-path=\"url(#pac5330c67a)\">\n     <use style=\"fill:#00008b;fill-opacity:0.2;\" x=\"151.912772\" xlink:href=\"#C0_0_74341684b8\" y=\"116.586806\"/>\n    </g>\n    <g clip-path=\"url(#pac5330c67a)\">\n     <use style=\"fill:#00008b;fill-opacity:0.2;\" x=\"127.15741\" xlink:href=\"#C0_0_74341684b8\" y=\"107.912629\"/>\n    </g>\n    <g clip-path=\"url(#pac5330c67a)\">\n     <use style=\"fill:#00008b;fill-opacity:0.2;\" x=\"81.183167\" xlink:href=\"#C0_0_74341684b8\" y=\"135.732658\"/>\n    </g>\n    <g clip-path=\"url(#pac5330c67a)\">\n     <use style=\"fill:#00008b;fill-opacity:0.2;\" x=\"74.110206\" xlink:href=\"#C0_0_74341684b8\" y=\"123.090405\"/>\n    </g>\n    <g clip-path=\"url(#pac5330c67a)\">\n     <use style=\"fill:#00008b;fill-opacity:0.2;\" x=\"71.988318\" xlink:href=\"#C0_0_74341684b8\" y=\"122.918666\"/>\n    </g>\n    <g clip-path=\"url(#pac5330c67a)\">\n     <use style=\"fill:#00008b;fill-opacity:0.2;\" x=\"67.037246\" xlink:href=\"#C0_0_74341684b8\" y=\"137.546996\"/>\n    </g>\n    <g clip-path=\"url(#pac5330c67a)\">\n     <use style=\"fill:#00008b;fill-opacity:0.2;\" x=\"59.964285\" xlink:href=\"#C0_0_74341684b8\" y=\"135.507362\"/>\n    </g>\n    <g clip-path=\"url(#pac5330c67a)\">\n     <use style=\"fill:#00008b;fill-opacity:0.2;\" x=\"56.427805\" xlink:href=\"#C0_0_74341684b8\" y=\"116.107041\"/>\n    </g>\n    <g clip-path=\"url(#pac5330c67a)\">\n     <use style=\"fill:#00008b;fill-opacity:0.2;\" x=\"54.305917\" xlink:href=\"#C0_0_74341684b8\" y=\"127.093325\"/>\n    </g>\n    <g clip-path=\"url(#pac5330c67a)\">\n     <use style=\"fill:#00008b;fill-opacity:0.2;\" x=\"53.598621\" xlink:href=\"#C0_0_74341684b8\" y=\"104.906905\"/>\n    </g>\n    <g clip-path=\"url(#pac5330c67a)\">\n     <use style=\"fill:#00008b;fill-opacity:0.2;\" x=\"50.552594\" xlink:href=\"#C0_0_74341684b8\" y=\"111.446019\"/>\n    </g>\n    <g clip-path=\"url(#pac5330c67a)\">\n     <use style=\"fill:#00008b;fill-opacity:0.2;\" x=\"50.062141\" xlink:href=\"#C0_0_74341684b8\" y=\"123.941534\"/>\n    </g>\n    <g clip-path=\"url(#pac5330c67a)\">\n     <use style=\"fill:#00008b;fill-opacity:0.2;\" x=\"43.696476\" xlink:href=\"#C0_0_74341684b8\" y=\"106.598346\"/>\n    </g>\n    <g clip-path=\"url(#pac5330c67a)\">\n     <use style=\"fill:#00008b;fill-opacity:0.2;\" x=\"41.574588\" xlink:href=\"#C0_0_74341684b8\" y=\"101.483338\"/>\n    </g>\n    <g clip-path=\"url(#pac5330c67a)\">\n     <use style=\"fill:#00008b;fill-opacity:0.2;\" x=\"39.509284\" xlink:href=\"#C0_0_74341684b8\" y=\"117.798757\"/>\n    </g>\n    <g clip-path=\"url(#pac5330c67a)\">\n     <use style=\"fill:#00008b;fill-opacity:0.2;\" x=\"39.198073\" xlink:href=\"#C0_0_74341684b8\" y=\"135.145568\"/>\n    </g>\n    <g clip-path=\"url(#pac5330c67a)\">\n     <use style=\"fill:#00008b;fill-opacity:0.2;\" x=\"38.038108\" xlink:href=\"#C0_0_74341684b8\" y=\"130.541105\"/>\n    </g>\n    <g clip-path=\"url(#pac5330c67a)\">\n     <use style=\"fill:#00008b;fill-opacity:0.2;\" x=\"34.501628\" xlink:href=\"#C0_0_74341684b8\" y=\"103.927024\"/>\n    </g>\n    <g clip-path=\"url(#pac5330c67a)\">\n     <use style=\"fill:#00008b;fill-opacity:0.2;\" x=\"30.796811\" xlink:href=\"#C0_0_74341684b8\" y=\"131.174983\"/>\n    </g>\n    <g clip-path=\"url(#pac5330c67a)\">\n     <use style=\"fill:#00008b;fill-opacity:0.2;\" x=\"30.496917\" xlink:href=\"#C0_0_74341684b8\" y=\"125.708703\"/>\n    </g>\n    <g clip-path=\"url(#pac5330c67a)\">\n     <use style=\"fill:#00008b;fill-opacity:0.2;\" x=\"30.342727\" xlink:href=\"#C0_0_74341684b8\" y=\"134.74338\"/>\n    </g>\n    <g clip-path=\"url(#pac5330c67a)\">\n     <use style=\"fill:#00008b;fill-opacity:0.2;\" x=\"30.335654\" xlink:href=\"#C0_0_74341684b8\" y=\"133.103584\"/>\n    </g>\n    <g clip-path=\"url(#pac5330c67a)\">\n     <use style=\"fill:#00008b;fill-opacity:0.2;\" x=\"30.327166\" xlink:href=\"#C0_0_74341684b8\" y=\"133.842306\"/>\n    </g>\n    <g clip-path=\"url(#pac5330c67a)\">\n     <use style=\"fill:#00008b;fill-opacity:0.2;\" x=\"30.310191\" xlink:href=\"#C0_0_74341684b8\" y=\"132.766651\"/>\n    </g>\n    <g clip-path=\"url(#pac5330c67a)\">\n     <use style=\"fill:#00008b;fill-opacity:0.2;\" x=\"30.296045\" xlink:href=\"#C0_0_74341684b8\" y=\"139.855566\"/>\n    </g>\n    <g clip-path=\"url(#pac5330c67a)\">\n     <use style=\"fill:#00008b;fill-opacity:0.2;\" x=\"210.971624\" xlink:href=\"#C0_0_74341684b8\" y=\"138.950501\"/>\n    </g>\n    <g clip-path=\"url(#pac5330c67a)\">\n     <use style=\"fill:#00008b;fill-opacity:0.2;\" x=\"116.547969\" xlink:href=\"#C0_0_74341684b8\" y=\"140.488825\"/>\n    </g>\n    <g clip-path=\"url(#pac5330c67a)\">\n     <use style=\"fill:#00008b;fill-opacity:0.2;\" x=\"102.402048\" xlink:href=\"#C0_0_74341684b8\" y=\"134.6419\"/>\n    </g>\n    <g clip-path=\"url(#pac5330c67a)\">\n     <use style=\"fill:#00008b;fill-opacity:0.2;\" x=\"84.012351\" xlink:href=\"#C0_0_74341684b8\" y=\"101.503771\"/>\n    </g>\n    <g clip-path=\"url(#pac5330c67a)\">\n     <use style=\"fill:#00008b;fill-opacity:0.2;\" x=\"70.785915\" xlink:href=\"#C0_0_74341684b8\" y=\"126.167795\"/>\n    </g>\n    <g clip-path=\"url(#pac5330c67a)\">\n     <use style=\"fill:#00008b;fill-opacity:0.2;\" x=\"70.573726\" xlink:href=\"#C0_0_74341684b8\" y=\"116.975466\"/>\n    </g>\n    <g clip-path=\"url(#pac5330c67a)\">\n     <use style=\"fill:#00008b;fill-opacity:0.2;\" x=\"68.451838\" xlink:href=\"#C0_0_74341684b8\" y=\"115.448776\"/>\n    </g>\n    <g clip-path=\"url(#pac5330c67a)\">\n     <use style=\"fill:#00008b;fill-opacity:0.2;\" x=\"67.037246\" xlink:href=\"#C0_0_74341684b8\" y=\"109.555114\"/>\n    </g>\n    <g clip-path=\"url(#pac5330c67a)\">\n     <use style=\"fill:#00008b;fill-opacity:0.2;\" x=\"58.903341\" xlink:href=\"#C0_0_74341684b8\" y=\"113.01578\"/>\n    </g>\n    <g clip-path=\"url(#pac5330c67a)\">\n     <use style=\"fill:#00008b;fill-opacity:0.2;\" x=\"49.354845\" xlink:href=\"#C0_0_74341684b8\" y=\"133.878059\"/>\n    </g>\n    <g clip-path=\"url(#pac5330c67a)\">\n     <use style=\"fill:#00008b;fill-opacity:0.2;\" x=\"38.391756\" xlink:href=\"#C0_0_74341684b8\" y=\"133.863\"/>\n    </g>\n    <g clip-path=\"url(#pac5330c67a)\">\n     <use style=\"fill:#00008b;fill-opacity:0.2;\" x=\"34.00652\" xlink:href=\"#C0_0_74341684b8\" y=\"134.195206\"/>\n    </g>\n    <g clip-path=\"url(#pac5330c67a)\">\n     <use style=\"fill:#00008b;fill-opacity:0.2;\" x=\"33.087035\" xlink:href=\"#C0_0_74341684b8\" y=\"137.107415\"/>\n    </g>\n    <g clip-path=\"url(#pac5330c67a)\">\n     <use style=\"fill:#00008b;fill-opacity:0.2;\" x=\"32.379739\" xlink:href=\"#C0_0_74341684b8\" y=\"130.221065\"/>\n    </g>\n    <g clip-path=\"url(#pac5330c67a)\">\n     <use style=\"fill:#00008b;fill-opacity:0.2;\" x=\"31.813903\" xlink:href=\"#C0_0_74341684b8\" y=\"107.201314\"/>\n    </g>\n    <g clip-path=\"url(#pac5330c67a)\">\n     <use style=\"fill:#00008b;fill-opacity:0.2;\" x=\"30.823688\" xlink:href=\"#C0_0_74341684b8\" y=\"109.54691\"/>\n    </g>\n    <g clip-path=\"url(#pac5330c67a)\">\n     <use style=\"fill:#00008b;fill-opacity:0.2;\" x=\"30.649269\" xlink:href=\"#C0_0_74341684b8\" y=\"124.677546\"/>\n    </g>\n    <g clip-path=\"url(#pac5330c67a)\">\n     <use style=\"fill:#00008b;fill-opacity:0.2;\" x=\"30.635547\" xlink:href=\"#C0_0_74341684b8\" y=\"110.380104\"/>\n    </g>\n    <g clip-path=\"url(#pac5330c67a)\">\n     <use style=\"fill:#00008b;fill-opacity:0.2;\" x=\"30.520682\" xlink:href=\"#C0_0_74341684b8\" y=\"106.185618\"/>\n    </g>\n    <g clip-path=\"url(#pac5330c67a)\">\n     <use style=\"fill:#00008b;fill-opacity:0.2;\" x=\"30.518419\" xlink:href=\"#C0_0_74341684b8\" y=\"127.816963\"/>\n    </g>\n    <g clip-path=\"url(#pac5330c67a)\">\n     <use style=\"fill:#00008b;fill-opacity:0.2;\" x=\"30.457592\" xlink:href=\"#C0_0_74341684b8\" y=\"139.664377\"/>\n    </g>\n    <g clip-path=\"url(#pac5330c67a)\">\n     <use style=\"fill:#00008b;fill-opacity:0.2;\" x=\"30.397189\" xlink:href=\"#C0_0_74341684b8\" y=\"120.456457\"/>\n    </g>\n    <g clip-path=\"url(#pac5330c67a)\">\n     <use style=\"fill:#00008b;fill-opacity:0.2;\" x=\"30.362531\" xlink:href=\"#C0_0_74341684b8\" y=\"134.015469\"/>\n    </g>\n    <g clip-path=\"url(#pac5330c67a)\">\n     <use style=\"fill:#00008b;fill-opacity:0.2;\" x=\"30.357014\" xlink:href=\"#C0_0_74341684b8\" y=\"135.606291\"/>\n    </g>\n    <g clip-path=\"url(#pac5330c67a)\">\n     <use style=\"fill:#00008b;fill-opacity:0.2;\" x=\"30.344\" xlink:href=\"#C0_0_74341684b8\" y=\"115.767728\"/>\n    </g>\n    <g clip-path=\"url(#pac5330c67a)\">\n     <use style=\"fill:#00008b;fill-opacity:0.2;\" x=\"30.324761\" xlink:href=\"#C0_0_74341684b8\" y=\"119.895208\"/>\n    </g>\n    <g clip-path=\"url(#pac5330c67a)\">\n     <use style=\"fill:#00008b;fill-opacity:0.2;\" x=\"30.286143\" xlink:href=\"#C0_0_74341684b8\" y=\"134.355178\"/>\n    </g>\n    <g clip-path=\"url(#pac5330c67a)\">\n     <use style=\"fill:#00008b;fill-opacity:0.2;\" x=\"30.286143\" xlink:href=\"#C0_0_74341684b8\" y=\"133.663796\"/>\n    </g>\n    <g clip-path=\"url(#pac5330c67a)\">\n     <use style=\"fill:#00008b;fill-opacity:0.2;\" x=\"30.271997\" xlink:href=\"#C0_0_74341684b8\" y=\"135.162143\"/>\n    </g>\n    <g clip-path=\"url(#pac5330c67a)\">\n     <use style=\"fill:#00008b;fill-opacity:0.2;\" x=\"246.513619\" xlink:href=\"#C0_0_74341684b8\" y=\"122.877885\"/>\n    </g>\n    <g clip-path=\"url(#pac5330c67a)\">\n     <use style=\"fill:#00008b;fill-opacity:0.2;\" x=\"137.059555\" xlink:href=\"#C0_0_74341684b8\" y=\"118.32552\"/>\n    </g>\n    <g clip-path=\"url(#pac5330c67a)\">\n     <use style=\"fill:#00008b;fill-opacity:0.2;\" x=\"97.804624\" xlink:href=\"#C0_0_74341684b8\" y=\"132.343077\"/>\n    </g>\n    <g clip-path=\"url(#pac5330c67a)\">\n     <use style=\"fill:#00008b;fill-opacity:0.2;\" x=\"81.183167\" xlink:href=\"#C0_0_74341684b8\" y=\"126.097215\"/>\n    </g>\n    <g clip-path=\"url(#pac5330c67a)\">\n     <use style=\"fill:#00008b;fill-opacity:0.2;\" x=\"81.183167\" xlink:href=\"#C0_0_74341684b8\" y=\"121.167016\"/>\n    </g>\n    <g clip-path=\"url(#pac5330c67a)\">\n     <use style=\"fill:#00008b;fill-opacity:0.2;\" x=\"63.500766\" xlink:href=\"#C0_0_74341684b8\" y=\"119.313437\"/>\n    </g>\n    <g clip-path=\"url(#pac5330c67a)\">\n     <use style=\"fill:#00008b;fill-opacity:0.2;\" x=\"62.086174\" xlink:href=\"#C0_0_74341684b8\" y=\"130.046588\"/>\n    </g>\n    <g clip-path=\"url(#pac5330c67a)\">\n     <use style=\"fill:#00008b;fill-opacity:0.2;\" x=\"58.549693\" xlink:href=\"#C0_0_74341684b8\" y=\"123.711989\"/>\n    </g>\n    <g clip-path=\"url(#pac5330c67a)\">\n     <use style=\"fill:#00008b;fill-opacity:0.2;\" x=\"52.891325\" xlink:href=\"#C0_0_74341684b8\" y=\"131.799618\"/>\n    </g>\n    <g clip-path=\"url(#pac5330c67a)\">\n     <use style=\"fill:#00008b;fill-opacity:0.2;\" x=\"52.891325\" xlink:href=\"#C0_0_74341684b8\" y=\"132.958066\"/>\n    </g>\n    <g clip-path=\"url(#pac5330c67a)\">\n     <use style=\"fill:#00008b;fill-opacity:0.2;\" x=\"52.891325\" xlink:href=\"#C0_0_74341684b8\" y=\"117.191673\"/>\n    </g>\n    <g clip-path=\"url(#pac5330c67a)\">\n     <use style=\"fill:#00008b;fill-opacity:0.2;\" x=\"45.818364\" xlink:href=\"#C0_0_74341684b8\" y=\"108.377777\"/>\n    </g>\n    <g clip-path=\"url(#pac5330c67a)\">\n     <use style=\"fill:#00008b;fill-opacity:0.2;\" x=\"40.867292\" xlink:href=\"#C0_0_74341684b8\" y=\"128.700692\"/>\n    </g>\n    <g clip-path=\"url(#pac5330c67a)\">\n     <use style=\"fill:#00008b;fill-opacity:0.2;\" x=\"39.877078\" xlink:href=\"#C0_0_74341684b8\" y=\"128.193469\"/>\n    </g>\n    <g clip-path=\"url(#pac5330c67a)\">\n     <use style=\"fill:#00008b;fill-opacity:0.2;\" x=\"36.623516\" xlink:href=\"#C0_0_74341684b8\" y=\"140.346725\"/>\n    </g>\n    <g clip-path=\"url(#pac5330c67a)\">\n     <use style=\"fill:#00008b;fill-opacity:0.2;\" x=\"35.91622\" xlink:href=\"#C0_0_74341684b8\" y=\"139.953167\"/>\n    </g>\n    <g clip-path=\"url(#pac5330c67a)\">\n     <use style=\"fill:#00008b;fill-opacity:0.2;\" x=\"34.501628\" xlink:href=\"#C0_0_74341684b8\" y=\"110.406198\"/>\n    </g>\n    <g clip-path=\"url(#pac5330c67a)\">\n     <use style=\"fill:#00008b;fill-opacity:0.2;\" x=\"32.379739\" xlink:href=\"#C0_0_74341684b8\" y=\"108.764801\"/>\n    </g>\n    <g clip-path=\"url(#pac5330c67a)\">\n     <use style=\"fill:#00008b;fill-opacity:0.2;\" x=\"31.672443\" xlink:href=\"#C0_0_74341684b8\" y=\"107.037117\"/>\n    </g>\n    <g clip-path=\"url(#pac5330c67a)\">\n     <use style=\"fill:#00008b;fill-opacity:0.2;\" x=\"30.533697\" xlink:href=\"#C0_0_74341684b8\" y=\"117.530202\"/>\n    </g>\n    <g clip-path=\"url(#pac5330c67a)\">\n     <use style=\"fill:#00008b;fill-opacity:0.2;\" x=\"30.465796\" xlink:href=\"#C0_0_74341684b8\" y=\"116.733322\"/>\n    </g>\n    <g clip-path=\"url(#pac5330c67a)\">\n     <use style=\"fill:#00008b;fill-opacity:0.2;\" x=\"30.397896\" xlink:href=\"#C0_0_74341684b8\" y=\"115.752943\"/>\n    </g>\n    <g clip-path=\"url(#pac5330c67a)\">\n     <use style=\"fill:#00008b;fill-opacity:0.2;\" x=\"30.396481\" xlink:href=\"#C0_0_74341684b8\" y=\"135.936338\"/>\n    </g>\n    <g clip-path=\"url(#pac5330c67a)\">\n     <use style=\"fill:#00008b;fill-opacity:0.2;\" x=\"30.392237\" xlink:href=\"#C0_0_74341684b8\" y=\"102.001935\"/>\n    </g>\n    <g clip-path=\"url(#pac5330c67a)\">\n     <use style=\"fill:#00008b;fill-opacity:0.2;\" x=\"30.375262\" xlink:href=\"#C0_0_74341684b8\" y=\"135.255667\"/>\n    </g>\n    <g clip-path=\"url(#pac5330c67a)\">\n     <use style=\"fill:#00008b;fill-opacity:0.2;\" x=\"30.339898\" xlink:href=\"#C0_0_74341684b8\" y=\"102.749316\"/>\n    </g>\n    <g clip-path=\"url(#pac5330c67a)\">\n     <use style=\"fill:#00008b;fill-opacity:0.2;\" x=\"30.328581\" xlink:href=\"#C0_0_74341684b8\" y=\"126.384973\"/>\n    </g>\n    <g clip-path=\"url(#pac5330c67a)\">\n     <use style=\"fill:#00008b;fill-opacity:0.2;\" x=\"30.318679\" xlink:href=\"#C0_0_74341684b8\" y=\"104.038127\"/>\n    </g>\n    <g clip-path=\"url(#pac5330c67a)\">\n     <use style=\"fill:#00008b;fill-opacity:0.2;\" x=\"30.314435\" xlink:href=\"#C0_0_74341684b8\" y=\"122.373901\"/>\n    </g>\n    <g clip-path=\"url(#pac5330c67a)\">\n     <use style=\"fill:#00008b;fill-opacity:0.2;\" x=\"30.267753\" xlink:href=\"#C0_0_74341684b8\" y=\"129.306039\"/>\n    </g>\n    <g clip-path=\"url(#pac5330c67a)\">\n     <use style=\"fill:#00008b;fill-opacity:0.2;\" x=\"194.350535\" xlink:href=\"#C0_0_74341684b8\" y=\"136.21265\"/>\n    </g>\n    <g clip-path=\"url(#pac5330c67a)\">\n     <use style=\"fill:#00008b;fill-opacity:0.2;\" x=\"137.766851\" xlink:href=\"#C0_0_74341684b8\" y=\"118.094123\"/>\n    </g>\n    <g clip-path=\"url(#pac5330c67a)\">\n     <use style=\"fill:#00008b;fill-opacity:0.2;\" x=\"130.69389\" xlink:href=\"#C0_0_74341684b8\" y=\"104.39839\"/>\n    </g>\n    <g clip-path=\"url(#pac5330c67a)\">\n     <use style=\"fill:#00008b;fill-opacity:0.2;\" x=\"114.426081\" xlink:href=\"#C0_0_74341684b8\" y=\"134.493232\"/>\n    </g>\n    <g clip-path=\"url(#pac5330c67a)\">\n     <use style=\"fill:#00008b;fill-opacity:0.2;\" x=\"89.670719\" xlink:href=\"#C0_0_74341684b8\" y=\"131.436735\"/>\n    </g>\n    <g clip-path=\"url(#pac5330c67a)\">\n     <use style=\"fill:#00008b;fill-opacity:0.2;\" x=\"74.110206\" xlink:href=\"#C0_0_74341684b8\" y=\"128.816019\"/>\n    </g>\n    <g clip-path=\"url(#pac5330c67a)\">\n     <use style=\"fill:#00008b;fill-opacity:0.2;\" x=\"67.037246\" xlink:href=\"#C0_0_74341684b8\" y=\"116.777792\"/>\n    </g>\n    <g clip-path=\"url(#pac5330c67a)\">\n     <use style=\"fill:#00008b;fill-opacity:0.2;\" x=\"52.891325\" xlink:href=\"#C0_0_74341684b8\" y=\"135.470968\"/>\n    </g>\n    <g clip-path=\"url(#pac5330c67a)\">\n     <use style=\"fill:#00008b;fill-opacity:0.2;\" x=\"45.818364\" xlink:href=\"#C0_0_74341684b8\" y=\"115.726297\"/>\n    </g>\n    <g clip-path=\"url(#pac5330c67a)\">\n     <use style=\"fill:#00008b;fill-opacity:0.2;\" x=\"45.818364\" xlink:href=\"#C0_0_74341684b8\" y=\"105.952269\"/>\n    </g>\n    <g clip-path=\"url(#pac5330c67a)\">\n     <use style=\"fill:#00008b;fill-opacity:0.2;\" x=\"42.281884\" xlink:href=\"#C0_0_74341684b8\" y=\"139.359236\"/>\n    </g>\n    <g clip-path=\"url(#pac5330c67a)\">\n     <use style=\"fill:#00008b;fill-opacity:0.2;\" x=\"38.745404\" xlink:href=\"#C0_0_74341684b8\" y=\"140.084101\"/>\n    </g>\n    <g clip-path=\"url(#pac5330c67a)\">\n     <use style=\"fill:#00008b;fill-opacity:0.2;\" x=\"35.562572\" xlink:href=\"#C0_0_74341684b8\" y=\"114.285893\"/>\n    </g>\n    <g clip-path=\"url(#pac5330c67a)\">\n     <use style=\"fill:#00008b;fill-opacity:0.2;\" x=\"35.208924\" xlink:href=\"#C0_0_74341684b8\" y=\"108.061288\"/>\n    </g>\n    <g clip-path=\"url(#pac5330c67a)\">\n     <use style=\"fill:#00008b;fill-opacity:0.2;\" x=\"35.208924\" xlink:href=\"#C0_0_74341684b8\" y=\"102.209581\"/>\n    </g>\n    <g clip-path=\"url(#pac5330c67a)\">\n     <use style=\"fill:#00008b;fill-opacity:0.2;\" x=\"34.501628\" xlink:href=\"#C0_0_74341684b8\" y=\"137.249983\"/>\n    </g>\n    <g clip-path=\"url(#pac5330c67a)\">\n     <use style=\"fill:#00008b;fill-opacity:0.2;\" x=\"33.794331\" xlink:href=\"#C0_0_74341684b8\" y=\"110.767808\"/>\n    </g>\n    <g clip-path=\"url(#pac5330c67a)\">\n     <use style=\"fill:#00008b;fill-opacity:0.2;\" x=\"33.794331\" xlink:href=\"#C0_0_74341684b8\" y=\"121.149999\"/>\n    </g>\n    <g clip-path=\"url(#pac5330c67a)\">\n     <use style=\"fill:#00008b;fill-opacity:0.2;\" x=\"31.078315\" xlink:href=\"#C0_0_74341684b8\" y=\"132.227122\"/>\n    </g>\n    <g clip-path=\"url(#pac5330c67a)\">\n     <use style=\"fill:#00008b;fill-opacity:0.2;\" x=\"30.632718\" xlink:href=\"#C0_0_74341684b8\" y=\"134.396472\"/>\n    </g>\n    <g clip-path=\"url(#pac5330c67a)\">\n     <use style=\"fill:#00008b;fill-opacity:0.2;\" x=\"30.477113\" xlink:href=\"#C0_0_74341684b8\" y=\"123.57965\"/>\n    </g>\n    <g clip-path=\"url(#pac5330c67a)\">\n     <use style=\"fill:#00008b;fill-opacity:0.2;\" x=\"30.413456\" xlink:href=\"#C0_0_74341684b8\" y=\"138.915682\"/>\n    </g>\n    <g clip-path=\"url(#pac5330c67a)\">\n     <use style=\"fill:#00008b;fill-opacity:0.2;\" x=\"30.39931\" xlink:href=\"#C0_0_74341684b8\" y=\"112.234631\"/>\n    </g>\n    <g clip-path=\"url(#pac5330c67a)\">\n     <use style=\"fill:#00008b;fill-opacity:0.2;\" x=\"30.286143\" xlink:href=\"#C0_0_74341684b8\" y=\"128.500664\"/>\n    </g>\n    <g clip-path=\"url(#pac5330c67a)\">\n     <use style=\"fill:#00008b;fill-opacity:0.2;\" x=\"30.271997\" xlink:href=\"#C0_0_74341684b8\" y=\"111.879756\"/>\n    </g>\n    <g clip-path=\"url(#pac5330c67a)\">\n     <use style=\"fill:#00008b;fill-opacity:0.2;\" x=\"30.271997\" xlink:href=\"#C0_0_74341684b8\" y=\"115.884332\"/>\n    </g>\n    <g clip-path=\"url(#pac5330c67a)\">\n     <use style=\"fill:#00008b;fill-opacity:0.2;\" x=\"30.257851\" xlink:href=\"#C0_0_74341684b8\" y=\"139.274569\"/>\n    </g>\n    <g clip-path=\"url(#pac5330c67a)\">\n     <use style=\"fill:#00008b;fill-opacity:0.2;\" x=\"30.257851\" xlink:href=\"#C0_0_74341684b8\" y=\"111.045709\"/>\n    </g>\n    <g clip-path=\"url(#pac5330c67a)\">\n     <use style=\"fill:#00008b;fill-opacity:0.2;\" x=\"30.257851\" xlink:href=\"#C0_0_74341684b8\" y=\"109.106929\"/>\n    </g>\n    <g clip-path=\"url(#pac5330c67a)\">\n     <use style=\"fill:#00008b;fill-opacity:0.2;\" x=\"30.257851\" xlink:href=\"#C0_0_74341684b8\" y=\"117.560492\"/>\n    </g>\n   </g>\n   <g id=\"text_9\">\n    <!-- POPULATION - Major League Baseball players salaries -->\n    <g style=\"fill:#262626;\" transform=\"translate(100.031676 16.318125)scale(0.12 -0.12)\">\n     <defs>\n      <path d=\"M 628 4666 \nL 1569 4666 \nL 2759 1491 \nL 3956 4666 \nL 4897 4666 \nL 4897 0 \nL 4281 0 \nL 4281 4097 \nL 3078 897 \nL 2444 897 \nL 1241 4097 \nL 1241 0 \nL 628 0 \nL 628 4666 \nz\n\" id=\"DejaVuSans-4d\" transform=\"scale(0.015625)\"/>\n      <path d=\"M 603 3500 \nL 1178 3500 \nL 1178 -63 \nQ 1178 -731 923 -1031 \nQ 669 -1331 103 -1331 \nL -116 -1331 \nL -116 -844 \nL 38 -844 \nQ 366 -844 484 -692 \nQ 603 -541 603 -63 \nL 603 3500 \nz\nM 603 4863 \nL 1178 4863 \nL 1178 4134 \nL 603 4134 \nL 603 4863 \nz\n\" id=\"DejaVuSans-6a\" transform=\"scale(0.015625)\"/>\n      <path d=\"M 3597 1894 \nL 3597 1613 \nL 953 1613 \nQ 991 1019 1311 708 \nQ 1631 397 2203 397 \nQ 2534 397 2845 478 \nQ 3156 559 3463 722 \nL 3463 178 \nQ 3153 47 2828 -22 \nQ 2503 -91 2169 -91 \nQ 1331 -91 842 396 \nQ 353 884 353 1716 \nQ 353 2575 817 3079 \nQ 1281 3584 2069 3584 \nQ 2775 3584 3186 3129 \nQ 3597 2675 3597 1894 \nz\nM 3022 2063 \nQ 3016 2534 2758 2815 \nQ 2500 3097 2075 3097 \nQ 1594 3097 1305 2825 \nQ 1016 2553 972 2059 \nL 3022 2063 \nz\n\" id=\"DejaVuSans-65\" transform=\"scale(0.015625)\"/>\n      <path d=\"M 2906 1791 \nQ 2906 2416 2648 2759 \nQ 2391 3103 1925 3103 \nQ 1463 3103 1205 2759 \nQ 947 2416 947 1791 \nQ 947 1169 1205 825 \nQ 1463 481 1925 481 \nQ 2391 481 2648 825 \nQ 2906 1169 2906 1791 \nz\nM 3481 434 \nQ 3481 -459 3084 -895 \nQ 2688 -1331 1869 -1331 \nQ 1566 -1331 1297 -1286 \nQ 1028 -1241 775 -1147 \nL 775 -588 \nQ 1028 -725 1275 -790 \nQ 1522 -856 1778 -856 \nQ 2344 -856 2625 -561 \nQ 2906 -266 2906 331 \nL 2906 616 \nQ 2728 306 2450 153 \nQ 2172 0 1784 0 \nQ 1141 0 747 490 \nQ 353 981 353 1791 \nQ 353 2603 747 3093 \nQ 1141 3584 1784 3584 \nQ 2172 3584 2450 3431 \nQ 2728 3278 2906 2969 \nL 2906 3500 \nL 3481 3500 \nL 3481 434 \nz\n\" id=\"DejaVuSans-67\" transform=\"scale(0.015625)\"/>\n      <path d=\"M 544 1381 \nL 544 3500 \nL 1119 3500 \nL 1119 1403 \nQ 1119 906 1312 657 \nQ 1506 409 1894 409 \nQ 2359 409 2629 706 \nQ 2900 1003 2900 1516 \nL 2900 3500 \nL 3475 3500 \nL 3475 0 \nL 2900 0 \nL 2900 538 \nQ 2691 219 2414 64 \nQ 2138 -91 1772 -91 \nQ 1169 -91 856 284 \nQ 544 659 544 1381 \nz\nM 1991 3584 \nL 1991 3584 \nz\n\" id=\"DejaVuSans-75\" transform=\"scale(0.015625)\"/>\n      <path d=\"M 1259 2228 \nL 1259 519 \nL 2272 519 \nQ 2781 519 3026 730 \nQ 3272 941 3272 1375 \nQ 3272 1813 3026 2020 \nQ 2781 2228 2272 2228 \nL 1259 2228 \nz\nM 1259 4147 \nL 1259 2741 \nL 2194 2741 \nQ 2656 2741 2882 2914 \nQ 3109 3088 3109 3444 \nQ 3109 3797 2882 3972 \nQ 2656 4147 2194 4147 \nL 1259 4147 \nz\nM 628 4666 \nL 2241 4666 \nQ 2963 4666 3353 4366 \nQ 3744 4066 3744 3513 \nQ 3744 3084 3544 2831 \nQ 3344 2578 2956 2516 \nQ 3422 2416 3680 2098 \nQ 3938 1781 3938 1306 \nQ 3938 681 3513 340 \nQ 3088 0 2303 0 \nL 628 0 \nL 628 4666 \nz\n\" id=\"DejaVuSans-42\" transform=\"scale(0.015625)\"/>\n      <path d=\"M 3116 1747 \nQ 3116 2381 2855 2742 \nQ 2594 3103 2138 3103 \nQ 1681 3103 1420 2742 \nQ 1159 2381 1159 1747 \nQ 1159 1113 1420 752 \nQ 1681 391 2138 391 \nQ 2594 391 2855 752 \nQ 3116 1113 3116 1747 \nz\nM 1159 2969 \nQ 1341 3281 1617 3432 \nQ 1894 3584 2278 3584 \nQ 2916 3584 3314 3078 \nQ 3713 2572 3713 1747 \nQ 3713 922 3314 415 \nQ 2916 -91 2278 -91 \nQ 1894 -91 1617 61 \nQ 1341 213 1159 525 \nL 1159 0 \nL 581 0 \nL 581 4863 \nL 1159 4863 \nL 1159 2969 \nz\n\" id=\"DejaVuSans-62\" transform=\"scale(0.015625)\"/>\n      <path d=\"M 1159 525 \nL 1159 -1331 \nL 581 -1331 \nL 581 3500 \nL 1159 3500 \nL 1159 2969 \nQ 1341 3281 1617 3432 \nQ 1894 3584 2278 3584 \nQ 2916 3584 3314 3078 \nQ 3713 2572 3713 1747 \nQ 3713 922 3314 415 \nQ 2916 -91 2278 -91 \nQ 1894 -91 1617 61 \nQ 1341 213 1159 525 \nz\nM 3116 1747 \nQ 3116 2381 2855 2742 \nQ 2594 3103 2138 3103 \nQ 1681 3103 1420 2742 \nQ 1159 2381 1159 1747 \nQ 1159 1113 1420 752 \nQ 1681 391 2138 391 \nQ 2594 391 2855 752 \nQ 3116 1113 3116 1747 \nz\n\" id=\"DejaVuSans-70\" transform=\"scale(0.015625)\"/>\n     </defs>\n     <use xlink:href=\"#DejaVuSans-50\"/>\n     <use x=\"60.302734\" xlink:href=\"#DejaVuSans-4f\"/>\n     <use x=\"139.013672\" xlink:href=\"#DejaVuSans-50\"/>\n     <use x=\"199.316406\" xlink:href=\"#DejaVuSans-55\"/>\n     <use x=\"272.509766\" xlink:href=\"#DejaVuSans-4c\"/>\n     <use x=\"330.472656\" xlink:href=\"#DejaVuSans-41\"/>\n     <use x=\"391.130859\" xlink:href=\"#DejaVuSans-54\"/>\n     <use x=\"452.214844\" xlink:href=\"#DejaVuSans-49\"/>\n     <use x=\"481.707031\" xlink:href=\"#DejaVuSans-4f\"/>\n     <use x=\"560.417969\" xlink:href=\"#DejaVuSans-4e\"/>\n     <use x=\"635.222656\" xlink:href=\"#DejaVuSans-20\"/>\n     <use x=\"667.009766\" xlink:href=\"#DejaVuSans-2d\"/>\n     <use x=\"703.09375\" xlink:href=\"#DejaVuSans-20\"/>\n     <use x=\"734.880859\" xlink:href=\"#DejaVuSans-4d\"/>\n     <use x=\"821.160156\" xlink:href=\"#DejaVuSans-61\"/>\n     <use x=\"882.439453\" xlink:href=\"#DejaVuSans-6a\"/>\n     <use x=\"910.222656\" xlink:href=\"#DejaVuSans-6f\"/>\n     <use x=\"971.404297\" xlink:href=\"#DejaVuSans-72\"/>\n     <use x=\"1012.517578\" xlink:href=\"#DejaVuSans-20\"/>\n     <use x=\"1044.304688\" xlink:href=\"#DejaVuSans-4c\"/>\n     <use x=\"1098.267578\" xlink:href=\"#DejaVuSans-65\"/>\n     <use x=\"1159.791016\" xlink:href=\"#DejaVuSans-61\"/>\n     <use x=\"1221.070312\" xlink:href=\"#DejaVuSans-67\"/>\n     <use x=\"1284.546875\" xlink:href=\"#DejaVuSans-75\"/>\n     <use x=\"1347.925781\" xlink:href=\"#DejaVuSans-65\"/>\n     <use x=\"1409.449219\" xlink:href=\"#DejaVuSans-20\"/>\n     <use x=\"1441.236328\" xlink:href=\"#DejaVuSans-42\"/>\n     <use x=\"1509.839844\" xlink:href=\"#DejaVuSans-61\"/>\n     <use x=\"1571.119141\" xlink:href=\"#DejaVuSans-73\"/>\n     <use x=\"1623.21875\" xlink:href=\"#DejaVuSans-65\"/>\n     <use x=\"1684.742188\" xlink:href=\"#DejaVuSans-62\"/>\n     <use x=\"1748.21875\" xlink:href=\"#DejaVuSans-61\"/>\n     <use x=\"1809.498047\" xlink:href=\"#DejaVuSans-6c\"/>\n     <use x=\"1837.28125\" xlink:href=\"#DejaVuSans-6c\"/>\n     <use x=\"1865.064453\" xlink:href=\"#DejaVuSans-20\"/>\n     <use x=\"1896.851562\" xlink:href=\"#DejaVuSans-70\"/>\n     <use x=\"1960.328125\" xlink:href=\"#DejaVuSans-6c\"/>\n     <use x=\"1988.111328\" xlink:href=\"#DejaVuSans-61\"/>\n     <use x=\"2049.390625\" xlink:href=\"#DejaVuSans-79\"/>\n     <use x=\"2108.570312\" xlink:href=\"#DejaVuSans-65\"/>\n     <use x=\"2170.09375\" xlink:href=\"#DejaVuSans-72\"/>\n     <use x=\"2211.207031\" xlink:href=\"#DejaVuSans-73\"/>\n     <use x=\"2263.306641\" xlink:href=\"#DejaVuSans-20\"/>\n     <use x=\"2295.09375\" xlink:href=\"#DejaVuSans-73\"/>\n     <use x=\"2347.193359\" xlink:href=\"#DejaVuSans-61\"/>\n     <use x=\"2408.472656\" xlink:href=\"#DejaVuSans-6c\"/>\n     <use x=\"2436.255859\" xlink:href=\"#DejaVuSans-61\"/>\n     <use x=\"2497.535156\" xlink:href=\"#DejaVuSans-72\"/>\n     <use x=\"2538.648438\" xlink:href=\"#DejaVuSans-69\"/>\n     <use x=\"2566.431641\" xlink:href=\"#DejaVuSans-65\"/>\n     <use x=\"2627.955078\" xlink:href=\"#DejaVuSans-73\"/>\n    </g>\n   </g>\n  </g>\n  <g id=\"axes_2\">\n   <g id=\"patch_8\">\n    <path d=\"M 615.927273 219.990852 \nL 1123.2 219.990852 \nL 1123.2 22.318125 \nL 615.927273 22.318125 \nz\n\" style=\"fill:#ffffff;\"/>\n   </g>\n   <g id=\"matplotlib.axis_3\">\n    <g id=\"xtick_8\">\n     <g id=\"line2d_14\">\n      <path clip-path=\"url(#p4e36dfa7bb)\" d=\"M 628.905189 219.990852 \nL 628.905189 22.318125 \n\" style=\"fill:none;stroke:#cccccc;stroke-linecap:round;\"/>\n     </g>\n     <g id=\"text_10\">\n      <!-- 0 -->\n      <g style=\"fill:#262626;\" transform=\"translate(625.405814 237.849134)scale(0.11 -0.11)\">\n       <use xlink:href=\"#DejaVuSans-30\"/>\n      </g>\n     </g>\n    </g>\n    <g id=\"xtick_9\">\n     <g id=\"line2d_15\">\n      <path clip-path=\"url(#p4e36dfa7bb)\" d=\"M 691.904783 219.990852 \nL 691.904783 22.318125 \n\" style=\"fill:none;stroke:#cccccc;stroke-linecap:round;\"/>\n     </g>\n     <g id=\"text_11\">\n      <!-- 2500 -->\n      <g style=\"fill:#262626;\" transform=\"translate(677.907283 237.849134)scale(0.11 -0.11)\">\n       <use xlink:href=\"#DejaVuSans-32\"/>\n       <use x=\"63.623047\" xlink:href=\"#DejaVuSans-35\"/>\n       <use x=\"127.246094\" xlink:href=\"#DejaVuSans-30\"/>\n       <use x=\"190.869141\" xlink:href=\"#DejaVuSans-30\"/>\n      </g>\n     </g>\n    </g>\n    <g id=\"xtick_10\">\n     <g id=\"line2d_16\">\n      <path clip-path=\"url(#p4e36dfa7bb)\" d=\"M 754.904376 219.990852 \nL 754.904376 22.318125 \n\" style=\"fill:none;stroke:#cccccc;stroke-linecap:round;\"/>\n     </g>\n     <g id=\"text_12\">\n      <!-- 5000 -->\n      <g style=\"fill:#262626;\" transform=\"translate(740.906876 237.849134)scale(0.11 -0.11)\">\n       <use xlink:href=\"#DejaVuSans-35\"/>\n       <use x=\"63.623047\" xlink:href=\"#DejaVuSans-30\"/>\n       <use x=\"127.246094\" xlink:href=\"#DejaVuSans-30\"/>\n       <use x=\"190.869141\" xlink:href=\"#DejaVuSans-30\"/>\n      </g>\n     </g>\n    </g>\n    <g id=\"xtick_11\">\n     <g id=\"line2d_17\">\n      <path clip-path=\"url(#p4e36dfa7bb)\" d=\"M 817.90397 219.990852 \nL 817.90397 22.318125 \n\" style=\"fill:none;stroke:#cccccc;stroke-linecap:round;\"/>\n     </g>\n     <g id=\"text_13\">\n      <!-- 7500 -->\n      <g style=\"fill:#262626;\" transform=\"translate(803.90647 237.849134)scale(0.11 -0.11)\">\n       <defs>\n        <path d=\"M 525 4666 \nL 3525 4666 \nL 3525 4397 \nL 1831 0 \nL 1172 0 \nL 2766 4134 \nL 525 4134 \nL 525 4666 \nz\n\" id=\"DejaVuSans-37\" transform=\"scale(0.015625)\"/>\n       </defs>\n       <use xlink:href=\"#DejaVuSans-37\"/>\n       <use x=\"63.623047\" xlink:href=\"#DejaVuSans-35\"/>\n       <use x=\"127.246094\" xlink:href=\"#DejaVuSans-30\"/>\n       <use x=\"190.869141\" xlink:href=\"#DejaVuSans-30\"/>\n      </g>\n     </g>\n    </g>\n    <g id=\"xtick_12\">\n     <g id=\"line2d_18\">\n      <path clip-path=\"url(#p4e36dfa7bb)\" d=\"M 880.903563 219.990852 \nL 880.903563 22.318125 \n\" style=\"fill:none;stroke:#cccccc;stroke-linecap:round;\"/>\n     </g>\n     <g id=\"text_14\">\n      <!-- 10000 -->\n      <g style=\"fill:#262626;\" transform=\"translate(863.406688 237.849134)scale(0.11 -0.11)\">\n       <use xlink:href=\"#DejaVuSans-31\"/>\n       <use x=\"63.623047\" xlink:href=\"#DejaVuSans-30\"/>\n       <use x=\"127.246094\" xlink:href=\"#DejaVuSans-30\"/>\n       <use x=\"190.869141\" xlink:href=\"#DejaVuSans-30\"/>\n       <use x=\"254.492188\" xlink:href=\"#DejaVuSans-30\"/>\n      </g>\n     </g>\n    </g>\n    <g id=\"xtick_13\">\n     <g id=\"line2d_19\">\n      <path clip-path=\"url(#p4e36dfa7bb)\" d=\"M 943.903157 219.990852 \nL 943.903157 22.318125 \n\" style=\"fill:none;stroke:#cccccc;stroke-linecap:round;\"/>\n     </g>\n     <g id=\"text_15\">\n      <!-- 12500 -->\n      <g style=\"fill:#262626;\" transform=\"translate(926.406282 237.849134)scale(0.11 -0.11)\">\n       <use xlink:href=\"#DejaVuSans-31\"/>\n       <use x=\"63.623047\" xlink:href=\"#DejaVuSans-32\"/>\n       <use x=\"127.246094\" xlink:href=\"#DejaVuSans-35\"/>\n       <use x=\"190.869141\" xlink:href=\"#DejaVuSans-30\"/>\n       <use x=\"254.492188\" xlink:href=\"#DejaVuSans-30\"/>\n      </g>\n     </g>\n    </g>\n    <g id=\"xtick_14\">\n     <g id=\"line2d_20\">\n      <path clip-path=\"url(#p4e36dfa7bb)\" d=\"M 1006.90275 219.990852 \nL 1006.90275 22.318125 \n\" style=\"fill:none;stroke:#cccccc;stroke-linecap:round;\"/>\n     </g>\n     <g id=\"text_16\">\n      <!-- 15000 -->\n      <g style=\"fill:#262626;\" transform=\"translate(989.405875 237.849134)scale(0.11 -0.11)\">\n       <use xlink:href=\"#DejaVuSans-31\"/>\n       <use x=\"63.623047\" xlink:href=\"#DejaVuSans-35\"/>\n       <use x=\"127.246094\" xlink:href=\"#DejaVuSans-30\"/>\n       <use x=\"190.869141\" xlink:href=\"#DejaVuSans-30\"/>\n       <use x=\"254.492188\" xlink:href=\"#DejaVuSans-30\"/>\n      </g>\n     </g>\n    </g>\n    <g id=\"xtick_15\">\n     <g id=\"line2d_21\">\n      <path clip-path=\"url(#p4e36dfa7bb)\" d=\"M 1069.902344 219.990852 \nL 1069.902344 22.318125 \n\" style=\"fill:none;stroke:#cccccc;stroke-linecap:round;\"/>\n     </g>\n     <g id=\"text_17\">\n      <!-- 17500 -->\n      <g style=\"fill:#262626;\" transform=\"translate(1052.405469 237.849134)scale(0.11 -0.11)\">\n       <use xlink:href=\"#DejaVuSans-31\"/>\n       <use x=\"63.623047\" xlink:href=\"#DejaVuSans-37\"/>\n       <use x=\"127.246094\" xlink:href=\"#DejaVuSans-35\"/>\n       <use x=\"190.869141\" xlink:href=\"#DejaVuSans-30\"/>\n       <use x=\"254.492188\" xlink:href=\"#DejaVuSans-30\"/>\n      </g>\n     </g>\n    </g>\n    <g id=\"text_18\">\n     <!-- SAMPLE - Salary (millions of dollars) - Random Sample k=83 -->\n     <g style=\"fill:#262626;\" transform=\"translate(688.136761 253.254915)scale(0.12 -0.12)\">\n      <defs>\n       <path d=\"M 628 4666 \nL 3578 4666 \nL 3578 4134 \nL 1259 4134 \nL 1259 2753 \nL 3481 2753 \nL 3481 2222 \nL 1259 2222 \nL 1259 531 \nL 3634 531 \nL 3634 0 \nL 628 0 \nL 628 4666 \nz\n\" id=\"DejaVuSans-45\" transform=\"scale(0.015625)\"/>\n       <path d=\"M 2841 2188 \nQ 3044 2119 3236 1894 \nQ 3428 1669 3622 1275 \nL 4263 0 \nL 3584 0 \nL 2988 1197 \nQ 2756 1666 2539 1819 \nQ 2322 1972 1947 1972 \nL 1259 1972 \nL 1259 0 \nL 628 0 \nL 628 4666 \nL 2053 4666 \nQ 2853 4666 3247 4331 \nQ 3641 3997 3641 3322 \nQ 3641 2881 3436 2590 \nQ 3231 2300 2841 2188 \nz\nM 1259 4147 \nL 1259 2491 \nL 2053 2491 \nQ 2509 2491 2742 2702 \nQ 2975 2913 2975 3322 \nQ 2975 3731 2742 3939 \nQ 2509 4147 2053 4147 \nL 1259 4147 \nz\n\" id=\"DejaVuSans-52\" transform=\"scale(0.015625)\"/>\n       <path d=\"M 581 4863 \nL 1159 4863 \nL 1159 1991 \nL 2875 3500 \nL 3609 3500 \nL 1753 1863 \nL 3688 0 \nL 2938 0 \nL 1159 1709 \nL 1159 0 \nL 581 0 \nL 581 4863 \nz\n\" id=\"DejaVuSans-6b\" transform=\"scale(0.015625)\"/>\n       <path d=\"M 678 2906 \nL 4684 2906 \nL 4684 2381 \nL 678 2381 \nL 678 2906 \nz\nM 678 1631 \nL 4684 1631 \nL 4684 1100 \nL 678 1100 \nL 678 1631 \nz\n\" id=\"DejaVuSans-3d\" transform=\"scale(0.015625)\"/>\n       <path d=\"M 2034 2216 \nQ 1584 2216 1326 1975 \nQ 1069 1734 1069 1313 \nQ 1069 891 1326 650 \nQ 1584 409 2034 409 \nQ 2484 409 2743 651 \nQ 3003 894 3003 1313 \nQ 3003 1734 2745 1975 \nQ 2488 2216 2034 2216 \nz\nM 1403 2484 \nQ 997 2584 770 2862 \nQ 544 3141 544 3541 \nQ 544 4100 942 4425 \nQ 1341 4750 2034 4750 \nQ 2731 4750 3128 4425 \nQ 3525 4100 3525 3541 \nQ 3525 3141 3298 2862 \nQ 3072 2584 2669 2484 \nQ 3125 2378 3379 2068 \nQ 3634 1759 3634 1313 \nQ 3634 634 3220 271 \nQ 2806 -91 2034 -91 \nQ 1263 -91 848 271 \nQ 434 634 434 1313 \nQ 434 1759 690 2068 \nQ 947 2378 1403 2484 \nz\nM 1172 3481 \nQ 1172 3119 1398 2916 \nQ 1625 2713 2034 2713 \nQ 2441 2713 2670 2916 \nQ 2900 3119 2900 3481 \nQ 2900 3844 2670 4047 \nQ 2441 4250 2034 4250 \nQ 1625 4250 1398 4047 \nQ 1172 3844 1172 3481 \nz\n\" id=\"DejaVuSans-38\" transform=\"scale(0.015625)\"/>\n      </defs>\n      <use xlink:href=\"#DejaVuSans-53\"/>\n      <use x=\"65.351562\" xlink:href=\"#DejaVuSans-41\"/>\n      <use x=\"133.759766\" xlink:href=\"#DejaVuSans-4d\"/>\n      <use x=\"220.039062\" xlink:href=\"#DejaVuSans-50\"/>\n      <use x=\"280.341797\" xlink:href=\"#DejaVuSans-4c\"/>\n      <use x=\"336.054688\" xlink:href=\"#DejaVuSans-45\"/>\n      <use x=\"399.238281\" xlink:href=\"#DejaVuSans-20\"/>\n      <use x=\"431.025391\" xlink:href=\"#DejaVuSans-2d\"/>\n      <use x=\"467.109375\" xlink:href=\"#DejaVuSans-20\"/>\n      <use x=\"498.896484\" xlink:href=\"#DejaVuSans-53\"/>\n      <use x=\"562.373047\" xlink:href=\"#DejaVuSans-61\"/>\n      <use x=\"623.652344\" xlink:href=\"#DejaVuSans-6c\"/>\n      <use x=\"651.435547\" xlink:href=\"#DejaVuSans-61\"/>\n      <use x=\"712.714844\" xlink:href=\"#DejaVuSans-72\"/>\n      <use x=\"753.828125\" xlink:href=\"#DejaVuSans-79\"/>\n      <use x=\"813.007812\" xlink:href=\"#DejaVuSans-20\"/>\n      <use x=\"844.794922\" xlink:href=\"#DejaVuSans-28\"/>\n      <use x=\"883.808594\" xlink:href=\"#DejaVuSans-6d\"/>\n      <use x=\"981.220703\" xlink:href=\"#DejaVuSans-69\"/>\n      <use x=\"1009.003906\" xlink:href=\"#DejaVuSans-6c\"/>\n      <use x=\"1036.787109\" xlink:href=\"#DejaVuSans-6c\"/>\n      <use x=\"1064.570312\" xlink:href=\"#DejaVuSans-69\"/>\n      <use x=\"1092.353516\" xlink:href=\"#DejaVuSans-6f\"/>\n      <use x=\"1153.535156\" xlink:href=\"#DejaVuSans-6e\"/>\n      <use x=\"1216.914062\" xlink:href=\"#DejaVuSans-73\"/>\n      <use x=\"1269.013672\" xlink:href=\"#DejaVuSans-20\"/>\n      <use x=\"1300.800781\" xlink:href=\"#DejaVuSans-6f\"/>\n      <use x=\"1361.982422\" xlink:href=\"#DejaVuSans-66\"/>\n      <use x=\"1397.1875\" xlink:href=\"#DejaVuSans-20\"/>\n      <use x=\"1428.974609\" xlink:href=\"#DejaVuSans-64\"/>\n      <use x=\"1492.451172\" xlink:href=\"#DejaVuSans-6f\"/>\n      <use x=\"1553.632812\" xlink:href=\"#DejaVuSans-6c\"/>\n      <use x=\"1581.416016\" xlink:href=\"#DejaVuSans-6c\"/>\n      <use x=\"1609.199219\" xlink:href=\"#DejaVuSans-61\"/>\n      <use x=\"1670.478516\" xlink:href=\"#DejaVuSans-72\"/>\n      <use x=\"1711.591797\" xlink:href=\"#DejaVuSans-73\"/>\n      <use x=\"1763.691406\" xlink:href=\"#DejaVuSans-29\"/>\n      <use x=\"1802.705078\" xlink:href=\"#DejaVuSans-20\"/>\n      <use x=\"1834.492188\" xlink:href=\"#DejaVuSans-2d\"/>\n      <use x=\"1870.576172\" xlink:href=\"#DejaVuSans-20\"/>\n      <use x=\"1902.363281\" xlink:href=\"#DejaVuSans-52\"/>\n      <use x=\"1969.595703\" xlink:href=\"#DejaVuSans-61\"/>\n      <use x=\"2030.875\" xlink:href=\"#DejaVuSans-6e\"/>\n      <use x=\"2094.253906\" xlink:href=\"#DejaVuSans-64\"/>\n      <use x=\"2157.730469\" xlink:href=\"#DejaVuSans-6f\"/>\n      <use x=\"2218.912109\" xlink:href=\"#DejaVuSans-6d\"/>\n      <use x=\"2316.324219\" xlink:href=\"#DejaVuSans-20\"/>\n      <use x=\"2348.111328\" xlink:href=\"#DejaVuSans-53\"/>\n      <use x=\"2411.587891\" xlink:href=\"#DejaVuSans-61\"/>\n      <use x=\"2472.867188\" xlink:href=\"#DejaVuSans-6d\"/>\n      <use x=\"2570.279297\" xlink:href=\"#DejaVuSans-70\"/>\n      <use x=\"2633.755859\" xlink:href=\"#DejaVuSans-6c\"/>\n      <use x=\"2661.539062\" xlink:href=\"#DejaVuSans-65\"/>\n      <use x=\"2723.0625\" xlink:href=\"#DejaVuSans-20\"/>\n      <use x=\"2754.849609\" xlink:href=\"#DejaVuSans-6b\"/>\n      <use x=\"2812.759766\" xlink:href=\"#DejaVuSans-3d\"/>\n      <use x=\"2896.548828\" xlink:href=\"#DejaVuSans-38\"/>\n      <use x=\"2960.171875\" xlink:href=\"#DejaVuSans-33\"/>\n     </g>\n    </g>\n   </g>\n   <g id=\"matplotlib.axis_4\">\n    <g id=\"ytick_2\"/>\n   </g>\n   <g id=\"patch_9\">\n    <path clip-path=\"url(#p4e36dfa7bb)\" d=\"M 639.930118 91.50358 \nL 639.930118 150.805398 \nL 638.245822 150.805398 \nL 659.144994 135.979943 \nL 680.044166 150.805398 \nL 761.204335 150.805398 \nL 761.204335 91.50358 \nL 680.044166 91.50358 \nL 659.144994 106.329034 \nL 638.245822 91.50358 \nL 639.930118 91.50358 \nz\n\" style=\"fill:#b4d4df;stroke:#797979;stroke-linejoin:miter;\"/>\n   </g>\n   <g id=\"line2d_22\">\n    <path clip-path=\"url(#p4e36dfa7bb)\" d=\"M 639.930118 121.154489 \nL 638.985124 121.154489 \n\" style=\"fill:none;stroke:#797979;stroke-linecap:round;\"/>\n   </g>\n   <g id=\"line2d_23\">\n    <path clip-path=\"url(#p4e36dfa7bb)\" d=\"M 761.204335 121.154489 \nL 935.503194 121.154489 \n\" style=\"fill:none;stroke:#797979;stroke-linecap:round;\"/>\n   </g>\n   <g id=\"line2d_24\">\n    <path clip-path=\"url(#p4e36dfa7bb)\" d=\"M 638.985124 106.329034 \nL 638.985124 135.979943 \n\" style=\"fill:none;stroke:#797979;stroke-linecap:round;\"/>\n   </g>\n   <g id=\"line2d_25\">\n    <path clip-path=\"url(#p4e36dfa7bb)\" d=\"M 935.503194 106.329034 \nL 935.503194 135.979943 \n\" style=\"fill:none;stroke:#797979;stroke-linecap:round;\"/>\n   </g>\n   <g id=\"line2d_26\">\n    <g clip-path=\"url(#p4e36dfa7bb)\">\n     <use style=\"fill:#797979;stroke:#797979;stroke-linejoin:miter;\" x=\"1100.142149\" xlink:href=\"#m77a66c6bf8\" y=\"121.154489\"/>\n     <use style=\"fill:#797979;stroke:#797979;stroke-linejoin:miter;\" x=\"1024.227639\" xlink:href=\"#m77a66c6bf8\" y=\"121.154489\"/>\n     <use style=\"fill:#797979;stroke:#797979;stroke-linejoin:miter;\" x=\"1014.102697\" xlink:href=\"#m77a66c6bf8\" y=\"121.154489\"/>\n     <use style=\"fill:#797979;stroke:#797979;stroke-linejoin:miter;\" x=\"981.702913\" xlink:href=\"#m77a66c6bf8\" y=\"121.154489\"/>\n     <use style=\"fill:#797979;stroke:#797979;stroke-linejoin:miter;\" x=\"969.102994\" xlink:href=\"#m77a66c6bf8\" y=\"121.154489\"/>\n     <use style=\"fill:#797979;stroke:#797979;stroke-linejoin:miter;\" x=\"956.503075\" xlink:href=\"#m77a66c6bf8\" y=\"121.154489\"/>\n     <use style=\"fill:#797979;stroke:#797979;stroke-linejoin:miter;\" x=\"950.203116\" xlink:href=\"#m77a66c6bf8\" y=\"121.154489\"/>\n    </g>\n   </g>\n   <g id=\"line2d_27\">\n    <path clip-path=\"url(#p4e36dfa7bb)\" d=\"M 659.144994 106.329034 \nL 659.144994 135.979943 \n\" style=\"fill:none;stroke:#797979;stroke-linecap:round;\"/>\n   </g>\n   <g id=\"patch_10\">\n    <path d=\"M 615.927273 219.990852 \nL 615.927273 22.318125 \n\" style=\"fill:none;stroke:#cccccc;stroke-linecap:square;stroke-linejoin:miter;stroke-width:1.25;\"/>\n   </g>\n   <g id=\"patch_11\">\n    <path d=\"M 1123.2 219.990852 \nL 1123.2 22.318125 \n\" style=\"fill:none;stroke:#cccccc;stroke-linecap:square;stroke-linejoin:miter;stroke-width:1.25;\"/>\n   </g>\n   <g id=\"patch_12\">\n    <path d=\"M 615.927273 219.990852 \nL 1123.2 219.990852 \n\" style=\"fill:none;stroke:#cccccc;stroke-linecap:square;stroke-linejoin:miter;stroke-width:1.25;\"/>\n   </g>\n   <g id=\"patch_13\">\n    <path d=\"M 615.927273 22.318125 \nL 1123.2 22.318125 \n\" style=\"fill:none;stroke:#cccccc;stroke-linecap:square;stroke-linejoin:miter;stroke-width:1.25;\"/>\n   </g>\n   <g id=\"PathCollection_2\">\n    <defs>\n     <path d=\"M 0 2.5 \nC 0.663008 2.5 1.29895 2.236584 1.767767 1.767767 \nC 2.236584 1.29895 2.5 0.663008 2.5 -0 \nC 2.5 -0.663008 2.236584 -1.29895 1.767767 -1.767767 \nC 1.29895 -2.236584 0.663008 -2.5 0 -2.5 \nC -0.663008 -2.5 -1.29895 -2.236584 -1.767767 -1.767767 \nC -2.236584 -1.29895 -2.5 -0.663008 -2.5 0 \nC -2.5 0.663008 -2.236584 1.29895 -1.767767 1.767767 \nC -1.29895 2.236584 -0.663008 2.5 0 2.5 \nz\n\" id=\"C1_0_57350fcbcb\"/>\n    </defs>\n    <g clip-path=\"url(#p4e36dfa7bb)\">\n     <use style=\"fill:#00008b;fill-opacity:0.2;\" x=\"1100.142149\" xlink:href=\"#C1_0_57350fcbcb\" y=\"131.987439\"/>\n    </g>\n    <g clip-path=\"url(#p4e36dfa7bb)\">\n     <use style=\"fill:#00008b;fill-opacity:0.2;\" x=\"1024.227639\" xlink:href=\"#C1_0_57350fcbcb\" y=\"113.436956\"/>\n    </g>\n    <g clip-path=\"url(#p4e36dfa7bb)\">\n     <use style=\"fill:#00008b;fill-opacity:0.2;\" x=\"1014.102697\" xlink:href=\"#C1_0_57350fcbcb\" y=\"123.932118\"/>\n    </g>\n    <g clip-path=\"url(#p4e36dfa7bb)\">\n     <use style=\"fill:#00008b;fill-opacity:0.2;\" x=\"981.702913\" xlink:href=\"#C1_0_57350fcbcb\" y=\"112.766831\"/>\n    </g>\n    <g clip-path=\"url(#p4e36dfa7bb)\">\n     <use style=\"fill:#00008b;fill-opacity:0.2;\" x=\"969.102994\" xlink:href=\"#C1_0_57350fcbcb\" y=\"125.72126\"/>\n    </g>\n    <g clip-path=\"url(#p4e36dfa7bb)\">\n     <use style=\"fill:#00008b;fill-opacity:0.2;\" x=\"956.503075\" xlink:href=\"#C1_0_57350fcbcb\" y=\"119.594189\"/>\n    </g>\n    <g clip-path=\"url(#p4e36dfa7bb)\">\n     <use style=\"fill:#00008b;fill-opacity:0.2;\" x=\"950.203116\" xlink:href=\"#C1_0_57350fcbcb\" y=\"109.086754\"/>\n    </g>\n    <g clip-path=\"url(#p4e36dfa7bb)\">\n     <use style=\"fill:#00008b;fill-opacity:0.2;\" x=\"935.503194\" xlink:href=\"#C1_0_57350fcbcb\" y=\"104.810867\"/>\n    </g>\n    <g clip-path=\"url(#p4e36dfa7bb)\">\n     <use style=\"fill:#00008b;fill-opacity:0.2;\" x=\"931.303238\" xlink:href=\"#C1_0_57350fcbcb\" y=\"126.510656\"/>\n    </g>\n    <g clip-path=\"url(#p4e36dfa7bb)\">\n     <use style=\"fill:#00008b;fill-opacity:0.2;\" x=\"906.103401\" xlink:href=\"#C1_0_57350fcbcb\" y=\"120.361761\"/>\n    </g>\n    <g clip-path=\"url(#p4e36dfa7bb)\">\n     <use style=\"fill:#00008b;fill-opacity:0.2;\" x=\"855.703726\" xlink:href=\"#C1_0_57350fcbcb\" y=\"104.668568\"/>\n    </g>\n    <g clip-path=\"url(#p4e36dfa7bb)\">\n     <use style=\"fill:#00008b;fill-opacity:0.2;\" x=\"850.670713\" xlink:href=\"#C1_0_57350fcbcb\" y=\"109.890352\"/>\n    </g>\n    <g clip-path=\"url(#p4e36dfa7bb)\">\n     <use style=\"fill:#00008b;fill-opacity:0.2;\" x=\"843.103807\" xlink:href=\"#C1_0_57350fcbcb\" y=\"115.258792\"/>\n    </g>\n    <g clip-path=\"url(#p4e36dfa7bb)\">\n     <use style=\"fill:#00008b;fill-opacity:0.2;\" x=\"830.503888\" xlink:href=\"#C1_0_57350fcbcb\" y=\"124.394938\"/>\n    </g>\n    <g clip-path=\"url(#p4e36dfa7bb)\">\n     <use style=\"fill:#00008b;fill-opacity:0.2;\" x=\"830.503888\" xlink:href=\"#C1_0_57350fcbcb\" y=\"128.170816\"/>\n    </g>\n    <g clip-path=\"url(#p4e36dfa7bb)\">\n     <use style=\"fill:#00008b;fill-opacity:0.2;\" x=\"817.90397\" xlink:href=\"#C1_0_57350fcbcb\" y=\"139.732242\"/>\n    </g>\n    <g clip-path=\"url(#p4e36dfa7bb)\">\n     <use style=\"fill:#00008b;fill-opacity:0.2;\" x=\"805.304051\" xlink:href=\"#C1_0_57350fcbcb\" y=\"115.992028\"/>\n    </g>\n    <g clip-path=\"url(#p4e36dfa7bb)\">\n     <use style=\"fill:#00008b;fill-opacity:0.2;\" x=\"780.104214\" xlink:href=\"#C1_0_57350fcbcb\" y=\"136.929807\"/>\n    </g>\n    <g clip-path=\"url(#p4e36dfa7bb)\">\n     <use style=\"fill:#00008b;fill-opacity:0.2;\" x=\"780.104214\" xlink:href=\"#C1_0_57350fcbcb\" y=\"137.828582\"/>\n    </g>\n    <g clip-path=\"url(#p4e36dfa7bb)\">\n     <use style=\"fill:#00008b;fill-opacity:0.2;\" x=\"767.504295\" xlink:href=\"#C1_0_57350fcbcb\" y=\"120.548988\"/>\n    </g>\n    <g clip-path=\"url(#p4e36dfa7bb)\">\n     <use style=\"fill:#00008b;fill-opacity:0.2;\" x=\"767.504295\" xlink:href=\"#C1_0_57350fcbcb\" y=\"123.124806\"/>\n    </g>\n    <g clip-path=\"url(#p4e36dfa7bb)\">\n     <use style=\"fill:#00008b;fill-opacity:0.2;\" x=\"754.904376\" xlink:href=\"#C1_0_57350fcbcb\" y=\"127.683702\"/>\n    </g>\n    <g clip-path=\"url(#p4e36dfa7bb)\">\n     <use style=\"fill:#00008b;fill-opacity:0.2;\" x=\"751.1244\" xlink:href=\"#C1_0_57350fcbcb\" y=\"114.805897\"/>\n    </g>\n    <g clip-path=\"url(#p4e36dfa7bb)\">\n     <use style=\"fill:#00008b;fill-opacity:0.2;\" x=\"751.1244\" xlink:href=\"#C1_0_57350fcbcb\" y=\"140.528464\"/>\n    </g>\n    <g clip-path=\"url(#p4e36dfa7bb)\">\n     <use style=\"fill:#00008b;fill-opacity:0.2;\" x=\"737.26449\" xlink:href=\"#C1_0_57350fcbcb\" y=\"105.139023\"/>\n    </g>\n    <g clip-path=\"url(#p4e36dfa7bb)\">\n     <use style=\"fill:#00008b;fill-opacity:0.2;\" x=\"729.704539\" xlink:href=\"#C1_0_57350fcbcb\" y=\"114.081049\"/>\n    </g>\n    <g clip-path=\"url(#p4e36dfa7bb)\">\n     <use style=\"fill:#00008b;fill-opacity:0.2;\" x=\"722.144587\" xlink:href=\"#C1_0_57350fcbcb\" y=\"113.163187\"/>\n    </g>\n    <g clip-path=\"url(#p4e36dfa7bb)\">\n     <use style=\"fill:#00008b;fill-opacity:0.2;\" x=\"720.884596\" xlink:href=\"#C1_0_57350fcbcb\" y=\"128.205414\"/>\n    </g>\n    <g clip-path=\"url(#p4e36dfa7bb)\">\n     <use style=\"fill:#00008b;fill-opacity:0.2;\" x=\"717.10462\" xlink:href=\"#C1_0_57350fcbcb\" y=\"119.7713\"/>\n    </g>\n    <g clip-path=\"url(#p4e36dfa7bb)\">\n     <use style=\"fill:#00008b;fill-opacity:0.2;\" x=\"717.10462\" xlink:href=\"#C1_0_57350fcbcb\" y=\"127.941164\"/>\n    </g>\n    <g clip-path=\"url(#p4e36dfa7bb)\">\n     <use style=\"fill:#00008b;fill-opacity:0.2;\" x=\"709.544669\" xlink:href=\"#C1_0_57350fcbcb\" y=\"130.764955\"/>\n    </g>\n    <g clip-path=\"url(#p4e36dfa7bb)\">\n     <use style=\"fill:#00008b;fill-opacity:0.2;\" x=\"704.504701\" xlink:href=\"#C1_0_57350fcbcb\" y=\"116.382329\"/>\n    </g>\n    <g clip-path=\"url(#p4e36dfa7bb)\">\n     <use style=\"fill:#00008b;fill-opacity:0.2;\" x=\"696.94475\" xlink:href=\"#C1_0_57350fcbcb\" y=\"137.426522\"/>\n    </g>\n    <g clip-path=\"url(#p4e36dfa7bb)\">\n     <use style=\"fill:#00008b;fill-opacity:0.2;\" x=\"679.304864\" xlink:href=\"#C1_0_57350fcbcb\" y=\"140.476841\"/>\n    </g>\n    <g clip-path=\"url(#p4e36dfa7bb)\">\n     <use style=\"fill:#00008b;fill-opacity:0.2;\" x=\"679.304864\" xlink:href=\"#C1_0_57350fcbcb\" y=\"127.388298\"/>\n    </g>\n    <g clip-path=\"url(#p4e36dfa7bb)\">\n     <use style=\"fill:#00008b;fill-opacity:0.2;\" x=\"676.78488\" xlink:href=\"#C1_0_57350fcbcb\" y=\"134.110104\"/>\n    </g>\n    <g clip-path=\"url(#p4e36dfa7bb)\">\n     <use style=\"fill:#00008b;fill-opacity:0.2;\" x=\"670.484921\" xlink:href=\"#C1_0_57350fcbcb\" y=\"137.57219\"/>\n    </g>\n    <g clip-path=\"url(#p4e36dfa7bb)\">\n     <use style=\"fill:#00008b;fill-opacity:0.2;\" x=\"666.704945\" xlink:href=\"#C1_0_57350fcbcb\" y=\"103.559962\"/>\n    </g>\n    <g clip-path=\"url(#p4e36dfa7bb)\">\n     <use style=\"fill:#00008b;fill-opacity:0.2;\" x=\"666.704945\" xlink:href=\"#C1_0_57350fcbcb\" y=\"108.79612\"/>\n    </g>\n    <g clip-path=\"url(#p4e36dfa7bb)\">\n     <use style=\"fill:#00008b;fill-opacity:0.2;\" x=\"665.444953\" xlink:href=\"#C1_0_57350fcbcb\" y=\"108.272288\"/>\n    </g>\n    <g clip-path=\"url(#p4e36dfa7bb)\">\n     <use style=\"fill:#00008b;fill-opacity:0.2;\" x=\"660.404986\" xlink:href=\"#C1_0_57350fcbcb\" y=\"131.738816\"/>\n    </g>\n    <g clip-path=\"url(#p4e36dfa7bb)\">\n     <use style=\"fill:#00008b;fill-opacity:0.2;\" x=\"659.144994\" xlink:href=\"#C1_0_57350fcbcb\" y=\"129.665793\"/>\n    </g>\n    <g clip-path=\"url(#p4e36dfa7bb)\">\n     <use style=\"fill:#00008b;fill-opacity:0.2;\" x=\"657.885002\" xlink:href=\"#C1_0_57350fcbcb\" y=\"107.986709\"/>\n    </g>\n    <g clip-path=\"url(#p4e36dfa7bb)\">\n     <use style=\"fill:#00008b;fill-opacity:0.2;\" x=\"654.987021\" xlink:href=\"#C1_0_57350fcbcb\" y=\"129.733803\"/>\n    </g>\n    <g clip-path=\"url(#p4e36dfa7bb)\">\n     <use style=\"fill:#00008b;fill-opacity:0.2;\" x=\"652.845035\" xlink:href=\"#C1_0_57350fcbcb\" y=\"108.2539\"/>\n    </g>\n    <g clip-path=\"url(#p4e36dfa7bb)\">\n     <use style=\"fill:#00008b;fill-opacity:0.2;\" x=\"651.96304\" xlink:href=\"#C1_0_57350fcbcb\" y=\"115.867452\"/>\n    </g>\n    <g clip-path=\"url(#p4e36dfa7bb)\">\n     <use style=\"fill:#00008b;fill-opacity:0.2;\" x=\"651.585043\" xlink:href=\"#C1_0_57350fcbcb\" y=\"107.65025\"/>\n    </g>\n    <g clip-path=\"url(#p4e36dfa7bb)\">\n     <use style=\"fill:#00008b;fill-opacity:0.2;\" x=\"648.435063\" xlink:href=\"#C1_0_57350fcbcb\" y=\"106.762247\"/>\n    </g>\n    <g clip-path=\"url(#p4e36dfa7bb)\">\n     <use style=\"fill:#00008b;fill-opacity:0.2;\" x=\"648.435063\" xlink:href=\"#C1_0_57350fcbcb\" y=\"134.698798\"/>\n    </g>\n    <g clip-path=\"url(#p4e36dfa7bb)\">\n     <use style=\"fill:#00008b;fill-opacity:0.2;\" x=\"647.805067\" xlink:href=\"#C1_0_57350fcbcb\" y=\"108.517466\"/>\n    </g>\n    <g clip-path=\"url(#p4e36dfa7bb)\">\n     <use style=\"fill:#00008b;fill-opacity:0.2;\" x=\"647.805067\" xlink:href=\"#C1_0_57350fcbcb\" y=\"124.828592\"/>\n    </g>\n    <g clip-path=\"url(#p4e36dfa7bb)\">\n     <use style=\"fill:#00008b;fill-opacity:0.2;\" x=\"645.663081\" xlink:href=\"#C1_0_57350fcbcb\" y=\"116.654354\"/>\n    </g>\n    <g clip-path=\"url(#p4e36dfa7bb)\">\n     <use style=\"fill:#00008b;fill-opacity:0.2;\" x=\"644.655087\" xlink:href=\"#C1_0_57350fcbcb\" y=\"120.122498\"/>\n    </g>\n    <g clip-path=\"url(#p4e36dfa7bb)\">\n     <use style=\"fill:#00008b;fill-opacity:0.2;\" x=\"641.20208\" xlink:href=\"#C1_0_57350fcbcb\" y=\"126.442151\"/>\n    </g>\n    <g clip-path=\"url(#p4e36dfa7bb)\">\n     <use style=\"fill:#00008b;fill-opacity:0.2;\" x=\"640.875112\" xlink:href=\"#C1_0_57350fcbcb\" y=\"112.770964\"/>\n    </g>\n    <g clip-path=\"url(#p4e36dfa7bb)\">\n     <use style=\"fill:#00008b;fill-opacity:0.2;\" x=\"640.749113\" xlink:href=\"#C1_0_57350fcbcb\" y=\"117.671634\"/>\n    </g>\n    <g clip-path=\"url(#p4e36dfa7bb)\">\n     <use style=\"fill:#00008b;fill-opacity:0.2;\" x=\"640.749113\" xlink:href=\"#C1_0_57350fcbcb\" y=\"114.29884\"/>\n    </g>\n    <g clip-path=\"url(#p4e36dfa7bb)\">\n     <use style=\"fill:#00008b;fill-opacity:0.2;\" x=\"640.320715\" xlink:href=\"#C1_0_57350fcbcb\" y=\"108.556799\"/>\n    </g>\n    <g clip-path=\"url(#p4e36dfa7bb)\">\n     <use style=\"fill:#00008b;fill-opacity:0.2;\" x=\"640.119117\" xlink:href=\"#C1_0_57350fcbcb\" y=\"127.332976\"/>\n    </g>\n    <g clip-path=\"url(#p4e36dfa7bb)\">\n     <use style=\"fill:#00008b;fill-opacity:0.2;\" x=\"639.993117\" xlink:href=\"#C1_0_57350fcbcb\" y=\"139.702619\"/>\n    </g>\n    <g clip-path=\"url(#p4e36dfa7bb)\">\n     <use style=\"fill:#00008b;fill-opacity:0.2;\" x=\"639.993117\" xlink:href=\"#C1_0_57350fcbcb\" y=\"126.410192\"/>\n    </g>\n    <g clip-path=\"url(#p4e36dfa7bb)\">\n     <use style=\"fill:#00008b;fill-opacity:0.2;\" x=\"639.993117\" xlink:href=\"#C1_0_57350fcbcb\" y=\"108.340536\"/>\n    </g>\n    <g clip-path=\"url(#p4e36dfa7bb)\">\n     <use style=\"fill:#00008b;fill-opacity:0.2;\" x=\"639.867118\" xlink:href=\"#C1_0_57350fcbcb\" y=\"113.409562\"/>\n    </g>\n    <g clip-path=\"url(#p4e36dfa7bb)\">\n     <use style=\"fill:#00008b;fill-opacity:0.2;\" x=\"639.489121\" xlink:href=\"#C1_0_57350fcbcb\" y=\"106.808268\"/>\n    </g>\n    <g clip-path=\"url(#p4e36dfa7bb)\">\n     <use style=\"fill:#00008b;fill-opacity:0.2;\" x=\"639.388321\" xlink:href=\"#C1_0_57350fcbcb\" y=\"130.306801\"/>\n    </g>\n    <g clip-path=\"url(#p4e36dfa7bb)\">\n     <use style=\"fill:#00008b;fill-opacity:0.2;\" x=\"639.305162\" xlink:href=\"#C1_0_57350fcbcb\" y=\"126.786514\"/>\n    </g>\n    <g clip-path=\"url(#p4e36dfa7bb)\">\n     <use style=\"fill:#00008b;fill-opacity:0.2;\" x=\"639.300122\" xlink:href=\"#C1_0_57350fcbcb\" y=\"138.108476\"/>\n    </g>\n    <g clip-path=\"url(#p4e36dfa7bb)\">\n     <use style=\"fill:#00008b;fill-opacity:0.2;\" x=\"639.300122\" xlink:href=\"#C1_0_57350fcbcb\" y=\"115.231474\"/>\n    </g>\n    <g clip-path=\"url(#p4e36dfa7bb)\">\n     <use style=\"fill:#00008b;fill-opacity:0.2;\" x=\"639.237122\" xlink:href=\"#C1_0_57350fcbcb\" y=\"120.895184\"/>\n    </g>\n    <g clip-path=\"url(#p4e36dfa7bb)\">\n     <use style=\"fill:#00008b;fill-opacity:0.2;\" x=\"639.237122\" xlink:href=\"#C1_0_57350fcbcb\" y=\"124.472961\"/>\n    </g>\n    <g clip-path=\"url(#p4e36dfa7bb)\">\n     <use style=\"fill:#00008b;fill-opacity:0.2;\" x=\"639.174123\" xlink:href=\"#C1_0_57350fcbcb\" y=\"138.70485\"/>\n    </g>\n    <g clip-path=\"url(#p4e36dfa7bb)\">\n     <use style=\"fill:#00008b;fill-opacity:0.2;\" x=\"639.161523\" xlink:href=\"#C1_0_57350fcbcb\" y=\"120.701887\"/>\n    </g>\n    <g clip-path=\"url(#p4e36dfa7bb)\">\n     <use style=\"fill:#00008b;fill-opacity:0.2;\" x=\"639.141615\" xlink:href=\"#C1_0_57350fcbcb\" y=\"127.096597\"/>\n    </g>\n    <g clip-path=\"url(#p4e36dfa7bb)\">\n     <use style=\"fill:#00008b;fill-opacity:0.2;\" x=\"639.111123\" xlink:href=\"#C1_0_57350fcbcb\" y=\"125.067302\"/>\n    </g>\n    <g clip-path=\"url(#p4e36dfa7bb)\">\n     <use style=\"fill:#00008b;fill-opacity:0.2;\" x=\"639.108603\" xlink:href=\"#C1_0_57350fcbcb\" y=\"114.362206\"/>\n    </g>\n    <g clip-path=\"url(#p4e36dfa7bb)\">\n     <use style=\"fill:#00008b;fill-opacity:0.2;\" x=\"639.085923\" xlink:href=\"#C1_0_57350fcbcb\" y=\"108.086199\"/>\n    </g>\n    <g clip-path=\"url(#p4e36dfa7bb)\">\n     <use style=\"fill:#00008b;fill-opacity:0.2;\" x=\"639.060723\" xlink:href=\"#C1_0_57350fcbcb\" y=\"111.882292\"/>\n    </g>\n    <g clip-path=\"url(#p4e36dfa7bb)\">\n     <use style=\"fill:#00008b;fill-opacity:0.2;\" x=\"639.010324\" xlink:href=\"#C1_0_57350fcbcb\" y=\"128.047328\"/>\n    </g>\n    <g clip-path=\"url(#p4e36dfa7bb)\">\n     <use style=\"fill:#00008b;fill-opacity:0.2;\" x=\"639.010324\" xlink:href=\"#C1_0_57350fcbcb\" y=\"122.100021\"/>\n    </g>\n    <g clip-path=\"url(#p4e36dfa7bb)\">\n     <use style=\"fill:#00008b;fill-opacity:0.2;\" x=\"639.010324\" xlink:href=\"#C1_0_57350fcbcb\" y=\"101.944903\"/>\n    </g>\n    <g clip-path=\"url(#p4e36dfa7bb)\">\n     <use style=\"fill:#00008b;fill-opacity:0.2;\" x=\"638.985124\" xlink:href=\"#C1_0_57350fcbcb\" y=\"118.600102\"/>\n    </g>\n    <g clip-path=\"url(#p4e36dfa7bb)\">\n     <use style=\"fill:#00008b;fill-opacity:0.2;\" x=\"638.985124\" xlink:href=\"#C1_0_57350fcbcb\" y=\"125.880176\"/>\n    </g>\n    <g clip-path=\"url(#p4e36dfa7bb)\">\n     <use style=\"fill:#00008b;fill-opacity:0.2;\" x=\"638.985124\" xlink:href=\"#C1_0_57350fcbcb\" y=\"126.487001\"/>\n    </g>\n   </g>\n   <g id=\"text_19\">\n    <!-- SAMPLE - MLB players salaries - Random Sample -->\n    <g style=\"fill:#262626;\" transform=\"translate(722.873011 16.318125)scale(0.12 -0.12)\">\n     <use xlink:href=\"#DejaVuSans-53\"/>\n     <use x=\"65.351562\" xlink:href=\"#DejaVuSans-41\"/>\n     <use x=\"133.759766\" xlink:href=\"#DejaVuSans-4d\"/>\n     <use x=\"220.039062\" xlink:href=\"#DejaVuSans-50\"/>\n     <use x=\"280.341797\" xlink:href=\"#DejaVuSans-4c\"/>\n     <use x=\"336.054688\" xlink:href=\"#DejaVuSans-45\"/>\n     <use x=\"399.238281\" xlink:href=\"#DejaVuSans-20\"/>\n     <use x=\"431.025391\" xlink:href=\"#DejaVuSans-2d\"/>\n     <use x=\"467.109375\" xlink:href=\"#DejaVuSans-20\"/>\n     <use x=\"498.896484\" xlink:href=\"#DejaVuSans-4d\"/>\n     <use x=\"585.175781\" xlink:href=\"#DejaVuSans-4c\"/>\n     <use x=\"640.888672\" xlink:href=\"#DejaVuSans-42\"/>\n     <use x=\"709.492188\" xlink:href=\"#DejaVuSans-20\"/>\n     <use x=\"741.279297\" xlink:href=\"#DejaVuSans-70\"/>\n     <use x=\"804.755859\" xlink:href=\"#DejaVuSans-6c\"/>\n     <use x=\"832.539062\" xlink:href=\"#DejaVuSans-61\"/>\n     <use x=\"893.818359\" xlink:href=\"#DejaVuSans-79\"/>\n     <use x=\"952.998047\" xlink:href=\"#DejaVuSans-65\"/>\n     <use x=\"1014.521484\" xlink:href=\"#DejaVuSans-72\"/>\n     <use x=\"1055.634766\" xlink:href=\"#DejaVuSans-73\"/>\n     <use x=\"1107.734375\" xlink:href=\"#DejaVuSans-20\"/>\n     <use x=\"1139.521484\" xlink:href=\"#DejaVuSans-73\"/>\n     <use x=\"1191.621094\" xlink:href=\"#DejaVuSans-61\"/>\n     <use x=\"1252.900391\" xlink:href=\"#DejaVuSans-6c\"/>\n     <use x=\"1280.683594\" xlink:href=\"#DejaVuSans-61\"/>\n     <use x=\"1341.962891\" xlink:href=\"#DejaVuSans-72\"/>\n     <use x=\"1383.076172\" xlink:href=\"#DejaVuSans-69\"/>\n     <use x=\"1410.859375\" xlink:href=\"#DejaVuSans-65\"/>\n     <use x=\"1472.382812\" xlink:href=\"#DejaVuSans-73\"/>\n     <use x=\"1524.482422\" xlink:href=\"#DejaVuSans-20\"/>\n     <use x=\"1556.269531\" xlink:href=\"#DejaVuSans-2d\"/>\n     <use x=\"1592.353516\" xlink:href=\"#DejaVuSans-20\"/>\n     <use x=\"1624.140625\" xlink:href=\"#DejaVuSans-52\"/>\n     <use x=\"1691.373047\" xlink:href=\"#DejaVuSans-61\"/>\n     <use x=\"1752.652344\" xlink:href=\"#DejaVuSans-6e\"/>\n     <use x=\"1816.03125\" xlink:href=\"#DejaVuSans-64\"/>\n     <use x=\"1879.507812\" xlink:href=\"#DejaVuSans-6f\"/>\n     <use x=\"1940.689453\" xlink:href=\"#DejaVuSans-6d\"/>\n     <use x=\"2038.101562\" xlink:href=\"#DejaVuSans-20\"/>\n     <use x=\"2069.888672\" xlink:href=\"#DejaVuSans-53\"/>\n     <use x=\"2133.365234\" xlink:href=\"#DejaVuSans-61\"/>\n     <use x=\"2194.644531\" xlink:href=\"#DejaVuSans-6d\"/>\n     <use x=\"2292.056641\" xlink:href=\"#DejaVuSans-70\"/>\n     <use x=\"2355.533203\" xlink:href=\"#DejaVuSans-6c\"/>\n     <use x=\"2383.316406\" xlink:href=\"#DejaVuSans-65\"/>\n    </g>\n   </g>\n  </g>\n  <g id=\"axes_3\">\n   <g id=\"patch_14\">\n    <path d=\"M 7.2 457.198125 \nL 514.472727 457.198125 \nL 514.472727 259.525398 \nL 7.2 259.525398 \nz\n\" style=\"fill:#ffffff;\"/>\n   </g>\n   <g id=\"matplotlib.axis_5\">\n    <g id=\"xtick_16\">\n     <g id=\"line2d_28\">\n      <path clip-path=\"url(#p2ed085b767)\" d=\"M 20.340496 457.198125 \nL 20.340496 259.525398 \n\" style=\"fill:none;stroke:#cccccc;stroke-linecap:round;\"/>\n     </g>\n     <g id=\"text_20\">\n      <!-- 0 -->\n      <g style=\"fill:#262626;\" transform=\"translate(16.841121 475.056406)scale(0.11 -0.11)\">\n       <use xlink:href=\"#DejaVuSans-30\"/>\n      </g>\n     </g>\n    </g>\n    <g id=\"xtick_17\">\n     <g id=\"line2d_29\">\n      <path clip-path=\"url(#p2ed085b767)\" d=\"M 82.323967 457.198125 \nL 82.323967 259.525398 \n\" style=\"fill:none;stroke:#cccccc;stroke-linecap:round;\"/>\n     </g>\n     <g id=\"text_21\">\n      <!-- 2500 -->\n      <g style=\"fill:#262626;\" transform=\"translate(68.326467 475.056406)scale(0.11 -0.11)\">\n       <use xlink:href=\"#DejaVuSans-32\"/>\n       <use x=\"63.623047\" xlink:href=\"#DejaVuSans-35\"/>\n       <use x=\"127.246094\" xlink:href=\"#DejaVuSans-30\"/>\n       <use x=\"190.869141\" xlink:href=\"#DejaVuSans-30\"/>\n      </g>\n     </g>\n    </g>\n    <g id=\"xtick_18\">\n     <g id=\"line2d_30\">\n      <path clip-path=\"url(#p2ed085b767)\" d=\"M 144.307438 457.198125 \nL 144.307438 259.525398 \n\" style=\"fill:none;stroke:#cccccc;stroke-linecap:round;\"/>\n     </g>\n     <g id=\"text_22\">\n      <!-- 5000 -->\n      <g style=\"fill:#262626;\" transform=\"translate(130.309938 475.056406)scale(0.11 -0.11)\">\n       <use xlink:href=\"#DejaVuSans-35\"/>\n       <use x=\"63.623047\" xlink:href=\"#DejaVuSans-30\"/>\n       <use x=\"127.246094\" xlink:href=\"#DejaVuSans-30\"/>\n       <use x=\"190.869141\" xlink:href=\"#DejaVuSans-30\"/>\n      </g>\n     </g>\n    </g>\n    <g id=\"xtick_19\">\n     <g id=\"line2d_31\">\n      <path clip-path=\"url(#p2ed085b767)\" d=\"M 206.290909 457.198125 \nL 206.290909 259.525398 \n\" style=\"fill:none;stroke:#cccccc;stroke-linecap:round;\"/>\n     </g>\n     <g id=\"text_23\">\n      <!-- 7500 -->\n      <g style=\"fill:#262626;\" transform=\"translate(192.293409 475.056406)scale(0.11 -0.11)\">\n       <use xlink:href=\"#DejaVuSans-37\"/>\n       <use x=\"63.623047\" xlink:href=\"#DejaVuSans-35\"/>\n       <use x=\"127.246094\" xlink:href=\"#DejaVuSans-30\"/>\n       <use x=\"190.869141\" xlink:href=\"#DejaVuSans-30\"/>\n      </g>\n     </g>\n    </g>\n    <g id=\"xtick_20\">\n     <g id=\"line2d_32\">\n      <path clip-path=\"url(#p2ed085b767)\" d=\"M 268.27438 457.198125 \nL 268.27438 259.525398 \n\" style=\"fill:none;stroke:#cccccc;stroke-linecap:round;\"/>\n     </g>\n     <g id=\"text_24\">\n      <!-- 10000 -->\n      <g style=\"fill:#262626;\" transform=\"translate(250.777505 475.056406)scale(0.11 -0.11)\">\n       <use xlink:href=\"#DejaVuSans-31\"/>\n       <use x=\"63.623047\" xlink:href=\"#DejaVuSans-30\"/>\n       <use x=\"127.246094\" xlink:href=\"#DejaVuSans-30\"/>\n       <use x=\"190.869141\" xlink:href=\"#DejaVuSans-30\"/>\n       <use x=\"254.492188\" xlink:href=\"#DejaVuSans-30\"/>\n      </g>\n     </g>\n    </g>\n    <g id=\"xtick_21\">\n     <g id=\"line2d_33\">\n      <path clip-path=\"url(#p2ed085b767)\" d=\"M 330.257851 457.198125 \nL 330.257851 259.525398 \n\" style=\"fill:none;stroke:#cccccc;stroke-linecap:round;\"/>\n     </g>\n     <g id=\"text_25\">\n      <!-- 12500 -->\n      <g style=\"fill:#262626;\" transform=\"translate(312.760976 475.056406)scale(0.11 -0.11)\">\n       <use xlink:href=\"#DejaVuSans-31\"/>\n       <use x=\"63.623047\" xlink:href=\"#DejaVuSans-32\"/>\n       <use x=\"127.246094\" xlink:href=\"#DejaVuSans-35\"/>\n       <use x=\"190.869141\" xlink:href=\"#DejaVuSans-30\"/>\n       <use x=\"254.492188\" xlink:href=\"#DejaVuSans-30\"/>\n      </g>\n     </g>\n    </g>\n    <g id=\"xtick_22\">\n     <g id=\"line2d_34\">\n      <path clip-path=\"url(#p2ed085b767)\" d=\"M 392.241322 457.198125 \nL 392.241322 259.525398 \n\" style=\"fill:none;stroke:#cccccc;stroke-linecap:round;\"/>\n     </g>\n     <g id=\"text_26\">\n      <!-- 15000 -->\n      <g style=\"fill:#262626;\" transform=\"translate(374.744447 475.056406)scale(0.11 -0.11)\">\n       <use xlink:href=\"#DejaVuSans-31\"/>\n       <use x=\"63.623047\" xlink:href=\"#DejaVuSans-35\"/>\n       <use x=\"127.246094\" xlink:href=\"#DejaVuSans-30\"/>\n       <use x=\"190.869141\" xlink:href=\"#DejaVuSans-30\"/>\n       <use x=\"254.492188\" xlink:href=\"#DejaVuSans-30\"/>\n      </g>\n     </g>\n    </g>\n    <g id=\"xtick_23\">\n     <g id=\"line2d_35\">\n      <path clip-path=\"url(#p2ed085b767)\" d=\"M 454.224793 457.198125 \nL 454.224793 259.525398 \n\" style=\"fill:none;stroke:#cccccc;stroke-linecap:round;\"/>\n     </g>\n     <g id=\"text_27\">\n      <!-- 17500 -->\n      <g style=\"fill:#262626;\" transform=\"translate(436.727918 475.056406)scale(0.11 -0.11)\">\n       <use xlink:href=\"#DejaVuSans-31\"/>\n       <use x=\"63.623047\" xlink:href=\"#DejaVuSans-37\"/>\n       <use x=\"127.246094\" xlink:href=\"#DejaVuSans-35\"/>\n       <use x=\"190.869141\" xlink:href=\"#DejaVuSans-30\"/>\n       <use x=\"254.492188\" xlink:href=\"#DejaVuSans-30\"/>\n      </g>\n     </g>\n    </g>\n    <g id=\"text_28\">\n     <!-- Systematic - Salary (millions of dollars) - Systematic Sample k=83 -->\n     <g style=\"fill:#262626;\" transform=\"translate(61.463864 490.462187)scale(0.12 -0.12)\">\n      <defs>\n       <path d=\"M 1172 4494 \nL 1172 3500 \nL 2356 3500 \nL 2356 3053 \nL 1172 3053 \nL 1172 1153 \nQ 1172 725 1289 603 \nQ 1406 481 1766 481 \nL 2356 481 \nL 2356 0 \nL 1766 0 \nQ 1100 0 847 248 \nQ 594 497 594 1153 \nL 594 3053 \nL 172 3053 \nL 172 3500 \nL 594 3500 \nL 594 4494 \nL 1172 4494 \nz\n\" id=\"DejaVuSans-74\" transform=\"scale(0.015625)\"/>\n       <path d=\"M 3122 3366 \nL 3122 2828 \nQ 2878 2963 2633 3030 \nQ 2388 3097 2138 3097 \nQ 1578 3097 1268 2742 \nQ 959 2388 959 1747 \nQ 959 1106 1268 751 \nQ 1578 397 2138 397 \nQ 2388 397 2633 464 \nQ 2878 531 3122 666 \nL 3122 134 \nQ 2881 22 2623 -34 \nQ 2366 -91 2075 -91 \nQ 1284 -91 818 406 \nQ 353 903 353 1747 \nQ 353 2603 823 3093 \nQ 1294 3584 2113 3584 \nQ 2378 3584 2631 3529 \nQ 2884 3475 3122 3366 \nz\n\" id=\"DejaVuSans-63\" transform=\"scale(0.015625)\"/>\n      </defs>\n      <use xlink:href=\"#DejaVuSans-53\"/>\n      <use x=\"63.476562\" xlink:href=\"#DejaVuSans-79\"/>\n      <use x=\"122.65625\" xlink:href=\"#DejaVuSans-73\"/>\n      <use x=\"174.755859\" xlink:href=\"#DejaVuSans-74\"/>\n      <use x=\"213.964844\" xlink:href=\"#DejaVuSans-65\"/>\n      <use x=\"275.488281\" xlink:href=\"#DejaVuSans-6d\"/>\n      <use x=\"372.900391\" xlink:href=\"#DejaVuSans-61\"/>\n      <use x=\"434.179688\" xlink:href=\"#DejaVuSans-74\"/>\n      <use x=\"473.388672\" xlink:href=\"#DejaVuSans-69\"/>\n      <use x=\"501.171875\" xlink:href=\"#DejaVuSans-63\"/>\n      <use x=\"556.152344\" xlink:href=\"#DejaVuSans-20\"/>\n      <use x=\"587.939453\" xlink:href=\"#DejaVuSans-2d\"/>\n      <use x=\"624.023438\" xlink:href=\"#DejaVuSans-20\"/>\n      <use x=\"655.810547\" xlink:href=\"#DejaVuSans-53\"/>\n      <use x=\"719.287109\" xlink:href=\"#DejaVuSans-61\"/>\n      <use x=\"780.566406\" xlink:href=\"#DejaVuSans-6c\"/>\n      <use x=\"808.349609\" xlink:href=\"#DejaVuSans-61\"/>\n      <use x=\"869.628906\" xlink:href=\"#DejaVuSans-72\"/>\n      <use x=\"910.742188\" xlink:href=\"#DejaVuSans-79\"/>\n      <use x=\"969.921875\" xlink:href=\"#DejaVuSans-20\"/>\n      <use x=\"1001.708984\" xlink:href=\"#DejaVuSans-28\"/>\n      <use x=\"1040.722656\" xlink:href=\"#DejaVuSans-6d\"/>\n      <use x=\"1138.134766\" xlink:href=\"#DejaVuSans-69\"/>\n      <use x=\"1165.917969\" xlink:href=\"#DejaVuSans-6c\"/>\n      <use x=\"1193.701172\" xlink:href=\"#DejaVuSans-6c\"/>\n      <use x=\"1221.484375\" xlink:href=\"#DejaVuSans-69\"/>\n      <use x=\"1249.267578\" xlink:href=\"#DejaVuSans-6f\"/>\n      <use x=\"1310.449219\" xlink:href=\"#DejaVuSans-6e\"/>\n      <use x=\"1373.828125\" xlink:href=\"#DejaVuSans-73\"/>\n      <use x=\"1425.927734\" xlink:href=\"#DejaVuSans-20\"/>\n      <use x=\"1457.714844\" xlink:href=\"#DejaVuSans-6f\"/>\n      <use x=\"1518.896484\" xlink:href=\"#DejaVuSans-66\"/>\n      <use x=\"1554.101562\" xlink:href=\"#DejaVuSans-20\"/>\n      <use x=\"1585.888672\" xlink:href=\"#DejaVuSans-64\"/>\n      <use x=\"1649.365234\" xlink:href=\"#DejaVuSans-6f\"/>\n      <use x=\"1710.546875\" xlink:href=\"#DejaVuSans-6c\"/>\n      <use x=\"1738.330078\" xlink:href=\"#DejaVuSans-6c\"/>\n      <use x=\"1766.113281\" xlink:href=\"#DejaVuSans-61\"/>\n      <use x=\"1827.392578\" xlink:href=\"#DejaVuSans-72\"/>\n      <use x=\"1868.505859\" xlink:href=\"#DejaVuSans-73\"/>\n      <use x=\"1920.605469\" xlink:href=\"#DejaVuSans-29\"/>\n      <use x=\"1959.619141\" xlink:href=\"#DejaVuSans-20\"/>\n      <use x=\"1991.40625\" xlink:href=\"#DejaVuSans-2d\"/>\n      <use x=\"2027.490234\" xlink:href=\"#DejaVuSans-20\"/>\n      <use x=\"2059.277344\" xlink:href=\"#DejaVuSans-53\"/>\n      <use x=\"2122.753906\" xlink:href=\"#DejaVuSans-79\"/>\n      <use x=\"2181.933594\" xlink:href=\"#DejaVuSans-73\"/>\n      <use x=\"2234.033203\" xlink:href=\"#DejaVuSans-74\"/>\n      <use x=\"2273.242188\" xlink:href=\"#DejaVuSans-65\"/>\n      <use x=\"2334.765625\" xlink:href=\"#DejaVuSans-6d\"/>\n      <use x=\"2432.177734\" xlink:href=\"#DejaVuSans-61\"/>\n      <use x=\"2493.457031\" xlink:href=\"#DejaVuSans-74\"/>\n      <use x=\"2532.666016\" xlink:href=\"#DejaVuSans-69\"/>\n      <use x=\"2560.449219\" xlink:href=\"#DejaVuSans-63\"/>\n      <use x=\"2615.429688\" xlink:href=\"#DejaVuSans-20\"/>\n      <use x=\"2647.216797\" xlink:href=\"#DejaVuSans-53\"/>\n      <use x=\"2710.693359\" xlink:href=\"#DejaVuSans-61\"/>\n      <use x=\"2771.972656\" xlink:href=\"#DejaVuSans-6d\"/>\n      <use x=\"2869.384766\" xlink:href=\"#DejaVuSans-70\"/>\n      <use x=\"2932.861328\" xlink:href=\"#DejaVuSans-6c\"/>\n      <use x=\"2960.644531\" xlink:href=\"#DejaVuSans-65\"/>\n      <use x=\"3022.167969\" xlink:href=\"#DejaVuSans-20\"/>\n      <use x=\"3053.955078\" xlink:href=\"#DejaVuSans-6b\"/>\n      <use x=\"3111.865234\" xlink:href=\"#DejaVuSans-3d\"/>\n      <use x=\"3195.654297\" xlink:href=\"#DejaVuSans-38\"/>\n      <use x=\"3259.277344\" xlink:href=\"#DejaVuSans-33\"/>\n     </g>\n    </g>\n   </g>\n   <g id=\"matplotlib.axis_6\">\n    <g id=\"ytick_3\"/>\n   </g>\n   <g id=\"patch_15\">\n    <path clip-path=\"url(#p2ed085b767)\" d=\"M 30.726446 328.710852 \nL 30.726446 388.01267 \nL 30.316815 388.01267 \nL 51.332231 373.187216 \nL 72.347648 388.01267 \nL 152.675207 388.01267 \nL 152.675207 328.710852 \nL 72.347648 328.710852 \nL 51.332231 343.536307 \nL 30.316815 328.710852 \nL 30.726446 328.710852 \nz\n\" style=\"fill:#b4d4df;stroke:#797979;stroke-linejoin:miter;\"/>\n   </g>\n   <g id=\"line2d_36\">\n    <path clip-path=\"url(#p2ed085b767)\" d=\"M 30.726446 358.361761 \nL 30.257851 358.361761 \n\" style=\"fill:none;stroke:#797979;stroke-linecap:round;\"/>\n   </g>\n   <g id=\"line2d_37\">\n    <path clip-path=\"url(#p2ed085b767)\" d=\"M 152.675207 358.361761 \nL 302.985124 358.361761 \n\" style=\"fill:none;stroke:#797979;stroke-linecap:round;\"/>\n   </g>\n   <g id=\"line2d_38\">\n    <path clip-path=\"url(#p2ed085b767)\" d=\"M 30.257851 343.536307 \nL 30.257851 373.187216 \n\" style=\"fill:none;stroke:#797979;stroke-linecap:round;\"/>\n   </g>\n   <g id=\"line2d_39\">\n    <path clip-path=\"url(#p2ed085b767)\" d=\"M 302.985124 343.536307 \nL 302.985124 373.187216 \n\" style=\"fill:none;stroke:#797979;stroke-linecap:round;\"/>\n   </g>\n   <g id=\"line2d_40\">\n    <g clip-path=\"url(#p2ed085b767)\">\n     <use style=\"fill:#797979;stroke:#797979;stroke-linejoin:miter;\" x=\"491.414876\" xlink:href=\"#m77a66c6bf8\" y=\"358.361761\"/>\n     <use style=\"fill:#797979;stroke:#797979;stroke-linejoin:miter;\" x=\"435.629752\" xlink:href=\"#m77a66c6bf8\" y=\"358.361761\"/>\n     <use style=\"fill:#797979;stroke:#797979;stroke-linejoin:miter;\" x=\"379.844628\" xlink:href=\"#m77a66c6bf8\" y=\"358.361761\"/>\n     <use style=\"fill:#797979;stroke:#797979;stroke-linejoin:miter;\" x=\"367.447934\" xlink:href=\"#m77a66c6bf8\" y=\"358.361761\"/>\n     <use style=\"fill:#797979;stroke:#797979;stroke-linejoin:miter;\" x=\"345.133884\" xlink:href=\"#m77a66c6bf8\" y=\"358.361761\"/>\n    </g>\n   </g>\n   <g id=\"line2d_41\">\n    <path clip-path=\"url(#p2ed085b767)\" d=\"M 51.332231 343.536307 \nL 51.332231 373.187216 \n\" style=\"fill:none;stroke:#797979;stroke-linecap:round;\"/>\n   </g>\n   <g id=\"patch_16\">\n    <path d=\"M 7.2 457.198125 \nL 7.2 259.525398 \n\" style=\"fill:none;stroke:#cccccc;stroke-linecap:square;stroke-linejoin:miter;stroke-width:1.25;\"/>\n   </g>\n   <g id=\"patch_17\">\n    <path d=\"M 514.472727 457.198125 \nL 514.472727 259.525398 \n\" style=\"fill:none;stroke:#cccccc;stroke-linecap:square;stroke-linejoin:miter;stroke-width:1.25;\"/>\n   </g>\n   <g id=\"patch_18\">\n    <path d=\"M 7.2 457.198125 \nL 514.472727 457.198125 \n\" style=\"fill:none;stroke:#cccccc;stroke-linecap:square;stroke-linejoin:miter;stroke-width:1.25;\"/>\n   </g>\n   <g id=\"patch_19\">\n    <path d=\"M 7.2 259.525398 \nL 514.472727 259.525398 \n\" style=\"fill:none;stroke:#cccccc;stroke-linecap:square;stroke-linejoin:miter;stroke-width:1.25;\"/>\n   </g>\n   <g id=\"PathCollection_3\">\n    <defs>\n     <path d=\"M 0 2.5 \nC 0.663008 2.5 1.29895 2.236584 1.767767 1.767767 \nC 2.236584 1.29895 2.5 0.663008 2.5 -0 \nC 2.5 -0.663008 2.236584 -1.29895 1.767767 -1.767767 \nC 1.29895 -2.236584 0.663008 -2.5 0 -2.5 \nC -0.663008 -2.5 -1.29895 -2.236584 -1.767767 -1.767767 \nC -2.236584 -1.29895 -2.5 -0.663008 -2.5 0 \nC -2.5 0.663008 -2.236584 1.29895 -1.767767 1.767767 \nC -1.29895 2.236584 -0.663008 2.5 0 2.5 \nz\n\" id=\"C2_0_e8f60ee24d\"/>\n    </defs>\n    <g clip-path=\"url(#p2ed085b767)\">\n     <use style=\"fill:#00008b;fill-opacity:0.2;\" x=\"491.414876\" xlink:href=\"#C2_0_e8f60ee24d\" y=\"367.021906\"/>\n    </g>\n    <g clip-path=\"url(#p2ed085b767)\">\n     <use style=\"fill:#00008b;fill-opacity:0.2;\" x=\"435.629752\" xlink:href=\"#C2_0_e8f60ee24d\" y=\"360.824253\"/>\n    </g>\n    <g clip-path=\"url(#p2ed085b767)\">\n     <use style=\"fill:#00008b;fill-opacity:0.2;\" x=\"379.844628\" xlink:href=\"#C2_0_e8f60ee24d\" y=\"340.888003\"/>\n    </g>\n    <g clip-path=\"url(#p2ed085b767)\">\n     <use style=\"fill:#00008b;fill-opacity:0.2;\" x=\"367.447934\" xlink:href=\"#C2_0_e8f60ee24d\" y=\"353.806272\"/>\n    </g>\n    <g clip-path=\"url(#p2ed085b767)\">\n     <use style=\"fill:#00008b;fill-opacity:0.2;\" x=\"345.133884\" xlink:href=\"#C2_0_e8f60ee24d\" y=\"342.983641\"/>\n    </g>\n    <g clip-path=\"url(#p2ed085b767)\">\n     <use style=\"fill:#00008b;fill-opacity:0.2;\" x=\"302.985124\" xlink:href=\"#C2_0_e8f60ee24d\" y=\"344.089635\"/>\n    </g>\n    <g clip-path=\"url(#p2ed085b767)\">\n     <use style=\"fill:#00008b;fill-opacity:0.2;\" x=\"299.266116\" xlink:href=\"#C2_0_e8f60ee24d\" y=\"344.391348\"/>\n    </g>\n    <g clip-path=\"url(#p2ed085b767)\">\n     <use style=\"fill:#00008b;fill-opacity:0.2;\" x=\"293.067769\" xlink:href=\"#C2_0_e8f60ee24d\" y=\"366.150649\"/>\n    </g>\n    <g clip-path=\"url(#p2ed085b767)\">\n     <use style=\"fill:#00008b;fill-opacity:0.2;\" x=\"293.067769\" xlink:href=\"#C2_0_e8f60ee24d\" y=\"353.840574\"/>\n    </g>\n    <g clip-path=\"url(#p2ed085b767)\">\n     <use style=\"fill:#00008b;fill-opacity:0.2;\" x=\"268.27438\" xlink:href=\"#C2_0_e8f60ee24d\" y=\"349.577191\"/>\n    </g>\n    <g clip-path=\"url(#p2ed085b767)\">\n     <use style=\"fill:#00008b;fill-opacity:0.2;\" x=\"248.129752\" xlink:href=\"#C2_0_e8f60ee24d\" y=\"356.70206\"/>\n    </g>\n    <g clip-path=\"url(#p2ed085b767)\">\n     <use style=\"fill:#00008b;fill-opacity:0.2;\" x=\"231.084298\" xlink:href=\"#C2_0_e8f60ee24d\" y=\"339.331139\"/>\n    </g>\n    <g clip-path=\"url(#p2ed085b767)\">\n     <use style=\"fill:#00008b;fill-opacity:0.2;\" x=\"211.249587\" xlink:href=\"#C2_0_e8f60ee24d\" y=\"355.498286\"/>\n    </g>\n    <g clip-path=\"url(#p2ed085b767)\">\n     <use style=\"fill:#00008b;fill-opacity:0.2;\" x=\"206.290909\" xlink:href=\"#C2_0_e8f60ee24d\" y=\"374.857966\"/>\n    </g>\n    <g clip-path=\"url(#p2ed085b767)\">\n     <use style=\"fill:#00008b;fill-opacity:0.2;\" x=\"193.894215\" xlink:href=\"#C2_0_e8f60ee24d\" y=\"370.378749\"/>\n    </g>\n    <g clip-path=\"url(#p2ed085b767)\">\n     <use style=\"fill:#00008b;fill-opacity:0.2;\" x=\"191.069058\" xlink:href=\"#C2_0_e8f60ee24d\" y=\"339.341149\"/>\n    </g>\n    <g clip-path=\"url(#p2ed085b767)\">\n     <use style=\"fill:#00008b;fill-opacity:0.2;\" x=\"187.695868\" xlink:href=\"#C2_0_e8f60ee24d\" y=\"358.894554\"/>\n    </g>\n    <g clip-path=\"url(#p2ed085b767)\">\n     <use style=\"fill:#00008b;fill-opacity:0.2;\" x=\"181.497521\" xlink:href=\"#C2_0_e8f60ee24d\" y=\"345.337279\"/>\n    </g>\n    <g clip-path=\"url(#p2ed085b767)\">\n     <use style=\"fill:#00008b;fill-opacity:0.2;\" x=\"163.315686\" xlink:href=\"#C2_0_e8f60ee24d\" y=\"349.813466\"/>\n    </g>\n    <g clip-path=\"url(#p2ed085b767)\">\n     <use style=\"fill:#00008b;fill-opacity:0.2;\" x=\"162.902479\" xlink:href=\"#C2_0_e8f60ee24d\" y=\"342.264341\"/>\n    </g>\n    <g clip-path=\"url(#p2ed085b767)\">\n     <use style=\"fill:#00008b;fill-opacity:0.2;\" x=\"156.704132\" xlink:href=\"#C2_0_e8f60ee24d\" y=\"351.50187\"/>\n    </g>\n    <g clip-path=\"url(#p2ed085b767)\">\n     <use style=\"fill:#00008b;fill-opacity:0.2;\" x=\"148.646281\" xlink:href=\"#C2_0_e8f60ee24d\" y=\"375.205694\"/>\n    </g>\n    <g clip-path=\"url(#p2ed085b767)\">\n     <use style=\"fill:#00008b;fill-opacity:0.2;\" x=\"144.307438\" xlink:href=\"#C2_0_e8f60ee24d\" y=\"377.730685\"/>\n    </g>\n    <g clip-path=\"url(#p2ed085b767)\">\n     <use style=\"fill:#00008b;fill-opacity:0.2;\" x=\"131.910744\" xlink:href=\"#C2_0_e8f60ee24d\" y=\"357.21925\"/>\n    </g>\n    <g clip-path=\"url(#p2ed085b767)\">\n     <use style=\"fill:#00008b;fill-opacity:0.2;\" x=\"126.952066\" xlink:href=\"#C2_0_e8f60ee24d\" y=\"345.151939\"/>\n    </g>\n    <g clip-path=\"url(#p2ed085b767)\">\n     <use style=\"fill:#00008b;fill-opacity:0.2;\" x=\"120.753719\" xlink:href=\"#C2_0_e8f60ee24d\" y=\"348.935563\"/>\n    </g>\n    <g clip-path=\"url(#p2ed085b767)\">\n     <use style=\"fill:#00008b;fill-opacity:0.2;\" x=\"119.51405\" xlink:href=\"#C2_0_e8f60ee24d\" y=\"364.393537\"/>\n    </g>\n    <g clip-path=\"url(#p2ed085b767)\">\n     <use style=\"fill:#00008b;fill-opacity:0.2;\" x=\"119.51405\" xlink:href=\"#C2_0_e8f60ee24d\" y=\"350.466778\"/>\n    </g>\n    <g clip-path=\"url(#p2ed085b767)\">\n     <use style=\"fill:#00008b;fill-opacity:0.2;\" x=\"84.803306\" xlink:href=\"#C2_0_e8f60ee24d\" y=\"347.436811\"/>\n    </g>\n    <g clip-path=\"url(#p2ed085b767)\">\n     <use style=\"fill:#00008b;fill-opacity:0.2;\" x=\"84.803306\" xlink:href=\"#C2_0_e8f60ee24d\" y=\"362.839704\"/>\n    </g>\n    <g clip-path=\"url(#p2ed085b767)\">\n     <use style=\"fill:#00008b;fill-opacity:0.2;\" x=\"82.323967\" xlink:href=\"#C2_0_e8f60ee24d\" y=\"362.0982\"/>\n    </g>\n    <g clip-path=\"url(#p2ed085b767)\">\n     <use style=\"fill:#00008b;fill-opacity:0.2;\" x=\"81.084298\" xlink:href=\"#C2_0_e8f60ee24d\" y=\"338.949418\"/>\n    </g>\n    <g clip-path=\"url(#p2ed085b767)\">\n     <use style=\"fill:#00008b;fill-opacity:0.2;\" x=\"77.675207\" xlink:href=\"#C2_0_e8f60ee24d\" y=\"370.16391\"/>\n    </g>\n    <g clip-path=\"url(#p2ed085b767)\">\n     <use style=\"fill:#00008b;fill-opacity:0.2;\" x=\"73.646281\" xlink:href=\"#C2_0_e8f60ee24d\" y=\"363.045998\"/>\n    </g>\n    <g clip-path=\"url(#p2ed085b767)\">\n     <use style=\"fill:#00008b;fill-opacity:0.2;\" x=\"70.547157\" xlink:href=\"#C2_0_e8f60ee24d\" y=\"354.403159\"/>\n    </g>\n    <g clip-path=\"url(#p2ed085b767)\">\n     <use style=\"fill:#00008b;fill-opacity:0.2;\" x=\"69.927273\" xlink:href=\"#C2_0_e8f60ee24d\" y=\"344.046495\"/>\n    </g>\n    <g clip-path=\"url(#p2ed085b767)\">\n     <use style=\"fill:#00008b;fill-opacity:0.2;\" x=\"61.249587\" xlink:href=\"#C2_0_e8f60ee24d\" y=\"364.017291\"/>\n    </g>\n    <g clip-path=\"url(#p2ed085b767)\">\n     <use style=\"fill:#00008b;fill-opacity:0.2;\" x=\"60.009917\" xlink:href=\"#C2_0_e8f60ee24d\" y=\"371.231607\"/>\n    </g>\n    <g clip-path=\"url(#p2ed085b767)\">\n     <use style=\"fill:#00008b;fill-opacity:0.2;\" x=\"54.431405\" xlink:href=\"#C2_0_e8f60ee24d\" y=\"377.091975\"/>\n    </g>\n    <g clip-path=\"url(#p2ed085b767)\">\n     <use style=\"fill:#00008b;fill-opacity:0.2;\" x=\"52.571901\" xlink:href=\"#C2_0_e8f60ee24d\" y=\"344.865283\"/>\n    </g>\n    <g clip-path=\"url(#p2ed085b767)\">\n     <use style=\"fill:#00008b;fill-opacity:0.2;\" x=\"51.332231\" xlink:href=\"#C2_0_e8f60ee24d\" y=\"371.021743\"/>\n    </g>\n    <g clip-path=\"url(#p2ed085b767)\">\n     <use style=\"fill:#00008b;fill-opacity:0.2;\" x=\"51.332231\" xlink:href=\"#C2_0_e8f60ee24d\" y=\"362.044221\"/>\n    </g>\n    <g clip-path=\"url(#p2ed085b767)\">\n     <use style=\"fill:#00008b;fill-opacity:0.2;\" x=\"50.092562\" xlink:href=\"#C2_0_e8f60ee24d\" y=\"354.648278\"/>\n    </g>\n    <g clip-path=\"url(#p2ed085b767)\">\n     <use style=\"fill:#00008b;fill-opacity:0.2;\" x=\"48.852893\" xlink:href=\"#C2_0_e8f60ee24d\" y=\"377.54342\"/>\n    </g>\n    <g clip-path=\"url(#p2ed085b767)\">\n     <use style=\"fill:#00008b;fill-opacity:0.2;\" x=\"45.133884\" xlink:href=\"#C2_0_e8f60ee24d\" y=\"359.922635\"/>\n    </g>\n    <g clip-path=\"url(#p2ed085b767)\">\n     <use style=\"fill:#00008b;fill-opacity:0.2;\" x=\"45.133884\" xlink:href=\"#C2_0_e8f60ee24d\" y=\"369.850948\"/>\n    </g>\n    <g clip-path=\"url(#p2ed085b767)\">\n     <use style=\"fill:#00008b;fill-opacity:0.2;\" x=\"43.894215\" xlink:href=\"#C2_0_e8f60ee24d\" y=\"342.345972\"/>\n    </g>\n    <g clip-path=\"url(#p2ed085b767)\">\n     <use style=\"fill:#00008b;fill-opacity:0.2;\" x=\"43.894215\" xlink:href=\"#C2_0_e8f60ee24d\" y=\"370.219281\"/>\n    </g>\n    <g clip-path=\"url(#p2ed085b767)\">\n     <use style=\"fill:#00008b;fill-opacity:0.2;\" x=\"43.894215\" xlink:href=\"#C2_0_e8f60ee24d\" y=\"362.62967\"/>\n    </g>\n    <g clip-path=\"url(#p2ed085b767)\">\n     <use style=\"fill:#00008b;fill-opacity:0.2;\" x=\"42.778512\" xlink:href=\"#C2_0_e8f60ee24d\" y=\"350.401642\"/>\n    </g>\n    <g clip-path=\"url(#p2ed085b767)\">\n     <use style=\"fill:#00008b;fill-opacity:0.2;\" x=\"42.654545\" xlink:href=\"#C2_0_e8f60ee24d\" y=\"371.577499\"/>\n    </g>\n    <g clip-path=\"url(#p2ed085b767)\">\n     <use style=\"fill:#00008b;fill-opacity:0.2;\" x=\"40.175207\" xlink:href=\"#C2_0_e8f60ee24d\" y=\"356.116157\"/>\n    </g>\n    <g clip-path=\"url(#p2ed085b767)\">\n     <use style=\"fill:#00008b;fill-opacity:0.2;\" x=\"39.555372\" xlink:href=\"#C2_0_e8f60ee24d\" y=\"371.202904\"/>\n    </g>\n    <g clip-path=\"url(#p2ed085b767)\">\n     <use style=\"fill:#00008b;fill-opacity:0.2;\" x=\"36.828099\" xlink:href=\"#C2_0_e8f60ee24d\" y=\"369.70161\"/>\n    </g>\n    <g clip-path=\"url(#p2ed085b767)\">\n     <use style=\"fill:#00008b;fill-opacity:0.2;\" x=\"31.869421\" xlink:href=\"#C2_0_e8f60ee24d\" y=\"348.836984\"/>\n    </g>\n    <g clip-path=\"url(#p2ed085b767)\">\n     <use style=\"fill:#00008b;fill-opacity:0.2;\" x=\"31.571901\" xlink:href=\"#C2_0_e8f60ee24d\" y=\"347.729042\"/>\n    </g>\n    <g clip-path=\"url(#p2ed085b767)\">\n     <use style=\"fill:#00008b;fill-opacity:0.2;\" x=\"31.363636\" xlink:href=\"#C2_0_e8f60ee24d\" y=\"353.585106\"/>\n    </g>\n    <g clip-path=\"url(#p2ed085b767)\">\n     <use style=\"fill:#00008b;fill-opacity:0.2;\" x=\"31.187603\" xlink:href=\"#C2_0_e8f60ee24d\" y=\"371.69346\"/>\n    </g>\n    <g clip-path=\"url(#p2ed085b767)\">\n     <use style=\"fill:#00008b;fill-opacity:0.2;\" x=\"31.12562\" xlink:href=\"#C2_0_e8f60ee24d\" y=\"375.251836\"/>\n    </g>\n    <g clip-path=\"url(#p2ed085b767)\">\n     <use style=\"fill:#00008b;fill-opacity:0.2;\" x=\"30.939669\" xlink:href=\"#C2_0_e8f60ee24d\" y=\"363.1083\"/>\n    </g>\n    <g clip-path=\"url(#p2ed085b767)\">\n     <use style=\"fill:#00008b;fill-opacity:0.2;\" x=\"30.927273\" xlink:href=\"#C2_0_e8f60ee24d\" y=\"346.456072\"/>\n    </g>\n    <g clip-path=\"url(#p2ed085b767)\">\n     <use style=\"fill:#00008b;fill-opacity:0.2;\" x=\"30.728926\" xlink:href=\"#C2_0_e8f60ee24d\" y=\"364.751362\"/>\n    </g>\n    <g clip-path=\"url(#p2ed085b767)\">\n     <use style=\"fill:#00008b;fill-opacity:0.2;\" x=\"30.723967\" xlink:href=\"#C2_0_e8f60ee24d\" y=\"354.297632\"/>\n    </g>\n    <g clip-path=\"url(#p2ed085b767)\">\n     <use style=\"fill:#00008b;fill-opacity:0.2;\" x=\"30.679339\" xlink:href=\"#C2_0_e8f60ee24d\" y=\"359.906714\"/>\n    </g>\n    <g clip-path=\"url(#p2ed085b767)\">\n     <use style=\"fill:#00008b;fill-opacity:0.2;\" x=\"30.629752\" xlink:href=\"#C2_0_e8f60ee24d\" y=\"365.942536\"/>\n    </g>\n    <g clip-path=\"url(#p2ed085b767)\">\n     <use style=\"fill:#00008b;fill-opacity:0.2;\" x=\"30.629752\" xlink:href=\"#C2_0_e8f60ee24d\" y=\"373.595814\"/>\n    </g>\n    <g clip-path=\"url(#p2ed085b767)\">\n     <use style=\"fill:#00008b;fill-opacity:0.2;\" x=\"30.617355\" xlink:href=\"#C2_0_e8f60ee24d\" y=\"368.754823\"/>\n    </g>\n    <g clip-path=\"url(#p2ed085b767)\">\n     <use style=\"fill:#00008b;fill-opacity:0.2;\" x=\"30.567769\" xlink:href=\"#C2_0_e8f60ee24d\" y=\"346.076526\"/>\n    </g>\n    <g clip-path=\"url(#p2ed085b767)\">\n     <use style=\"fill:#00008b;fill-opacity:0.2;\" x=\"30.505785\" xlink:href=\"#C2_0_e8f60ee24d\" y=\"366.250496\"/>\n    </g>\n    <g clip-path=\"url(#p2ed085b767)\">\n     <use style=\"fill:#00008b;fill-opacity:0.2;\" x=\"30.505785\" xlink:href=\"#C2_0_e8f60ee24d\" y=\"360.405504\"/>\n    </g>\n    <g clip-path=\"url(#p2ed085b767)\">\n     <use style=\"fill:#00008b;fill-opacity:0.2;\" x=\"30.505785\" xlink:href=\"#C2_0_e8f60ee24d\" y=\"361.229594\"/>\n    </g>\n    <g clip-path=\"url(#p2ed085b767)\">\n     <use style=\"fill:#00008b;fill-opacity:0.2;\" x=\"30.502066\" xlink:href=\"#C2_0_e8f60ee24d\" y=\"367.017652\"/>\n    </g>\n    <g clip-path=\"url(#p2ed085b767)\">\n     <use style=\"fill:#00008b;fill-opacity:0.2;\" x=\"30.500826\" xlink:href=\"#C2_0_e8f60ee24d\" y=\"362.131239\"/>\n    </g>\n    <g clip-path=\"url(#p2ed085b767)\">\n     <use style=\"fill:#00008b;fill-opacity:0.2;\" x=\"30.438843\" xlink:href=\"#C2_0_e8f60ee24d\" y=\"340.087079\"/>\n    </g>\n    <g clip-path=\"url(#p2ed085b767)\">\n     <use style=\"fill:#00008b;fill-opacity:0.2;\" x=\"30.431405\" xlink:href=\"#C2_0_e8f60ee24d\" y=\"358.976624\"/>\n    </g>\n    <g clip-path=\"url(#p2ed085b767)\">\n     <use style=\"fill:#00008b;fill-opacity:0.2;\" x=\"30.419008\" xlink:href=\"#C2_0_e8f60ee24d\" y=\"346.293059\"/>\n    </g>\n    <g clip-path=\"url(#p2ed085b767)\">\n     <use style=\"fill:#00008b;fill-opacity:0.2;\" x=\"30.406612\" xlink:href=\"#C2_0_e8f60ee24d\" y=\"356.594768\"/>\n    </g>\n    <g clip-path=\"url(#p2ed085b767)\">\n     <use style=\"fill:#00008b;fill-opacity:0.2;\" x=\"30.290083\" xlink:href=\"#C2_0_e8f60ee24d\" y=\"359.324988\"/>\n    </g>\n    <g clip-path=\"url(#p2ed085b767)\">\n     <use style=\"fill:#00008b;fill-opacity:0.2;\" x=\"30.257851\" xlink:href=\"#C2_0_e8f60ee24d\" y=\"359.050094\"/>\n    </g>\n    <g clip-path=\"url(#p2ed085b767)\">\n     <use style=\"fill:#00008b;fill-opacity:0.2;\" x=\"30.257851\" xlink:href=\"#C2_0_e8f60ee24d\" y=\"357.977234\"/>\n    </g>\n    <g clip-path=\"url(#p2ed085b767)\">\n     <use style=\"fill:#00008b;fill-opacity:0.2;\" x=\"30.257851\" xlink:href=\"#C2_0_e8f60ee24d\" y=\"361.44961\"/>\n    </g>\n    <g clip-path=\"url(#p2ed085b767)\">\n     <use style=\"fill:#00008b;fill-opacity:0.2;\" x=\"30.257851\" xlink:href=\"#C2_0_e8f60ee24d\" y=\"369.844852\"/>\n    </g>\n    <g clip-path=\"url(#p2ed085b767)\">\n     <use style=\"fill:#00008b;fill-opacity:0.2;\" x=\"30.257851\" xlink:href=\"#C2_0_e8f60ee24d\" y=\"369.191201\"/>\n    </g>\n   </g>\n   <g id=\"text_29\">\n    <!-- Systematic - MLB players salaries - Systematic Sample -->\n    <g style=\"fill:#262626;\" transform=\"translate(96.200114 253.525398)scale(0.12 -0.12)\">\n     <use xlink:href=\"#DejaVuSans-53\"/>\n     <use x=\"63.476562\" xlink:href=\"#DejaVuSans-79\"/>\n     <use x=\"122.65625\" xlink:href=\"#DejaVuSans-73\"/>\n     <use x=\"174.755859\" xlink:href=\"#DejaVuSans-74\"/>\n     <use x=\"213.964844\" xlink:href=\"#DejaVuSans-65\"/>\n     <use x=\"275.488281\" xlink:href=\"#DejaVuSans-6d\"/>\n     <use x=\"372.900391\" xlink:href=\"#DejaVuSans-61\"/>\n     <use x=\"434.179688\" xlink:href=\"#DejaVuSans-74\"/>\n     <use x=\"473.388672\" xlink:href=\"#DejaVuSans-69\"/>\n     <use x=\"501.171875\" xlink:href=\"#DejaVuSans-63\"/>\n     <use x=\"556.152344\" xlink:href=\"#DejaVuSans-20\"/>\n     <use x=\"587.939453\" xlink:href=\"#DejaVuSans-2d\"/>\n     <use x=\"624.023438\" xlink:href=\"#DejaVuSans-20\"/>\n     <use x=\"655.810547\" xlink:href=\"#DejaVuSans-4d\"/>\n     <use x=\"742.089844\" xlink:href=\"#DejaVuSans-4c\"/>\n     <use x=\"797.802734\" xlink:href=\"#DejaVuSans-42\"/>\n     <use x=\"866.40625\" xlink:href=\"#DejaVuSans-20\"/>\n     <use x=\"898.193359\" xlink:href=\"#DejaVuSans-70\"/>\n     <use x=\"961.669922\" xlink:href=\"#DejaVuSans-6c\"/>\n     <use x=\"989.453125\" xlink:href=\"#DejaVuSans-61\"/>\n     <use x=\"1050.732422\" xlink:href=\"#DejaVuSans-79\"/>\n     <use x=\"1109.912109\" xlink:href=\"#DejaVuSans-65\"/>\n     <use x=\"1171.435547\" xlink:href=\"#DejaVuSans-72\"/>\n     <use x=\"1212.548828\" xlink:href=\"#DejaVuSans-73\"/>\n     <use x=\"1264.648438\" xlink:href=\"#DejaVuSans-20\"/>\n     <use x=\"1296.435547\" xlink:href=\"#DejaVuSans-73\"/>\n     <use x=\"1348.535156\" xlink:href=\"#DejaVuSans-61\"/>\n     <use x=\"1409.814453\" xlink:href=\"#DejaVuSans-6c\"/>\n     <use x=\"1437.597656\" xlink:href=\"#DejaVuSans-61\"/>\n     <use x=\"1498.876953\" xlink:href=\"#DejaVuSans-72\"/>\n     <use x=\"1539.990234\" xlink:href=\"#DejaVuSans-69\"/>\n     <use x=\"1567.773438\" xlink:href=\"#DejaVuSans-65\"/>\n     <use x=\"1629.296875\" xlink:href=\"#DejaVuSans-73\"/>\n     <use x=\"1681.396484\" xlink:href=\"#DejaVuSans-20\"/>\n     <use x=\"1713.183594\" xlink:href=\"#DejaVuSans-2d\"/>\n     <use x=\"1749.267578\" xlink:href=\"#DejaVuSans-20\"/>\n     <use x=\"1781.054688\" xlink:href=\"#DejaVuSans-53\"/>\n     <use x=\"1844.53125\" xlink:href=\"#DejaVuSans-79\"/>\n     <use x=\"1903.710938\" xlink:href=\"#DejaVuSans-73\"/>\n     <use x=\"1955.810547\" xlink:href=\"#DejaVuSans-74\"/>\n     <use x=\"1995.019531\" xlink:href=\"#DejaVuSans-65\"/>\n     <use x=\"2056.542969\" xlink:href=\"#DejaVuSans-6d\"/>\n     <use x=\"2153.955078\" xlink:href=\"#DejaVuSans-61\"/>\n     <use x=\"2215.234375\" xlink:href=\"#DejaVuSans-74\"/>\n     <use x=\"2254.443359\" xlink:href=\"#DejaVuSans-69\"/>\n     <use x=\"2282.226562\" xlink:href=\"#DejaVuSans-63\"/>\n     <use x=\"2337.207031\" xlink:href=\"#DejaVuSans-20\"/>\n     <use x=\"2368.994141\" xlink:href=\"#DejaVuSans-53\"/>\n     <use x=\"2432.470703\" xlink:href=\"#DejaVuSans-61\"/>\n     <use x=\"2493.75\" xlink:href=\"#DejaVuSans-6d\"/>\n     <use x=\"2591.162109\" xlink:href=\"#DejaVuSans-70\"/>\n     <use x=\"2654.638672\" xlink:href=\"#DejaVuSans-6c\"/>\n     <use x=\"2682.421875\" xlink:href=\"#DejaVuSans-65\"/>\n    </g>\n   </g>\n  </g>\n  <g id=\"axes_4\">\n   <g id=\"patch_20\">\n    <path d=\"M 615.927273 457.198125 \nL 1123.2 457.198125 \nL 1123.2 259.525398 \nL 615.927273 259.525398 \nz\n\" style=\"fill:#ffffff;\"/>\n   </g>\n   <g id=\"matplotlib.axis_7\">\n    <g id=\"xtick_24\">\n     <g id=\"line2d_42\">\n      <path clip-path=\"url(#p43c9bd780f)\" d=\"M 630.675988 457.198125 \nL 630.675988 259.525398 \n\" style=\"fill:none;stroke:#cccccc;stroke-linecap:round;\"/>\n     </g>\n     <g id=\"text_30\">\n      <!-- 0 -->\n      <g style=\"fill:#262626;\" transform=\"translate(627.176613 475.056406)scale(0.11 -0.11)\">\n       <use xlink:href=\"#DejaVuSans-30\"/>\n      </g>\n     </g>\n    </g>\n    <g id=\"xtick_25\">\n     <g id=\"line2d_43\">\n      <path clip-path=\"url(#p43c9bd780f)\" d=\"M 734.540183 457.198125 \nL 734.540183 259.525398 \n\" style=\"fill:none;stroke:#cccccc;stroke-linecap:round;\"/>\n     </g>\n     <g id=\"text_31\">\n      <!-- 5000 -->\n      <g style=\"fill:#262626;\" transform=\"translate(720.542683 475.056406)scale(0.11 -0.11)\">\n       <use xlink:href=\"#DejaVuSans-35\"/>\n       <use x=\"63.623047\" xlink:href=\"#DejaVuSans-30\"/>\n       <use x=\"127.246094\" xlink:href=\"#DejaVuSans-30\"/>\n       <use x=\"190.869141\" xlink:href=\"#DejaVuSans-30\"/>\n      </g>\n     </g>\n    </g>\n    <g id=\"xtick_26\">\n     <g id=\"line2d_44\">\n      <path clip-path=\"url(#p43c9bd780f)\" d=\"M 838.404378 457.198125 \nL 838.404378 259.525398 \n\" style=\"fill:none;stroke:#cccccc;stroke-linecap:round;\"/>\n     </g>\n     <g id=\"text_32\">\n      <!-- 10000 -->\n      <g style=\"fill:#262626;\" transform=\"translate(820.907503 475.056406)scale(0.11 -0.11)\">\n       <use xlink:href=\"#DejaVuSans-31\"/>\n       <use x=\"63.623047\" xlink:href=\"#DejaVuSans-30\"/>\n       <use x=\"127.246094\" xlink:href=\"#DejaVuSans-30\"/>\n       <use x=\"190.869141\" xlink:href=\"#DejaVuSans-30\"/>\n       <use x=\"254.492188\" xlink:href=\"#DejaVuSans-30\"/>\n      </g>\n     </g>\n    </g>\n    <g id=\"xtick_27\">\n     <g id=\"line2d_45\">\n      <path clip-path=\"url(#p43c9bd780f)\" d=\"M 942.268573 457.198125 \nL 942.268573 259.525398 \n\" style=\"fill:none;stroke:#cccccc;stroke-linecap:round;\"/>\n     </g>\n     <g id=\"text_33\">\n      <!-- 15000 -->\n      <g style=\"fill:#262626;\" transform=\"translate(924.771698 475.056406)scale(0.11 -0.11)\">\n       <use xlink:href=\"#DejaVuSans-31\"/>\n       <use x=\"63.623047\" xlink:href=\"#DejaVuSans-35\"/>\n       <use x=\"127.246094\" xlink:href=\"#DejaVuSans-30\"/>\n       <use x=\"190.869141\" xlink:href=\"#DejaVuSans-30\"/>\n       <use x=\"254.492188\" xlink:href=\"#DejaVuSans-30\"/>\n      </g>\n     </g>\n    </g>\n    <g id=\"xtick_28\">\n     <g id=\"line2d_46\">\n      <path clip-path=\"url(#p43c9bd780f)\" d=\"M 1046.132767 457.198125 \nL 1046.132767 259.525398 \n\" style=\"fill:none;stroke:#cccccc;stroke-linecap:round;\"/>\n     </g>\n     <g id=\"text_34\">\n      <!-- 20000 -->\n      <g style=\"fill:#262626;\" transform=\"translate(1028.635892 475.056406)scale(0.11 -0.11)\">\n       <use xlink:href=\"#DejaVuSans-32\"/>\n       <use x=\"63.623047\" xlink:href=\"#DejaVuSans-30\"/>\n       <use x=\"127.246094\" xlink:href=\"#DejaVuSans-30\"/>\n       <use x=\"190.869141\" xlink:href=\"#DejaVuSans-30\"/>\n       <use x=\"254.492188\" xlink:href=\"#DejaVuSans-30\"/>\n      </g>\n     </g>\n    </g>\n    <g id=\"text_35\">\n     <!-- Stratified - Salary (millions of dollars) - Stratified Sample k=100 -->\n     <g style=\"fill:#262626;\" transform=\"translate(677.904886 490.462187)scale(0.12 -0.12)\">\n      <use xlink:href=\"#DejaVuSans-53\"/>\n      <use x=\"63.476562\" xlink:href=\"#DejaVuSans-74\"/>\n      <use x=\"102.685547\" xlink:href=\"#DejaVuSans-72\"/>\n      <use x=\"143.798828\" xlink:href=\"#DejaVuSans-61\"/>\n      <use x=\"205.078125\" xlink:href=\"#DejaVuSans-74\"/>\n      <use x=\"244.287109\" xlink:href=\"#DejaVuSans-69\"/>\n      <use x=\"272.070312\" xlink:href=\"#DejaVuSans-66\"/>\n      <use x=\"307.275391\" xlink:href=\"#DejaVuSans-69\"/>\n      <use x=\"335.058594\" xlink:href=\"#DejaVuSans-65\"/>\n      <use x=\"396.582031\" xlink:href=\"#DejaVuSans-64\"/>\n      <use x=\"460.058594\" xlink:href=\"#DejaVuSans-20\"/>\n      <use x=\"491.845703\" xlink:href=\"#DejaVuSans-2d\"/>\n      <use x=\"527.929688\" xlink:href=\"#DejaVuSans-20\"/>\n      <use x=\"559.716797\" xlink:href=\"#DejaVuSans-53\"/>\n      <use x=\"623.193359\" xlink:href=\"#DejaVuSans-61\"/>\n      <use x=\"684.472656\" xlink:href=\"#DejaVuSans-6c\"/>\n      <use x=\"712.255859\" xlink:href=\"#DejaVuSans-61\"/>\n      <use x=\"773.535156\" xlink:href=\"#DejaVuSans-72\"/>\n      <use x=\"814.648438\" xlink:href=\"#DejaVuSans-79\"/>\n      <use x=\"873.828125\" xlink:href=\"#DejaVuSans-20\"/>\n      <use x=\"905.615234\" xlink:href=\"#DejaVuSans-28\"/>\n      <use x=\"944.628906\" xlink:href=\"#DejaVuSans-6d\"/>\n      <use x=\"1042.041016\" xlink:href=\"#DejaVuSans-69\"/>\n      <use x=\"1069.824219\" xlink:href=\"#DejaVuSans-6c\"/>\n      <use x=\"1097.607422\" xlink:href=\"#DejaVuSans-6c\"/>\n      <use x=\"1125.390625\" xlink:href=\"#DejaVuSans-69\"/>\n      <use x=\"1153.173828\" xlink:href=\"#DejaVuSans-6f\"/>\n      <use x=\"1214.355469\" xlink:href=\"#DejaVuSans-6e\"/>\n      <use x=\"1277.734375\" xlink:href=\"#DejaVuSans-73\"/>\n      <use x=\"1329.833984\" xlink:href=\"#DejaVuSans-20\"/>\n      <use x=\"1361.621094\" xlink:href=\"#DejaVuSans-6f\"/>\n      <use x=\"1422.802734\" xlink:href=\"#DejaVuSans-66\"/>\n      <use x=\"1458.007812\" xlink:href=\"#DejaVuSans-20\"/>\n      <use x=\"1489.794922\" xlink:href=\"#DejaVuSans-64\"/>\n      <use x=\"1553.271484\" xlink:href=\"#DejaVuSans-6f\"/>\n      <use x=\"1614.453125\" xlink:href=\"#DejaVuSans-6c\"/>\n      <use x=\"1642.236328\" xlink:href=\"#DejaVuSans-6c\"/>\n      <use x=\"1670.019531\" xlink:href=\"#DejaVuSans-61\"/>\n      <use x=\"1731.298828\" xlink:href=\"#DejaVuSans-72\"/>\n      <use x=\"1772.412109\" xlink:href=\"#DejaVuSans-73\"/>\n      <use x=\"1824.511719\" xlink:href=\"#DejaVuSans-29\"/>\n      <use x=\"1863.525391\" xlink:href=\"#DejaVuSans-20\"/>\n      <use x=\"1895.3125\" xlink:href=\"#DejaVuSans-2d\"/>\n      <use x=\"1931.396484\" xlink:href=\"#DejaVuSans-20\"/>\n      <use x=\"1963.183594\" xlink:href=\"#DejaVuSans-53\"/>\n      <use x=\"2026.660156\" xlink:href=\"#DejaVuSans-74\"/>\n      <use x=\"2065.869141\" xlink:href=\"#DejaVuSans-72\"/>\n      <use x=\"2106.982422\" xlink:href=\"#DejaVuSans-61\"/>\n      <use x=\"2168.261719\" xlink:href=\"#DejaVuSans-74\"/>\n      <use x=\"2207.470703\" xlink:href=\"#DejaVuSans-69\"/>\n      <use x=\"2235.253906\" xlink:href=\"#DejaVuSans-66\"/>\n      <use x=\"2270.458984\" xlink:href=\"#DejaVuSans-69\"/>\n      <use x=\"2298.242188\" xlink:href=\"#DejaVuSans-65\"/>\n      <use x=\"2359.765625\" xlink:href=\"#DejaVuSans-64\"/>\n      <use x=\"2423.242188\" xlink:href=\"#DejaVuSans-20\"/>\n      <use x=\"2455.029297\" xlink:href=\"#DejaVuSans-53\"/>\n      <use x=\"2518.505859\" xlink:href=\"#DejaVuSans-61\"/>\n      <use x=\"2579.785156\" xlink:href=\"#DejaVuSans-6d\"/>\n      <use x=\"2677.197266\" xlink:href=\"#DejaVuSans-70\"/>\n      <use x=\"2740.673828\" xlink:href=\"#DejaVuSans-6c\"/>\n      <use x=\"2768.457031\" xlink:href=\"#DejaVuSans-65\"/>\n      <use x=\"2829.980469\" xlink:href=\"#DejaVuSans-20\"/>\n      <use x=\"2861.767578\" xlink:href=\"#DejaVuSans-6b\"/>\n      <use x=\"2919.677734\" xlink:href=\"#DejaVuSans-3d\"/>\n      <use x=\"3003.466797\" xlink:href=\"#DejaVuSans-31\"/>\n      <use x=\"3067.089844\" xlink:href=\"#DejaVuSans-30\"/>\n      <use x=\"3130.712891\" xlink:href=\"#DejaVuSans-30\"/>\n     </g>\n    </g>\n   </g>\n   <g id=\"matplotlib.axis_8\">\n    <g id=\"ytick_4\"/>\n   </g>\n   <g id=\"patch_21\">\n    <path clip-path=\"url(#p43c9bd780f)\" d=\"M 639.458745 328.710852 \nL 639.458745 388.01267 \nL 636.521042 388.01267 \nL 651.448827 373.187216 \nL 666.376613 388.01267 \nL 734.540183 388.01267 \nL 734.540183 328.710852 \nL 666.376613 328.710852 \nL 651.448827 343.536307 \nL 636.521042 328.710852 \nL 639.458745 328.710852 \nz\n\" style=\"fill:#b4d4df;stroke:#797979;stroke-linejoin:miter;\"/>\n   </g>\n   <g id=\"line2d_47\">\n    <path clip-path=\"url(#p43c9bd780f)\" d=\"M 639.458745 358.361761 \nL 638.985124 358.361761 \n\" style=\"fill:none;stroke:#797979;stroke-linecap:round;\"/>\n   </g>\n   <g id=\"line2d_48\">\n    <path clip-path=\"url(#p43c9bd780f)\" d=\"M 734.540183 358.361761 \nL 869.563636 358.361761 \n\" style=\"fill:none;stroke:#797979;stroke-linecap:round;\"/>\n   </g>\n   <g id=\"line2d_49\">\n    <path clip-path=\"url(#p43c9bd780f)\" d=\"M 638.985124 343.536307 \nL 638.985124 373.187216 \n\" style=\"fill:none;stroke:#797979;stroke-linecap:round;\"/>\n   </g>\n   <g id=\"line2d_50\">\n    <path clip-path=\"url(#p43c9bd780f)\" d=\"M 869.563636 343.536307 \nL 869.563636 373.187216 \n\" style=\"fill:none;stroke:#797979;stroke-linecap:round;\"/>\n   </g>\n   <g id=\"line2d_51\">\n    <g clip-path=\"url(#p43c9bd780f)\">\n     <use style=\"fill:#797979;stroke:#797979;stroke-linejoin:miter;\" x=\"879.950056\" xlink:href=\"#m77a66c6bf8\" y=\"358.361761\"/>\n     <use style=\"fill:#797979;stroke:#797979;stroke-linejoin:miter;\" x=\"883.412182\" xlink:href=\"#m77a66c6bf8\" y=\"358.361761\"/>\n     <use style=\"fill:#797979;stroke:#797979;stroke-linejoin:miter;\" x=\"890.336475\" xlink:href=\"#m77a66c6bf8\" y=\"358.361761\"/>\n     <use style=\"fill:#797979;stroke:#797979;stroke-linejoin:miter;\" x=\"890.336475\" xlink:href=\"#m77a66c6bf8\" y=\"358.361761\"/>\n     <use style=\"fill:#797979;stroke:#797979;stroke-linejoin:miter;\" x=\"911.109314\" xlink:href=\"#m77a66c6bf8\" y=\"358.361761\"/>\n     <use style=\"fill:#797979;stroke:#797979;stroke-linejoin:miter;\" x=\"921.495734\" xlink:href=\"#m77a66c6bf8\" y=\"358.361761\"/>\n     <use style=\"fill:#797979;stroke:#797979;stroke-linejoin:miter;\" x=\"942.268573\" xlink:href=\"#m77a66c6bf8\" y=\"358.361761\"/>\n     <use style=\"fill:#797979;stroke:#797979;stroke-linejoin:miter;\" x=\"1033.701657\" xlink:href=\"#m77a66c6bf8\" y=\"358.361761\"/>\n     <use style=\"fill:#797979;stroke:#797979;stroke-linejoin:miter;\" x=\"1059.115792\" xlink:href=\"#m77a66c6bf8\" y=\"358.361761\"/>\n     <use style=\"fill:#797979;stroke:#797979;stroke-linejoin:miter;\" x=\"1100.142149\" xlink:href=\"#m77a66c6bf8\" y=\"358.361761\"/>\n    </g>\n   </g>\n   <g id=\"line2d_52\">\n    <path clip-path=\"url(#p43c9bd780f)\" d=\"M 651.448827 343.536307 \nL 651.448827 373.187216 \n\" style=\"fill:none;stroke:#797979;stroke-linecap:round;\"/>\n   </g>\n   <g id=\"patch_22\">\n    <path d=\"M 615.927273 457.198125 \nL 615.927273 259.525398 \n\" style=\"fill:none;stroke:#cccccc;stroke-linecap:square;stroke-linejoin:miter;stroke-width:1.25;\"/>\n   </g>\n   <g id=\"patch_23\">\n    <path d=\"M 1123.2 457.198125 \nL 1123.2 259.525398 \n\" style=\"fill:none;stroke:#cccccc;stroke-linecap:square;stroke-linejoin:miter;stroke-width:1.25;\"/>\n   </g>\n   <g id=\"patch_24\">\n    <path d=\"M 615.927273 457.198125 \nL 1123.2 457.198125 \n\" style=\"fill:none;stroke:#cccccc;stroke-linecap:square;stroke-linejoin:miter;stroke-width:1.25;\"/>\n   </g>\n   <g id=\"patch_25\">\n    <path d=\"M 615.927273 259.525398 \nL 1123.2 259.525398 \n\" style=\"fill:none;stroke:#cccccc;stroke-linecap:square;stroke-linejoin:miter;stroke-width:1.25;\"/>\n   </g>\n   <g id=\"PathCollection_4\">\n    <defs>\n     <path d=\"M 0 2.5 \nC 0.663008 2.5 1.29895 2.236584 1.767767 1.767767 \nC 2.236584 1.29895 2.5 0.663008 2.5 -0 \nC 2.5 -0.663008 2.236584 -1.29895 1.767767 -1.767767 \nC 1.29895 -2.236584 0.663008 -2.5 0 -2.5 \nC -0.663008 -2.5 -1.29895 -2.236584 -1.767767 -1.767767 \nC -2.236584 -1.29895 -2.5 -0.663008 -2.5 0 \nC -2.5 0.663008 -2.236584 1.29895 -1.767767 1.767767 \nC -1.29895 2.236584 -0.663008 2.5 0 2.5 \nz\n\" id=\"C3_0_5583bc81c2\"/>\n    </defs>\n    <g clip-path=\"url(#p43c9bd780f)\">\n     <use style=\"fill:#00008b;fill-opacity:0.2;\" x=\"638.985124\" xlink:href=\"#C3_0_5583bc81c2\" y=\"351.235219\"/>\n    </g>\n    <g clip-path=\"url(#p43c9bd780f)\">\n     <use style=\"fill:#00008b;fill-opacity:0.2;\" x=\"638.985124\" xlink:href=\"#C3_0_5583bc81c2\" y=\"346.514434\"/>\n    </g>\n    <g clip-path=\"url(#p43c9bd780f)\">\n     <use style=\"fill:#00008b;fill-opacity:0.2;\" x=\"638.985124\" xlink:href=\"#C3_0_5583bc81c2\" y=\"355.451744\"/>\n    </g>\n    <g clip-path=\"url(#p43c9bd780f)\">\n     <use style=\"fill:#00008b;fill-opacity:0.2;\" x=\"638.985124\" xlink:href=\"#C3_0_5583bc81c2\" y=\"369.834372\"/>\n    </g>\n    <g clip-path=\"url(#p43c9bd780f)\">\n     <use style=\"fill:#00008b;fill-opacity:0.2;\" x=\"638.985124\" xlink:href=\"#C3_0_5583bc81c2\" y=\"368.381833\"/>\n    </g>\n    <g clip-path=\"url(#p43c9bd780f)\">\n     <use style=\"fill:#00008b;fill-opacity:0.2;\" x=\"638.985124\" xlink:href=\"#C3_0_5583bc81c2\" y=\"356.224584\"/>\n    </g>\n    <g clip-path=\"url(#p43c9bd780f)\">\n     <use style=\"fill:#00008b;fill-opacity:0.2;\" x=\"639.005897\" xlink:href=\"#C3_0_5583bc81c2\" y=\"351.128838\"/>\n    </g>\n    <g clip-path=\"url(#p43c9bd780f)\">\n     <use style=\"fill:#00008b;fill-opacity:0.2;\" x=\"639.012129\" xlink:href=\"#C3_0_5583bc81c2\" y=\"352.214307\"/>\n    </g>\n    <g clip-path=\"url(#p43c9bd780f)\">\n     <use style=\"fill:#00008b;fill-opacity:0.2;\" x=\"639.02667\" xlink:href=\"#C3_0_5583bc81c2\" y=\"346.616873\"/>\n    </g>\n    <g clip-path=\"url(#p43c9bd780f)\">\n     <use style=\"fill:#00008b;fill-opacity:0.2;\" x=\"639.068215\" xlink:href=\"#C3_0_5583bc81c2\" y=\"348.183635\"/>\n    </g>\n    <g clip-path=\"url(#p43c9bd780f)\">\n     <use style=\"fill:#00008b;fill-opacity:0.2;\" x=\"639.078602\" xlink:href=\"#C3_0_5583bc81c2\" y=\"377.071532\"/>\n    </g>\n    <g clip-path=\"url(#p43c9bd780f)\">\n     <use style=\"fill:#00008b;fill-opacity:0.2;\" x=\"639.088988\" xlink:href=\"#C3_0_5583bc81c2\" y=\"338.97198\"/>\n    </g>\n    <g clip-path=\"url(#p43c9bd780f)\">\n     <use style=\"fill:#00008b;fill-opacity:0.2;\" x=\"639.088988\" xlink:href=\"#C3_0_5583bc81c2\" y=\"363.972979\"/>\n    </g>\n    <g clip-path=\"url(#p43c9bd780f)\">\n     <use style=\"fill:#00008b;fill-opacity:0.2;\" x=\"639.120147\" xlink:href=\"#C3_0_5583bc81c2\" y=\"375.092346\"/>\n    </g>\n    <g clip-path=\"url(#p43c9bd780f)\">\n     <use style=\"fill:#00008b;fill-opacity:0.2;\" x=\"639.14092\" xlink:href=\"#C3_0_5583bc81c2\" y=\"359.038866\"/>\n    </g>\n    <g clip-path=\"url(#p43c9bd780f)\">\n     <use style=\"fill:#00008b;fill-opacity:0.2;\" x=\"639.205316\" xlink:href=\"#C3_0_5583bc81c2\" y=\"355.331819\"/>\n    </g>\n    <g clip-path=\"url(#p43c9bd780f)\">\n     <use style=\"fill:#00008b;fill-opacity:0.2;\" x=\"639.213625\" xlink:href=\"#C3_0_5583bc81c2\" y=\"375.429092\"/>\n    </g>\n    <g clip-path=\"url(#p43c9bd780f)\">\n     <use style=\"fill:#00008b;fill-opacity:0.2;\" x=\"639.244784\" xlink:href=\"#C3_0_5583bc81c2\" y=\"346.786641\"/>\n    </g>\n    <g clip-path=\"url(#p43c9bd780f)\">\n     <use style=\"fill:#00008b;fill-opacity:0.2;\" x=\"639.290485\" xlink:href=\"#C3_0_5583bc81c2\" y=\"342.046728\"/>\n    </g>\n    <g clip-path=\"url(#p43c9bd780f)\">\n     <use style=\"fill:#00008b;fill-opacity:0.2;\" x=\"639.296717\" xlink:href=\"#C3_0_5583bc81c2\" y=\"374.78858\"/>\n    </g>\n    <g clip-path=\"url(#p43c9bd780f)\">\n     <use style=\"fill:#00008b;fill-opacity:0.2;\" x=\"639.296717\" xlink:href=\"#C3_0_5583bc81c2\" y=\"346.788062\"/>\n    </g>\n    <g clip-path=\"url(#p43c9bd780f)\">\n     <use style=\"fill:#00008b;fill-opacity:0.2;\" x=\"639.327876\" xlink:href=\"#C3_0_5583bc81c2\" y=\"367.764359\"/>\n    </g>\n    <g clip-path=\"url(#p43c9bd780f)\">\n     <use style=\"fill:#00008b;fill-opacity:0.2;\" x=\"639.348649\" xlink:href=\"#C3_0_5583bc81c2\" y=\"352.557776\"/>\n    </g>\n    <g clip-path=\"url(#p43c9bd780f)\">\n     <use style=\"fill:#00008b;fill-opacity:0.2;\" x=\"639.359035\" xlink:href=\"#C3_0_5583bc81c2\" y=\"360.635287\"/>\n    </g>\n    <g clip-path=\"url(#p43c9bd780f)\">\n     <use style=\"fill:#00008b;fill-opacity:0.2;\" x=\"639.396426\" xlink:href=\"#C3_0_5583bc81c2\" y=\"344.97714\"/>\n    </g>\n    <g clip-path=\"url(#p43c9bd780f)\">\n     <use style=\"fill:#00008b;fill-opacity:0.2;\" x=\"639.479518\" xlink:href=\"#C3_0_5583bc81c2\" y=\"338.965051\"/>\n    </g>\n    <g clip-path=\"url(#p43c9bd780f)\">\n     <use style=\"fill:#00008b;fill-opacity:0.2;\" x=\"639.504445\" xlink:href=\"#C3_0_5583bc81c2\" y=\"375.98086\"/>\n    </g>\n    <g clip-path=\"url(#p43c9bd780f)\">\n     <use style=\"fill:#00008b;fill-opacity:0.2;\" x=\"639.504445\" xlink:href=\"#C3_0_5583bc81c2\" y=\"357.386964\"/>\n    </g>\n    <g clip-path=\"url(#p43c9bd780f)\">\n     <use style=\"fill:#00008b;fill-opacity:0.2;\" x=\"639.535604\" xlink:href=\"#C3_0_5583bc81c2\" y=\"360.842421\"/>\n    </g>\n    <g clip-path=\"url(#p43c9bd780f)\">\n     <use style=\"fill:#00008b;fill-opacity:0.2;\" x=\"639.539759\" xlink:href=\"#C3_0_5583bc81c2\" y=\"343.469734\"/>\n    </g>\n    <g clip-path=\"url(#p43c9bd780f)\">\n     <use style=\"fill:#00008b;fill-opacity:0.2;\" x=\"639.5543\" xlink:href=\"#C3_0_5583bc81c2\" y=\"357.876203\"/>\n    </g>\n    <g clip-path=\"url(#p43c9bd780f)\">\n     <use style=\"fill:#00008b;fill-opacity:0.2;\" x=\"639.566763\" xlink:href=\"#C3_0_5583bc81c2\" y=\"356.029131\"/>\n    </g>\n    <g clip-path=\"url(#p43c9bd780f)\">\n     <use style=\"fill:#00008b;fill-opacity:0.2;\" x=\"639.725676\" xlink:href=\"#C3_0_5583bc81c2\" y=\"350.168557\"/>\n    </g>\n    <g clip-path=\"url(#p43c9bd780f)\">\n     <use style=\"fill:#00008b;fill-opacity:0.2;\" x=\"639.774492\" xlink:href=\"#C3_0_5583bc81c2\" y=\"345.780428\"/>\n    </g>\n    <g clip-path=\"url(#p43c9bd780f)\">\n     <use style=\"fill:#00008b;fill-opacity:0.2;\" x=\"639.795265\" xlink:href=\"#C3_0_5583bc81c2\" y=\"346.436587\"/>\n    </g>\n    <g clip-path=\"url(#p43c9bd780f)\">\n     <use style=\"fill:#00008b;fill-opacity:0.2;\" x=\"639.816038\" xlink:href=\"#C3_0_5583bc81c2\" y=\"343.210559\"/>\n    </g>\n    <g clip-path=\"url(#p43c9bd780f)\">\n     <use style=\"fill:#00008b;fill-opacity:0.2;\" x=\"639.911593\" xlink:href=\"#C3_0_5583bc81c2\" y=\"358.440141\"/>\n    </g>\n    <g clip-path=\"url(#p43c9bd780f)\">\n     <use style=\"fill:#00008b;fill-opacity:0.2;\" x=\"639.961447\" xlink:href=\"#C3_0_5583bc81c2\" y=\"346.995907\"/>\n    </g>\n    <g clip-path=\"url(#p43c9bd780f)\">\n     <use style=\"fill:#00008b;fill-opacity:0.2;\" x=\"640.254344\" xlink:href=\"#C3_0_5583bc81c2\" y=\"344.022222\"/>\n    </g>\n    <g clip-path=\"url(#p43c9bd780f)\">\n     <use style=\"fill:#00008b;fill-opacity:0.2;\" x=\"641.270136\" xlink:href=\"#C3_0_5583bc81c2\" y=\"365.353815\"/>\n    </g>\n    <g clip-path=\"url(#p43c9bd780f)\">\n     <use style=\"fill:#00008b;fill-opacity:0.2;\" x=\"644.178334\" xlink:href=\"#C3_0_5583bc81c2\" y=\"342.595951\"/>\n    </g>\n    <g clip-path=\"url(#p43c9bd780f)\">\n     <use style=\"fill:#00008b;fill-opacity:0.2;\" x=\"644.489926\" xlink:href=\"#C3_0_5583bc81c2\" y=\"339.121201\"/>\n    </g>\n    <g clip-path=\"url(#p43c9bd780f)\">\n     <use style=\"fill:#00008b;fill-opacity:0.2;\" x=\"645.216976\" xlink:href=\"#C3_0_5583bc81c2\" y=\"355.911526\"/>\n    </g>\n    <g clip-path=\"url(#p43c9bd780f)\">\n     <use style=\"fill:#00008b;fill-opacity:0.2;\" x=\"645.216976\" xlink:href=\"#C3_0_5583bc81c2\" y=\"367.092096\"/>\n    </g>\n    <g clip-path=\"url(#p43c9bd780f)\">\n     <use style=\"fill:#00008b;fill-opacity:0.2;\" x=\"645.390076\" xlink:href=\"#C3_0_5583bc81c2\" y=\"361.881639\"/>\n    </g>\n    <g clip-path=\"url(#p43c9bd780f)\">\n     <use style=\"fill:#00008b;fill-opacity:0.2;\" x=\"647.29426\" xlink:href=\"#C3_0_5583bc81c2\" y=\"356.44439\"/>\n    </g>\n    <g clip-path=\"url(#p43c9bd780f)\">\n     <use style=\"fill:#00008b;fill-opacity:0.2;\" x=\"647.813581\" xlink:href=\"#C3_0_5583bc81c2\" y=\"362.087764\"/>\n    </g>\n    <g clip-path=\"url(#p43c9bd780f)\">\n     <use style=\"fill:#00008b;fill-opacity:0.2;\" x=\"650.410185\" xlink:href=\"#C3_0_5583bc81c2\" y=\"342.392034\"/>\n    </g>\n    <g clip-path=\"url(#p43c9bd780f)\">\n     <use style=\"fill:#00008b;fill-opacity:0.2;\" x=\"650.929506\" xlink:href=\"#C3_0_5583bc81c2\" y=\"357.252087\"/>\n    </g>\n    <g clip-path=\"url(#p43c9bd780f)\">\n     <use style=\"fill:#00008b;fill-opacity:0.2;\" x=\"651.448827\" xlink:href=\"#C3_0_5583bc81c2\" y=\"346.203529\"/>\n    </g>\n    <g clip-path=\"url(#p43c9bd780f)\">\n     <use style=\"fill:#00008b;fill-opacity:0.2;\" x=\"651.448827\" xlink:href=\"#C3_0_5583bc81c2\" y=\"356.9495\"/>\n    </g>\n    <g clip-path=\"url(#p43c9bd780f)\">\n     <use style=\"fill:#00008b;fill-opacity:0.2;\" x=\"653.00679\" xlink:href=\"#C3_0_5583bc81c2\" y=\"350.660388\"/>\n    </g>\n    <g clip-path=\"url(#p43c9bd780f)\">\n     <use style=\"fill:#00008b;fill-opacity:0.2;\" x=\"655.603395\" xlink:href=\"#C3_0_5583bc81c2\" y=\"368.853902\"/>\n    </g>\n    <g clip-path=\"url(#p43c9bd780f)\">\n     <use style=\"fill:#00008b;fill-opacity:0.2;\" x=\"655.603395\" xlink:href=\"#C3_0_5583bc81c2\" y=\"346.600296\"/>\n    </g>\n    <g clip-path=\"url(#p43c9bd780f)\">\n     <use style=\"fill:#00008b;fill-opacity:0.2;\" x=\"656.642037\" xlink:href=\"#C3_0_5583bc81c2\" y=\"344.640253\"/>\n    </g>\n    <g clip-path=\"url(#p43c9bd780f)\">\n     <use style=\"fill:#00008b;fill-opacity:0.2;\" x=\"658.719321\" xlink:href=\"#C3_0_5583bc81c2\" y=\"374.51114\"/>\n    </g>\n    <g clip-path=\"url(#p43c9bd780f)\">\n     <use style=\"fill:#00008b;fill-opacity:0.2;\" x=\"662.873889\" xlink:href=\"#C3_0_5583bc81c2\" y=\"352.943301\"/>\n    </g>\n    <g clip-path=\"url(#p43c9bd780f)\">\n     <use style=\"fill:#00008b;fill-opacity:0.2;\" x=\"668.787314\" xlink:href=\"#C3_0_5583bc81c2\" y=\"344.232764\"/>\n    </g>\n    <g clip-path=\"url(#p43c9bd780f)\">\n     <use style=\"fill:#00008b;fill-opacity:0.2;\" x=\"672.221666\" xlink:href=\"#C3_0_5583bc81c2\" y=\"350.096031\"/>\n    </g>\n    <g clip-path=\"url(#p43c9bd780f)\">\n     <use style=\"fill:#00008b;fill-opacity:0.2;\" x=\"672.221666\" xlink:href=\"#C3_0_5583bc81c2\" y=\"366.040308\"/>\n    </g>\n    <g clip-path=\"url(#p43c9bd780f)\">\n     <use style=\"fill:#00008b;fill-opacity:0.2;\" x=\"672.221666\" xlink:href=\"#C3_0_5583bc81c2\" y=\"342.606946\"/>\n    </g>\n    <g clip-path=\"url(#p43c9bd780f)\">\n     <use style=\"fill:#00008b;fill-opacity:0.2;\" x=\"674.29895\" xlink:href=\"#C3_0_5583bc81c2\" y=\"364.612835\"/>\n    </g>\n    <g clip-path=\"url(#p43c9bd780f)\">\n     <use style=\"fill:#00008b;fill-opacity:0.2;\" x=\"677.414876\" xlink:href=\"#C3_0_5583bc81c2\" y=\"374.869341\"/>\n    </g>\n    <g clip-path=\"url(#p43c9bd780f)\">\n     <use style=\"fill:#00008b;fill-opacity:0.2;\" x=\"692.994505\" xlink:href=\"#C3_0_5583bc81c2\" y=\"349.555833\"/>\n    </g>\n    <g clip-path=\"url(#p43c9bd780f)\">\n     <use style=\"fill:#00008b;fill-opacity:0.2;\" x=\"692.994505\" xlink:href=\"#C3_0_5583bc81c2\" y=\"371.509469\"/>\n    </g>\n    <g clip-path=\"url(#p43c9bd780f)\">\n     <use style=\"fill:#00008b;fill-opacity:0.2;\" x=\"692.994505\" xlink:href=\"#C3_0_5583bc81c2\" y=\"370.077019\"/>\n    </g>\n    <g clip-path=\"url(#p43c9bd780f)\">\n     <use style=\"fill:#00008b;fill-opacity:0.2;\" x=\"692.994505\" xlink:href=\"#C3_0_5583bc81c2\" y=\"353.454219\"/>\n    </g>\n    <g clip-path=\"url(#p43c9bd780f)\">\n     <use style=\"fill:#00008b;fill-opacity:0.2;\" x=\"698.187715\" xlink:href=\"#C3_0_5583bc81c2\" y=\"350.427255\"/>\n    </g>\n    <g clip-path=\"url(#p43c9bd780f)\">\n     <use style=\"fill:#00008b;fill-opacity:0.2;\" x=\"700.161135\" xlink:href=\"#C3_0_5583bc81c2\" y=\"354.718047\"/>\n    </g>\n    <g clip-path=\"url(#p43c9bd780f)\">\n     <use style=\"fill:#00008b;fill-opacity:0.2;\" x=\"713.767344\" xlink:href=\"#C3_0_5583bc81c2\" y=\"366.861552\"/>\n    </g>\n    <g clip-path=\"url(#p43c9bd780f)\">\n     <use style=\"fill:#00008b;fill-opacity:0.2;\" x=\"717.610319\" xlink:href=\"#C3_0_5583bc81c2\" y=\"357.583556\"/>\n    </g>\n    <g clip-path=\"url(#p43c9bd780f)\">\n     <use style=\"fill:#00008b;fill-opacity:0.2;\" x=\"724.153764\" xlink:href=\"#C3_0_5583bc81c2\" y=\"371.511715\"/>\n    </g>\n    <g clip-path=\"url(#p43c9bd780f)\">\n     <use style=\"fill:#00008b;fill-opacity:0.2;\" x=\"724.153764\" xlink:href=\"#C3_0_5583bc81c2\" y=\"342.709599\"/>\n    </g>\n    <g clip-path=\"url(#p43c9bd780f)\">\n     <use style=\"fill:#00008b;fill-opacity:0.2;\" x=\"731.164597\" xlink:href=\"#C3_0_5583bc81c2\" y=\"354.496417\"/>\n    </g>\n    <g clip-path=\"url(#p43c9bd780f)\">\n     <use style=\"fill:#00008b;fill-opacity:0.2;\" x=\"734.540183\" xlink:href=\"#C3_0_5583bc81c2\" y=\"371.251211\"/>\n    </g>\n    <g clip-path=\"url(#p43c9bd780f)\">\n     <use style=\"fill:#00008b;fill-opacity:0.2;\" x=\"734.540183\" xlink:href=\"#C3_0_5583bc81c2\" y=\"352.116845\"/>\n    </g>\n    <g clip-path=\"url(#p43c9bd780f)\">\n     <use style=\"fill:#00008b;fill-opacity:0.2;\" x=\"738.002309\" xlink:href=\"#C3_0_5583bc81c2\" y=\"356.531412\"/>\n    </g>\n    <g clip-path=\"url(#p43c9bd780f)\">\n     <use style=\"fill:#00008b;fill-opacity:0.2;\" x=\"744.926603\" xlink:href=\"#C3_0_5583bc81c2\" y=\"378.084716\"/>\n    </g>\n    <g clip-path=\"url(#p43c9bd780f)\">\n     <use style=\"fill:#00008b;fill-opacity:0.2;\" x=\"755.313022\" xlink:href=\"#C3_0_5583bc81c2\" y=\"346.84657\"/>\n    </g>\n    <g clip-path=\"url(#p43c9bd780f)\">\n     <use style=\"fill:#00008b;fill-opacity:0.2;\" x=\"760.506232\" xlink:href=\"#C3_0_5583bc81c2\" y=\"356.755128\"/>\n    </g>\n    <g clip-path=\"url(#p43c9bd780f)\">\n     <use style=\"fill:#00008b;fill-opacity:0.2;\" x=\"772.969935\" xlink:href=\"#C3_0_5583bc81c2\" y=\"373.443528\"/>\n    </g>\n    <g clip-path=\"url(#p43c9bd780f)\">\n     <use style=\"fill:#00008b;fill-opacity:0.2;\" x=\"773.718838\" xlink:href=\"#C3_0_5583bc81c2\" y=\"365.624608\"/>\n    </g>\n    <g clip-path=\"url(#p43c9bd780f)\">\n     <use style=\"fill:#00008b;fill-opacity:0.2;\" x=\"780.240429\" xlink:href=\"#C3_0_5583bc81c2\" y=\"342.603402\"/>\n    </g>\n    <g clip-path=\"url(#p43c9bd780f)\">\n     <use style=\"fill:#00008b;fill-opacity:0.2;\" x=\"789.934407\" xlink:href=\"#C3_0_5583bc81c2\" y=\"352.128487\"/>\n    </g>\n    <g clip-path=\"url(#p43c9bd780f)\">\n     <use style=\"fill:#00008b;fill-opacity:0.2;\" x=\"821.526446\" xlink:href=\"#C3_0_5583bc81c2\" y=\"356.03119\"/>\n    </g>\n    <g clip-path=\"url(#p43c9bd780f)\">\n     <use style=\"fill:#00008b;fill-opacity:0.2;\" x=\"825.421354\" xlink:href=\"#C3_0_5583bc81c2\" y=\"362.533815\"/>\n    </g>\n    <g clip-path=\"url(#p43c9bd780f)\">\n     <use style=\"fill:#00008b;fill-opacity:0.2;\" x=\"838.404378\" xlink:href=\"#C3_0_5583bc81c2\" y=\"354.693562\"/>\n    </g>\n    <g clip-path=\"url(#p43c9bd780f)\">\n     <use style=\"fill:#00008b;fill-opacity:0.2;\" x=\"859.177217\" xlink:href=\"#C3_0_5583bc81c2\" y=\"348.882875\"/>\n    </g>\n    <g clip-path=\"url(#p43c9bd780f)\">\n     <use style=\"fill:#00008b;fill-opacity:0.2;\" x=\"864.370427\" xlink:href=\"#C3_0_5583bc81c2\" y=\"351.919494\"/>\n    </g>\n    <g clip-path=\"url(#p43c9bd780f)\">\n     <use style=\"fill:#00008b;fill-opacity:0.2;\" x=\"869.563636\" xlink:href=\"#C3_0_5583bc81c2\" y=\"366.166348\"/>\n    </g>\n    <g clip-path=\"url(#p43c9bd780f)\">\n     <use style=\"fill:#00008b;fill-opacity:0.2;\" x=\"879.950056\" xlink:href=\"#C3_0_5583bc81c2\" y=\"349.101696\"/>\n    </g>\n    <g clip-path=\"url(#p43c9bd780f)\">\n     <use style=\"fill:#00008b;fill-opacity:0.2;\" x=\"883.412182\" xlink:href=\"#C3_0_5583bc81c2\" y=\"355.258162\"/>\n    </g>\n    <g clip-path=\"url(#p43c9bd780f)\">\n     <use style=\"fill:#00008b;fill-opacity:0.2;\" x=\"890.336475\" xlink:href=\"#C3_0_5583bc81c2\" y=\"349.801192\"/>\n    </g>\n    <g clip-path=\"url(#p43c9bd780f)\">\n     <use style=\"fill:#00008b;fill-opacity:0.2;\" x=\"890.336475\" xlink:href=\"#C3_0_5583bc81c2\" y=\"359.153677\"/>\n    </g>\n    <g clip-path=\"url(#p43c9bd780f)\">\n     <use style=\"fill:#00008b;fill-opacity:0.2;\" x=\"911.109314\" xlink:href=\"#C3_0_5583bc81c2\" y=\"366.100603\"/>\n    </g>\n    <g clip-path=\"url(#p43c9bd780f)\">\n     <use style=\"fill:#00008b;fill-opacity:0.2;\" x=\"921.495734\" xlink:href=\"#C3_0_5583bc81c2\" y=\"345.848602\"/>\n    </g>\n    <g clip-path=\"url(#p43c9bd780f)\">\n     <use style=\"fill:#00008b;fill-opacity:0.2;\" x=\"942.268573\" xlink:href=\"#C3_0_5583bc81c2\" y=\"348.842802\"/>\n    </g>\n    <g clip-path=\"url(#p43c9bd780f)\">\n     <use style=\"fill:#00008b;fill-opacity:0.2;\" x=\"1033.701657\" xlink:href=\"#C3_0_5583bc81c2\" y=\"372.159677\"/>\n    </g>\n    <g clip-path=\"url(#p43c9bd780f)\">\n     <use style=\"fill:#00008b;fill-opacity:0.2;\" x=\"1059.115792\" xlink:href=\"#C3_0_5583bc81c2\" y=\"359.463375\"/>\n    </g>\n    <g clip-path=\"url(#p43c9bd780f)\">\n     <use style=\"fill:#00008b;fill-opacity:0.2;\" x=\"1100.142149\" xlink:href=\"#C3_0_5583bc81c2\" y=\"365.803378\"/>\n    </g>\n   </g>\n   <g id=\"text_36\">\n    <!-- Stratified - MLB players salaries - Stratified Sample -->\n    <g style=\"fill:#262626;\" transform=\"translate(716.458636 253.525398)scale(0.12 -0.12)\">\n     <use xlink:href=\"#DejaVuSans-53\"/>\n     <use x=\"63.476562\" xlink:href=\"#DejaVuSans-74\"/>\n     <use x=\"102.685547\" xlink:href=\"#DejaVuSans-72\"/>\n     <use x=\"143.798828\" xlink:href=\"#DejaVuSans-61\"/>\n     <use x=\"205.078125\" xlink:href=\"#DejaVuSans-74\"/>\n     <use x=\"244.287109\" xlink:href=\"#DejaVuSans-69\"/>\n     <use x=\"272.070312\" xlink:href=\"#DejaVuSans-66\"/>\n     <use x=\"307.275391\" xlink:href=\"#DejaVuSans-69\"/>\n     <use x=\"335.058594\" xlink:href=\"#DejaVuSans-65\"/>\n     <use x=\"396.582031\" xlink:href=\"#DejaVuSans-64\"/>\n     <use x=\"460.058594\" xlink:href=\"#DejaVuSans-20\"/>\n     <use x=\"491.845703\" xlink:href=\"#DejaVuSans-2d\"/>\n     <use x=\"527.929688\" xlink:href=\"#DejaVuSans-20\"/>\n     <use x=\"559.716797\" xlink:href=\"#DejaVuSans-4d\"/>\n     <use x=\"645.996094\" xlink:href=\"#DejaVuSans-4c\"/>\n     <use x=\"701.708984\" xlink:href=\"#DejaVuSans-42\"/>\n     <use x=\"770.3125\" xlink:href=\"#DejaVuSans-20\"/>\n     <use x=\"802.099609\" xlink:href=\"#DejaVuSans-70\"/>\n     <use x=\"865.576172\" xlink:href=\"#DejaVuSans-6c\"/>\n     <use x=\"893.359375\" xlink:href=\"#DejaVuSans-61\"/>\n     <use x=\"954.638672\" xlink:href=\"#DejaVuSans-79\"/>\n     <use x=\"1013.818359\" xlink:href=\"#DejaVuSans-65\"/>\n     <use x=\"1075.341797\" xlink:href=\"#DejaVuSans-72\"/>\n     <use x=\"1116.455078\" xlink:href=\"#DejaVuSans-73\"/>\n     <use x=\"1168.554688\" xlink:href=\"#DejaVuSans-20\"/>\n     <use x=\"1200.341797\" xlink:href=\"#DejaVuSans-73\"/>\n     <use x=\"1252.441406\" xlink:href=\"#DejaVuSans-61\"/>\n     <use x=\"1313.720703\" xlink:href=\"#DejaVuSans-6c\"/>\n     <use x=\"1341.503906\" xlink:href=\"#DejaVuSans-61\"/>\n     <use x=\"1402.783203\" xlink:href=\"#DejaVuSans-72\"/>\n     <use x=\"1443.896484\" xlink:href=\"#DejaVuSans-69\"/>\n     <use x=\"1471.679688\" xlink:href=\"#DejaVuSans-65\"/>\n     <use x=\"1533.203125\" xlink:href=\"#DejaVuSans-73\"/>\n     <use x=\"1585.302734\" xlink:href=\"#DejaVuSans-20\"/>\n     <use x=\"1617.089844\" xlink:href=\"#DejaVuSans-2d\"/>\n     <use x=\"1653.173828\" xlink:href=\"#DejaVuSans-20\"/>\n     <use x=\"1684.960938\" xlink:href=\"#DejaVuSans-53\"/>\n     <use x=\"1748.4375\" xlink:href=\"#DejaVuSans-74\"/>\n     <use x=\"1787.646484\" xlink:href=\"#DejaVuSans-72\"/>\n     <use x=\"1828.759766\" xlink:href=\"#DejaVuSans-61\"/>\n     <use x=\"1890.039062\" xlink:href=\"#DejaVuSans-74\"/>\n     <use x=\"1929.248047\" xlink:href=\"#DejaVuSans-69\"/>\n     <use x=\"1957.03125\" xlink:href=\"#DejaVuSans-66\"/>\n     <use x=\"1992.236328\" xlink:href=\"#DejaVuSans-69\"/>\n     <use x=\"2020.019531\" xlink:href=\"#DejaVuSans-65\"/>\n     <use x=\"2081.542969\" xlink:href=\"#DejaVuSans-64\"/>\n     <use x=\"2145.019531\" xlink:href=\"#DejaVuSans-20\"/>\n     <use x=\"2176.806641\" xlink:href=\"#DejaVuSans-53\"/>\n     <use x=\"2240.283203\" xlink:href=\"#DejaVuSans-61\"/>\n     <use x=\"2301.5625\" xlink:href=\"#DejaVuSans-6d\"/>\n     <use x=\"2398.974609\" xlink:href=\"#DejaVuSans-70\"/>\n     <use x=\"2462.451172\" xlink:href=\"#DejaVuSans-6c\"/>\n     <use x=\"2490.234375\" xlink:href=\"#DejaVuSans-65\"/>\n    </g>\n   </g>\n  </g>\n </g>\n <defs>\n  <clipPath id=\"pac5330c67a\">\n   <rect height=\"197.672727\" width=\"507.272727\" x=\"7.2\" y=\"22.318125\"/>\n  </clipPath>\n  <clipPath id=\"p4e36dfa7bb\">\n   <rect height=\"197.672727\" width=\"507.272727\" x=\"615.927273\" y=\"22.318125\"/>\n  </clipPath>\n  <clipPath id=\"p2ed085b767\">\n   <rect height=\"197.672727\" width=\"507.272727\" x=\"7.2\" y=\"259.525398\"/>\n  </clipPath>\n  <clipPath id=\"p43c9bd780f\">\n   <rect height=\"197.672727\" width=\"507.272727\" x=\"615.927273\" y=\"259.525398\"/>\n  </clipPath>\n </defs>\n</svg>\n",
      "image/png": "[encoded data removed]"
     },
     "metadata": {}
    }
   ],
   "source": [
    "fig = plt.figure(figsize=(20,8))\n",
    "\n",
    "ax1 = fig.add_subplot(2, 2, 1)\n",
    "# Plot\n",
    "sns.set(style=\"whitegrid\")\n",
    "ax1 = sns.boxplot(x=df.salary, color='lightblue', fliersize=5,  orient='v', linewidth=1 , width=0.3, notch=True)\n",
    "ax1 = sns.stripplot(x=df.salary, orient='v', color='darkblue', alpha=0.2)\n",
    "plt.title('POPULATION - Major League Baseball players salaries')\n",
    "plt.xlabel('POPULATION - Salary (millions of dollars)')\n",
    "\n",
    "ax2 = fig.add_subplot(2, 2, 2)\n",
    "# Plot\n",
    "sns.set(style=\"whitegrid\")\n",
    "ax2 = sns.boxplot(x=simple_random_sample.salary, color='lightblue', fliersize=5,  orient='v', linewidth=1 , width=0.3, notch=True)\n",
    "ax2 = sns.stripplot(x=simple_random_sample.salary, orient='v', color='darkblue', alpha=0.2)\n",
    "plt.title(f'SAMPLE - MLB players salaries - Random Sample')\n",
    "plt.xlabel(f'SAMPLE - Salary (millions of dollars) - Random Sample k={len(simple_random_sample)}')\n",
    "\n",
    "ax3 = fig.add_subplot(2, 2, 3)\n",
    "# Plot\n",
    "sns.set(style=\"whitegrid\")\n",
    "ax3 = sns.boxplot(x=systematic_sample.salary, color='lightblue', fliersize=5,  orient='v', linewidth=1 , width=0.3, notch=True)\n",
    "ax3 = sns.stripplot(x=systematic_sample.salary, orient='v', color='darkblue', alpha=0.2)\n",
    "plt.title(f'Systematic - MLB players salaries - Systematic Sample')\n",
    "plt.xlabel(f'Systematic - Salary (millions of dollars) - Systematic Sample k={len(systematic_sample)}')\n",
    "\n",
    "ax4 = fig.add_subplot(2, 2, 4)\n",
    "# Plot\n",
    "sns.set(style=\"whitegrid\")\n",
    "ax4 = sns.boxplot(x=stratified_random_sample.salary, color='lightblue', fliersize=5,  orient='v', linewidth=1 , width=0.3, notch=True)\n",
    "ax4 = sns.stripplot(x=stratified_random_sample.salary, orient='v', color='darkblue', alpha=0.2)\n",
    "plt.title(f'Stratified - MLB players salaries - Stratified Sample')\n",
    "plt.xlabel(f'Stratified - Salary (millions of dollars) - Stratified Sample k={len(stratified_random_sample)}')"
   ]
  },
  {
   "cell_type": "code",
   "execution_count": 46,
   "metadata": {},
   "outputs": [
    {
     "output_type": "display_data",
     "data": {
      "application/vnd.plotly.v1+json": {
       "config": {
        "plotlyServerURL": "https://plot.ly"
       },
       "data": [
        {
         "type": "scatter",
         "x": [
          8500,
          8250,
          5250,
          4600,
          4500,
          4185,
          3450,
          3400,
          3100,
          2350,
          2150,
          2000,
          2000,
          833.333,
          825,
          725,
          708.333,
          650,
          411,
          409.5,
          407,
          405.5,
          404.5,
          403,
          401,
          400,
          15000,
          14000,
          9000,
          7333.666,
          6750,
          5700,
          5000,
          3200,
          3100,
          2550,
          2225,
          1750,
          1600,
          1150,
          1000,
          480,
          440,
          440,
          435,
          435,
          415,
          410,
          407.5,
          402.5,
          400,
          400,
          400,
          12000,
          10000,
          9250,
          7100,
          6000,
          6000,
          5000,
          4050,
          4000,
          3500,
          3000,
          2600,
          1350,
          1300,
          1200,
          850,
          680,
          465,
          440,
          420,
          405,
          402.5,
          400,
          400,
          400,
          400,
          18700,
          14000,
          13000,
          12500,
          12100,
          9375,
          9350,
          9000,
          8525,
          8333.333,
          7750,
          7700,
          5500,
          3750,
          3750,
          3500,
          3345,
          3000,
          2750,
          1155,
          1100,
          905,
          650,
          500,
          496.5,
          443,
          434,
          420,
          415.5,
          19000,
          18875,
          16750,
          14000,
          13500,
          13250,
          13000,
          12750,
          3300,
          3000,
          3000,
          2700,
          2600,
          2125,
          1000,
          975,
          950,
          900,
          825,
          800,
          700,
          575,
          427,
          403,
          403,
          401,
          400,
          15000,
          14000,
          12000,
          10200,
          7500,
          7000,
          6750,
          5000,
          3750,
          3450,
          3200,
          3000,
          2750,
          2250,
          1500,
          1375,
          1225,
          1200,
          1000,
          800,
          500,
          445,
          420,
          415,
          400,
          400,
          12500,
          12125,
          11625,
          7666.666,
          6937.5,
          3868.376,
          2700,
          2500,
          2020,
          2000,
          1035,
          800,
          525,
          445,
          445,
          440,
          440,
          418,
          416,
          415,
          415,
          412.5,
          412.5,
          400,
          400,
          400,
          11500,
          11000,
          10500,
          5766.666,
          5087.5,
          4850,
          1500,
          900,
          850,
          795,
          750,
          600,
          461.1,
          444.6,
          427.5,
          427,
          425,
          423.8,
          422.4,
          421.9,
          414.7,
          413.4,
          410.7,
          407.3,
          402.7,
          401.2,
          400.8,
          400.7,
          400,
          17775,
          9625,
          7500,
          7200,
          5750,
          5600,
          3775,
          3500,
          3325,
          2750,
          2000,
          1900,
          1750,
          1750,
          1300,
          1275,
          1250,
          1055,
          850,
          650,
          408,
          407,
          406,
          406,
          406,
          404,
          403,
          401,
          20000,
          17825.976,
          13000,
          12500,
          12000,
          8000,
          6886.052,
          6850,
          6600,
          3950,
          2475,
          1920,
          1550,
          1500,
          1250,
          1000,
          950,
          915,
          438,
          425,
          408.5,
          407.5,
          405,
          404.9,
          404,
          400,
          400,
          10000,
          7800,
          7000,
          6000,
          4450,
          3800,
          3750,
          2000,
          1790.219,
          1250,
          1100,
          1075,
          950,
          550,
          500,
          475,
          425,
          420,
          420,
          415,
          415,
          415,
          412.5,
          407.5,
          405,
          403.5,
          401,
          19000,
          15000,
          14500,
          5500,
          5000,
          4500,
          4250,
          3500,
          3100,
          3000,
          2400,
          1625,
          1600,
          1500,
          1150,
          815,
          800,
          750,
          700,
          425,
          415.5,
          415,
          406.5,
          402.5,
          401,
          400,
          400,
          400,
          12400,
          12000,
          7250,
          4700,
          4500,
          3300,
          3250,
          3000,
          2750,
          2300,
          2250,
          1800,
          1760,
          1700,
          1650,
          1150,
          950,
          665,
          600,
          470,
          460,
          429,
          428,
          422,
          414.5,
          406.21,
          400.5,
          18500,
          9000,
          9000,
          8000,
          8000,
          6000,
          6000,
          5500,
          5350,
          4265,
          4250,
          3700,
          3600,
          2766.666,
          2050,
          1750,
          1300,
          1200,
          625,
          435,
          420,
          418,
          415,
          410,
          405,
          402.2,
          402,
          400,
          400,
          18695.006,
          15433.333,
          9500,
          6250,
          5750,
          5050,
          5025,
          4500,
          4000,
          4000,
          3850,
          3100,
          1535.677,
          1000,
          950,
          850,
          825,
          800,
          800,
          550,
          440,
          416,
          412.5,
          411,
          410,
          404.5,
          400,
          12750,
          11000,
          8800.276,
          7500,
          4800,
          4500,
          4250,
          4215,
          3250,
          2750,
          2100,
          2025.002,
          2000,
          1900,
          1287.5,
          1100,
          950,
          900,
          850,
          450,
          440,
          427.5,
          420,
          416,
          408.5,
          406.5,
          406.5,
          405.5,
          400,
          15000,
          12500,
          11250,
          9416.666,
          7000,
          5100,
          5000,
          4100,
          4000,
          3150,
          3000,
          2900,
          2600,
          2000,
          1600,
          1500,
          1450,
          900,
          750,
          750,
          625,
          470,
          437.5,
          430,
          417.5,
          412.5,
          400,
          400,
          20144.707,
          19401.569,
          12166.666,
          12000,
          11400,
          10250,
          9375,
          8625,
          6250,
          5000,
          3300,
          2900,
          1850,
          1500,
          1250,
          1250,
          1000,
          975,
          900,
          850,
          750,
          650,
          500,
          500,
          419,
          414,
          402,
          400,
          33000,
          24285.714,
          22600,
          20625,
          16500,
          15000,
          13100,
          11750,
          11500,
          9000,
          6850,
          5500,
          5500,
          4000,
          1200,
          1100,
          900,
          850,
          487.975,
          452.5,
          447,
          435.65,
          426.65,
          412.1,
          410.8,
          12500,
          10000,
          5500,
          5000,
          3100,
          2200,
          1750,
          1350,
          750,
          700,
          557.5,
          435,
          427.4,
          425,
          420,
          420,
          420,
          410,
          410,
          410,
          410,
          410,
          410,
          410,
          405,
          405,
          405,
          405,
          405,
          405,
          400,
          19000,
          15750,
          15285.714,
          12166.666,
          12000,
          8500,
          8000,
          7500,
          6650,
          5166.666,
          5000,
          4833.333,
          4250,
          3000,
          2500,
          2125,
          1900,
          1500,
          1350,
          1125,
          1000,
          700,
          480,
          470,
          470,
          405,
          401,
          400,
          5000,
          4850,
          4300,
          3650,
          3250,
          1500,
          1350,
          1125,
          1000,
          950,
          835,
          775,
          453,
          452,
          451,
          444.5,
          439,
          425,
          422.5,
          422.5,
          416.5,
          413.5,
          410,
          405,
          402,
          401.5,
          400,
          6375,
          4875,
          4700,
          4000,
          3600,
          2450,
          2125,
          1000,
          1000,
          750,
          700,
          427.7,
          423.7,
          419.8,
          419.8,
          418.8,
          416.5,
          415.7,
          415.1,
          413.5,
          412.8,
          412.7,
          410.6,
          408.5,
          407.8,
          401.3,
          18500,
          13600,
          10000,
          9000,
          6500,
          6000,
          6000,
          4583.333,
          4500,
          4000,
          3250,
          3000,
          2100,
          1000,
          820,
          750,
          465,
          455,
          426,
          417,
          416.5,
          416.5,
          416,
          410,
          410,
          405,
          400.5,
          400.5,
          18000,
          11000,
          9000,
          8500,
          7200,
          5000,
          4450,
          3517.5,
          3000,
          2750,
          2350,
          2312.5,
          1500,
          1150,
          1087.5,
          650,
          525,
          440,
          416.5,
          415,
          412.5,
          412.5,
          412.5,
          406.5,
          401,
          401,
          400,
          400,
          16333.327,
          15840.971,
          14595.953,
          9187.5,
          7500,
          5450,
          4837.5,
          4312.5,
          3050,
          2000,
          2000,
          2000,
          1000,
          950,
          425,
          425,
          418,
          411,
          402,
          402,
          400,
          400,
          400,
          400,
          400,
          10125,
          10000,
          9000,
          7250,
          4000,
          3500,
          3350,
          3000,
          2500,
          2250,
          2100,
          2050,
          1834.671,
          1800,
          1350,
          1200,
          1054,
          1032,
          950,
          700,
          438.1,
          416.9,
          406,
          405.5,
          404.9,
          403.7,
          402.7,
          13174.974,
          6500,
          5500,
          4200,
          3265,
          3250,
          3100,
          3000,
          2425,
          1750,
          975,
          665,
          600,
          550,
          510,
          440,
          427.67,
          426.7,
          418.58,
          418.42,
          414.12,
          409.85,
          407.4,
          407.01,
          406.09,
          404.73,
          402,
          402,
          401,
          15687.5,
          7950,
          5175,
          4000,
          4000,
          2750,
          2650,
          2400,
          2000,
          2000,
          2000,
          1500,
          1150,
          1080,
          850,
          800,
          700,
          550,
          500,
          419.5,
          414.7,
          409.9,
          409.8,
          409.5,
          408.3,
          405.8,
          405,
          404.3,
          404,
          400.7,
          12000,
          8000,
          7500,
          6350,
          4600,
          3500,
          3000,
          2000,
          1500,
          1500,
          1250,
          1000,
          775,
          750,
          750,
          700,
          650,
          650,
          458,
          426.5,
          415.5,
          411,
          410,
          402,
          401,
          401,
          400,
          400,
          400,
          400
         ],
         "xaxis": "x",
         "yaxis": "y"
        },
        {
         "type": "scatter",
         "x": [
          18700,
          15687.5,
          15285.714,
          14000,
          13500,
          13000,
          12750,
          12166.666,
          12000,
          11000,
          9000,
          8800.276,
          8500,
          8000,
          8000,
          7500,
          7000,
          6000,
          6000,
          5500,
          5500,
          5000,
          4850,
          4850,
          4300,
          4000,
          3700,
          3650,
          3500,
          3500,
          3200,
          3000,
          2700,
          2000,
          2000,
          1900,
          1650,
          1500,
          1500,
          1450,
          1250,
          1200,
          1150,
          1035,
          950,
          915,
          900,
          775,
          775,
          750,
          750,
          665,
          625,
          487.975,
          475,
          470,
          470,
          453,
          445,
          440,
          440,
          440,
          435,
          420,
          416,
          412.7,
          412.5,
          412.5,
          410,
          410,
          407.5,
          407,
          406.21,
          405,
          404.9,
          404,
          403,
          401,
          401,
          401,
          400,
          400,
          400
         ],
         "xaxis": "x2",
         "yaxis": "y2"
        },
        {
         "type": "scatter",
         "x": [
          19000,
          16750,
          14500,
          14000,
          13100,
          11400,
          11250,
          11000,
          11000,
          10000,
          9187.5,
          8500,
          7700,
          7500,
          7000,
          6886.052,
          6750,
          6500,
          5766.666,
          5750,
          5500,
          5175,
          5000,
          4500,
          4300,
          4050,
          4000,
          4000,
          2600,
          2600,
          2500,
          2450,
          2312.5,
          2150,
          2025.002,
          2000,
          1650,
          1600,
          1375,
          1300,
          1250,
          1250,
          1200,
          1150,
          1000,
          1000,
          950,
          950,
          950,
          905,
          900,
          800,
          775,
          665,
          465,
          453,
          444.6,
          437.5,
          435,
          427.5,
          427,
          419,
          418.8,
          417,
          415,
          415,
          414.5,
          412.5,
          410,
          410,
          410,
          409.85,
          409.8,
          407.3,
          407,
          406.5,
          406,
          401.3,
          400,
          400,
          400,
          400,
          400
         ],
         "xaxis": "x3",
         "yaxis": "y3"
        },
        {
         "type": "scatter",
         "x": [
          400,
          400,
          400,
          400,
          400,
          400,
          401,
          401.3,
          402,
          404,
          404.5,
          405,
          405,
          406.5,
          407.5,
          410.6,
          411,
          412.5,
          414.7,
          415,
          415,
          416.5,
          417.5,
          418,
          419.8,
          423.8,
          425,
          425,
          426.5,
          426.7,
          427.4,
          428,
          435.65,
          438,
          439,
          440,
          444.6,
          447,
          461.1,
          510,
          650,
          665,
          700,
          700,
          708.333,
          800,
          825,
          950,
          975,
          1000,
          1000,
          1075,
          1200,
          1200,
          1250,
          1350,
          1550,
          1834.671,
          2000,
          2000,
          2000,
          2100,
          2250,
          3000,
          3000,
          3000,
          3000,
          3250,
          3345,
          4000,
          4185,
          4500,
          4500,
          4837.5,
          5000,
          5000,
          5166.666,
          5500,
          6000,
          6250,
          6850,
          6886.052,
          7200,
          7666.666,
          9187.5,
          9375,
          10000,
          11000,
          11250,
          11500,
          12000,
          12166.666,
          12500,
          12500,
          13500,
          14000,
          15000,
          19401.569,
          20625,
          22600
         ],
         "xaxis": "x4",
         "yaxis": "y4"
        }
       ],
       "layout": {
        "annotations": [
         {
          "font": {
           "size": 16
          },
          "showarrow": false,
          "text": "Population - MLB players",
          "x": 0.225,
          "xanchor": "center",
          "xref": "paper",
          "y": 1,
          "yanchor": "bottom",
          "yref": "paper"
         },
         {
          "font": {
           "size": 16
          },
          "showarrow": false,
          "text": "Random Sample k=83",
          "x": 0.775,
          "xanchor": "center",
          "xref": "paper",
          "y": 1,
          "yanchor": "bottom",
          "yref": "paper"
         },
         {
          "font": {
           "size": 16
          },
          "showarrow": false,
          "text": "Systematic Sample k=83",
          "x": 0.225,
          "xanchor": "center",
          "xref": "paper",
          "y": 0.375,
          "yanchor": "bottom",
          "yref": "paper"
         },
         {
          "font": {
           "size": 16
          },
          "showarrow": false,
          "text": "Stratified Sample k=100",
          "x": 0.775,
          "xanchor": "center",
          "xref": "paper",
          "y": 0.375,
          "yanchor": "bottom",
          "yref": "paper"
         }
        ],
        "height": 500,
        "template": {
         "data": {
          "bar": [
           {
            "error_x": {
             "color": "#2a3f5f"
            },
            "error_y": {
             "color": "#2a3f5f"
            },
            "marker": {
             "line": {
              "color": "#E5ECF6",
              "width": 0.5
             }
            },
            "type": "bar"
           }
          ],
          "barpolar": [
           {
            "marker": {
             "line": {
              "color": "#E5ECF6",
              "width": 0.5
             }
            },
            "type": "barpolar"
           }
          ],
          "carpet": [
           {
            "aaxis": {
             "endlinecolor": "#2a3f5f",
             "gridcolor": "white",
             "linecolor": "white",
             "minorgridcolor": "white",
             "startlinecolor": "#2a3f5f"
            },
            "baxis": {
             "endlinecolor": "#2a3f5f",
             "gridcolor": "white",
             "linecolor": "white",
             "minorgridcolor": "white",
             "startlinecolor": "#2a3f5f"
            },
            "type": "carpet"
           }
          ],
          "choropleth": [
           {
            "colorbar": {
             "outlinewidth": 0,
             "ticks": ""
            },
            "type": "choropleth"
           }
          ],
          "contour": [
           {
            "colorbar": {
             "outlinewidth": 0,
             "ticks": ""
            },
            "colorscale": [
             [
              0,
              "#0d0887"
             ],
             [
              0.1111111111111111,
              "#46039f"
             ],
             [
              0.2222222222222222,
              "#7201a8"
             ],
             [
              0.3333333333333333,
              "#9c179e"
             ],
             [
              0.4444444444444444,
              "#bd3786"
             ],
             [
              0.5555555555555556,
              "#d8576b"
             ],
             [
              0.6666666666666666,
              "#ed7953"
             ],
             [
              0.7777777777777778,
              "#fb9f3a"
             ],
             [
              0.8888888888888888,
              "#fdca26"
             ],
             [
              1,
              "#f0f921"
             ]
            ],
            "type": "contour"
           }
          ],
          "contourcarpet": [
           {
            "colorbar": {
             "outlinewidth": 0,
             "ticks": ""
            },
            "type": "contourcarpet"
           }
          ],
          "heatmap": [
           {
            "colorbar": {
             "outlinewidth": 0,
             "ticks": ""
            },
            "colorscale": [
             [
              0,
              "#0d0887"
             ],
             [
              0.1111111111111111,
              "#46039f"
             ],
             [
              0.2222222222222222,
              "#7201a8"
             ],
             [
              0.3333333333333333,
              "#9c179e"
             ],
             [
              0.4444444444444444,
              "#bd3786"
             ],
             [
              0.5555555555555556,
              "#d8576b"
             ],
             [
              0.6666666666666666,
              "#ed7953"
             ],
             [
              0.7777777777777778,
              "#fb9f3a"
             ],
             [
              0.8888888888888888,
              "#fdca26"
             ],
             [
              1,
              "#f0f921"
             ]
            ],
            "type": "heatmap"
           }
          ],
          "heatmapgl": [
           {
            "colorbar": {
             "outlinewidth": 0,
             "ticks": ""
            },
            "colorscale": [
             [
              0,
              "#0d0887"
             ],
             [
              0.1111111111111111,
              "#46039f"
             ],
             [
              0.2222222222222222,
              "#7201a8"
             ],
             [
              0.3333333333333333,
              "#9c179e"
             ],
             [
              0.4444444444444444,
              "#bd3786"
             ],
             [
              0.5555555555555556,
              "#d8576b"
             ],
             [
              0.6666666666666666,
              "#ed7953"
             ],
             [
              0.7777777777777778,
              "#fb9f3a"
             ],
             [
              0.8888888888888888,
              "#fdca26"
             ],
             [
              1,
              "#f0f921"
             ]
            ],
            "type": "heatmapgl"
           }
          ],
          "histogram": [
           {
            "marker": {
             "colorbar": {
              "outlinewidth": 0,
              "ticks": ""
             }
            },
            "type": "histogram"
           }
          ],
          "histogram2d": [
           {
            "colorbar": {
             "outlinewidth": 0,
             "ticks": ""
            },
            "colorscale": [
             [
              0,
              "#0d0887"
             ],
             [
              0.1111111111111111,
              "#46039f"
             ],
             [
              0.2222222222222222,
              "#7201a8"
             ],
             [
              0.3333333333333333,
              "#9c179e"
             ],
             [
              0.4444444444444444,
              "#bd3786"
             ],
             [
              0.5555555555555556,
              "#d8576b"
             ],
             [
              0.6666666666666666,
              "#ed7953"
             ],
             [
              0.7777777777777778,
              "#fb9f3a"
             ],
             [
              0.8888888888888888,
              "#fdca26"
             ],
             [
              1,
              "#f0f921"
             ]
            ],
            "type": "histogram2d"
           }
          ],
          "histogram2dcontour": [
           {
            "colorbar": {
             "outlinewidth": 0,
             "ticks": ""
            },
            "colorscale": [
             [
              0,
              "#0d0887"
             ],
             [
              0.1111111111111111,
              "#46039f"
             ],
             [
              0.2222222222222222,
              "#7201a8"
             ],
             [
              0.3333333333333333,
              "#9c179e"
             ],
             [
              0.4444444444444444,
              "#bd3786"
             ],
             [
              0.5555555555555556,
              "#d8576b"
             ],
             [
              0.6666666666666666,
              "#ed7953"
             ],
             [
              0.7777777777777778,
              "#fb9f3a"
             ],
             [
              0.8888888888888888,
              "#fdca26"
             ],
             [
              1,
              "#f0f921"
             ]
            ],
            "type": "histogram2dcontour"
           }
          ],
          "mesh3d": [
           {
            "colorbar": {
             "outlinewidth": 0,
             "ticks": ""
            },
            "type": "mesh3d"
           }
          ],
          "parcoords": [
           {
            "line": {
             "colorbar": {
              "outlinewidth": 0,
              "ticks": ""
             }
            },
            "type": "parcoords"
           }
          ],
          "pie": [
           {
            "automargin": true,
            "type": "pie"
           }
          ],
          "scatter": [
           {
            "marker": {
             "colorbar": {
              "outlinewidth": 0,
              "ticks": ""
             }
            },
            "type": "scatter"
           }
          ],
          "scatter3d": [
           {
            "line": {
             "colorbar": {
              "outlinewidth": 0,
              "ticks": ""
             }
            },
            "marker": {
             "colorbar": {
              "outlinewidth": 0,
              "ticks": ""
             }
            },
            "type": "scatter3d"
           }
          ],
          "scattercarpet": [
           {
            "marker": {
             "colorbar": {
              "outlinewidth": 0,
              "ticks": ""
             }
            },
            "type": "scattercarpet"
           }
          ],
          "scattergeo": [
           {
            "marker": {
             "colorbar": {
              "outlinewidth": 0,
              "ticks": ""
             }
            },
            "type": "scattergeo"
           }
          ],
          "scattergl": [
           {
            "marker": {
             "colorbar": {
              "outlinewidth": 0,
              "ticks": ""
             }
            },
            "type": "scattergl"
           }
          ],
          "scattermapbox": [
           {
            "marker": {
             "colorbar": {
              "outlinewidth": 0,
              "ticks": ""
             }
            },
            "type": "scattermapbox"
           }
          ],
          "scatterpolar": [
           {
            "marker": {
             "colorbar": {
              "outlinewidth": 0,
              "ticks": ""
             }
            },
            "type": "scatterpolar"
           }
          ],
          "scatterpolargl": [
           {
            "marker": {
             "colorbar": {
              "outlinewidth": 0,
              "ticks": ""
             }
            },
            "type": "scatterpolargl"
           }
          ],
          "scatterternary": [
           {
            "marker": {
             "colorbar": {
              "outlinewidth": 0,
              "ticks": ""
             }
            },
            "type": "scatterternary"
           }
          ],
          "surface": [
           {
            "colorbar": {
             "outlinewidth": 0,
             "ticks": ""
            },
            "colorscale": [
             [
              0,
              "#0d0887"
             ],
             [
              0.1111111111111111,
              "#46039f"
             ],
             [
              0.2222222222222222,
              "#7201a8"
             ],
             [
              0.3333333333333333,
              "#9c179e"
             ],
             [
              0.4444444444444444,
              "#bd3786"
             ],
             [
              0.5555555555555556,
              "#d8576b"
             ],
             [
              0.6666666666666666,
              "#ed7953"
             ],
             [
              0.7777777777777778,
              "#fb9f3a"
             ],
             [
              0.8888888888888888,
              "#fdca26"
             ],
             [
              1,
              "#f0f921"
             ]
            ],
            "type": "surface"
           }
          ],
          "table": [
           {
            "cells": {
             "fill": {
              "color": "#EBF0F8"
             },
             "line": {
              "color": "white"
             }
            },
            "header": {
             "fill": {
              "color": "#C8D4E3"
             },
             "line": {
              "color": "white"
             }
            },
            "type": "table"
           }
          ]
         },
         "layout": {
          "annotationdefaults": {
           "arrowcolor": "#2a3f5f",
           "arrowhead": 0,
           "arrowwidth": 1
          },
          "autotypenumbers": "strict",
          "coloraxis": {
           "colorbar": {
            "outlinewidth": 0,
            "ticks": ""
           }
          },
          "colorscale": {
           "diverging": [
            [
             0,
             "#8e0152"
            ],
            [
             0.1,
             "#c51b7d"
            ],
            [
             0.2,
             "#de77ae"
            ],
            [
             0.3,
             "#f1b6da"
            ],
            [
             0.4,
             "#fde0ef"
            ],
            [
             0.5,
             "#f7f7f7"
            ],
            [
             0.6,
             "#e6f5d0"
            ],
            [
             0.7,
             "#b8e186"
            ],
            [
             0.8,
             "#7fbc41"
            ],
            [
             0.9,
             "#4d9221"
            ],
            [
             1,
             "#276419"
            ]
           ],
           "sequential": [
            [
             0,
             "#0d0887"
            ],
            [
             0.1111111111111111,
             "#46039f"
            ],
            [
             0.2222222222222222,
             "#7201a8"
            ],
            [
             0.3333333333333333,
             "#9c179e"
            ],
            [
             0.4444444444444444,
             "#bd3786"
            ],
            [
             0.5555555555555556,
             "#d8576b"
            ],
            [
             0.6666666666666666,
             "#ed7953"
            ],
            [
             0.7777777777777778,
             "#fb9f3a"
            ],
            [
             0.8888888888888888,
             "#fdca26"
            ],
            [
             1,
             "#f0f921"
            ]
           ],
           "sequentialminus": [
            [
             0,
             "#0d0887"
            ],
            [
             0.1111111111111111,
             "#46039f"
            ],
            [
             0.2222222222222222,
             "#7201a8"
            ],
            [
             0.3333333333333333,
             "#9c179e"
            ],
            [
             0.4444444444444444,
             "#bd3786"
            ],
            [
             0.5555555555555556,
             "#d8576b"
            ],
            [
             0.6666666666666666,
             "#ed7953"
            ],
            [
             0.7777777777777778,
             "#fb9f3a"
            ],
            [
             0.8888888888888888,
             "#fdca26"
            ],
            [
             1,
             "#f0f921"
            ]
           ]
          },
          "colorway": [
           "#636efa",
           "#EF553B",
           "#00cc96",
           "#ab63fa",
           "#FFA15A",
           "#19d3f3",
           "#FF6692",
           "#B6E880",
           "#FF97FF",
           "#FECB52"
          ],
          "font": {
           "color": "#2a3f5f"
          },
          "geo": {
           "bgcolor": "white",
           "lakecolor": "white",
           "landcolor": "#E5ECF6",
           "showlakes": true,
           "showland": true,
           "subunitcolor": "white"
          },
          "hoverlabel": {
           "align": "left"
          },
          "hovermode": "closest",
          "mapbox": {
           "style": "light"
          },
          "paper_bgcolor": "white",
          "plot_bgcolor": "#E5ECF6",
          "polar": {
           "angularaxis": {
            "gridcolor": "white",
            "linecolor": "white",
            "ticks": ""
           },
           "bgcolor": "#E5ECF6",
           "radialaxis": {
            "gridcolor": "white",
            "linecolor": "white",
            "ticks": ""
           }
          },
          "scene": {
           "xaxis": {
            "backgroundcolor": "#E5ECF6",
            "gridcolor": "white",
            "gridwidth": 2,
            "linecolor": "white",
            "showbackground": true,
            "ticks": "",
            "zerolinecolor": "white"
           },
           "yaxis": {
            "backgroundcolor": "#E5ECF6",
            "gridcolor": "white",
            "gridwidth": 2,
            "linecolor": "white",
            "showbackground": true,
            "ticks": "",
            "zerolinecolor": "white"
           },
           "zaxis": {
            "backgroundcolor": "#E5ECF6",
            "gridcolor": "white",
            "gridwidth": 2,
            "linecolor": "white",
            "showbackground": true,
            "ticks": "",
            "zerolinecolor": "white"
           }
          },
          "shapedefaults": {
           "line": {
            "color": "#2a3f5f"
           }
          },
          "ternary": {
           "aaxis": {
            "gridcolor": "white",
            "linecolor": "white",
            "ticks": ""
           },
           "baxis": {
            "gridcolor": "white",
            "linecolor": "white",
            "ticks": ""
           },
           "bgcolor": "#E5ECF6",
           "caxis": {
            "gridcolor": "white",
            "linecolor": "white",
            "ticks": ""
           }
          },
          "title": {
           "x": 0.05
          },
          "xaxis": {
           "automargin": true,
           "gridcolor": "white",
           "linecolor": "white",
           "ticks": "",
           "title": {
            "standoff": 15
           },
           "zerolinecolor": "white",
           "zerolinewidth": 2
          },
          "yaxis": {
           "automargin": true,
           "gridcolor": "white",
           "linecolor": "white",
           "ticks": "",
           "title": {
            "standoff": 15
           },
           "zerolinecolor": "white",
           "zerolinewidth": 2
          }
         }
        },
        "title": {
         "text": "Major League Baseball players salaries"
        },
        "width": 900,
        "xaxis": {
         "anchor": "y",
         "domain": [
          0,
          0.45
         ]
        },
        "xaxis2": {
         "anchor": "y2",
         "domain": [
          0.55,
          1
         ]
        },
        "xaxis3": {
         "anchor": "y3",
         "domain": [
          0,
          0.45
         ]
        },
        "xaxis4": {
         "anchor": "y4",
         "domain": [
          0.55,
          1
         ]
        },
        "yaxis": {
         "anchor": "x",
         "domain": [
          0.625,
          1
         ]
        },
        "yaxis2": {
         "anchor": "x2",
         "domain": [
          0.625,
          1
         ]
        },
        "yaxis3": {
         "anchor": "x3",
         "domain": [
          0,
          0.375
         ]
        },
        "yaxis4": {
         "anchor": "x4",
         "domain": [
          0,
          0.375
         ]
        }
       }
      }
     },
     "metadata": {}
    }
   ],
   "source": [
    "fig = make_subplots(\n",
    "    rows=2, cols=2,\n",
    "    subplot_titles=('Population - MLB players',f'Random Sample k={len(simple_random_sample)}', f'Systematic Sample k={len(systematic_sample)}', f'Stratified Sample k={len(stratified_random_sample)}'))\n",
    "\n",
    "fig.add_trace(go.Scatter(x=df.salary),row=1, col=1)\n",
    "\n",
    "fig.add_trace(go.Scatter(x=simple_random_sample.salary),row=1, col=2)\n",
    "\n",
    "fig.add_trace(go.Scatter(x=systematic_sample.salary),row=2, col=1)\n",
    "\n",
    "fig.add_trace(go.Scatter(x=stratified_random_sample.salary),row=2, col=2)\n",
    "\n",
    "fig.update_layout(height=500, width=900,\n",
    "                  title_text=\"Major League Baseball players salaries\")\n",
    "\n",
    "fig.show()"
   ]
  },
  {
   "cell_type": "code",
   "execution_count": null,
   "metadata": {},
   "outputs": [],
   "source": []
  }
 ]
}