{
 "metadata": {
  "language_info": {
   "codemirror_mode": {
    "name": "ipython",
    "version": 3
   },
   "file_extension": ".py",
   "mimetype": "text/x-python",
   "name": "python",
   "nbconvert_exporter": "python",
   "pygments_lexer": "ipython3",
   "version": "3.8.5-final"
  },
  "orig_nbformat": 2,
  "kernelspec": {
   "name": "python385jvsc74a57bd031f2aee4e71d21fbe5cf8b01ff0e069b9275f58929596ceb00d14d90e3e16cd6",
   "display_name": "Python 3.8.5 64-bit"
  },
  "metadata": {
   "interpreter": {
    "hash": "31f2aee4e71d21fbe5cf8b01ff0e069b9275f58929596ceb00d14d90e3e16cd6"
   }
  }
 },
 "nbformat": 4,
 "nbformat_minor": 2,
 "cells": [
  {
   "source": [
    "# IT Academy - Data Science with Python\n",
    "## Sprint 6: Sampling Methods\n",
    "### [Github Sampling Methods](https://github.com/jesussantana/Sampling)\n",
    "\n",
    "[![forthebadge made-with-python](http://ForTheBadge.com/images/badges/made-with-python.svg)](https://www.python.org/)  \n",
    "[![Made withJupyter](https://img.shields.io/badge/Made%20with-Jupyter-orange?style=for-the-badge&logo=Jupyter)](https://jupyter.org/try)  \n",
    "[![wakatime](https://wakatime.com/badge/github/jesussantana/Sampling.svg)](https://wakatime.com/badge/github/jesussantana/Sampling)"
   ],
   "cell_type": "markdown",
   "metadata": {}
  },
  {
   "source": [
    "### Exercise 1:  \n",
    "\n",
    "  - Grab a sports-themed dataset you like. Performs a sampling of the data generating a simple random sample and a systematic sample."
   ],
   "cell_type": "markdown",
   "metadata": {}
  },
  {
   "cell_type": "code",
   "execution_count": null,
   "metadata": {},
   "outputs": [],
   "source": [
    "!pip install imblearn\n",
    "\n",
    "import pandas as pd \n",
    "import numpy as np\n",
    "from numpy import where\n",
    "import random as rd\n",
    "import warnings\n",
    "\n",
    "import seaborn as sns\n",
    "import matplotlib.pyplot as plt\n",
    "from matplotlib import pyplot\n",
    "from numpy import where\n",
    "%matplotlib inline\n",
    "\n",
    "from sklearn.model_selection import StratifiedShuffleSplit\n",
    "from sklearn.datasets import make_classification\n",
    "from imblearn.over_sampling import SMOTE\n",
    "from collections import Counter\n",
    "\n",
    "warnings.filterwarnings('ignore')\n",
    "sns.set_theme(style='darkgrid', palette='deep')"
   ]
  },
  {
   "cell_type": "code",
   "execution_count": null,
   "metadata": {},
   "outputs": [],
   "source": [
    "pd.set_option('display.max_columns', None)\n",
    "\n",
    "path = '../data/'\n",
    "file = 'raw/MLB.txt'\n",
    "\n",
    "df_raw= pd.read_table(path+file)\n",
    "\n",
    "df = df_raw.copy()\n",
    "\n",
    "df.head()"
   ]
  },
  {
   "cell_type": "code",
   "execution_count": null,
   "metadata": {},
   "outputs": [],
   "source": [
    "df.tail()"
   ]
  },
  {
   "cell_type": "code",
   "execution_count": null,
   "metadata": {},
   "outputs": [],
   "source": [
    "df.describe().round(2)"
   ]
  },
  {
   "cell_type": "code",
   "execution_count": null,
   "metadata": {},
   "outputs": [],
   "source": [
    "df.info()"
   ]
  },
  {
   "cell_type": "code",
   "execution_count": null,
   "metadata": {},
   "outputs": [],
   "source": [
    "df.shape"
   ]
  },
  {
   "cell_type": "code",
   "execution_count": null,
   "metadata": {},
   "outputs": [],
   "source": [
    "df.columns"
   ]
  },
  {
   "cell_type": "code",
   "execution_count": null,
   "metadata": {},
   "outputs": [],
   "source": [
    "# Store the real mean in a separate variable\n",
    "real_mean = round(df['salary'].mean(),3)\n",
    "real_mean"
   ]
  },
  {
   "source": [
    "### Simple Random Sample"
   ],
   "cell_type": "markdown",
   "metadata": {}
  },
  {
   "cell_type": "code",
   "execution_count": null,
   "metadata": {},
   "outputs": [],
   "source": [
    "simple_random_sample= df.sample(frac=0.1, replace=True, random_state=6858).sort_values(by='salary', ascending=False)"
   ]
  },
  {
   "cell_type": "code",
   "execution_count": null,
   "metadata": {},
   "outputs": [],
   "source": [
    "simple_random_sample.head()"
   ]
  },
  {
   "cell_type": "code",
   "execution_count": null,
   "metadata": {},
   "outputs": [],
   "source": [
    "simple_random_sample.shape"
   ]
  },
  {
   "cell_type": "code",
   "execution_count": null,
   "metadata": {},
   "outputs": [],
   "source": [
    "simple_random_mean = round(simple_random_sample['salary'].mean(),3)\n",
    "simple_random_mean"
   ]
  },
  {
   "cell_type": "code",
   "execution_count": null,
   "metadata": {},
   "outputs": [],
   "source": [
    "real_mean"
   ]
  },
  {
   "cell_type": "code",
   "execution_count": null,
   "metadata": {},
   "outputs": [],
   "source": [
    "abs(simple_random_sample.salary.mean()-df.salary.mean())/simple_random_sample.salary.mean()*100"
   ]
  },
  {
   "cell_type": "code",
   "execution_count": null,
   "metadata": {},
   "outputs": [],
   "source": [
    "simple_random_sample.position.value_counts(normalize=True)"
   ]
  },
  {
   "cell_type": "code",
   "execution_count": null,
   "metadata": {},
   "outputs": [],
   "source": [
    "df.position.value_counts(normalize=True)"
   ]
  },
  {
   "cell_type": "code",
   "execution_count": null,
   "metadata": {},
   "outputs": [],
   "source": [
    "k = int(np.ceil(1+np.log2(len(simple_random_sample))))  # Sturges Rule\n",
    "\n",
    "plt.hist(simple_random_sample['salary'], bins= k)\n",
    "plt.title(f\"SAMPLE - MLB players’ salaries - Random Sample k={len(simple_random_sample)}\")\n",
    "plt.ylabel('Frequency')\n",
    "plt.xlabel('SAMPLE - Salary (millions of dollars)')"
   ]
  },
  {
   "cell_type": "code",
   "execution_count": null,
   "metadata": {},
   "outputs": [],
   "source": [
    "#fig = plt.figure(figsize=(14,4))\n",
    "\n",
    "ax1 = fig.add_subplot(2, 1, 1)\n",
    "k1 = int(np.ceil(1+np.log2(len(df))))\n",
    "# Plot\n",
    "ax1 = df.hist(['salary'], bins=k1)\n",
    "plt.title('POPULATION - Major League Baseball players’ salaries')\n",
    "plt.ylabel('Frequency')\n",
    "plt.xlabel('POPULATION - Salary (millions of dollars)')\n",
    "\n",
    "ax2 = fig.add_subplot(2, 1, 2)\n",
    "\n",
    "# Plot\n",
    "ax2 = simple_random_sample.hist(['salary'], bins=k)\n",
    "plt.title(f\"SAMPLE - MLB players’ salaries - Random Sample k={len(simple_random_sample)}\")\n",
    "plt.ylabel('Frequency')\n",
    "plt.xlabel('SAMPLE - Salary (millions of dollars)')"
   ]
  },
  {
   "cell_type": "code",
   "execution_count": null,
   "metadata": {},
   "outputs": [],
   "source": [
    "sns.set(style=\"whitegrid\")\n",
    "ax = sns.boxplot(x=simple_random_sample[\"salary\"], color='lightblue', fliersize=5,  orient='v', linewidth=1 , width=0.3)\n",
    "ax = sns.stripplot(x=simple_random_sample[\"salary\"], orient='v', color='darkblue', alpha=0.1)\n",
    "plt.title('SAMPLE - Major League Baseball players’ salaries')\n",
    "plt.xlabel('Salary (millions of dollars)')"
   ]
  },
  {
   "cell_type": "code",
   "execution_count": null,
   "metadata": {},
   "outputs": [],
   "source": [
    "fig = plt.figure(figsize=(12,4))\n",
    "\n",
    "ax1 = fig.add_subplot(1, 2, 1)\n",
    "\n",
    "# Plot\n",
    "sns.set(style=\"whitegrid\")\n",
    "ax1 = sns.boxplot(x=df[\"salary\"], color='lightblue', fliersize=5,  orient='v', linewidth=1 , width=0.3, notch=True)\n",
    "ax1 = sns.stripplot(x=df[\"salary\"], orient='v', color='darkblue', alpha=0.2)\n",
    "plt.title('POPULATION - Major League Baseball players’ salaries')\n",
    "plt.xlabel('POPULATION - Salary (millions of dollars)')\n",
    "\n",
    "ax2 = fig.add_subplot(1, 2, 2)\n",
    "\n",
    "# Plot\n",
    "sns.set(style=\"whitegrid\")\n",
    "ax2 = sns.boxplot(x=simple_random_sample[\"salary\"], color='lightblue', fliersize=5,  orient='v', linewidth=1 , width=0.3, notch=True)\n",
    "ax2 = sns.stripplot(x=simple_random_sample[\"salary\"], orient='v', color='darkblue', alpha=0.2)\n",
    "plt.title('SAMPLE - Major League Baseball players’ salaries')\n",
    "plt.xlabel(f'SAMPLE - Salary (millions of dollars) - Random Sample k={len(simple_random_sample)}')"
   ]
  },
  {
   "cell_type": "code",
   "execution_count": null,
   "metadata": {},
   "outputs": [],
   "source": [
    "simple_random_sample.head()"
   ]
  },
  {
   "source": [
    "### Systematic Sampling"
   ],
   "cell_type": "markdown",
   "metadata": {}
  },
  {
   "cell_type": "code",
   "execution_count": null,
   "metadata": {},
   "outputs": [],
   "source": [
    "# Define systematic sampling function\n",
    "def systematic_sampling(df, step):\n",
    "    \n",
    "    indexes = np.arange(0,len(df),step=step)\n",
    "    systematic_sample = df.iloc[indexes]\n",
    "    \n",
    "    return systematic_sample"
   ]
  },
  {
   "cell_type": "code",
   "execution_count": null,
   "metadata": {},
   "outputs": [],
   "source": [
    "# Obtain a systematic sample and save it in a new variable\n",
    "systematic_sample = systematic_sampling(df, 10).sort_values(by='salary', ascending=False)"
   ]
  },
  {
   "cell_type": "code",
   "execution_count": null,
   "metadata": {},
   "outputs": [],
   "source": [
    "# Save the sample mean in a separate variable\n",
    "systematic_mean = round(systematic_sample['salary'].mean(),3)\n",
    "systematic_mean"
   ]
  },
  {
   "cell_type": "code",
   "execution_count": null,
   "metadata": {},
   "outputs": [],
   "source": [
    "real_mean"
   ]
  },
  {
   "cell_type": "code",
   "execution_count": null,
   "metadata": {},
   "outputs": [],
   "source": [
    "# View sampled data frame\n",
    "systematic_sample"
   ]
  },
  {
   "cell_type": "code",
   "execution_count": null,
   "metadata": {},
   "outputs": [],
   "source": [
    "systematic_sample.head()"
   ]
  },
  {
   "source": [
    "### Cluster Sampling"
   ],
   "cell_type": "markdown",
   "metadata": {}
  },
  {
   "cell_type": "code",
   "execution_count": null,
   "metadata": {},
   "outputs": [],
   "source": [
    "def cluster_sampling(df, number_of_clusters):\n",
    "    \n",
    "    try:\n",
    "        # Divide the units into cluster of equal size\n",
    "        df['cluster_id'] = np.repeat([range(1,number_of_clusters+1)],len(df)/number_of_clusters)\n",
    "\n",
    "        # Create an empty list\n",
    "        indexes = []\n",
    "\n",
    "        # Append the indexes from the clusters that meet the criteria\n",
    "        # For this formula, clusters id must be an even number\n",
    "        for i in range(0,len(df)):\n",
    "            if df['cluster_id'].iloc[i]%2 == 0:\n",
    "                indexes.append(i)\n",
    "        cluster_sample = df.iloc[indexes]\n",
    "        return(cluster_sample)\n",
    "    \n",
    "    except:\n",
    "        print(\"The population cannot be divided into clusters of equal size!\")"
   ]
  },
  {
   "cell_type": "code",
   "execution_count": null,
   "metadata": {},
   "outputs": [],
   "source": [
    "# Obtain a cluster sample and save it in a new variable\n",
    "cluster_sample = cluster_sampling(df, 6)"
   ]
  },
  {
   "cell_type": "code",
   "execution_count": null,
   "metadata": {},
   "outputs": [],
   "source": [
    "# Save the sample mean in a separate variable\n",
    "cluster_mean = round(cluster_sample['salary'].mean(),3)"
   ]
  },
  {
   "cell_type": "code",
   "execution_count": null,
   "metadata": {},
   "outputs": [],
   "source": [
    "# View sampled data frame\n",
    "cluster_sample"
   ]
  },
  {
   "source": [
    "### Exercise 2: \n",
    "  - It continues with the sports theme data set and generates a stratified sample and a sample using SMOTE (Synthetic Minority Oversampling Technique)."
   ],
   "cell_type": "markdown",
   "metadata": {}
  },
  {
   "cell_type": "code",
   "execution_count": null,
   "metadata": {},
   "outputs": [],
   "source": [
    "systematic_sample.shape"
   ]
  },
  {
   "source": [
    "### Stratified Random Sampling"
   ],
   "cell_type": "markdown",
   "metadata": {}
  },
  {
   "cell_type": "code",
   "execution_count": null,
   "metadata": {},
   "outputs": [],
   "source": [
    "# Set the split criteria\n",
    "split = StratifiedShuffleSplit(n_splits=1, test_size=100)"
   ]
  },
  {
   "cell_type": "code",
   "execution_count": null,
   "metadata": {},
   "outputs": [],
   "source": [
    "# Perform data frame split\n",
    "for x, y in split.split(df, df['position']):\n",
    "    stratified_random_sample = df.iloc[y].sort_values(by='salary')"
   ]
  },
  {
   "cell_type": "code",
   "execution_count": null,
   "metadata": {},
   "outputs": [],
   "source": [
    "type(stratified_random_sample)"
   ]
  },
  {
   "cell_type": "code",
   "execution_count": null,
   "metadata": {},
   "outputs": [],
   "source": [
    "# View sampled data frame\n",
    "stratified_random_sample"
   ]
  },
  {
   "cell_type": "code",
   "execution_count": null,
   "metadata": {},
   "outputs": [],
   "source": [
    "stratified_random_sample.groupby('position').mean()"
   ]
  },
  {
   "cell_type": "code",
   "execution_count": null,
   "metadata": {},
   "outputs": [],
   "source": [
    "stratified_random_sample.describe().round()\n"
   ]
  },
  {
   "cell_type": "code",
   "execution_count": null,
   "metadata": {},
   "outputs": [],
   "source": [
    "stratified_random_sample.position.unique()"
   ]
  },
  {
   "cell_type": "code",
   "execution_count": null,
   "metadata": {},
   "outputs": [],
   "source": [
    "stratified_random_sample.shape"
   ]
  },
  {
   "cell_type": "code",
   "execution_count": null,
   "metadata": {},
   "outputs": [],
   "source": [
    "stratified_mean = stratified_random_sample.salary.mean().round(2)\n",
    "stratified_mean"
   ]
  },
  {
   "source": [],
   "cell_type": "markdown",
   "metadata": {}
  },
  {
   "cell_type": "code",
   "execution_count": null,
   "metadata": {},
   "outputs": [],
   "source": [
    "real_mean"
   ]
  },
  {
   "cell_type": "code",
   "execution_count": null,
   "metadata": {},
   "outputs": [],
   "source": [
    "abs(stratified_random_sample.salary.mean()-df.salary.mean())/stratified_random_sample.salary.mean()*100\n"
   ]
  },
  {
   "cell_type": "code",
   "execution_count": null,
   "metadata": {},
   "outputs": [],
   "source": [
    "stratified_random_sample.position.value_counts(normalize=True)"
   ]
  },
  {
   "source": [
    "### SMOTE (Synthetic Minority Oversampling Technique)"
   ],
   "cell_type": "markdown",
   "metadata": {}
  },
  {
   "cell_type": "code",
   "execution_count": null,
   "metadata": {},
   "outputs": [],
   "source": [
    "# define dataset\n",
    "X, y = make_classification(n_samples=1000, n_features=2, n_redundant=0, n_clusters_per_class=1, weights=[0.99], flip_y=0, random_state=6858)"
   ]
  },
  {
   "cell_type": "code",
   "execution_count": null,
   "metadata": {},
   "outputs": [],
   "source": [
    "# summarize class distribution\n",
    "counter = Counter(y)\n",
    "print(counter)"
   ]
  },
  {
   "cell_type": "code",
   "execution_count": null,
   "metadata": {},
   "outputs": [],
   "source": [
    "# scatter plot of examples by class label\n",
    "for label, _ in counter.items():\n",
    "\trow_ix = where(y == label)[0]\n",
    "\tpyplot.scatter(X[row_ix, 0], X[row_ix, 1], label=str(label))\n",
    "    \n",
    "pyplot.legend()\n",
    "pyplot.show()"
   ]
  },
  {
   "source": [
    "## Data Summary"
   ],
   "cell_type": "markdown",
   "metadata": {}
  },
  {
   "cell_type": "code",
   "execution_count": null,
   "metadata": {},
   "outputs": [],
   "source": [
    "# Create a dictionary with the mean outcomes for each sampling method and the real mean\n",
    "outcomes = {'sample_mean':[simple_random_mean, systematic_mean, stratified_mean, cluster_mean],'real_mean':real_mean}\n",
    "\n",
    "# Transform dictionary into a data frame\n",
    "outcomes = pd.DataFrame(outcomes, index=['Simple Random Sampling','Systematic Sampling','Stratified Sampling','Cluster Sampling'])\n",
    "\n",
    "# Add a value corresponding to the absolute error\n",
    "outcomes['abs_error'] = abs(outcomes['real_mean'] - outcomes['sample_mean'])\n",
    "\n",
    "# Sort data frame by absolute error\n",
    "outcomes.sort_values(by='abs_error')"
   ]
  },
  {
   "cell_type": "code",
   "execution_count": null,
   "metadata": {},
   "outputs": [],
   "source": [
    "fig = plt.figure(figsize=(20,8))\n",
    "#fig = plt.subplots_adjust(left=None, bottom=None, right=None, top=None, wspace=None, hspace=None)\n",
    "\n",
    "ax1 = fig.add_subplot(2, 2, 1)\n",
    "\n",
    "# Plot\n",
    "sns.set(style=\"whitegrid\")\n",
    "ax1 = sns.boxplot(x=df[\"salary\"], color='lightblue', fliersize=5,  orient='v', linewidth=1 , width=0.3, notch=True)\n",
    "ax1 = sns.stripplot(x=df[\"salary\"], orient='v', color='darkblue', alpha=0.2)\n",
    "plt.title('POPULATION - Major League Baseball players’ salaries')\n",
    "#plt.xlabel('POPULATION - Salary (millions of dollars)')\n",
    "\n",
    "ax2 = fig.add_subplot(2, 2, 2)\n",
    "\n",
    "# Plot\n",
    "sns.set(style=\"whitegrid\")\n",
    "ax2 = sns.boxplot(x=simple_random_sample[\"salary\"], color='lightblue', fliersize=5,  orient='v', linewidth=1 , width=0.3, notch=True)\n",
    "ax2 = sns.stripplot(x=simple_random_sample[\"salary\"], orient='v', color='darkblue', alpha=0.2)\n",
    "plt.title(f'SAMPLE - MLB players’ salaries - Random Sample k={len(simple_random_sample)}')\n",
    "#plt.xlabel(f'SAMPLE - Salary (millions of dollars) - Random Sample k={len(simple_random_sample)}')\n",
    "\n",
    "ax3 = fig.add_subplot(2, 2, 3)\n",
    "\n",
    "# Plot\n",
    "sns.set(style=\"whitegrid\")\n",
    "ax3 = sns.boxplot(x=systematic_sample[\"salary\"], color='lightblue', fliersize=5,  orient='v', linewidth=1 , width=0.3, notch=True)\n",
    "ax3 = sns.stripplot(x=systematic_sample[\"salary\"], orient='v', color='darkblue', alpha=0.2)\n",
    "plt.title(f'Systematic - MLB players salaries Systematic Sample k={len(systematic_sample)}')\n",
    "#plt.xlabel(f'Systematic - Salary (millions of dollars) - Systematic Sample k={len(systematic_sample)}')\n",
    "\n",
    "ax4 = fig.add_subplot(2, 2, 4)\n",
    "\n",
    "# Plot\n",
    "sns.set(style=\"whitegrid\")\n",
    "ax4 = sns.boxplot(x=stratified_random_sample[\"salary\"], color='lightblue', fliersize=5,  orient='v', linewidth=1 , width=0.3, notch=True)\n",
    "ax4 = sns.stripplot(x=stratified_random_sample[\"salary\"], orient='v', color='darkblue', alpha=0.2)\n",
    "plt.title(f'Stratified - MLB players salaries - Stratified Sample k={len(stratified_random_sample)}')\n",
    "#plt.xlabel(f'Stratified - Salary (millions of dollars) - Stratified Sample k={len(stratified_random_sample)}')"
   ]
  },
  {
   "cell_type": "code",
   "execution_count": null,
   "metadata": {},
   "outputs": [],
   "source": []
  }
 ]
}